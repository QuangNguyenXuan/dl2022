{
 "cells": [
  {
   "cell_type": "code",
   "execution_count": 1,
   "id": "d4e45a49-974f-4f9c-8642-42e2c45aab71",
   "metadata": {},
   "outputs": [],
   "source": [
    "import torch\n",
    "import torchvision.transforms as transforms\n",
    "import torch.nn as nn\n",
    "import torch.nn.functional as F\n",
    "\n",
    "import numpy as np\n",
    "import matplotlib.pyplot as plt\n",
    "\n",
    "from torchvision.datasets import CIFAR10\n",
    "from torch.utils.data import DataLoader \n",
    "from torch.optim import Adam\n",
    "import torchvision\n",
    "\n",
    "torch.manual_seed(1)\n",
    "device = 'cuda' if torch.cuda.is_available() else 'cpu'"
   ]
  },
  {
   "cell_type": "code",
   "execution_count": null,
   "id": "42432066-6cf0-416b-961a-adb1e3217204",
   "metadata": {},
   "outputs": [],
   "source": []
  },
  {
   "cell_type": "markdown",
   "id": "f913360b-019e-4d69-a540-b7b5715544e1",
   "metadata": {},
   "source": [
    "## Data"
   ]
  },
  {
   "cell_type": "code",
   "execution_count": 2,
   "id": "4c3c92ec-f433-46bd-932a-392993e0a036",
   "metadata": {},
   "outputs": [
    {
     "name": "stdout",
     "output_type": "stream",
     "text": [
      "Downloading https://www.cs.toronto.edu/~kriz/cifar-10-python.tar.gz to ./data/cifar-10-python.tar.gz\n"
     ]
    },
    {
     "name": "stderr",
     "output_type": "stream",
     "text": [
      "100%|█████████████████████████████████████████████| 170498071/170498071 [00:18<00:00, 9386904.47it/s]\n"
     ]
    },
    {
     "name": "stdout",
     "output_type": "stream",
     "text": [
      "Extracting ./data/cifar-10-python.tar.gz to ./data\n",
      "tensor([0.4914, 0.4822, 0.4465]) tensor([0.2470, 0.2435, 0.2616])\n"
     ]
    }
   ],
   "source": [
    "# Load dataset with only the ToTensor transform to compute mean and std\n",
    "compute_transform = transforms.Compose([transforms.ToTensor()])\n",
    "dataset = torchvision.datasets.CIFAR10(root='./data', train=True, transform=compute_transform, download=True)\n",
    "loader = torch.utils.data.DataLoader(dataset, batch_size=1024, shuffle=False, num_workers=4)\n",
    "\n",
    "mean = 0.0\n",
    "for images, _ in loader:\n",
    "    batch_samples = images.size(0)  # Batch size\n",
    "    images = images.view(batch_samples, images.size(1), -1)\n",
    "    mean += images.mean(2).sum(0)\n",
    "mean = mean / len(loader.dataset)\n",
    "\n",
    "variance = 0.0\n",
    "for images, _ in loader:\n",
    "    batch_samples = images.size(0)\n",
    "    images = images.view(batch_samples, images.size(1), -1)\n",
    "    variance += ((images - mean.unsqueeze(1))**2).sum([0,2])\n",
    "std = torch.sqrt(variance / (len(loader.dataset)*32*32))\n",
    "\n",
    "print(mean, std)"
   ]
  },
  {
   "cell_type": "code",
   "execution_count": null,
   "id": "e6748e43-f036-4cf3-ba77-30438925cea2",
   "metadata": {},
   "outputs": [],
   "source": []
  },
  {
   "cell_type": "code",
   "execution_count": 3,
   "id": "3ad21976-2d99-49b7-b0b5-84e9ebcd371e",
   "metadata": {},
   "outputs": [
    {
     "name": "stdout",
     "output_type": "stream",
     "text": [
      "Files already downloaded and verified\n",
      "Files already downloaded and verified\n"
     ]
    }
   ],
   "source": [
    "batch_size = 256\n",
    "transform = transforms.Compose(\n",
    "    [\n",
    "        transforms.ToTensor(),\n",
    "        transforms.Normalize(mean, std)\n",
    "    ])\n",
    "\n",
    "train_set = CIFAR10(\n",
    "    root='./data', \n",
    "    train=True,\n",
    "    download=True, \n",
    "    transform=transform\n",
    ")\n",
    "\n",
    "val_set = CIFAR10(\n",
    "    root='./data', \n",
    "    train=False,\n",
    "    download=True, \n",
    "    transform=transform\n",
    ")\n",
    "\n",
    "trainloader = DataLoader(\n",
    "    train_set, \n",
    "    batch_size=batch_size,\n",
    "    shuffle=True,\n",
    "    num_workers=4\n",
    ")\n",
    "\n",
    "testloader = DataLoader(\n",
    "    val_set, \n",
    "    batch_size=batch_size,\n",
    "    shuffle=False, \n",
    "    num_workers=4\n",
    ")"
   ]
  },
  {
   "cell_type": "code",
   "execution_count": null,
   "id": "cf229497-4b6e-443d-b330-66b6fa139fcd",
   "metadata": {},
   "outputs": [],
   "source": []
  },
  {
   "cell_type": "markdown",
   "id": "6ea0dde8-29e7-4096-bd15-6a5ed74655f0",
   "metadata": {},
   "source": [
    "## Model"
   ]
  },
  {
   "cell_type": "code",
   "execution_count": 4,
   "id": "667fc692-e195-4fe1-94c0-1fda94be7849",
   "metadata": {},
   "outputs": [],
   "source": [
    "class CNNModel(nn.Module):\n",
    "    def __init__(self, n_classes=10):\n",
    "        super(CNNModel, self).__init__()\n",
    "        self.conv_layer1 = nn.Sequential(\n",
    "            nn.Conv2d(3, 64, 3, stride=1, padding='same'),\n",
    "            nn.ReLU()\n",
    "        )\n",
    "        self.conv_layer2 = nn.Sequential(\n",
    "            nn.Conv2d(64, 64, 3, stride=1, padding='same'),\n",
    "            nn.ReLU()\n",
    "        )\n",
    "        self.conv_layer3 = nn.Sequential(\n",
    "            nn.Conv2d(64, 64, 3, stride=1, padding='same'),\n",
    "            nn.ReLU(),\n",
    "            nn.MaxPool2d(2, 2)\n",
    "        )\n",
    "        \n",
    "        self.conv_layer4 = nn.Sequential(\n",
    "            nn.Conv2d(64, 128, 3, stride=1, padding='same'),\n",
    "            nn.ReLU(),\n",
    "        )\n",
    "        self.conv_layer5 = nn.Sequential(\n",
    "            nn.Conv2d(128, 128, 3, stride=1, padding='same'),\n",
    "            nn.ReLU(),\n",
    "        )\n",
    "        self.conv_layer6 = nn.Sequential(\n",
    "            nn.Conv2d(128, 128, 3, stride=1, padding='same'),\n",
    "            nn.ReLU(),\n",
    "            nn.MaxPool2d(2, 2)\n",
    "        )\n",
    "\n",
    "        self.conv_layer7 = nn.Sequential(\n",
    "            nn.Conv2d(128, 256, 3, stride=1, padding='same'),\n",
    "            nn.ReLU(),\n",
    "        )\n",
    "        self.conv_layer8 = nn.Sequential(\n",
    "            nn.Conv2d(256, 256, 3, stride=1, padding='same'),\n",
    "            nn.ReLU(),\n",
    "        )\n",
    "        self.conv_layer9 = nn.Sequential(\n",
    "            nn.Conv2d(256, 256, 3, stride=1, padding='same'),\n",
    "            nn.ReLU(),\n",
    "            nn.MaxPool2d(2, 2)\n",
    "        )\n",
    "\n",
    "        self.conv_layer10 = nn.Sequential(\n",
    "            nn.Conv2d(256, 512, 3, stride=1, padding='same'),\n",
    "            nn.ReLU(),\n",
    "        )\n",
    "        self.conv_layer11 = nn.Sequential(\n",
    "            nn.Conv2d(512, 512, 3, stride=1, padding='same'),\n",
    "            nn.ReLU(),\n",
    "        )\n",
    "        self.conv_layer12 = nn.Sequential(\n",
    "            nn.Conv2d(512, 512, 3, stride=1, padding='same'),\n",
    "            nn.ReLU(),\n",
    "            nn.MaxPool2d(2, 2)\n",
    "        )\n",
    "\n",
    "        self.flatten = nn.Flatten()\n",
    "\n",
    "        self.fc_layer1 = nn.Sequential(\n",
    "            nn.Linear(512 * 2 * 2, 512),\n",
    "            nn.ReLU()\n",
    "        )\n",
    "        self.fc_layer2 = nn.Linear(512, n_classes)\n",
    "    \n",
    "    def forward(self, x):\n",
    "        x = self.conv_layer1(x)\n",
    "        x = self.conv_layer2(x)\n",
    "        x = self.conv_layer3(x)\n",
    "        x = self.conv_layer4(x)\n",
    "        x = self.conv_layer5(x)\n",
    "        x = self.conv_layer6(x)\n",
    "        x = self.conv_layer7(x)\n",
    "        x = self.conv_layer8(x)\n",
    "        x = self.conv_layer9(x)\n",
    "        x = self.conv_layer10(x)\n",
    "        x = self.conv_layer11(x)\n",
    "        x = self.conv_layer12(x)\n",
    "        x = self.flatten(x)\n",
    "        x = self.fc_layer1(x)\n",
    "        out = self.fc_layer2(x)\n",
    "\n",
    "        return out"
   ]
  },
  {
   "cell_type": "code",
   "execution_count": 5,
   "id": "81be3191-980a-4b94-8537-5dba83109866",
   "metadata": {},
   "outputs": [
    {
     "name": "stdout",
     "output_type": "stream",
     "text": [
      "CNNModel(\n",
      "  (conv_layer1): Sequential(\n",
      "    (0): Conv2d(3, 64, kernel_size=(3, 3), stride=(1, 1), padding=same)\n",
      "    (1): ReLU()\n",
      "  )\n",
      "  (conv_layer2): Sequential(\n",
      "    (0): Conv2d(64, 64, kernel_size=(3, 3), stride=(1, 1), padding=same)\n",
      "    (1): ReLU()\n",
      "  )\n",
      "  (conv_layer3): Sequential(\n",
      "    (0): Conv2d(64, 64, kernel_size=(3, 3), stride=(1, 1), padding=same)\n",
      "    (1): ReLU()\n",
      "    (2): MaxPool2d(kernel_size=2, stride=2, padding=0, dilation=1, ceil_mode=False)\n",
      "  )\n",
      "  (conv_layer4): Sequential(\n",
      "    (0): Conv2d(64, 128, kernel_size=(3, 3), stride=(1, 1), padding=same)\n",
      "    (1): ReLU()\n",
      "  )\n",
      "  (conv_layer5): Sequential(\n",
      "    (0): Conv2d(128, 128, kernel_size=(3, 3), stride=(1, 1), padding=same)\n",
      "    (1): ReLU()\n",
      "  )\n",
      "  (conv_layer6): Sequential(\n",
      "    (0): Conv2d(128, 128, kernel_size=(3, 3), stride=(1, 1), padding=same)\n",
      "    (1): ReLU()\n",
      "    (2): MaxPool2d(kernel_size=2, stride=2, padding=0, dilation=1, ceil_mode=False)\n",
      "  )\n",
      "  (conv_layer7): Sequential(\n",
      "    (0): Conv2d(128, 256, kernel_size=(3, 3), stride=(1, 1), padding=same)\n",
      "    (1): ReLU()\n",
      "  )\n",
      "  (conv_layer8): Sequential(\n",
      "    (0): Conv2d(256, 256, kernel_size=(3, 3), stride=(1, 1), padding=same)\n",
      "    (1): ReLU()\n",
      "  )\n",
      "  (conv_layer9): Sequential(\n",
      "    (0): Conv2d(256, 256, kernel_size=(3, 3), stride=(1, 1), padding=same)\n",
      "    (1): ReLU()\n",
      "    (2): MaxPool2d(kernel_size=2, stride=2, padding=0, dilation=1, ceil_mode=False)\n",
      "  )\n",
      "  (conv_layer10): Sequential(\n",
      "    (0): Conv2d(256, 512, kernel_size=(3, 3), stride=(1, 1), padding=same)\n",
      "    (1): ReLU()\n",
      "  )\n",
      "  (conv_layer11): Sequential(\n",
      "    (0): Conv2d(512, 512, kernel_size=(3, 3), stride=(1, 1), padding=same)\n",
      "    (1): ReLU()\n",
      "  )\n",
      "  (conv_layer12): Sequential(\n",
      "    (0): Conv2d(512, 512, kernel_size=(3, 3), stride=(1, 1), padding=same)\n",
      "    (1): ReLU()\n",
      "    (2): MaxPool2d(kernel_size=2, stride=2, padding=0, dilation=1, ceil_mode=False)\n",
      "  )\n",
      "  (flatten): Flatten(start_dim=1, end_dim=-1)\n",
      "  (fc_layer1): Sequential(\n",
      "    (0): Linear(in_features=2048, out_features=512, bias=True)\n",
      "    (1): ReLU()\n",
      "  )\n",
      "  (fc_layer2): Linear(in_features=512, out_features=10, bias=True)\n",
      ")\n"
     ]
    }
   ],
   "source": [
    "model = CNNModel(10)\n",
    "model.to(device)\n",
    "print(model)"
   ]
  },
  {
   "cell_type": "code",
   "execution_count": null,
   "id": "c8516821-d41b-42a8-9e51-ddfb8f9ec87e",
   "metadata": {},
   "outputs": [],
   "source": []
  },
  {
   "cell_type": "markdown",
   "id": "43c7b151-a199-4e2a-8015-fdfb5f166284",
   "metadata": {},
   "source": [
    "# Train"
   ]
  },
  {
   "cell_type": "code",
   "execution_count": 6,
   "id": "1464e2bd-b627-475d-9941-f2a930d69a14",
   "metadata": {},
   "outputs": [],
   "source": [
    "criterion = nn.CrossEntropyLoss()\n",
    "optimizer = Adam(model.parameters(), lr=1e-3)  "
   ]
  },
  {
   "cell_type": "code",
   "execution_count": 7,
   "id": "04744c84-1e6d-4bfb-8dd5-abbdc91f102e",
   "metadata": {},
   "outputs": [],
   "source": [
    "# Function to compute loss and accuracy for test set\n",
    "def evaluate(model, testloader, criterion):\n",
    "    model.eval()\n",
    "    test_loss = 0.0\n",
    "    running_correct = 0\n",
    "    total = 0\n",
    "    with torch.no_grad():\n",
    "        for images, labels in testloader:\n",
    "            # Move inputs and labels to the device\n",
    "            images, labels = images.to(device), labels.to(device)\n",
    "\n",
    "            outputs = model(images)\n",
    "            loss = criterion(outputs, labels)\n",
    "            test_loss += loss.item()\n",
    "            \n",
    "            _, predicted = torch.max(outputs.data, 1)\n",
    "            total += labels.size(0)\n",
    "            running_correct += (predicted == labels).sum().item()\n",
    "\n",
    "    accuracy = 100 * running_correct / total\n",
    "    test_loss = test_loss / len(testloader)\n",
    "    return test_loss, accuracy"
   ]
  },
  {
   "cell_type": "code",
   "execution_count": 8,
   "id": "f2402591-e7f7-4bdd-8962-c029cfcd9307",
   "metadata": {},
   "outputs": [],
   "source": [
    "# some parameter\n",
    "train_losses = []\n",
    "train_accuracies = []\n",
    "test_losses = []\n",
    "test_accuracies = []\n",
    "max_epoch = 50"
   ]
  },
  {
   "cell_type": "code",
   "execution_count": 9,
   "id": "190a58e1-0864-4818-a8d2-0f83212c6d13",
   "metadata": {},
   "outputs": [
    {
     "name": "stdout",
     "output_type": "stream",
     "text": [
      "Epoch [1/50], Loss: 2.1289, Accuracy: 17.06%, Test Loss: 1.8295, Test Accuracy: 27.03%\n",
      "Epoch [2/50], Loss: 1.7114, Accuracy: 33.06%, Test Loss: 1.5852, Test Accuracy: 37.93%\n",
      "Epoch [3/50], Loss: 1.4671, Accuracy: 44.06%, Test Loss: 1.4069, Test Accuracy: 47.30%\n",
      "Epoch [4/50], Loss: 1.2665, Accuracy: 53.37%, Test Loss: 1.2738, Test Accuracy: 52.82%\n",
      "Epoch [5/50], Loss: 1.0791, Accuracy: 60.73%, Test Loss: 1.0958, Test Accuracy: 60.89%\n",
      "Epoch [6/50], Loss: 0.9373, Accuracy: 66.54%, Test Loss: 1.0834, Test Accuracy: 62.28%\n",
      "Epoch [7/50], Loss: 0.8328, Accuracy: 70.45%, Test Loss: 0.9481, Test Accuracy: 66.28%\n",
      "Epoch [8/50], Loss: 0.7265, Accuracy: 74.40%, Test Loss: 0.8019, Test Accuracy: 72.33%\n",
      "Epoch [9/50], Loss: 0.6433, Accuracy: 77.44%, Test Loss: 0.8086, Test Accuracy: 72.46%\n",
      "Epoch [10/50], Loss: 0.5726, Accuracy: 79.95%, Test Loss: 0.7631, Test Accuracy: 74.61%\n",
      "Epoch [11/50], Loss: 0.5055, Accuracy: 82.28%, Test Loss: 0.7816, Test Accuracy: 75.49%\n",
      "Epoch [12/50], Loss: 0.4345, Accuracy: 84.75%, Test Loss: 0.7870, Test Accuracy: 74.41%\n",
      "Epoch [13/50], Loss: 0.3908, Accuracy: 86.36%, Test Loss: 0.8069, Test Accuracy: 75.12%\n",
      "Epoch [14/50], Loss: 0.3345, Accuracy: 88.30%, Test Loss: 0.8500, Test Accuracy: 74.90%\n",
      "Epoch [15/50], Loss: 0.2909, Accuracy: 89.85%, Test Loss: 0.8502, Test Accuracy: 76.20%\n",
      "Epoch [16/50], Loss: 0.2651, Accuracy: 90.76%, Test Loss: 0.8961, Test Accuracy: 75.73%\n",
      "Epoch [17/50], Loss: 0.2230, Accuracy: 92.18%, Test Loss: 0.8851, Test Accuracy: 75.79%\n",
      "Epoch [18/50], Loss: 0.2092, Accuracy: 92.82%, Test Loss: 0.9842, Test Accuracy: 75.96%\n",
      "Epoch [19/50], Loss: 0.1940, Accuracy: 93.24%, Test Loss: 0.9455, Test Accuracy: 76.07%\n",
      "Epoch [20/50], Loss: 0.1755, Accuracy: 93.89%, Test Loss: 1.0441, Test Accuracy: 75.59%\n",
      "Epoch [21/50], Loss: 0.1464, Accuracy: 95.02%, Test Loss: 1.0391, Test Accuracy: 75.93%\n",
      "Epoch [22/50], Loss: 0.1404, Accuracy: 95.18%, Test Loss: 1.1159, Test Accuracy: 76.52%\n",
      "Epoch [23/50], Loss: 0.1335, Accuracy: 95.37%, Test Loss: 1.0432, Test Accuracy: 76.12%\n",
      "Epoch [24/50], Loss: 0.1190, Accuracy: 95.95%, Test Loss: 1.2312, Test Accuracy: 76.77%\n",
      "Epoch [25/50], Loss: 0.1045, Accuracy: 96.36%, Test Loss: 1.1837, Test Accuracy: 76.38%\n",
      "Epoch [26/50], Loss: 0.1064, Accuracy: 96.41%, Test Loss: 1.1994, Test Accuracy: 76.23%\n",
      "Epoch [27/50], Loss: 0.1001, Accuracy: 96.59%, Test Loss: 1.2654, Test Accuracy: 76.75%\n",
      "Epoch [28/50], Loss: 0.0895, Accuracy: 96.88%, Test Loss: 1.2534, Test Accuracy: 77.35%\n",
      "Epoch [29/50], Loss: 0.0904, Accuracy: 97.04%, Test Loss: 1.3269, Test Accuracy: 76.02%\n",
      "Epoch [30/50], Loss: 0.0867, Accuracy: 97.05%, Test Loss: 1.3038, Test Accuracy: 75.78%\n",
      "Epoch [31/50], Loss: 0.0827, Accuracy: 97.20%, Test Loss: 1.3001, Test Accuracy: 76.60%\n",
      "Epoch [32/50], Loss: 0.0738, Accuracy: 97.54%, Test Loss: 1.2318, Test Accuracy: 77.16%\n",
      "Epoch [33/50], Loss: 0.0753, Accuracy: 97.49%, Test Loss: 1.2426, Test Accuracy: 76.95%\n",
      "Epoch [34/50], Loss: 0.0769, Accuracy: 97.47%, Test Loss: 1.3626, Test Accuracy: 76.84%\n",
      "Epoch [35/50], Loss: 0.0656, Accuracy: 97.85%, Test Loss: 1.4257, Test Accuracy: 76.34%\n",
      "Epoch [36/50], Loss: 0.0759, Accuracy: 97.49%, Test Loss: 1.3224, Test Accuracy: 76.68%\n",
      "Epoch [37/50], Loss: 0.0774, Accuracy: 97.39%, Test Loss: 1.4258, Test Accuracy: 76.11%\n",
      "Epoch [38/50], Loss: 0.0777, Accuracy: 97.40%, Test Loss: 1.3297, Test Accuracy: 76.82%\n",
      "Epoch [39/50], Loss: 0.0644, Accuracy: 97.83%, Test Loss: 1.4496, Test Accuracy: 76.69%\n",
      "Epoch [40/50], Loss: 0.0622, Accuracy: 97.90%, Test Loss: 1.1747, Test Accuracy: 76.85%\n",
      "Epoch [41/50], Loss: 0.0699, Accuracy: 97.76%, Test Loss: 1.3708, Test Accuracy: 77.19%\n",
      "Epoch [42/50], Loss: 0.0561, Accuracy: 98.18%, Test Loss: 1.4008, Test Accuracy: 76.40%\n",
      "Epoch [43/50], Loss: 0.0636, Accuracy: 97.92%, Test Loss: 1.3718, Test Accuracy: 76.88%\n",
      "Epoch [44/50], Loss: 0.0706, Accuracy: 97.70%, Test Loss: 1.2872, Test Accuracy: 77.29%\n",
      "Epoch [45/50], Loss: 0.0634, Accuracy: 97.94%, Test Loss: 1.5719, Test Accuracy: 76.56%\n",
      "Epoch [46/50], Loss: 0.0701, Accuracy: 97.71%, Test Loss: 1.3321, Test Accuracy: 76.42%\n",
      "Epoch [47/50], Loss: 0.0628, Accuracy: 98.00%, Test Loss: 1.2676, Test Accuracy: 77.03%\n",
      "Epoch [48/50], Loss: 0.0655, Accuracy: 97.87%, Test Loss: 1.3656, Test Accuracy: 76.51%\n",
      "Epoch [49/50], Loss: 0.0562, Accuracy: 98.11%, Test Loss: 1.2316, Test Accuracy: 76.57%\n",
      "Epoch [50/50], Loss: 0.0584, Accuracy: 98.09%, Test Loss: 1.4063, Test Accuracy: 77.19%\n"
     ]
    }
   ],
   "source": [
    "# train\n",
    "for epoch in range(max_epoch):\n",
    "    model.train()\n",
    "    running_loss = 0.0\n",
    "    running_correct = 0   # to track number of correct predictions\n",
    "    total = 0             # to track total number of samples\n",
    "\n",
    "    for i, (inputs, labels) in enumerate(trainloader, 0):\n",
    "        # Move inputs and labels to the device\n",
    "        inputs, labels = inputs.to(device), labels.to(device)\n",
    "\n",
    "        # Zero the parameter gradients\n",
    "        optimizer.zero_grad()\n",
    "\n",
    "        # Forward pass\n",
    "        outputs = model(inputs)\n",
    "        loss = criterion(outputs, labels)\n",
    "        running_loss += loss.item()\n",
    "\n",
    "        # Backward pass and optimization\n",
    "        loss.backward()\n",
    "        optimizer.step()  \n",
    "    \n",
    "        # Determine class predictions and track accuracy\n",
    "        _, predicted = torch.max(outputs.data, 1)\n",
    "        total += labels.size(0)\n",
    "        running_correct += (predicted == labels).sum().item()\n",
    "\n",
    "\n",
    "    epoch_accuracy = 100 * running_correct / total\n",
    "    epoch_loss = running_loss / (i + 1)\n",
    "    \n",
    "    test_loss, test_accuracy = evaluate(model, testloader, criterion)\n",
    "    print(f\"Epoch [{epoch + 1}/{max_epoch}], Loss: {epoch_loss:.4f}, Accuracy: {epoch_accuracy:.2f}%, Test Loss: {test_loss:.4f}, Test Accuracy: {test_accuracy:.2f}%\")\n",
    "    \n",
    "    # save for plot\n",
    "    train_losses.append(epoch_loss)\n",
    "    train_accuracies.append(epoch_accuracy)\n",
    "    test_losses.append(test_loss)\n",
    "    test_accuracies.append(test_accuracy)"
   ]
  },
  {
   "cell_type": "code",
   "execution_count": null,
   "id": "cebcb439-88f2-40b6-9a17-4990ad324731",
   "metadata": {},
   "outputs": [],
   "source": []
  },
  {
   "cell_type": "code",
   "execution_count": 10,
   "id": "DkC3_902Lgn-",
   "metadata": {
    "executionInfo": {
     "elapsed": 3,
     "status": "ok",
     "timestamp": 1673091684322,
     "user": {
      "displayName": "Thắng Dương Đình",
      "userId": "02196529682032971345"
     },
     "user_tz": -420
    },
    "id": "DkC3_902Lgn-"
   },
   "outputs": [
    {
     "data": {
      "text/plain": [
       "<matplotlib.legend.Legend at 0x7f937d0a2260>"
      ]
     },
     "execution_count": 10,
     "metadata": {},
     "output_type": "execute_result"
    },
    {
     "data": {
      "image/png": "[encoded data removed]",
      "text/plain": [
       "<Figure size 640x480 with 1 Axes>"
      ]
     },
     "metadata": {},
     "output_type": "display_data"
    }
   ],
   "source": [
    "import matplotlib.pyplot as plt\n",
    "\n",
    "plt.plot(train_losses, label='train_losses')\n",
    "plt.plot(test_losses, label='test_losses')\n",
    "plt.legend()"
   ]
  },
  {
   "cell_type": "code",
   "execution_count": 11,
   "id": "794f4e81",
   "metadata": {
    "executionInfo": {
     "elapsed": 8,
     "status": "ok",
     "timestamp": 1673092872464,
     "user": {
      "displayName": "Thắng Dương Đình",
      "userId": "02196529682032971345"
     },
     "user_tz": -420
    },
    "id": "794f4e81"
   },
   "outputs": [
    {
     "data": {
      "text/plain": [
       "<matplotlib.legend.Legend at 0x7f937cf27850>"
      ]
     },
     "execution_count": 11,
     "metadata": {},
     "output_type": "execute_result"
    },
    {
     "data": {
      "image/png": "[encoded data removed]",
      "text/plain": [
       "<Figure size 640x480 with 1 Axes>"
      ]
     },
     "metadata": {},
     "output_type": "display_data"
    }
   ],
   "source": [
    "import matplotlib.pyplot as plt\n",
    "\n",
    "plt.plot(train_accuracies, label='train_accuracy')\n",
    "plt.plot(test_accuracies, label='test_accuracy')\n",
    "plt.legend()"
   ]
  },
  {
   "cell_type": "code",
   "execution_count": null,
   "id": "a2ec7c96-ff05-4863-92e7-c45f2f0e3d03",
   "metadata": {},
   "outputs": [],
   "source": []
  },
  {
   "cell_type": "code",
   "execution_count": null,
   "id": "8c86325e-7b6c-43a6-b315-93e02bcdb264",
   "metadata": {},
   "outputs": [],
   "source": []
  },
  {
   "cell_type": "code",
   "execution_count": 12,
   "id": "d2a401f6-9ed4-4dee-9e95-f65826e2d92d",
   "metadata": {},
   "outputs": [
    {
     "data": {
      "text/plain": [
       "<matplotlib.legend.Legend at 0x7f9340222e00>"
      ]
     },
     "execution_count": 12,
     "metadata": {},
     "output_type": "execute_result"
    }
   ],
   "source": [
    "import matplotlib.pyplot as plt\n",
    "%matplotlib qt\n",
    "\n",
    "plt.plot(train_losses, label='train_losses')\n",
    "plt.plot(test_losses, label='test_losses')\n",
    "plt.legend()"
   ]
  },
  {
   "cell_type": "code",
   "execution_count": 13,
   "id": "b4d1601e-a633-4f04-b476-7288856e1971",
   "metadata": {},
   "outputs": [
    {
     "data": {
      "text/plain": [
       "<matplotlib.legend.Legend at 0x7f9328112b00>"
      ]
     },
     "execution_count": 13,
     "metadata": {},
     "output_type": "execute_result"
    }
   ],
   "source": [
    "import matplotlib.pyplot as plt\n",
    "%matplotlib qt\n",
    "\n",
    "plt.plot(train_accuracies, label='train_accuracy')\n",
    "plt.plot(test_accuracies, label='test_accuracy')\n",
    "plt.legend()"
   ]
  },
  {
   "cell_type": "code",
   "execution_count": null,
   "id": "386d038d-d554-4857-ab4b-fe1314e8937c",
   "metadata": {},
   "outputs": [],
   "source": []
  }
 ],
 "metadata": {
  "accelerator": "GPU",
  "colab": {
   "provenance": []
  },
  "gpuClass": "standard",
  "kernelspec": {
   "display_name": "Python 3 (ipykernel)",
   "language": "python",
   "name": "python3"
  },
  "language_info": {
   "codemirror_mode": {
    "name": "ipython",
    "version": 3
   },
   "file_extension": ".py",
   "mimetype": "text/x-python",
   "name": "python",
   "nbconvert_exporter": "python",
   "pygments_lexer": "ipython3",
   "version": "3.9.18"
  },
  "widgets": {
   "application/vnd.jupyter.widget-state+json": {
    "00397590a13d454d8b16fd8d15ae9b41": {
     "model_module": "@jupyter-widgets/controls",
     "model_module_version": "1.5.0",
     "model_name": "DescriptionStyleModel",
     "state": {
      "_model_module": "@jupyter-widgets/controls",
      "_model_module_version": "1.5.0",
      "_model_name": "DescriptionStyleModel",
      "_view_count": null,
      "_view_module": "@jupyter-widgets/base",
      "_view_module_version": "1.2.0",
      "_view_name": "StyleView",
      "description_width": ""
     }
    },
    "0a3d339ba81a4f22b893250502c493af": {
     "model_module": "@jupyter-widgets/base",
     "model_module_version": "1.2.0",
     "model_name": "LayoutModel",
     "state": {
      "_model_module": "@jupyter-widgets/base",
      "_model_module_version": "1.2.0",
      "_model_name": "LayoutModel",
      "_view_count": null,
      "_view_module": "@jupyter-widgets/base",
      "_view_module_version": "1.2.0",
      "_view_name": "LayoutView",
      "align_content": null,
      "align_items": null,
      "align_self": null,
      "border": null,
      "bottom": null,
      "display": null,
      "flex": null,
      "flex_flow": null,
      "grid_area": null,
      "grid_auto_columns": null,
      "grid_auto_flow": null,
      "grid_auto_rows": null,
      "grid_column": null,
      "grid_gap": null,
      "grid_row": null,
      "grid_template_areas": null,
      "grid_template_columns": null,
      "grid_template_rows": null,
      "height": null,
      "justify_content": null,
      "justify_items": null,
      "left": null,
      "margin": null,
      "max_height": null,
      "max_width": null,
      "min_height": null,
      "min_width": null,
      "object_fit": null,
      "object_position": null,
      "order": null,
      "overflow": null,
      "overflow_x": null,
      "overflow_y": null,
      "padding": null,
      "right": null,
      "top": null,
      "visibility": null,
      "width": null
     }
    },
    "4691e220a8cb466bb46540f16f65e864": {
     "model_module": "@jupyter-widgets/controls",
     "model_module_version": "1.5.0",
     "model_name": "ProgressStyleModel",
     "state": {
      "_model_module": "@jupyter-widgets/controls",
      "_model_module_version": "1.5.0",
      "_model_name": "ProgressStyleModel",
      "_view_count": null,
      "_view_module": "@jupyter-widgets/base",
      "_view_module_version": "1.2.0",
      "_view_name": "StyleView",
      "bar_color": null,
      "description_width": ""
     }
    },
    "56c90ad0a7fb47d08727a7dac3f68f39": {
     "model_module": "@jupyter-widgets/base",
     "model_module_version": "1.2.0",
     "model_name": "LayoutModel",
     "state": {
      "_model_module": "@jupyter-widgets/base",
      "_model_module_version": "1.2.0",
      "_model_name": "LayoutModel",
      "_view_count": null,
      "_view_module": "@jupyter-widgets/base",
      "_view_module_version": "1.2.0",
      "_view_name": "LayoutView",
      "align_content": null,
      "align_items": null,
      "align_self": null,
      "border": null,
      "bottom": null,
      "display": null,
      "flex": null,
      "flex_flow": null,
      "grid_area": null,
      "grid_auto_columns": null,
      "grid_auto_flow": null,
      "grid_auto_rows": null,
      "grid_column": null,
      "grid_gap": null,
      "grid_row": null,
      "grid_template_areas": null,
      "grid_template_columns": null,
      "grid_template_rows": null,
      "height": null,
      "justify_content": null,
      "justify_items": null,
      "left": null,
      "margin": null,
      "max_height": null,
      "max_width": null,
      "min_height": null,
      "min_width": null,
      "object_fit": null,
      "object_position": null,
      "order": null,
      "overflow": null,
      "overflow_x": null,
      "overflow_y": null,
      "padding": null,
      "right": null,
      "top": null,
      "visibility": null,
      "width": null
     }
    },
    "619c9ef51fc5497f81b4af88db9214cc": {
     "model_module": "@jupyter-widgets/controls",
     "model_module_version": "1.5.0",
     "model_name": "DescriptionStyleModel",
     "state": {
      "_model_module": "@jupyter-widgets/controls",
      "_model_module_version": "1.5.0",
      "_model_name": "DescriptionStyleModel",
      "_view_count": null,
      "_view_module": "@jupyter-widgets/base",
      "_view_module_version": "1.2.0",
      "_view_name": "StyleView",
      "description_width": ""
     }
    },
    "7c95c188ecf242de9776dcfd3e3fc8d2": {
     "model_module": "@jupyter-widgets/base",
     "model_module_version": "1.2.0",
     "model_name": "LayoutModel",
     "state": {
      "_model_module": "@jupyter-widgets/base",
      "_model_module_version": "1.2.0",
      "_model_name": "LayoutModel",
      "_view_count": null,
      "_view_module": "@jupyter-widgets/base",
      "_view_module_version": "1.2.0",
      "_view_name": "LayoutView",
      "align_content": null,
      "align_items": null,
      "align_self": null,
      "border": null,
      "bottom": null,
      "display": null,
      "flex": null,
      "flex_flow": null,
      "grid_area": null,
      "grid_auto_columns": null,
      "grid_auto_flow": null,
      "grid_auto_rows": null,
      "grid_column": null,
      "grid_gap": null,
      "grid_row": null,
      "grid_template_areas": null,
      "grid_template_columns": null,
      "grid_template_rows": null,
      "height": null,
      "justify_content": null,
      "justify_items": null,
      "left": null,
      "margin": null,
      "max_height": null,
      "max_width": null,
      "min_height": null,
      "min_width": null,
      "object_fit": null,
      "object_position": null,
      "order": null,
      "overflow": null,
      "overflow_x": null,
      "overflow_y": null,
      "padding": null,
      "right": null,
      "top": null,
      "visibility": null,
      "width": null
     }
    },
    "8a6ed597588f4c07bff4271aeba7c1bb": {
     "model_module": "@jupyter-widgets/controls",
     "model_module_version": "1.5.0",
     "model_name": "HBoxModel",
     "state": {
      "_dom_classes": [],
      "_model_module": "@jupyter-widgets/controls",
      "_model_module_version": "1.5.0",
      "_model_name": "HBoxModel",
      "_view_count": null,
      "_view_module": "@jupyter-widgets/controls",
      "_view_module_version": "1.5.0",
      "_view_name": "HBoxView",
      "box_style": "",
      "children": [
       "IPY_MODEL_e09dd53ac3044e3097ed084354a52e13",
       "IPY_MODEL_8b2a0088b39741f6968c95f40ff787e6",
       "IPY_MODEL_cf5fb8e067be464bb14a1cf5e8b4e2de"
      ],
      "layout": "IPY_MODEL_0a3d339ba81a4f22b893250502c493af"
     }
    },
    "8b2a0088b39741f6968c95f40ff787e6": {
     "model_module": "@jupyter-widgets/controls",
     "model_module_version": "1.5.0",
     "model_name": "FloatProgressModel",
     "state": {
      "_dom_classes": [],
      "_model_module": "@jupyter-widgets/controls",
      "_model_module_version": "1.5.0",
      "_model_name": "FloatProgressModel",
      "_view_count": null,
      "_view_module": "@jupyter-widgets/controls",
      "_view_module_version": "1.5.0",
      "_view_name": "ProgressView",
      "bar_style": "success",
      "description": "",
      "description_tooltip": null,
      "layout": "IPY_MODEL_56c90ad0a7fb47d08727a7dac3f68f39",
      "max": 170498071,
      "min": 0,
      "orientation": "horizontal",
      "style": "IPY_MODEL_4691e220a8cb466bb46540f16f65e864",
      "value": 170498071
     }
    },
    "cf5fb8e067be464bb14a1cf5e8b4e2de": {
     "model_module": "@jupyter-widgets/controls",
     "model_module_version": "1.5.0",
     "model_name": "HTMLModel",
     "state": {
      "_dom_classes": [],
      "_model_module": "@jupyter-widgets/controls",
      "_model_module_version": "1.5.0",
      "_model_name": "HTMLModel",
      "_view_count": null,
      "_view_module": "@jupyter-widgets/controls",
      "_view_module_version": "1.5.0",
      "_view_name": "HTMLView",
      "description": "",
      "description_tooltip": null,
      "layout": "IPY_MODEL_7c95c188ecf242de9776dcfd3e3fc8d2",
      "placeholder": "​",
      "style": "IPY_MODEL_619c9ef51fc5497f81b4af88db9214cc",
      "value": " 170498071/170498071 [00:01&lt;00:00, 97303096.82it/s]"
     }
    },
    "e09dd53ac3044e3097ed084354a52e13": {
     "model_module": "@jupyter-widgets/controls",
     "model_module_version": "1.5.0",
     "model_name": "HTMLModel",
     "state": {
      "_dom_classes": [],
      "_model_module": "@jupyter-widgets/controls",
      "_model_module_version": "1.5.0",
      "_model_name": "HTMLModel",
      "_view_count": null,
      "_view_module": "@jupyter-widgets/controls",
      "_view_module_version": "1.5.0",
      "_view_name": "HTMLView",
      "description": "",
      "description_tooltip": null,
      "layout": "IPY_MODEL_f4c44a600db84290a51877583e18ee26",
      "placeholder": "​",
      "style": "IPY_MODEL_00397590a13d454d8b16fd8d15ae9b41",
      "value": "100%"
     }
    },
    "f4c44a600db84290a51877583e18ee26": {
     "model_module": "@jupyter-widgets/base",
     "model_module_version": "1.2.0",
     "model_name": "LayoutModel",
     "state": {
      "_model_module": "@jupyter-widgets/base",
      "_model_module_version": "1.2.0",
      "_model_name": "LayoutModel",
      "_view_count": null,
      "_view_module": "@jupyter-widgets/base",
      "_view_module_version": "1.2.0",
      "_view_name": "LayoutView",
      "align_content": null,
      "align_items": null,
      "align_self": null,
      "border": null,
      "bottom": null,
      "display": null,
      "flex": null,
      "flex_flow": null,
      "grid_area": null,
      "grid_auto_columns": null,
      "grid_auto_flow": null,
      "grid_auto_rows": null,
      "grid_column": null,
      "grid_gap": null,
      "grid_row": null,
      "grid_template_areas": null,
      "grid_template_columns": null,
      "grid_template_rows": null,
      "height": null,
      "justify_content": null,
      "justify_items": null,
      "left": null,
      "margin": null,
      "max_height": null,
      "max_width": null,
      "min_height": null,
      "min_width": null,
      "object_fit": null,
      "object_position": null,
      "order": null,
      "overflow": null,
      "overflow_x": null,
      "overflow_y": null,
      "padding": null,
      "right": null,
      "top": null,
      "visibility": null,
      "width": null
     }
    }
   }
  }
 },
 "nbformat": 4,
 "nbformat_minor": 5
}
