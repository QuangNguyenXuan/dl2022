{
 "cells": [
  {
   "cell_type": "code",
   "execution_count": 1,
   "metadata": {},
   "outputs": [
    {
     "name": "stderr",
     "output_type": "stream",
     "text": [
      "2022-01-26 15:02:00.768129: I tensorflow/stream_executor/cuda/cuda_gpu_executor.cc:939] successful NUMA node read from SysFS had negative value (-1), but there must be at least one NUMA node, so returning NUMA node zero\n",
      "2022-01-26 15:02:00.771764: I tensorflow/stream_executor/cuda/cuda_gpu_executor.cc:939] successful NUMA node read from SysFS had negative value (-1), but there must be at least one NUMA node, so returning NUMA node zero\n",
      "2022-01-26 15:02:00.772033: I tensorflow/stream_executor/cuda/cuda_gpu_executor.cc:939] successful NUMA node read from SysFS had negative value (-1), but there must be at least one NUMA node, so returning NUMA node zero\n",
      "2022-01-26 15:02:00.772409: I tensorflow/core/platform/cpu_feature_guard.cc:151] This TensorFlow binary is optimized with oneAPI Deep Neural Network Library (oneDNN) to use the following CPU instructions in performance-critical operations:  AVX2 FMA\n",
      "To enable them in other operations, rebuild TensorFlow with the appropriate compiler flags.\n",
      "2022-01-26 15:02:00.773340: I tensorflow/stream_executor/cuda/cuda_gpu_executor.cc:939] successful NUMA node read from SysFS had negative value (-1), but there must be at least one NUMA node, so returning NUMA node zero\n",
      "2022-01-26 15:02:00.773606: I tensorflow/stream_executor/cuda/cuda_gpu_executor.cc:939] successful NUMA node read from SysFS had negative value (-1), but there must be at least one NUMA node, so returning NUMA node zero\n",
      "2022-01-26 15:02:00.773852: I tensorflow/stream_executor/cuda/cuda_gpu_executor.cc:939] successful NUMA node read from SysFS had negative value (-1), but there must be at least one NUMA node, so returning NUMA node zero\n",
      "2022-01-26 15:02:01.122662: I tensorflow/stream_executor/cuda/cuda_gpu_executor.cc:939] successful NUMA node read from SysFS had negative value (-1), but there must be at least one NUMA node, so returning NUMA node zero\n",
      "2022-01-26 15:02:01.122926: I tensorflow/stream_executor/cuda/cuda_gpu_executor.cc:939] successful NUMA node read from SysFS had negative value (-1), but there must be at least one NUMA node, so returning NUMA node zero\n",
      "2022-01-26 15:02:01.123158: I tensorflow/stream_executor/cuda/cuda_gpu_executor.cc:939] successful NUMA node read from SysFS had negative value (-1), but there must be at least one NUMA node, so returning NUMA node zero\n",
      "2022-01-26 15:02:01.123384: I tensorflow/core/common_runtime/gpu/gpu_device.cc:1525] Created device /job:localhost/replica:0/task:0/device:GPU:0 with 5693 MB memory:  -> device: 0, name: NVIDIA GeForce RTX 3070, pci bus id: 0000:01:00.0, compute capability: 8.6\n"
     ]
    },
    {
     "name": "stdout",
     "output_type": "stream",
     "text": [
      "Model: \"sequential\"\n",
      "_________________________________________________________________\n",
      " Layer (type)                Output Shape              Param #   \n",
      "=================================================================\n",
      " conv2d (Conv2D)             (None, 32, 32, 64)        1792      \n",
      "                                                                 \n",
      " conv2d_1 (Conv2D)           (None, 32, 32, 64)        36928     \n",
      "                                                                 \n",
      " conv2d_2 (Conv2D)           (None, 32, 32, 64)        36928     \n",
      "                                                                 \n",
      " max_pooling2d (MaxPooling2D  (None, 16, 16, 64)       0         \n",
      " )                                                               \n",
      "                                                                 \n",
      " conv2d_3 (Conv2D)           (None, 16, 16, 128)       73856     \n",
      "                                                                 \n",
      " conv2d_4 (Conv2D)           (None, 16, 16, 128)       147584    \n",
      "                                                                 \n",
      " conv2d_5 (Conv2D)           (None, 16, 16, 128)       147584    \n",
      "                                                                 \n",
      " max_pooling2d_1 (MaxPooling  (None, 8, 8, 128)        0         \n",
      " 2D)                                                             \n",
      "                                                                 \n",
      " conv2d_6 (Conv2D)           (None, 8, 8, 256)         295168    \n",
      "                                                                 \n",
      " conv2d_7 (Conv2D)           (None, 8, 8, 256)         590080    \n",
      "                                                                 \n",
      " conv2d_8 (Conv2D)           (None, 8, 8, 256)         590080    \n",
      "                                                                 \n",
      " max_pooling2d_2 (MaxPooling  (None, 4, 4, 256)        0         \n",
      " 2D)                                                             \n",
      "                                                                 \n",
      " conv2d_9 (Conv2D)           (None, 4, 4, 512)         1180160   \n",
      "                                                                 \n",
      " conv2d_10 (Conv2D)          (None, 4, 4, 512)         2359808   \n",
      "                                                                 \n",
      " conv2d_11 (Conv2D)          (None, 4, 4, 512)         2359808   \n",
      "                                                                 \n",
      " max_pooling2d_3 (MaxPooling  (None, 2, 2, 512)        0         \n",
      " 2D)                                                             \n",
      "                                                                 \n",
      " flatten (Flatten)           (None, 2048)              0         \n",
      "                                                                 \n",
      " dense (Dense)               (None, 512)               1049088   \n",
      "                                                                 \n",
      " dense_1 (Dense)             (None, 10)                5130      \n",
      "                                                                 \n",
      "=================================================================\n",
      "Total params: 8,873,994\n",
      "Trainable params: 8,873,994\n",
      "Non-trainable params: 0\n",
      "_________________________________________________________________\n",
      "Epoch 1/40\n"
     ]
    },
    {
     "name": "stderr",
     "output_type": "stream",
     "text": [
      "2022-01-26 15:02:02.979675: I tensorflow/stream_executor/cuda/cuda_dnn.cc:366] Loaded cuDNN version 8201\n",
      "2022-01-26 15:02:04.613832: I tensorflow/stream_executor/cuda/cuda_blas.cc:1774] TensorFloat-32 will be used for the matrix multiplication. This will only be logged once.\n"
     ]
    },
    {
     "name": "stdout",
     "output_type": "stream",
     "text": [
      "196/196 [==============================] - 12s 45ms/step - loss: 1.8703 - accuracy: 0.2954 - val_loss: 1.6079 - val_accuracy: 0.3874\n",
      "Epoch 2/40\n",
      "196/196 [==============================] - 8s 41ms/step - loss: 1.5219 - accuracy: 0.4331 - val_loss: 1.4214 - val_accuracy: 0.4741\n",
      "Epoch 3/40\n",
      "196/196 [==============================] - 8s 41ms/step - loss: 1.3098 - accuracy: 0.5190 - val_loss: 1.2637 - val_accuracy: 0.5338\n",
      "Epoch 4/40\n",
      "196/196 [==============================] - 8s 41ms/step - loss: 1.1778 - accuracy: 0.5720 - val_loss: 1.2021 - val_accuracy: 0.5736\n",
      "Epoch 5/40\n",
      "196/196 [==============================] - 8s 41ms/step - loss: 1.0650 - accuracy: 0.6147 - val_loss: 1.0349 - val_accuracy: 0.6253\n",
      "Epoch 6/40\n",
      "196/196 [==============================] - 8s 41ms/step - loss: 0.9764 - accuracy: 0.6495 - val_loss: 1.0090 - val_accuracy: 0.6325\n",
      "Epoch 7/40\n",
      "196/196 [==============================] - 8s 41ms/step - loss: 0.8974 - accuracy: 0.6790 - val_loss: 0.8975 - val_accuracy: 0.6815\n",
      "Epoch 8/40\n",
      "196/196 [==============================] - 8s 41ms/step - loss: 0.8332 - accuracy: 0.7034 - val_loss: 0.9091 - val_accuracy: 0.6746\n",
      "Epoch 9/40\n",
      "196/196 [==============================] - 8s 41ms/step - loss: 0.7682 - accuracy: 0.7255 - val_loss: 0.8435 - val_accuracy: 0.7016\n",
      "Epoch 10/40\n",
      "196/196 [==============================] - 8s 41ms/step - loss: 0.7229 - accuracy: 0.7431 - val_loss: 0.8473 - val_accuracy: 0.7016\n",
      "Epoch 11/40\n",
      "196/196 [==============================] - 8s 41ms/step - loss: 0.6664 - accuracy: 0.7621 - val_loss: 0.8366 - val_accuracy: 0.7111\n",
      "Epoch 12/40\n",
      "196/196 [==============================] - 8s 41ms/step - loss: 0.6226 - accuracy: 0.7795 - val_loss: 0.7442 - val_accuracy: 0.7449\n",
      "Epoch 13/40\n",
      "196/196 [==============================] - 8s 41ms/step - loss: 0.5719 - accuracy: 0.7966 - val_loss: 0.7170 - val_accuracy: 0.7515\n",
      "Epoch 14/40\n",
      "196/196 [==============================] - 8s 41ms/step - loss: 0.5277 - accuracy: 0.8147 - val_loss: 0.7212 - val_accuracy: 0.7534\n",
      "Epoch 15/40\n",
      "196/196 [==============================] - 8s 41ms/step - loss: 0.4874 - accuracy: 0.8291 - val_loss: 0.7606 - val_accuracy: 0.7443\n",
      "Epoch 16/40\n",
      "196/196 [==============================] - 8s 41ms/step - loss: 0.4457 - accuracy: 0.8437 - val_loss: 0.7106 - val_accuracy: 0.7605\n",
      "Epoch 17/40\n",
      "196/196 [==============================] - 8s 42ms/step - loss: 0.4065 - accuracy: 0.8571 - val_loss: 0.6942 - val_accuracy: 0.7715\n",
      "Epoch 18/40\n",
      "196/196 [==============================] - 8s 41ms/step - loss: 0.3603 - accuracy: 0.8716 - val_loss: 0.7171 - val_accuracy: 0.7717\n",
      "Epoch 19/40\n",
      "196/196 [==============================] - 8s 40ms/step - loss: 0.3315 - accuracy: 0.8822 - val_loss: 0.7086 - val_accuracy: 0.7798\n",
      "Epoch 20/40\n",
      "196/196 [==============================] - 8s 40ms/step - loss: 0.2798 - accuracy: 0.9021 - val_loss: 0.7218 - val_accuracy: 0.7766\n",
      "Epoch 21/40\n",
      "196/196 [==============================] - 8s 40ms/step - loss: 0.2482 - accuracy: 0.9131 - val_loss: 0.7898 - val_accuracy: 0.7754\n",
      "Epoch 22/40\n",
      "196/196 [==============================] - 8s 40ms/step - loss: 0.2138 - accuracy: 0.9242 - val_loss: 0.7931 - val_accuracy: 0.7751\n",
      "Epoch 23/40\n",
      "196/196 [==============================] - 8s 40ms/step - loss: 0.1877 - accuracy: 0.9334 - val_loss: 0.9045 - val_accuracy: 0.7619\n",
      "Epoch 24/40\n",
      "196/196 [==============================] - 8s 40ms/step - loss: 0.1655 - accuracy: 0.9417 - val_loss: 0.8497 - val_accuracy: 0.7768\n",
      "Epoch 25/40\n",
      "196/196 [==============================] - 8s 40ms/step - loss: 0.1262 - accuracy: 0.9564 - val_loss: 0.9195 - val_accuracy: 0.7739\n",
      "Epoch 26/40\n",
      "196/196 [==============================] - 8s 40ms/step - loss: 0.1231 - accuracy: 0.9572 - val_loss: 0.9886 - val_accuracy: 0.7641\n",
      "Epoch 27/40\n",
      "196/196 [==============================] - 8s 40ms/step - loss: 0.0878 - accuracy: 0.9702 - val_loss: 1.0000 - val_accuracy: 0.7758\n",
      "Epoch 28/40\n",
      "196/196 [==============================] - 8s 40ms/step - loss: 0.0990 - accuracy: 0.9647 - val_loss: 1.0914 - val_accuracy: 0.7705\n",
      "Epoch 29/40\n",
      "196/196 [==============================] - 8s 41ms/step - loss: 0.0698 - accuracy: 0.9762 - val_loss: 1.0501 - val_accuracy: 0.7782\n",
      "Epoch 30/40\n",
      "196/196 [==============================] - 8s 41ms/step - loss: 0.0597 - accuracy: 0.9802 - val_loss: 1.1016 - val_accuracy: 0.7853\n",
      "Epoch 31/40\n",
      "196/196 [==============================] - 8s 41ms/step - loss: 0.0541 - accuracy: 0.9824 - val_loss: 1.2346 - val_accuracy: 0.7789\n",
      "Epoch 32/40\n",
      "196/196 [==============================] - 8s 40ms/step - loss: 0.0483 - accuracy: 0.9837 - val_loss: 1.2442 - val_accuracy: 0.7798\n",
      "Epoch 33/40\n",
      "196/196 [==============================] - 8s 41ms/step - loss: 0.0568 - accuracy: 0.9803 - val_loss: 1.1346 - val_accuracy: 0.7825\n",
      "Epoch 34/40\n",
      "196/196 [==============================] - 8s 40ms/step - loss: 0.0418 - accuracy: 0.9864 - val_loss: 1.3650 - val_accuracy: 0.7812\n",
      "Epoch 35/40\n",
      "196/196 [==============================] - 8s 40ms/step - loss: 0.0455 - accuracy: 0.9844 - val_loss: 1.0660 - val_accuracy: 0.7764\n",
      "Epoch 36/40\n",
      "196/196 [==============================] - 8s 40ms/step - loss: 0.0431 - accuracy: 0.9860 - val_loss: 1.2251 - val_accuracy: 0.7829\n",
      "Epoch 37/40\n",
      "196/196 [==============================] - 8s 40ms/step - loss: 0.0377 - accuracy: 0.9875 - val_loss: 1.3324 - val_accuracy: 0.7802\n",
      "Epoch 38/40\n",
      "196/196 [==============================] - 8s 40ms/step - loss: 0.0421 - accuracy: 0.9857 - val_loss: 1.1590 - val_accuracy: 0.7791\n",
      "Epoch 39/40\n",
      "196/196 [==============================] - 8s 40ms/step - loss: 0.0297 - accuracy: 0.9902 - val_loss: 1.3374 - val_accuracy: 0.7849\n",
      "Epoch 40/40\n",
      "196/196 [==============================] - 8s 40ms/step - loss: 0.0351 - accuracy: 0.9886 - val_loss: 1.3148 - val_accuracy: 0.7896\n"
     ]
    }
   ],
   "source": [
    "import tensorflow as tf\n",
    "import tensorflow.keras as keras\n",
    "\n",
    "# set seed\n",
    "tf.random.set_seed(1234)\n",
    "\n",
    "# data preparation\n",
    "cifar10 = tf.keras.datasets.cifar10\n",
    "(x_train, y_train),(x_test, y_test) = cifar10.load_data()\n",
    "\n",
    "x_train = x_train.reshape((50000, 32, 32, 3))\n",
    "x_test  = x_test.reshape((10000, 32, 32, 3))\n",
    "\n",
    "# normalize\n",
    "x_train, x_test = x_train / 255.0, x_test / 255.0\n",
    "\n",
    "# model\n",
    "model = keras.models.Sequential()\n",
    "model.add(tf.keras.Input(shape=(32, 32, 3)))\n",
    "\n",
    "model.add(keras.layers.Conv2D(64, (3, 3), strides=1, padding='same', activation = 'relu'))\n",
    "model.add(keras.layers.Conv2D(64, (3, 3), strides=1, padding='same', activation = 'relu'))\n",
    "model.add(keras.layers.Conv2D(64, (3, 3), strides=1, padding='same', activation='relu'))\n",
    "model.add(keras.layers.MaxPooling2D(2))\n",
    "\n",
    "model.add(keras.layers.Conv2D(128, (3, 3), strides=1, padding='same', activation='relu'))\n",
    "model.add(keras.layers.Conv2D(128, (3, 3), strides=1, padding='same', activation='relu'))\n",
    "model.add(keras.layers.Conv2D(128, (3, 3), strides=1, padding='same', activation='relu'))\n",
    "model.add(keras.layers.MaxPooling2D(2))\n",
    "\n",
    "model.add(keras.layers.Conv2D(256, (3, 3), strides=1, padding='same', activation='relu'))\n",
    "model.add(keras.layers.Conv2D(256, (3, 3), strides=1, padding='same', activation='relu'))\n",
    "model.add(keras.layers.Conv2D(256, (3, 3), strides=1, padding='same', activation='relu'))\n",
    "model.add(keras.layers.MaxPooling2D(2))\n",
    "\n",
    "model.add(keras.layers.Conv2D(512, (3, 3), strides=1, padding='same', activation='relu'))\n",
    "model.add(keras.layers.Conv2D(512, (3, 3), strides=1, padding='same', activation='relu'))\n",
    "model.add(keras.layers.Conv2D(512, (3, 3), strides=1, padding='same', activation='relu'))\n",
    "model.add(keras.layers.MaxPooling2D(2))\n",
    "\n",
    "# flatten\n",
    "model.add(keras.layers.Flatten())\n",
    "model.add(keras.layers.Dense(512, activation='relu'))\n",
    "model.add(keras.layers.Dense(10, activation='softmax'))\n",
    "model.summary()\n",
    "\n",
    "# training\n",
    "opt = tf.keras.optimizers.Adam(0.0001)\n",
    "model.compile(optimizer=opt, metrics=['accuracy'], \n",
    "              loss='sparse_categorical_crossentropy')\n",
    "\n",
    "history = model.fit(x_train, y_train, batch_size=256, \n",
    "                    validation_data=(x_test, y_test), epochs=40, verbose=1)"
   ]
  },
  {
   "cell_type": "code",
   "execution_count": null,
   "metadata": {},
   "outputs": [],
   "source": []
  },
  {
   "cell_type": "code",
   "execution_count": 2,
   "metadata": {},
   "outputs": [
    {
     "data": {
      "text/plain": [
       "<matplotlib.legend.Legend at 0x7fbd7c168580>"
      ]
     },
     "execution_count": 2,
     "metadata": {},
     "output_type": "execute_result"
    },
    {
     "data": {
      "image/png": "[encoded data removed]",
      "text/plain": [
       "<Figure size 432x288 with 1 Axes>"
      ]
     },
     "metadata": {
      "needs_background": "light"
     },
     "output_type": "display_data"
    }
   ],
   "source": [
    "import matplotlib.pyplot as plt\n",
    "\n",
    "plt.plot(history.history['loss'], label = \"train_loss\")\n",
    "plt.plot(history.history['val_loss'], label = \"val_loss\")\n",
    "plt.xlabel('iteration')\n",
    "plt.ylabel('Loss')\n",
    "plt.legend()"
   ]
  },
  {
   "cell_type": "code",
   "execution_count": null,
   "metadata": {},
   "outputs": [],
   "source": []
  },
  {
   "cell_type": "code",
   "execution_count": 3,
   "metadata": {},
   "outputs": [
    {
     "data": {
      "text/plain": [
       "<matplotlib.legend.Legend at 0x7fbd7c078c70>"
      ]
     },
     "execution_count": 3,
     "metadata": {},
     "output_type": "execute_result"
    },
    {
     "data": {
      "image/png": "[encoded data removed]",
      "text/plain": [
       "<Figure size 432x288 with 1 Axes>"
      ]
     },
     "metadata": {
      "needs_background": "light"
     },
     "output_type": "display_data"
    }
   ],
   "source": [
    "import matplotlib.pyplot as plt\n",
    "\n",
    "plt.plot(history.history['accuracy'], label = \"train_accuracy\")\n",
    "plt.plot(history.history['val_accuracy'], label = \"val_accuracy\")\n",
    "plt.xlabel('iteration')\n",
    "plt.ylabel('Accuracy')\n",
    "plt.legend()"
   ]
  },
  {
   "cell_type": "code",
   "execution_count": null,
   "metadata": {},
   "outputs": [],
   "source": []
  }
 ],
 "metadata": {
  "kernelspec": {
   "display_name": "Python 3 (ipykernel)",
   "language": "python",
   "name": "python3"
  },
  "language_info": {
   "codemirror_mode": {
    "name": "ipython",
    "version": 3
   },
   "file_extension": ".py",
   "mimetype": "text/x-python",
   "name": "python",
   "nbconvert_exporter": "python",
   "pygments_lexer": "ipython3",
   "version": "3.9.18"
  }
 },
 "nbformat": 4,
 "nbformat_minor": 4
}
