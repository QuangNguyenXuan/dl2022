{
 "cells": [
  {
   "cell_type": "code",
   "execution_count": 2,
   "id": "32142c82",
   "metadata": {},
   "outputs": [
    {
     "name": "stdout",
     "output_type": "stream",
     "text": [
      "Model: \"sequential_1\"\n",
      "_________________________________________________________________\n",
      " Layer (type)                Output Shape              Param #   \n",
      "=================================================================\n",
      " conv2d_12 (Conv2D)          (None, 32, 32, 64)        1792      \n",
      "                                                                 \n",
      " conv2d_13 (Conv2D)          (None, 32, 32, 64)        36928     \n",
      "                                                                 \n",
      " conv2d_14 (Conv2D)          (None, 32, 32, 64)        36928     \n",
      "                                                                 \n",
      " max_pooling2d_4 (MaxPooling  (None, 16, 16, 64)       0         \n",
      " 2D)                                                             \n",
      "                                                                 \n",
      " conv2d_15 (Conv2D)          (None, 16, 16, 128)       73856     \n",
      "                                                                 \n",
      " conv2d_16 (Conv2D)          (None, 16, 16, 128)       147584    \n",
      "                                                                 \n",
      " conv2d_17 (Conv2D)          (None, 16, 16, 128)       147584    \n",
      "                                                                 \n",
      " max_pooling2d_5 (MaxPooling  (None, 8, 8, 128)        0         \n",
      " 2D)                                                             \n",
      "                                                                 \n",
      " conv2d_18 (Conv2D)          (None, 8, 8, 256)         295168    \n",
      "                                                                 \n",
      " conv2d_19 (Conv2D)          (None, 8, 8, 256)         590080    \n",
      "                                                                 \n",
      " conv2d_20 (Conv2D)          (None, 8, 8, 256)         590080    \n",
      "                                                                 \n",
      " max_pooling2d_6 (MaxPooling  (None, 4, 4, 256)        0         \n",
      " 2D)                                                             \n",
      "                                                                 \n",
      " conv2d_21 (Conv2D)          (None, 4, 4, 512)         1180160   \n",
      "                                                                 \n",
      " conv2d_22 (Conv2D)          (None, 4, 4, 512)         2359808   \n",
      "                                                                 \n",
      " conv2d_23 (Conv2D)          (None, 4, 4, 512)         2359808   \n",
      "                                                                 \n",
      " max_pooling2d_7 (MaxPooling  (None, 2, 2, 512)        0         \n",
      " 2D)                                                             \n",
      "                                                                 \n",
      " flatten_1 (Flatten)         (None, 2048)              0         \n",
      "                                                                 \n",
      " dense_2 (Dense)             (None, 512)               1049088   \n",
      "                                                                 \n",
      " dense_3 (Dense)             (None, 10)                5130      \n",
      "                                                                 \n",
      "=================================================================\n",
      "Total params: 8,873,994\n",
      "Trainable params: 8,873,994\n",
      "Non-trainable params: 0\n",
      "_________________________________________________________________\n",
      "Epoch 1/50\n",
      "196/196 [==============================] - 9s 42ms/step - loss: 1.9217 - accuracy: 0.2743 - val_loss: 1.5572 - val_accuracy: 0.4001\n",
      "Epoch 2/50\n",
      "196/196 [==============================] - 8s 41ms/step - loss: 1.3979 - accuracy: 0.4798 - val_loss: 1.3473 - val_accuracy: 0.5120\n",
      "Epoch 3/50\n",
      "196/196 [==============================] - 8s 41ms/step - loss: 1.1177 - accuracy: 0.5961 - val_loss: 1.0981 - val_accuracy: 0.6010\n",
      "Epoch 4/50\n",
      "196/196 [==============================] - 8s 41ms/step - loss: 0.9219 - accuracy: 0.6678 - val_loss: 1.1183 - val_accuracy: 0.6257\n",
      "Epoch 5/50\n",
      "196/196 [==============================] - 8s 41ms/step - loss: 0.7751 - accuracy: 0.7243 - val_loss: 0.8258 - val_accuracy: 0.7173\n",
      "Epoch 6/50\n",
      "196/196 [==============================] - 8s 41ms/step - loss: 0.6491 - accuracy: 0.7703 - val_loss: 0.7535 - val_accuracy: 0.7367\n",
      "Epoch 7/50\n",
      "196/196 [==============================] - 8s 41ms/step - loss: 0.5624 - accuracy: 0.8029 - val_loss: 0.7608 - val_accuracy: 0.7377\n",
      "Epoch 8/50\n",
      "196/196 [==============================] - 8s 41ms/step - loss: 0.4774 - accuracy: 0.8309 - val_loss: 0.7529 - val_accuracy: 0.7505\n",
      "Epoch 9/50\n",
      "196/196 [==============================] - 8s 41ms/step - loss: 0.3841 - accuracy: 0.8643 - val_loss: 0.7588 - val_accuracy: 0.7567\n",
      "Epoch 10/50\n",
      "196/196 [==============================] - 8s 41ms/step - loss: 0.3231 - accuracy: 0.8860 - val_loss: 0.7722 - val_accuracy: 0.7708\n",
      "Epoch 11/50\n",
      "196/196 [==============================] - 8s 41ms/step - loss: 0.2849 - accuracy: 0.8990 - val_loss: 0.8434 - val_accuracy: 0.7612\n",
      "Epoch 12/50\n",
      "196/196 [==============================] - 8s 41ms/step - loss: 0.2377 - accuracy: 0.9156 - val_loss: 0.9338 - val_accuracy: 0.7617\n",
      "Epoch 13/50\n",
      "196/196 [==============================] - 8s 41ms/step - loss: 0.2017 - accuracy: 0.9285 - val_loss: 0.9106 - val_accuracy: 0.7642\n",
      "Epoch 14/50\n",
      "196/196 [==============================] - 8s 41ms/step - loss: 0.1726 - accuracy: 0.9394 - val_loss: 0.9792 - val_accuracy: 0.7616\n",
      "Epoch 15/50\n",
      "196/196 [==============================] - 8s 41ms/step - loss: 0.1595 - accuracy: 0.9437 - val_loss: 1.1871 - val_accuracy: 0.7465\n",
      "Epoch 16/50\n",
      "196/196 [==============================] - 8s 41ms/step - loss: 0.1415 - accuracy: 0.9505 - val_loss: 1.0432 - val_accuracy: 0.7633\n",
      "Epoch 17/50\n",
      "196/196 [==============================] - 8s 41ms/step - loss: 0.1185 - accuracy: 0.9599 - val_loss: 1.0952 - val_accuracy: 0.7705\n",
      "Epoch 18/50\n",
      "196/196 [==============================] - 8s 41ms/step - loss: 0.1183 - accuracy: 0.9601 - val_loss: 1.1057 - val_accuracy: 0.7692\n",
      "Epoch 19/50\n",
      "196/196 [==============================] - 8s 41ms/step - loss: 0.1033 - accuracy: 0.9653 - val_loss: 1.3236 - val_accuracy: 0.7489\n",
      "Epoch 20/50\n",
      "196/196 [==============================] - 8s 41ms/step - loss: 0.0975 - accuracy: 0.9670 - val_loss: 1.1936 - val_accuracy: 0.7654\n",
      "Epoch 21/50\n",
      "196/196 [==============================] - 8s 41ms/step - loss: 0.0964 - accuracy: 0.9674 - val_loss: 1.1618 - val_accuracy: 0.7729\n",
      "Epoch 22/50\n",
      "196/196 [==============================] - 8s 41ms/step - loss: 0.0841 - accuracy: 0.9717 - val_loss: 1.2896 - val_accuracy: 0.7665\n",
      "Epoch 23/50\n",
      "196/196 [==============================] - 8s 41ms/step - loss: 0.0864 - accuracy: 0.9704 - val_loss: 1.1291 - val_accuracy: 0.7729\n",
      "Epoch 24/50\n",
      "196/196 [==============================] - 8s 41ms/step - loss: 0.0747 - accuracy: 0.9750 - val_loss: 1.3637 - val_accuracy: 0.7678\n",
      "Epoch 25/50\n",
      "196/196 [==============================] - 8s 41ms/step - loss: 0.0794 - accuracy: 0.9734 - val_loss: 1.3587 - val_accuracy: 0.7634\n",
      "Epoch 26/50\n",
      "196/196 [==============================] - 8s 41ms/step - loss: 0.0770 - accuracy: 0.9750 - val_loss: 1.2354 - val_accuracy: 0.7703\n",
      "Epoch 27/50\n",
      "196/196 [==============================] - 8s 41ms/step - loss: 0.0729 - accuracy: 0.9756 - val_loss: 1.3564 - val_accuracy: 0.7661\n",
      "Epoch 28/50\n",
      "196/196 [==============================] - 8s 41ms/step - loss: 0.0705 - accuracy: 0.9772 - val_loss: 1.3138 - val_accuracy: 0.7639\n",
      "Epoch 29/50\n",
      "196/196 [==============================] - 8s 41ms/step - loss: 0.0776 - accuracy: 0.9745 - val_loss: 1.2685 - val_accuracy: 0.7731\n",
      "Epoch 30/50\n",
      "196/196 [==============================] - 8s 41ms/step - loss: 0.0761 - accuracy: 0.9748 - val_loss: 1.3629 - val_accuracy: 0.7646\n",
      "Epoch 31/50\n",
      "196/196 [==============================] - 8s 41ms/step - loss: 0.0669 - accuracy: 0.9782 - val_loss: 1.3646 - val_accuracy: 0.7604\n",
      "Epoch 32/50\n",
      "196/196 [==============================] - 8s 41ms/step - loss: 0.0708 - accuracy: 0.9767 - val_loss: 1.3516 - val_accuracy: 0.7646\n",
      "Epoch 33/50\n",
      "196/196 [==============================] - 8s 41ms/step - loss: 0.0627 - accuracy: 0.9798 - val_loss: 1.4908 - val_accuracy: 0.7646\n",
      "Epoch 34/50\n",
      "196/196 [==============================] - 8s 41ms/step - loss: 0.0768 - accuracy: 0.9755 - val_loss: 1.4523 - val_accuracy: 0.7647\n",
      "Epoch 35/50\n",
      "196/196 [==============================] - 8s 41ms/step - loss: 0.0728 - accuracy: 0.9758 - val_loss: 1.7084 - val_accuracy: 0.7689\n"
     ]
    },
    {
     "name": "stdout",
     "output_type": "stream",
     "text": [
      "Epoch 36/50\n",
      "196/196 [==============================] - 8s 41ms/step - loss: 0.0687 - accuracy: 0.9776 - val_loss: 1.5458 - val_accuracy: 0.7581\n",
      "Epoch 37/50\n",
      "196/196 [==============================] - 8s 41ms/step - loss: 0.0636 - accuracy: 0.9784 - val_loss: 1.5274 - val_accuracy: 0.7611\n",
      "Epoch 38/50\n",
      "196/196 [==============================] - 8s 41ms/step - loss: 0.0644 - accuracy: 0.9793 - val_loss: 1.4148 - val_accuracy: 0.7743\n",
      "Epoch 39/50\n",
      "196/196 [==============================] - 8s 41ms/step - loss: 0.0545 - accuracy: 0.9820 - val_loss: 1.5962 - val_accuracy: 0.7680\n",
      "Epoch 40/50\n",
      "196/196 [==============================] - 8s 41ms/step - loss: 0.0633 - accuracy: 0.9795 - val_loss: 1.5190 - val_accuracy: 0.7600\n",
      "Epoch 41/50\n",
      "196/196 [==============================] - 8s 41ms/step - loss: 0.0641 - accuracy: 0.9797 - val_loss: 1.5063 - val_accuracy: 0.7658\n",
      "Epoch 42/50\n",
      "196/196 [==============================] - 8s 41ms/step - loss: 0.0635 - accuracy: 0.9793 - val_loss: 1.5253 - val_accuracy: 0.7732\n",
      "Epoch 43/50\n",
      "196/196 [==============================] - 8s 41ms/step - loss: 0.0652 - accuracy: 0.9795 - val_loss: 1.5044 - val_accuracy: 0.7715\n",
      "Epoch 44/50\n",
      "196/196 [==============================] - 8s 41ms/step - loss: 0.0646 - accuracy: 0.9791 - val_loss: 1.6992 - val_accuracy: 0.7671\n",
      "Epoch 45/50\n",
      "196/196 [==============================] - 8s 41ms/step - loss: 0.0643 - accuracy: 0.9793 - val_loss: 1.4257 - val_accuracy: 0.7608\n",
      "Epoch 46/50\n",
      "196/196 [==============================] - 8s 41ms/step - loss: 0.0589 - accuracy: 0.9806 - val_loss: 1.5550 - val_accuracy: 0.7722\n",
      "Epoch 47/50\n",
      "196/196 [==============================] - 8s 41ms/step - loss: 0.0629 - accuracy: 0.9802 - val_loss: 1.5517 - val_accuracy: 0.7631\n",
      "Epoch 48/50\n",
      "196/196 [==============================] - 8s 41ms/step - loss: 0.0649 - accuracy: 0.9804 - val_loss: 1.4886 - val_accuracy: 0.7661\n",
      "Epoch 49/50\n",
      "196/196 [==============================] - 8s 41ms/step - loss: 0.0461 - accuracy: 0.9858 - val_loss: 1.5659 - val_accuracy: 0.7716\n",
      "Epoch 50/50\n",
      "196/196 [==============================] - 8s 41ms/step - loss: 0.0585 - accuracy: 0.9818 - val_loss: 1.4649 - val_accuracy: 0.7683\n"
     ]
    }
   ],
   "source": [
    "# too deep: normalization\n",
    "\n",
    "import numpy as np\n",
    "import tensorflow as tf\n",
    "import tensorflow.keras as keras\n",
    "\n",
    "# set seed\n",
    "tf.random.set_seed(1234)\n",
    "\n",
    "# data preparation\n",
    "cifar10 = tf.keras.datasets.cifar10\n",
    "(x_train, y_train),(x_test, y_test) = cifar10.load_data()\n",
    "\n",
    "# normalize  \n",
    "mean = np.array([[[[125.30691805, 122.95039414, 113.86538318]]]])\n",
    "std  = np.array([[[[62.99321928, 62.08870764, 66.70489964]]]])\n",
    "\n",
    "x_train = (x_train - mean) / std\n",
    "x_test  = (x_test - mean) / std\n",
    "\n",
    "# model\n",
    "model = keras.models.Sequential()\n",
    "model.add(tf.keras.Input(shape=(32, 32, 3)))\n",
    "\n",
    "model.add(keras.layers.Conv2D(64, (3, 3), strides=1, padding='same', activation='relu'))\n",
    "model.add(keras.layers.Conv2D(64, (3, 3), strides=1, padding='same', activation='relu'))\n",
    "model.add(keras.layers.Conv2D(64, (3, 3), strides=1, padding='same', activation='relu'))\n",
    "model.add(keras.layers.MaxPooling2D(2))\n",
    "\n",
    "model.add(keras.layers.Conv2D(128, (3, 3), strides=1, padding='same', activation='relu'))\n",
    "model.add(keras.layers.Conv2D(128, (3, 3), strides=1, padding='same', activation='relu'))\n",
    "model.add(keras.layers.Conv2D(128, (3, 3), strides=1, padding='same', activation='relu'))\n",
    "model.add(keras.layers.MaxPooling2D(2))\n",
    "\n",
    "model.add(keras.layers.Conv2D(256, (3, 3), strides=1, padding='same', activation='relu'))\n",
    "model.add(keras.layers.Conv2D(256, (3, 3), strides=1, padding='same', activation='relu'))\n",
    "model.add(keras.layers.Conv2D(256, (3, 3), strides=1, padding='same', activation='relu'))\n",
    "model.add(keras.layers.MaxPooling2D(2))\n",
    "\n",
    "model.add(keras.layers.Conv2D(512, (3, 3), strides=1, padding='same', activation='relu'))\n",
    "model.add(keras.layers.Conv2D(512, (3, 3), strides=1, padding='same', activation='relu'))\n",
    "model.add(keras.layers.Conv2D(512, (3, 3), strides=1, padding='same', activation='relu'))\n",
    "model.add(keras.layers.MaxPooling2D(2))\n",
    "\n",
    "# flatten\n",
    "model.add(keras.layers.Flatten())\n",
    "model.add(keras.layers.Dense(512, activation='relu'))\n",
    "model.add(keras.layers.Dense(10, activation='softmax'))\n",
    "model.summary()\n",
    "\n",
    "# training\n",
    "model.compile(optimizer='adam', loss='sparse_categorical_crossentropy', metrics=['accuracy'])\n",
    "history = model.fit(x_train, y_train, batch_size=256, validation_data=(x_test, y_test), epochs=50, verbose=1)"
   ]
  },
  {
   "cell_type": "code",
   "execution_count": null,
   "id": "acee3460",
   "metadata": {},
   "outputs": [],
   "source": []
  },
  {
   "cell_type": "code",
   "execution_count": 3,
   "id": "c5bb669d",
   "metadata": {},
   "outputs": [
    {
     "data": {
      "text/plain": [
       "<matplotlib.legend.Legend at 0x7f93240fdd30>"
      ]
     },
     "execution_count": 3,
     "metadata": {},
     "output_type": "execute_result"
    },
    {
     "data": {
      "image/png": "[encoded data removed]",
      "text/plain": [
       "<Figure size 432x288 with 1 Axes>"
      ]
     },
     "metadata": {
      "needs_background": "light"
     },
     "output_type": "display_data"
    }
   ],
   "source": [
    "import matplotlib.pyplot as plt\n",
    "\n",
    "plt.plot(history.history['loss'], label = \"train_loss\")\n",
    "plt.plot(history.history['val_loss'], label = \"val_loss\")\n",
    "plt.xlabel('iteration')\n",
    "plt.ylabel('Loss')\n",
    "plt.legend()"
   ]
  },
  {
   "cell_type": "code",
   "execution_count": null,
   "id": "794f4e81",
   "metadata": {},
   "outputs": [],
   "source": []
  },
  {
   "cell_type": "code",
   "execution_count": 4,
   "id": "7a9fa2f0",
   "metadata": {},
   "outputs": [
    {
     "data": {
      "text/plain": [
       "<matplotlib.legend.Legend at 0x7f9314537700>"
      ]
     },
     "execution_count": 4,
     "metadata": {},
     "output_type": "execute_result"
    },
    {
     "data": {
      "image/png": "[encoded data removed]",
      "text/plain": [
       "<Figure size 432x288 with 1 Axes>"
      ]
     },
     "metadata": {
      "needs_background": "light"
     },
     "output_type": "display_data"
    }
   ],
   "source": [
    "import matplotlib.pyplot as plt\n",
    "\n",
    "plt.plot(history.history['accuracy'], label = \"train_accuracy\")\n",
    "plt.plot(history.history['val_accuracy'], label = \"val_accuracy\")\n",
    "plt.xlabel('iteration')\n",
    "plt.ylabel('Accuracy')\n",
    "plt.legend()"
   ]
  },
  {
   "cell_type": "code",
   "execution_count": null,
   "id": "4a188707",
   "metadata": {},
   "outputs": [],
   "source": []
  }
 ],
 "metadata": {
  "kernelspec": {
   "display_name": "Python 3 (ipykernel)",
   "language": "python",
   "name": "python3"
  },
  "language_info": {
   "codemirror_mode": {
    "name": "ipython",
    "version": 3
   },
   "file_extension": ".py",
   "mimetype": "text/x-python",
   "name": "python",
   "nbconvert_exporter": "python",
   "pygments_lexer": "ipython3",
   "version": "3.9.18"
  }
 },
 "nbformat": 4,
 "nbformat_minor": 5
}
