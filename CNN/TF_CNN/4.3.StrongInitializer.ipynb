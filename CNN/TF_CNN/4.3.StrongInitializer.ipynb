{
 "cells": [
  {
   "cell_type": "code",
   "execution_count": 1,
   "id": "bc8e2e0f",
   "metadata": {},
   "outputs": [
    {
     "name": "stderr",
     "output_type": "stream",
     "text": [
      "2022-01-26 14:33:07.080074: I tensorflow/stream_executor/cuda/cuda_gpu_executor.cc:939] successful NUMA node read from SysFS had negative value (-1), but there must be at least one NUMA node, so returning NUMA node zero\n",
      "2022-01-26 14:33:07.083751: I tensorflow/stream_executor/cuda/cuda_gpu_executor.cc:939] successful NUMA node read from SysFS had negative value (-1), but there must be at least one NUMA node, so returning NUMA node zero\n",
      "2022-01-26 14:33:07.084014: I tensorflow/stream_executor/cuda/cuda_gpu_executor.cc:939] successful NUMA node read from SysFS had negative value (-1), but there must be at least one NUMA node, so returning NUMA node zero\n",
      "2022-01-26 14:33:07.084381: I tensorflow/core/platform/cpu_feature_guard.cc:151] This TensorFlow binary is optimized with oneAPI Deep Neural Network Library (oneDNN) to use the following CPU instructions in performance-critical operations:  AVX2 FMA\n",
      "To enable them in other operations, rebuild TensorFlow with the appropriate compiler flags.\n",
      "2022-01-26 14:33:07.085264: I tensorflow/stream_executor/cuda/cuda_gpu_executor.cc:939] successful NUMA node read from SysFS had negative value (-1), but there must be at least one NUMA node, so returning NUMA node zero\n",
      "2022-01-26 14:33:07.085523: I tensorflow/stream_executor/cuda/cuda_gpu_executor.cc:939] successful NUMA node read from SysFS had negative value (-1), but there must be at least one NUMA node, so returning NUMA node zero\n",
      "2022-01-26 14:33:07.085769: I tensorflow/stream_executor/cuda/cuda_gpu_executor.cc:939] successful NUMA node read from SysFS had negative value (-1), but there must be at least one NUMA node, so returning NUMA node zero\n",
      "2022-01-26 14:33:07.420792: I tensorflow/stream_executor/cuda/cuda_gpu_executor.cc:939] successful NUMA node read from SysFS had negative value (-1), but there must be at least one NUMA node, so returning NUMA node zero\n",
      "2022-01-26 14:33:07.421060: I tensorflow/stream_executor/cuda/cuda_gpu_executor.cc:939] successful NUMA node read from SysFS had negative value (-1), but there must be at least one NUMA node, so returning NUMA node zero\n",
      "2022-01-26 14:33:07.421298: I tensorflow/stream_executor/cuda/cuda_gpu_executor.cc:939] successful NUMA node read from SysFS had negative value (-1), but there must be at least one NUMA node, so returning NUMA node zero\n",
      "2022-01-26 14:33:07.421523: I tensorflow/core/common_runtime/gpu/gpu_device.cc:1525] Created device /job:localhost/replica:0/task:0/device:GPU:0 with 5695 MB memory:  -> device: 0, name: NVIDIA GeForce RTX 3070, pci bus id: 0000:01:00.0, compute capability: 8.6\n"
     ]
    },
    {
     "name": "stdout",
     "output_type": "stream",
     "text": [
      "Model: \"sequential\"\n",
      "_________________________________________________________________\n",
      " Layer (type)                Output Shape              Param #   \n",
      "=================================================================\n",
      " conv2d (Conv2D)             (None, 32, 32, 64)        1792      \n",
      "                                                                 \n",
      " conv2d_1 (Conv2D)           (None, 32, 32, 64)        36928     \n",
      "                                                                 \n",
      " conv2d_2 (Conv2D)           (None, 32, 32, 64)        36928     \n",
      "                                                                 \n",
      " max_pooling2d (MaxPooling2D  (None, 16, 16, 64)       0         \n",
      " )                                                               \n",
      "                                                                 \n",
      " conv2d_3 (Conv2D)           (None, 16, 16, 128)       73856     \n",
      "                                                                 \n",
      " conv2d_4 (Conv2D)           (None, 16, 16, 128)       147584    \n",
      "                                                                 \n",
      " conv2d_5 (Conv2D)           (None, 16, 16, 128)       147584    \n",
      "                                                                 \n",
      " max_pooling2d_1 (MaxPooling  (None, 8, 8, 128)        0         \n",
      " 2D)                                                             \n",
      "                                                                 \n",
      " conv2d_6 (Conv2D)           (None, 8, 8, 256)         295168    \n",
      "                                                                 \n",
      " conv2d_7 (Conv2D)           (None, 8, 8, 256)         590080    \n",
      "                                                                 \n",
      " conv2d_8 (Conv2D)           (None, 8, 8, 256)         590080    \n",
      "                                                                 \n",
      " max_pooling2d_2 (MaxPooling  (None, 4, 4, 256)        0         \n",
      " 2D)                                                             \n",
      "                                                                 \n",
      " conv2d_9 (Conv2D)           (None, 4, 4, 512)         1180160   \n",
      "                                                                 \n",
      " conv2d_10 (Conv2D)          (None, 4, 4, 512)         2359808   \n",
      "                                                                 \n",
      " conv2d_11 (Conv2D)          (None, 4, 4, 512)         2359808   \n",
      "                                                                 \n",
      " max_pooling2d_3 (MaxPooling  (None, 2, 2, 512)        0         \n",
      " 2D)                                                             \n",
      "                                                                 \n",
      " flatten (Flatten)           (None, 2048)              0         \n",
      "                                                                 \n",
      " dense (Dense)               (None, 512)               1049088   \n",
      "                                                                 \n",
      " dense_1 (Dense)             (None, 10)                5130      \n",
      "                                                                 \n",
      "=================================================================\n",
      "Total params: 8,873,994\n",
      "Trainable params: 8,873,994\n",
      "Non-trainable params: 0\n",
      "_________________________________________________________________\n",
      "Epoch 1/50\n"
     ]
    },
    {
     "name": "stderr",
     "output_type": "stream",
     "text": [
      "2022-01-26 14:33:09.311140: I tensorflow/stream_executor/cuda/cuda_dnn.cc:366] Loaded cuDNN version 8201\n",
      "2022-01-26 14:33:11.084801: I tensorflow/stream_executor/cuda/cuda_blas.cc:1774] TensorFloat-32 will be used for the matrix multiplication. This will only be logged once.\n"
     ]
    },
    {
     "name": "stdout",
     "output_type": "stream",
     "text": [
      "196/196 [==============================] - 13s 46ms/step - loss: 1.9286 - accuracy: 0.2846 - val_loss: 1.5349 - val_accuracy: 0.4253\n",
      "Epoch 2/50\n",
      "196/196 [==============================] - 8s 42ms/step - loss: 1.3415 - accuracy: 0.5064 - val_loss: 1.2095 - val_accuracy: 0.5707\n",
      "Epoch 3/50\n",
      "196/196 [==============================] - 8s 42ms/step - loss: 1.0540 - accuracy: 0.6194 - val_loss: 1.0642 - val_accuracy: 0.6213\n",
      "Epoch 4/50\n",
      "196/196 [==============================] - 8s 42ms/step - loss: 0.8591 - accuracy: 0.6957 - val_loss: 0.9154 - val_accuracy: 0.6789\n",
      "Epoch 5/50\n",
      "196/196 [==============================] - 8s 42ms/step - loss: 0.7140 - accuracy: 0.7502 - val_loss: 0.8371 - val_accuracy: 0.7171\n",
      "Epoch 6/50\n",
      "196/196 [==============================] - 8s 42ms/step - loss: 0.5846 - accuracy: 0.7952 - val_loss: 0.7287 - val_accuracy: 0.7537\n",
      "Epoch 7/50\n",
      "196/196 [==============================] - 8s 42ms/step - loss: 0.4831 - accuracy: 0.8303 - val_loss: 0.6982 - val_accuracy: 0.7629\n",
      "Epoch 8/50\n",
      "196/196 [==============================] - 8s 42ms/step - loss: 0.3938 - accuracy: 0.8610 - val_loss: 0.7554 - val_accuracy: 0.7681\n",
      "Epoch 9/50\n",
      "196/196 [==============================] - 8s 42ms/step - loss: 0.3189 - accuracy: 0.8883 - val_loss: 0.7845 - val_accuracy: 0.7686\n",
      "Epoch 10/50\n",
      "196/196 [==============================] - 8s 42ms/step - loss: 0.2637 - accuracy: 0.9074 - val_loss: 0.7689 - val_accuracy: 0.7676\n",
      "Epoch 11/50\n",
      "196/196 [==============================] - 8s 42ms/step - loss: 0.2243 - accuracy: 0.9227 - val_loss: 0.8539 - val_accuracy: 0.7613\n",
      "Epoch 12/50\n",
      "196/196 [==============================] - 8s 42ms/step - loss: 0.1751 - accuracy: 0.9374 - val_loss: 0.9471 - val_accuracy: 0.7660\n",
      "Epoch 13/50\n",
      "196/196 [==============================] - 8s 42ms/step - loss: 0.1543 - accuracy: 0.9467 - val_loss: 0.8550 - val_accuracy: 0.7801\n",
      "Epoch 14/50\n",
      "196/196 [==============================] - 8s 42ms/step - loss: 0.1345 - accuracy: 0.9538 - val_loss: 0.9815 - val_accuracy: 0.7780\n",
      "Epoch 15/50\n",
      "196/196 [==============================] - 8s 42ms/step - loss: 0.1231 - accuracy: 0.9586 - val_loss: 1.0459 - val_accuracy: 0.7680\n",
      "Epoch 16/50\n",
      "196/196 [==============================] - 8s 42ms/step - loss: 0.1175 - accuracy: 0.9614 - val_loss: 0.9487 - val_accuracy: 0.7704\n",
      "Epoch 17/50\n",
      "196/196 [==============================] - 8s 42ms/step - loss: 0.1015 - accuracy: 0.9662 - val_loss: 1.0674 - val_accuracy: 0.7818\n",
      "Epoch 18/50\n",
      "196/196 [==============================] - 8s 42ms/step - loss: 0.0933 - accuracy: 0.9677 - val_loss: 1.0888 - val_accuracy: 0.7724\n",
      "Epoch 19/50\n",
      "196/196 [==============================] - 8s 42ms/step - loss: 0.0860 - accuracy: 0.9718 - val_loss: 1.1353 - val_accuracy: 0.7727\n",
      "Epoch 20/50\n",
      "196/196 [==============================] - 8s 42ms/step - loss: 0.0876 - accuracy: 0.9704 - val_loss: 1.2295 - val_accuracy: 0.7712\n",
      "Epoch 21/50\n",
      "196/196 [==============================] - 8s 42ms/step - loss: 0.0823 - accuracy: 0.9723 - val_loss: 1.1936 - val_accuracy: 0.7650\n",
      "Epoch 22/50\n",
      "196/196 [==============================] - 8s 42ms/step - loss: 0.0766 - accuracy: 0.9753 - val_loss: 1.2232 - val_accuracy: 0.7701\n",
      "Epoch 23/50\n",
      "196/196 [==============================] - 8s 42ms/step - loss: 0.0860 - accuracy: 0.9718 - val_loss: 1.1584 - val_accuracy: 0.7729\n",
      "Epoch 24/50\n",
      "196/196 [==============================] - 8s 42ms/step - loss: 0.0745 - accuracy: 0.9757 - val_loss: 1.2132 - val_accuracy: 0.7774\n",
      "Epoch 25/50\n",
      "196/196 [==============================] - 8s 42ms/step - loss: 0.0766 - accuracy: 0.9755 - val_loss: 1.0536 - val_accuracy: 0.7742\n",
      "Epoch 26/50\n",
      "196/196 [==============================] - 8s 42ms/step - loss: 0.0665 - accuracy: 0.9782 - val_loss: 1.1061 - val_accuracy: 0.7866\n",
      "Epoch 27/50\n",
      "196/196 [==============================] - 8s 42ms/step - loss: 0.0708 - accuracy: 0.9770 - val_loss: 1.1725 - val_accuracy: 0.7742\n",
      "Epoch 28/50\n",
      "196/196 [==============================] - 8s 42ms/step - loss: 0.0595 - accuracy: 0.9808 - val_loss: 1.3794 - val_accuracy: 0.7807\n",
      "Epoch 29/50\n",
      "196/196 [==============================] - 8s 42ms/step - loss: 0.0655 - accuracy: 0.9786 - val_loss: 1.2323 - val_accuracy: 0.7722\n",
      "Epoch 30/50\n",
      "196/196 [==============================] - 8s 42ms/step - loss: 0.0658 - accuracy: 0.9785 - val_loss: 1.2710 - val_accuracy: 0.7900\n",
      "Epoch 31/50\n",
      "196/196 [==============================] - 8s 42ms/step - loss: 0.0794 - accuracy: 0.9739 - val_loss: 1.3622 - val_accuracy: 0.7777\n",
      "Epoch 32/50\n",
      "196/196 [==============================] - 8s 42ms/step - loss: 0.0623 - accuracy: 0.9798 - val_loss: 1.2634 - val_accuracy: 0.7794\n",
      "Epoch 33/50\n",
      "196/196 [==============================] - 8s 42ms/step - loss: 0.0625 - accuracy: 0.9801 - val_loss: 1.1762 - val_accuracy: 0.7726\n",
      "Epoch 34/50\n",
      "196/196 [==============================] - 8s 42ms/step - loss: 0.0623 - accuracy: 0.9795 - val_loss: 1.3337 - val_accuracy: 0.7816\n",
      "Epoch 35/50\n",
      "196/196 [==============================] - 8s 42ms/step - loss: 0.0720 - accuracy: 0.9772 - val_loss: 1.3273 - val_accuracy: 0.7740\n",
      "Epoch 36/50\n",
      "196/196 [==============================] - 8s 42ms/step - loss: 0.0646 - accuracy: 0.9795 - val_loss: 1.2247 - val_accuracy: 0.7838\n",
      "Epoch 37/50\n",
      "196/196 [==============================] - 8s 43ms/step - loss: 0.0587 - accuracy: 0.9816 - val_loss: 1.2928 - val_accuracy: 0.7790\n",
      "Epoch 38/50\n",
      "196/196 [==============================] - 8s 43ms/step - loss: 0.0604 - accuracy: 0.9818 - val_loss: 1.4168 - val_accuracy: 0.7769\n",
      "Epoch 39/50\n",
      "196/196 [==============================] - 8s 41ms/step - loss: 0.0642 - accuracy: 0.9802 - val_loss: 1.3143 - val_accuracy: 0.7864\n",
      "Epoch 40/50\n",
      "196/196 [==============================] - 8s 41ms/step - loss: 0.0477 - accuracy: 0.9851 - val_loss: 1.5703 - val_accuracy: 0.7759\n",
      "Epoch 41/50\n",
      "196/196 [==============================] - 8s 41ms/step - loss: 0.0609 - accuracy: 0.9800 - val_loss: 1.4812 - val_accuracy: 0.7824\n",
      "Epoch 42/50\n",
      "196/196 [==============================] - 8s 41ms/step - loss: 0.0630 - accuracy: 0.9797 - val_loss: 1.5283 - val_accuracy: 0.7723\n",
      "Epoch 43/50\n",
      "196/196 [==============================] - 8s 42ms/step - loss: 0.0615 - accuracy: 0.9815 - val_loss: 1.3825 - val_accuracy: 0.7856\n",
      "Epoch 44/50\n",
      "196/196 [==============================] - 8s 42ms/step - loss: 0.0513 - accuracy: 0.9844 - val_loss: 1.6321 - val_accuracy: 0.7864\n",
      "Epoch 45/50\n",
      "196/196 [==============================] - 8s 42ms/step - loss: 0.0513 - accuracy: 0.9844 - val_loss: 1.4024 - val_accuracy: 0.7823\n",
      "Epoch 46/50\n",
      "196/196 [==============================] - 8s 42ms/step - loss: 0.0537 - accuracy: 0.9830 - val_loss: 1.3685 - val_accuracy: 0.7769\n",
      "Epoch 47/50\n",
      "196/196 [==============================] - 8s 42ms/step - loss: 0.0646 - accuracy: 0.9804 - val_loss: 1.3027 - val_accuracy: 0.7813\n",
      "Epoch 48/50\n",
      "196/196 [==============================] - 8s 42ms/step - loss: 0.0547 - accuracy: 0.9837 - val_loss: 1.3092 - val_accuracy: 0.7770\n",
      "Epoch 49/50\n",
      "196/196 [==============================] - 8s 42ms/step - loss: 0.0679 - accuracy: 0.9792 - val_loss: 1.3089 - val_accuracy: 0.7800\n",
      "Epoch 50/50\n",
      "196/196 [==============================] - 8s 42ms/step - loss: 0.0546 - accuracy: 0.9830 - val_loss: 1.2759 - val_accuracy: 0.7843\n"
     ]
    }
   ],
   "source": [
    "# Stronger initializer\n",
    "\n",
    "import numpy as np\n",
    "import tensorflow as tf\n",
    "import tensorflow.keras as keras\n",
    "\n",
    "# data preparation\n",
    "cifar10 = tf.keras.datasets.cifar10\n",
    "(x_train, y_train),(x_test, y_test) = cifar10.load_data()\n",
    "\n",
    "# normalize\n",
    "x_train, x_test = x_train / 255.0, x_test / 255.0\n",
    "\n",
    "# model\n",
    "model = keras.models.Sequential()\n",
    "model.add(tf.keras.Input(shape=(32, 32, 3)))\n",
    "\n",
    "initializer = tf.keras.initializers.he_normal()\n",
    "model.add(keras.layers.Conv2D(64, (3, 3), strides=1, padding='same', activation='relu', kernel_initializer=initializer))\n",
    "model.add(keras.layers.Conv2D(64, (3, 3), strides=1, padding='same', activation='relu', kernel_initializer=initializer))\n",
    "model.add(keras.layers.Conv2D(64, (3, 3), strides=1, padding='same', activation='relu', kernel_initializer=initializer))\n",
    "model.add(keras.layers.MaxPooling2D(2))\n",
    "\n",
    "model.add(keras.layers.Conv2D(128, (3, 3), strides=1, padding='same', activation='relu', kernel_initializer=initializer))\n",
    "model.add(keras.layers.Conv2D(128, (3, 3), strides=1, padding='same', activation='relu', kernel_initializer=initializer))\n",
    "model.add(keras.layers.Conv2D(128, (3, 3), strides=1, padding='same', activation='relu', kernel_initializer=initializer))\n",
    "model.add(keras.layers.MaxPooling2D(2))\n",
    "\n",
    "model.add(keras.layers.Conv2D(256, (3, 3), strides=1, padding='same', activation='relu', kernel_initializer=initializer))\n",
    "model.add(keras.layers.Conv2D(256, (3, 3), strides=1, padding='same', activation='relu', kernel_initializer=initializer))\n",
    "model.add(keras.layers.Conv2D(256, (3, 3), strides=1, padding='same', activation='relu', kernel_initializer=initializer))\n",
    "model.add(keras.layers.MaxPooling2D(2))\n",
    "\n",
    "model.add(keras.layers.Conv2D(512, (3, 3), strides=1, padding='same', activation='relu', kernel_initializer=initializer))\n",
    "model.add(keras.layers.Conv2D(512, (3, 3), strides=1, padding='same', activation='relu', kernel_initializer=initializer))\n",
    "model.add(keras.layers.Conv2D(512, (3, 3), strides=1, padding='same', activation='relu', kernel_initializer=initializer))\n",
    "model.add(keras.layers.MaxPooling2D(2))\n",
    "\n",
    "# flatten\n",
    "model.add(keras.layers.Flatten())\n",
    "model.add(keras.layers.Dense(512, activation='relu', kernel_initializer=initializer))\n",
    "model.add(keras.layers.Dense(10, activation='softmax'))\n",
    "model.summary()\n",
    "\n",
    "# training\n",
    "model.compile(optimizer='adam', loss='sparse_categorical_crossentropy', metrics=['accuracy'])\n",
    "history = model.fit(x_train, y_train, batch_size=256, validation_data=(x_test, y_test), epochs=50)"
   ]
  },
  {
   "cell_type": "code",
   "execution_count": null,
   "id": "30af3866",
   "metadata": {},
   "outputs": [],
   "source": []
  },
  {
   "cell_type": "code",
   "execution_count": 2,
   "id": "e3ee832e",
   "metadata": {},
   "outputs": [
    {
     "data": {
      "text/plain": [
       "<matplotlib.legend.Legend at 0x7f5dbc167c70>"
      ]
     },
     "execution_count": 2,
     "metadata": {},
     "output_type": "execute_result"
    },
    {
     "data": {
      "image/png": "[encoded data removed]",
      "text/plain": [
       "<Figure size 432x288 with 1 Axes>"
      ]
     },
     "metadata": {
      "needs_background": "light"
     },
     "output_type": "display_data"
    }
   ],
   "source": [
    "import matplotlib.pyplot as plt\n",
    "\n",
    "plt.plot(history.history['loss'], label = \"train_loss\")\n",
    "plt.plot(history.history['val_loss'], label = \"val_loss\")\n",
    "plt.xlabel('iteration')\n",
    "plt.ylabel('Loss')\n",
    "plt.legend()"
   ]
  },
  {
   "cell_type": "code",
   "execution_count": null,
   "id": "c18bf40e",
   "metadata": {},
   "outputs": [],
   "source": []
  },
  {
   "cell_type": "code",
   "execution_count": 3,
   "id": "065e7143",
   "metadata": {},
   "outputs": [
    {
     "data": {
      "text/plain": [
       "<matplotlib.legend.Legend at 0x7f5dbc0808e0>"
      ]
     },
     "execution_count": 3,
     "metadata": {},
     "output_type": "execute_result"
    },
    {
     "data": {
      "image/png": "[encoded data removed]",
      "text/plain": [
       "<Figure size 432x288 with 1 Axes>"
      ]
     },
     "metadata": {
      "needs_background": "light"
     },
     "output_type": "display_data"
    }
   ],
   "source": [
    "import matplotlib.pyplot as plt\n",
    "\n",
    "plt.plot(history.history['accuracy'], label = \"train_accuracy\")\n",
    "plt.plot(history.history['val_accuracy'], label = \"val_accuracy\")\n",
    "plt.xlabel('iteration')\n",
    "plt.ylabel('Accuracy')\n",
    "plt.legend()"
   ]
  },
  {
   "cell_type": "code",
   "execution_count": null,
   "id": "37dc79e3",
   "metadata": {},
   "outputs": [],
   "source": []
  }
 ],
 "metadata": {
  "kernelspec": {
   "display_name": "Python 3 (ipykernel)",
   "language": "python",
   "name": "python3"
  },
  "language_info": {
   "codemirror_mode": {
    "name": "ipython",
    "version": 3
   },
   "file_extension": ".py",
   "mimetype": "text/x-python",
   "name": "python",
   "nbconvert_exporter": "python",
   "pygments_lexer": "ipython3",
   "version": "3.9.13"
  }
 },
 "nbformat": 4,
 "nbformat_minor": 5
}
