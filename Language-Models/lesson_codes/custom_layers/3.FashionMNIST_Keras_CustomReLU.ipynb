{
 "cells": [
  {
   "cell_type": "code",
   "execution_count": 2,
   "id": "5cc812ca",
   "metadata": {},
   "outputs": [
    {
     "name": "stdout",
     "output_type": "stream",
     "text": [
      "(60000, 784)\n",
      "(60000,)\n",
      "(10000, 784)\n",
      "(10000,)\n"
     ]
    }
   ],
   "source": [
    "# fashion_mnist\n",
    "import tensorflow as tf\n",
    "from tensorflow import keras\n",
    "import numpy as np\n",
    "\n",
    "(x_train, y_train), (x_test, y_test) = keras.datasets.fashion_mnist.load_data()\n",
    "x_train = x_train.astype('float32')\n",
    "x_test  = x_test.astype('float32')\n",
    "\n",
    "x_train = x_train.reshape(60000, -1)\n",
    "x_test  = x_test.reshape(10000, -1)\n",
    "\n",
    "print(x_train.shape)\n",
    "print(y_train.shape)\n",
    "print(x_test.shape)\n",
    "print(y_test.shape)"
   ]
  },
  {
   "cell_type": "code",
   "execution_count": null,
   "id": "bb902098",
   "metadata": {},
   "outputs": [],
   "source": []
  },
  {
   "cell_type": "code",
   "execution_count": 3,
   "id": "6c926c32",
   "metadata": {},
   "outputs": [],
   "source": [
    "# data normalization\n",
    "\n",
    "mean = np.mean(x_train)\n",
    "std  = np.std(x_train)\n",
    "\n",
    "x_train = (x_train-mean)/std\n",
    "x_test  = (x_test-mean)/std"
   ]
  },
  {
   "cell_type": "code",
   "execution_count": null,
   "id": "3d543602",
   "metadata": {},
   "outputs": [],
   "source": []
  },
  {
   "cell_type": "code",
   "execution_count": 5,
   "id": "c0f0dbc8",
   "metadata": {},
   "outputs": [],
   "source": [
    "class MyActivationLayer(tf.keras.layers.Layer):\n",
    "    def __init__(self):\n",
    "        super(MyActivationLayer, self).__init__()\n",
    "\n",
    "    def call(self, inputs):\n",
    "        return tf.maximum(inputs, 0)"
   ]
  },
  {
   "cell_type": "code",
   "execution_count": null,
   "id": "ec933269",
   "metadata": {},
   "outputs": [],
   "source": []
  },
  {
   "cell_type": "code",
   "execution_count": 6,
   "id": "c460ca13",
   "metadata": {},
   "outputs": [
    {
     "name": "stdout",
     "output_type": "stream",
     "text": [
      "Model: \"sequential_1\"\n",
      "_________________________________________________________________\n",
      " Layer (type)                Output Shape              Param #   \n",
      "=================================================================\n",
      " dense_1 (Dense)             (None, 256)               200960    \n",
      "                                                                 \n",
      " my_activation_layer (MyActi  (None, 256)              0         \n",
      " vationLayer)                                                    \n",
      "                                                                 \n",
      " dense_2 (Dense)             (None, 10)                2570      \n",
      "                                                                 \n",
      " softmax (Softmax)           (None, 10)                0         \n",
      "                                                                 \n",
      "=================================================================\n",
      "Total params: 203,530\n",
      "Trainable params: 203,530\n",
      "Non-trainable params: 0\n",
      "_________________________________________________________________\n"
     ]
    }
   ],
   "source": [
    "import tensorflow as tf\n",
    "import tensorflow.keras as keras\n",
    "\n",
    "# create model\n",
    "model = keras.Sequential()\n",
    "model.add(keras.Input(shape=(784,)))\n",
    "model.add(keras.layers.Dense(256))\n",
    "model.add(MyActivationLayer())\n",
    "model.add(keras.layers.Dense(10))\n",
    "model.add(tf.keras.layers.Softmax())\n",
    "model.summary()"
   ]
  },
  {
   "cell_type": "code",
   "execution_count": null,
   "id": "7b2c2e17",
   "metadata": {},
   "outputs": [],
   "source": []
  },
  {
   "cell_type": "code",
   "execution_count": 7,
   "id": "a6539113",
   "metadata": {},
   "outputs": [
    {
     "name": "stdout",
     "output_type": "stream",
     "text": [
      "Epoch 1/100\n",
      "235/235 - 2s - loss: 0.7923 - sparse_categorical_accuracy: 0.7332 - val_loss: 0.6059 - val_sparse_categorical_accuracy: 0.7889 - 2s/epoch - 7ms/step\n",
      "Epoch 2/100\n",
      "235/235 - 1s - loss: 0.5442 - sparse_categorical_accuracy: 0.8118 - val_loss: 0.5372 - val_sparse_categorical_accuracy: 0.8117 - 1s/epoch - 5ms/step\n",
      "Epoch 3/100\n",
      "235/235 - 1s - loss: 0.4912 - sparse_categorical_accuracy: 0.8299 - val_loss: 0.5077 - val_sparse_categorical_accuracy: 0.8209 - 1s/epoch - 5ms/step\n",
      "Epoch 4/100\n",
      "235/235 - 1s - loss: 0.4618 - sparse_categorical_accuracy: 0.8392 - val_loss: 0.4809 - val_sparse_categorical_accuracy: 0.8311 - 1s/epoch - 5ms/step\n",
      "Epoch 5/100\n",
      "235/235 - 1s - loss: 0.4418 - sparse_categorical_accuracy: 0.8453 - val_loss: 0.4664 - val_sparse_categorical_accuracy: 0.8363 - 1s/epoch - 5ms/step\n",
      "Epoch 6/100\n",
      "235/235 - 1s - loss: 0.4269 - sparse_categorical_accuracy: 0.8506 - val_loss: 0.4550 - val_sparse_categorical_accuracy: 0.8386 - 1s/epoch - 5ms/step\n",
      "Epoch 7/100\n",
      "235/235 - 1s - loss: 0.4147 - sparse_categorical_accuracy: 0.8550 - val_loss: 0.4455 - val_sparse_categorical_accuracy: 0.8428 - 1s/epoch - 5ms/step\n",
      "Epoch 8/100\n",
      "235/235 - 1s - loss: 0.4051 - sparse_categorical_accuracy: 0.8582 - val_loss: 0.4416 - val_sparse_categorical_accuracy: 0.8450 - 1s/epoch - 5ms/step\n",
      "Epoch 9/100\n",
      "235/235 - 1s - loss: 0.3966 - sparse_categorical_accuracy: 0.8617 - val_loss: 0.4330 - val_sparse_categorical_accuracy: 0.8456 - 1s/epoch - 5ms/step\n",
      "Epoch 10/100\n",
      "235/235 - 1s - loss: 0.3895 - sparse_categorical_accuracy: 0.8628 - val_loss: 0.4284 - val_sparse_categorical_accuracy: 0.8493 - 1s/epoch - 5ms/step\n",
      "Epoch 11/100\n",
      "235/235 - 1s - loss: 0.3833 - sparse_categorical_accuracy: 0.8649 - val_loss: 0.4223 - val_sparse_categorical_accuracy: 0.8510 - 1s/epoch - 5ms/step\n",
      "Epoch 12/100\n",
      "235/235 - 1s - loss: 0.3772 - sparse_categorical_accuracy: 0.8674 - val_loss: 0.4174 - val_sparse_categorical_accuracy: 0.8499 - 1s/epoch - 5ms/step\n",
      "Epoch 13/100\n",
      "235/235 - 1s - loss: 0.3717 - sparse_categorical_accuracy: 0.8697 - val_loss: 0.4140 - val_sparse_categorical_accuracy: 0.8534 - 1s/epoch - 5ms/step\n",
      "Epoch 14/100\n",
      "235/235 - 1s - loss: 0.3668 - sparse_categorical_accuracy: 0.8706 - val_loss: 0.4141 - val_sparse_categorical_accuracy: 0.8515 - 1s/epoch - 5ms/step\n",
      "Epoch 15/100\n",
      "235/235 - 1s - loss: 0.3620 - sparse_categorical_accuracy: 0.8729 - val_loss: 0.4054 - val_sparse_categorical_accuracy: 0.8571 - 1s/epoch - 5ms/step\n",
      "Epoch 16/100\n",
      "235/235 - 1s - loss: 0.3577 - sparse_categorical_accuracy: 0.8736 - val_loss: 0.4039 - val_sparse_categorical_accuracy: 0.8557 - 1s/epoch - 5ms/step\n",
      "Epoch 17/100\n",
      "235/235 - 1s - loss: 0.3539 - sparse_categorical_accuracy: 0.8749 - val_loss: 0.4005 - val_sparse_categorical_accuracy: 0.8574 - 1s/epoch - 5ms/step\n",
      "Epoch 18/100\n",
      "235/235 - 1s - loss: 0.3497 - sparse_categorical_accuracy: 0.8767 - val_loss: 0.4007 - val_sparse_categorical_accuracy: 0.8577 - 1s/epoch - 5ms/step\n",
      "Epoch 19/100\n",
      "235/235 - 1s - loss: 0.3460 - sparse_categorical_accuracy: 0.8778 - val_loss: 0.4018 - val_sparse_categorical_accuracy: 0.8557 - 1s/epoch - 5ms/step\n",
      "Epoch 20/100\n",
      "235/235 - 1s - loss: 0.3429 - sparse_categorical_accuracy: 0.8788 - val_loss: 0.3936 - val_sparse_categorical_accuracy: 0.8595 - 1s/epoch - 5ms/step\n",
      "Epoch 21/100\n",
      "235/235 - 1s - loss: 0.3396 - sparse_categorical_accuracy: 0.8800 - val_loss: 0.3909 - val_sparse_categorical_accuracy: 0.8628 - 1s/epoch - 5ms/step\n",
      "Epoch 22/100\n",
      "235/235 - 1s - loss: 0.3362 - sparse_categorical_accuracy: 0.8814 - val_loss: 0.3939 - val_sparse_categorical_accuracy: 0.8607 - 1s/epoch - 5ms/step\n",
      "Epoch 23/100\n",
      "235/235 - 1s - loss: 0.3335 - sparse_categorical_accuracy: 0.8822 - val_loss: 0.3881 - val_sparse_categorical_accuracy: 0.8609 - 1s/epoch - 5ms/step\n",
      "Epoch 24/100\n",
      "235/235 - 1s - loss: 0.3301 - sparse_categorical_accuracy: 0.8836 - val_loss: 0.3853 - val_sparse_categorical_accuracy: 0.8631 - 1s/epoch - 5ms/step\n",
      "Epoch 25/100\n",
      "235/235 - 1s - loss: 0.3279 - sparse_categorical_accuracy: 0.8848 - val_loss: 0.3821 - val_sparse_categorical_accuracy: 0.8645 - 1s/epoch - 5ms/step\n",
      "Epoch 26/100\n",
      "235/235 - 1s - loss: 0.3249 - sparse_categorical_accuracy: 0.8857 - val_loss: 0.3815 - val_sparse_categorical_accuracy: 0.8655 - 1s/epoch - 5ms/step\n",
      "Epoch 27/100\n",
      "235/235 - 1s - loss: 0.3226 - sparse_categorical_accuracy: 0.8872 - val_loss: 0.3968 - val_sparse_categorical_accuracy: 0.8580 - 1s/epoch - 5ms/step\n",
      "Epoch 28/100\n",
      "235/235 - 1s - loss: 0.3201 - sparse_categorical_accuracy: 0.8872 - val_loss: 0.3775 - val_sparse_categorical_accuracy: 0.8661 - 1s/epoch - 5ms/step\n",
      "Epoch 29/100\n",
      "235/235 - 1s - loss: 0.3174 - sparse_categorical_accuracy: 0.8882 - val_loss: 0.3793 - val_sparse_categorical_accuracy: 0.8639 - 1s/epoch - 5ms/step\n",
      "Epoch 30/100\n",
      "235/235 - 1s - loss: 0.3152 - sparse_categorical_accuracy: 0.8893 - val_loss: 0.3815 - val_sparse_categorical_accuracy: 0.8621 - 1s/epoch - 5ms/step\n",
      "Epoch 31/100\n",
      "235/235 - 1s - loss: 0.3129 - sparse_categorical_accuracy: 0.8896 - val_loss: 0.3789 - val_sparse_categorical_accuracy: 0.8627 - 1s/epoch - 5ms/step\n",
      "Epoch 32/100\n",
      "235/235 - 1s - loss: 0.3108 - sparse_categorical_accuracy: 0.8906 - val_loss: 0.3713 - val_sparse_categorical_accuracy: 0.8691 - 1s/epoch - 5ms/step\n",
      "Epoch 33/100\n",
      "235/235 - 1s - loss: 0.3085 - sparse_categorical_accuracy: 0.8912 - val_loss: 0.3723 - val_sparse_categorical_accuracy: 0.8668 - 1s/epoch - 5ms/step\n",
      "Epoch 34/100\n",
      "235/235 - 1s - loss: 0.3064 - sparse_categorical_accuracy: 0.8919 - val_loss: 0.3708 - val_sparse_categorical_accuracy: 0.8685 - 1s/epoch - 5ms/step\n",
      "Epoch 35/100\n",
      "235/235 - 1s - loss: 0.3049 - sparse_categorical_accuracy: 0.8920 - val_loss: 0.3698 - val_sparse_categorical_accuracy: 0.8695 - 1s/epoch - 5ms/step\n",
      "Epoch 36/100\n",
      "235/235 - 1s - loss: 0.3026 - sparse_categorical_accuracy: 0.8932 - val_loss: 0.3677 - val_sparse_categorical_accuracy: 0.8688 - 1s/epoch - 5ms/step\n",
      "Epoch 37/100\n",
      "235/235 - 1s - loss: 0.3002 - sparse_categorical_accuracy: 0.8935 - val_loss: 0.3741 - val_sparse_categorical_accuracy: 0.8671 - 1s/epoch - 5ms/step\n",
      "Epoch 38/100\n",
      "235/235 - 1s - loss: 0.2986 - sparse_categorical_accuracy: 0.8949 - val_loss: 0.3687 - val_sparse_categorical_accuracy: 0.8658 - 1s/epoch - 5ms/step\n",
      "Epoch 39/100\n",
      "235/235 - 1s - loss: 0.2968 - sparse_categorical_accuracy: 0.8950 - val_loss: 0.3641 - val_sparse_categorical_accuracy: 0.8700 - 1s/epoch - 5ms/step\n",
      "Epoch 40/100\n",
      "235/235 - 1s - loss: 0.2950 - sparse_categorical_accuracy: 0.8956 - val_loss: 0.3669 - val_sparse_categorical_accuracy: 0.8681 - 1s/epoch - 5ms/step\n",
      "Epoch 41/100\n",
      "235/235 - 1s - loss: 0.2934 - sparse_categorical_accuracy: 0.8964 - val_loss: 0.3648 - val_sparse_categorical_accuracy: 0.8713 - 1s/epoch - 5ms/step\n",
      "Epoch 42/100\n",
      "235/235 - 1s - loss: 0.2916 - sparse_categorical_accuracy: 0.8974 - val_loss: 0.3641 - val_sparse_categorical_accuracy: 0.8692 - 1s/epoch - 5ms/step\n",
      "Epoch 43/100\n",
      "235/235 - 1s - loss: 0.2900 - sparse_categorical_accuracy: 0.8973 - val_loss: 0.3597 - val_sparse_categorical_accuracy: 0.8701 - 1s/epoch - 5ms/step\n",
      "Epoch 44/100\n",
      "235/235 - 1s - loss: 0.2882 - sparse_categorical_accuracy: 0.8982 - val_loss: 0.3588 - val_sparse_categorical_accuracy: 0.8709 - 1s/epoch - 5ms/step\n",
      "Epoch 45/100\n",
      "235/235 - 1s - loss: 0.2864 - sparse_categorical_accuracy: 0.8991 - val_loss: 0.3613 - val_sparse_categorical_accuracy: 0.8702 - 1s/epoch - 5ms/step\n",
      "Epoch 46/100\n",
      "235/235 - 1s - loss: 0.2849 - sparse_categorical_accuracy: 0.8991 - val_loss: 0.3636 - val_sparse_categorical_accuracy: 0.8708 - 1s/epoch - 5ms/step\n",
      "Epoch 47/100\n",
      "235/235 - 1s - loss: 0.2835 - sparse_categorical_accuracy: 0.9007 - val_loss: 0.3582 - val_sparse_categorical_accuracy: 0.8716 - 1s/epoch - 5ms/step\n",
      "Epoch 48/100\n",
      "235/235 - 1s - loss: 0.2820 - sparse_categorical_accuracy: 0.9008 - val_loss: 0.3665 - val_sparse_categorical_accuracy: 0.8691 - 1s/epoch - 5ms/step\n",
      "Epoch 49/100\n",
      "235/235 - 1s - loss: 0.2803 - sparse_categorical_accuracy: 0.9017 - val_loss: 0.3570 - val_sparse_categorical_accuracy: 0.8693 - 1s/epoch - 5ms/step\n",
      "Epoch 50/100\n",
      "235/235 - 1s - loss: 0.2786 - sparse_categorical_accuracy: 0.9015 - val_loss: 0.3568 - val_sparse_categorical_accuracy: 0.8725 - 1s/epoch - 5ms/step\n",
      "Epoch 51/100\n",
      "235/235 - 1s - loss: 0.2772 - sparse_categorical_accuracy: 0.9020 - val_loss: 0.3541 - val_sparse_categorical_accuracy: 0.8731 - 1s/epoch - 5ms/step\n"
     ]
    },
    {
     "name": "stdout",
     "output_type": "stream",
     "text": [
      "Epoch 52/100\n",
      "235/235 - 1s - loss: 0.2756 - sparse_categorical_accuracy: 0.9030 - val_loss: 0.3538 - val_sparse_categorical_accuracy: 0.8734 - 1s/epoch - 5ms/step\n",
      "Epoch 53/100\n",
      "235/235 - 1s - loss: 0.2743 - sparse_categorical_accuracy: 0.9035 - val_loss: 0.3534 - val_sparse_categorical_accuracy: 0.8717 - 1s/epoch - 5ms/step\n",
      "Epoch 54/100\n",
      "235/235 - 1s - loss: 0.2732 - sparse_categorical_accuracy: 0.9033 - val_loss: 0.3566 - val_sparse_categorical_accuracy: 0.8708 - 1s/epoch - 5ms/step\n",
      "Epoch 55/100\n",
      "235/235 - 1s - loss: 0.2718 - sparse_categorical_accuracy: 0.9042 - val_loss: 0.3525 - val_sparse_categorical_accuracy: 0.8734 - 1s/epoch - 5ms/step\n",
      "Epoch 56/100\n",
      "235/235 - 1s - loss: 0.2702 - sparse_categorical_accuracy: 0.9047 - val_loss: 0.3501 - val_sparse_categorical_accuracy: 0.8756 - 1s/epoch - 5ms/step\n",
      "Epoch 57/100\n",
      "235/235 - 1s - loss: 0.2686 - sparse_categorical_accuracy: 0.9054 - val_loss: 0.3501 - val_sparse_categorical_accuracy: 0.8746 - 1s/epoch - 5ms/step\n",
      "Epoch 58/100\n",
      "235/235 - 1s - loss: 0.2673 - sparse_categorical_accuracy: 0.9050 - val_loss: 0.3564 - val_sparse_categorical_accuracy: 0.8706 - 1s/epoch - 5ms/step\n",
      "Epoch 59/100\n",
      "235/235 - 1s - loss: 0.2663 - sparse_categorical_accuracy: 0.9061 - val_loss: 0.3483 - val_sparse_categorical_accuracy: 0.8759 - 1s/epoch - 5ms/step\n",
      "Epoch 60/100\n",
      "235/235 - 1s - loss: 0.2650 - sparse_categorical_accuracy: 0.9072 - val_loss: 0.3482 - val_sparse_categorical_accuracy: 0.8758 - 1s/epoch - 5ms/step\n",
      "Epoch 61/100\n",
      "235/235 - 1s - loss: 0.2635 - sparse_categorical_accuracy: 0.9070 - val_loss: 0.3476 - val_sparse_categorical_accuracy: 0.8753 - 1s/epoch - 5ms/step\n",
      "Epoch 62/100\n",
      "235/235 - 1s - loss: 0.2623 - sparse_categorical_accuracy: 0.9077 - val_loss: 0.3472 - val_sparse_categorical_accuracy: 0.8754 - 1s/epoch - 5ms/step\n",
      "Epoch 63/100\n",
      "235/235 - 1s - loss: 0.2611 - sparse_categorical_accuracy: 0.9079 - val_loss: 0.3471 - val_sparse_categorical_accuracy: 0.8766 - 1s/epoch - 5ms/step\n",
      "Epoch 64/100\n",
      "235/235 - 1s - loss: 0.2599 - sparse_categorical_accuracy: 0.9089 - val_loss: 0.3478 - val_sparse_categorical_accuracy: 0.8764 - 1s/epoch - 5ms/step\n",
      "Epoch 65/100\n",
      "235/235 - 1s - loss: 0.2588 - sparse_categorical_accuracy: 0.9083 - val_loss: 0.3463 - val_sparse_categorical_accuracy: 0.8765 - 1s/epoch - 5ms/step\n",
      "Epoch 66/100\n",
      "235/235 - 1s - loss: 0.2575 - sparse_categorical_accuracy: 0.9096 - val_loss: 0.3445 - val_sparse_categorical_accuracy: 0.8775 - 1s/epoch - 5ms/step\n",
      "Epoch 67/100\n",
      "235/235 - 1s - loss: 0.2564 - sparse_categorical_accuracy: 0.9094 - val_loss: 0.3479 - val_sparse_categorical_accuracy: 0.8737 - 1s/epoch - 5ms/step\n",
      "Epoch 68/100\n",
      "235/235 - 1s - loss: 0.2546 - sparse_categorical_accuracy: 0.9111 - val_loss: 0.3449 - val_sparse_categorical_accuracy: 0.8762 - 1s/epoch - 5ms/step\n",
      "Epoch 69/100\n",
      "235/235 - 1s - loss: 0.2537 - sparse_categorical_accuracy: 0.9107 - val_loss: 0.3475 - val_sparse_categorical_accuracy: 0.8767 - 1s/epoch - 5ms/step\n",
      "Epoch 70/100\n",
      "235/235 - 1s - loss: 0.2526 - sparse_categorical_accuracy: 0.9110 - val_loss: 0.3470 - val_sparse_categorical_accuracy: 0.8746 - 1s/epoch - 5ms/step\n",
      "Epoch 71/100\n",
      "235/235 - 1s - loss: 0.2515 - sparse_categorical_accuracy: 0.9118 - val_loss: 0.3425 - val_sparse_categorical_accuracy: 0.8775 - 1s/epoch - 5ms/step\n",
      "Epoch 72/100\n",
      "235/235 - 1s - loss: 0.2504 - sparse_categorical_accuracy: 0.9120 - val_loss: 0.3450 - val_sparse_categorical_accuracy: 0.8778 - 1s/epoch - 5ms/step\n",
      "Epoch 73/100\n",
      "235/235 - 1s - loss: 0.2492 - sparse_categorical_accuracy: 0.9120 - val_loss: 0.3414 - val_sparse_categorical_accuracy: 0.8759 - 1s/epoch - 5ms/step\n",
      "Epoch 74/100\n",
      "235/235 - 1s - loss: 0.2480 - sparse_categorical_accuracy: 0.9129 - val_loss: 0.3397 - val_sparse_categorical_accuracy: 0.8790 - 1s/epoch - 5ms/step\n",
      "Epoch 75/100\n",
      "235/235 - 1s - loss: 0.2469 - sparse_categorical_accuracy: 0.9132 - val_loss: 0.3419 - val_sparse_categorical_accuracy: 0.8777 - 1s/epoch - 5ms/step\n",
      "Epoch 76/100\n",
      "235/235 - 1s - loss: 0.2459 - sparse_categorical_accuracy: 0.9123 - val_loss: 0.3460 - val_sparse_categorical_accuracy: 0.8737 - 1s/epoch - 5ms/step\n",
      "Epoch 77/100\n",
      "235/235 - 1s - loss: 0.2449 - sparse_categorical_accuracy: 0.9139 - val_loss: 0.3396 - val_sparse_categorical_accuracy: 0.8789 - 1s/epoch - 5ms/step\n",
      "Epoch 78/100\n",
      "235/235 - 1s - loss: 0.2438 - sparse_categorical_accuracy: 0.9149 - val_loss: 0.3426 - val_sparse_categorical_accuracy: 0.8783 - 1s/epoch - 5ms/step\n",
      "Epoch 79/100\n",
      "235/235 - 1s - loss: 0.2427 - sparse_categorical_accuracy: 0.9144 - val_loss: 0.3400 - val_sparse_categorical_accuracy: 0.8803 - 1s/epoch - 5ms/step\n",
      "Epoch 80/100\n",
      "235/235 - 1s - loss: 0.2414 - sparse_categorical_accuracy: 0.9150 - val_loss: 0.3412 - val_sparse_categorical_accuracy: 0.8778 - 1s/epoch - 5ms/step\n",
      "Epoch 81/100\n",
      "235/235 - 1s - loss: 0.2406 - sparse_categorical_accuracy: 0.9160 - val_loss: 0.3382 - val_sparse_categorical_accuracy: 0.8804 - 1s/epoch - 5ms/step\n",
      "Epoch 82/100\n",
      "235/235 - 1s - loss: 0.2397 - sparse_categorical_accuracy: 0.9155 - val_loss: 0.3378 - val_sparse_categorical_accuracy: 0.8788 - 1s/epoch - 5ms/step\n",
      "Epoch 83/100\n",
      "235/235 - 1s - loss: 0.2383 - sparse_categorical_accuracy: 0.9167 - val_loss: 0.3410 - val_sparse_categorical_accuracy: 0.8778 - 1s/epoch - 5ms/step\n",
      "Epoch 84/100\n",
      "235/235 - 1s - loss: 0.2377 - sparse_categorical_accuracy: 0.9169 - val_loss: 0.3448 - val_sparse_categorical_accuracy: 0.8750 - 1s/epoch - 5ms/step\n",
      "Epoch 85/100\n",
      "235/235 - 1s - loss: 0.2365 - sparse_categorical_accuracy: 0.9172 - val_loss: 0.3365 - val_sparse_categorical_accuracy: 0.8809 - 1s/epoch - 5ms/step\n",
      "Epoch 86/100\n",
      "235/235 - 1s - loss: 0.2355 - sparse_categorical_accuracy: 0.9172 - val_loss: 0.3373 - val_sparse_categorical_accuracy: 0.8809 - 1s/epoch - 5ms/step\n",
      "Epoch 87/100\n",
      "235/235 - 1s - loss: 0.2347 - sparse_categorical_accuracy: 0.9179 - val_loss: 0.3353 - val_sparse_categorical_accuracy: 0.8814 - 1s/epoch - 5ms/step\n",
      "Epoch 88/100\n",
      "235/235 - 1s - loss: 0.2331 - sparse_categorical_accuracy: 0.9185 - val_loss: 0.3429 - val_sparse_categorical_accuracy: 0.8797 - 1s/epoch - 5ms/step\n",
      "Epoch 89/100\n",
      "235/235 - 1s - loss: 0.2321 - sparse_categorical_accuracy: 0.9187 - val_loss: 0.3378 - val_sparse_categorical_accuracy: 0.8800 - 1s/epoch - 5ms/step\n",
      "Epoch 90/100\n",
      "235/235 - 1s - loss: 0.2312 - sparse_categorical_accuracy: 0.9191 - val_loss: 0.3388 - val_sparse_categorical_accuracy: 0.8788 - 1s/epoch - 5ms/step\n",
      "Epoch 91/100\n",
      "235/235 - 1s - loss: 0.2309 - sparse_categorical_accuracy: 0.9196 - val_loss: 0.3384 - val_sparse_categorical_accuracy: 0.8795 - 1s/epoch - 5ms/step\n",
      "Epoch 92/100\n",
      "235/235 - 1s - loss: 0.2291 - sparse_categorical_accuracy: 0.9202 - val_loss: 0.3372 - val_sparse_categorical_accuracy: 0.8817 - 1s/epoch - 5ms/step\n",
      "Epoch 93/100\n",
      "235/235 - 1s - loss: 0.2285 - sparse_categorical_accuracy: 0.9196 - val_loss: 0.3350 - val_sparse_categorical_accuracy: 0.8821 - 1s/epoch - 5ms/step\n",
      "Epoch 94/100\n",
      "235/235 - 1s - loss: 0.2276 - sparse_categorical_accuracy: 0.9201 - val_loss: 0.3334 - val_sparse_categorical_accuracy: 0.8815 - 1s/epoch - 5ms/step\n",
      "Epoch 95/100\n",
      "235/235 - 1s - loss: 0.2267 - sparse_categorical_accuracy: 0.9213 - val_loss: 0.3365 - val_sparse_categorical_accuracy: 0.8812 - 1s/epoch - 5ms/step\n",
      "Epoch 96/100\n",
      "235/235 - 1s - loss: 0.2255 - sparse_categorical_accuracy: 0.9215 - val_loss: 0.3354 - val_sparse_categorical_accuracy: 0.8815 - 1s/epoch - 5ms/step\n",
      "Epoch 97/100\n",
      "235/235 - 1s - loss: 0.2248 - sparse_categorical_accuracy: 0.9212 - val_loss: 0.3357 - val_sparse_categorical_accuracy: 0.8814 - 1s/epoch - 5ms/step\n",
      "Epoch 98/100\n",
      "235/235 - 1s - loss: 0.2241 - sparse_categorical_accuracy: 0.9224 - val_loss: 0.3446 - val_sparse_categorical_accuracy: 0.8794 - 1s/epoch - 5ms/step\n",
      "Epoch 99/100\n",
      "235/235 - 1s - loss: 0.2227 - sparse_categorical_accuracy: 0.9228 - val_loss: 0.3328 - val_sparse_categorical_accuracy: 0.8816 - 1s/epoch - 5ms/step\n",
      "Epoch 100/100\n",
      "235/235 - 1s - loss: 0.2218 - sparse_categorical_accuracy: 0.9229 - val_loss: 0.3342 - val_sparse_categorical_accuracy: 0.8822 - 1s/epoch - 5ms/step\n"
     ]
    }
   ],
   "source": [
    "# optimizer and loss\n",
    "model.compile(optimizer='sgd', \n",
    "              loss='sparse_categorical_crossentropy', \n",
    "              metrics=['sparse_categorical_accuracy'])\n",
    "\n",
    "# training\n",
    "history = model.fit(x_train, y_train, \n",
    "                    validation_data=(x_test, y_test), \n",
    "                    batch_size=256, epochs=100, verbose=2)"
   ]
  },
  {
   "cell_type": "code",
   "execution_count": null,
   "id": "e8930b85",
   "metadata": {},
   "outputs": [],
   "source": []
  },
  {
   "cell_type": "code",
   "execution_count": 8,
   "id": "66f70981",
   "metadata": {},
   "outputs": [
    {
     "data": {
      "text/plain": [
       "<matplotlib.legend.Legend at 0x1a91ee3bf10>"
      ]
     },
     "execution_count": 8,
     "metadata": {},
     "output_type": "execute_result"
    },
    {
     "data": {
      "image/png": "[encoded data removed]",
      "text/plain": [
       "<Figure size 640x480 with 1 Axes>"
      ]
     },
     "metadata": {},
     "output_type": "display_data"
    }
   ],
   "source": [
    "import matplotlib.pyplot as plt\n",
    "\n",
    "plt.plot(history.history['loss'], label='loss')\n",
    "plt.plot(history.history['val_loss'], label='val_loss')\n",
    "plt.xlabel('iteration')\n",
    "plt.ylabel('Loss')\n",
    "plt.legend()"
   ]
  },
  {
   "cell_type": "code",
   "execution_count": null,
   "id": "ccec74e9",
   "metadata": {},
   "outputs": [],
   "source": []
  },
  {
   "cell_type": "code",
   "execution_count": 9,
   "id": "348a761a",
   "metadata": {},
   "outputs": [
    {
     "data": {
      "text/plain": [
       "<matplotlib.legend.Legend at 0x1a91ee879a0>"
      ]
     },
     "execution_count": 9,
     "metadata": {},
     "output_type": "execute_result"
    },
    {
     "data": {
      "image/png": "[encoded data removed]",
      "text/plain": [
       "<Figure size 640x480 with 1 Axes>"
      ]
     },
     "metadata": {},
     "output_type": "display_data"
    }
   ],
   "source": [
    "import matplotlib.pyplot as plt\n",
    "\n",
    "plt.plot(history.history['sparse_categorical_accuracy'], label='train_accuracy')\n",
    "plt.plot(history.history['val_sparse_categorical_accuracy'], label='val_accuracy')\n",
    "plt.xlabel('iteration')\n",
    "plt.ylabel('Accuracy')\n",
    "plt.legend()"
   ]
  },
  {
   "cell_type": "code",
   "execution_count": 12,
   "id": "51d5f69c",
   "metadata": {},
   "outputs": [
    {
     "name": "stdout",
     "output_type": "stream",
     "text": [
      "40/40 [==============================] - 0s 3ms/step - loss: 0.3342 - sparse_categorical_accuracy: 0.8822\n"
     ]
    },
    {
     "data": {
      "text/plain": [
       "[0.33424800634384155, 0.8822000026702881]"
      ]
     },
     "execution_count": 12,
     "metadata": {},
     "output_type": "execute_result"
    }
   ],
   "source": [
    "model.evaluate(x_test, y_test, 256)"
   ]
  },
  {
   "cell_type": "code",
   "execution_count": null,
   "id": "d5a0cabd",
   "metadata": {},
   "outputs": [],
   "source": []
  }
 ],
 "metadata": {
  "kernelspec": {
   "display_name": "Python 3 (ipykernel)",
   "language": "python",
   "name": "python3"
  },
  "language_info": {
   "codemirror_mode": {
    "name": "ipython",
    "version": 3
   },
   "file_extension": ".py",
   "mimetype": "text/x-python",
   "name": "python",
   "nbconvert_exporter": "python",
   "pygments_lexer": "ipython3",
   "version": "3.9.13"
  }
 },
 "nbformat": 4,
 "nbformat_minor": 5
}
