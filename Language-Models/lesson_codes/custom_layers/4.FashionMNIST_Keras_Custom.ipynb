{
 "cells": [
  {
   "cell_type": "code",
   "execution_count": 1,
   "id": "5cc812ca",
   "metadata": {},
   "outputs": [
    {
     "name": "stdout",
     "output_type": "stream",
     "text": [
      "(60000, 784)\n",
      "(60000,)\n",
      "(10000, 784)\n",
      "(10000,)\n"
     ]
    }
   ],
   "source": [
    "# fashion_mnist\n",
    "import tensorflow as tf\n",
    "from tensorflow import keras\n",
    "import numpy as np\n",
    "\n",
    "(x_train, y_train), (x_test, y_test) = keras.datasets.fashion_mnist.load_data()\n",
    "x_train = x_train.astype('float32')\n",
    "x_test  = x_test.astype('float32')\n",
    "\n",
    "x_train = x_train.reshape(60000, -1)\n",
    "x_test  = x_test.reshape(10000, -1)\n",
    "\n",
    "print(x_train.shape)\n",
    "print(y_train.shape)\n",
    "print(x_test.shape)\n",
    "print(y_test.shape)"
   ]
  },
  {
   "cell_type": "code",
   "execution_count": null,
   "id": "bb902098",
   "metadata": {},
   "outputs": [],
   "source": []
  },
  {
   "cell_type": "code",
   "execution_count": 2,
   "id": "6c926c32",
   "metadata": {},
   "outputs": [],
   "source": [
    "# data normalization\n",
    "\n",
    "mean = np.mean(x_train)\n",
    "std  = np.std(x_train)\n",
    "\n",
    "x_train = (x_train-mean)/std\n",
    "x_test  = (x_test-mean)/std"
   ]
  },
  {
   "cell_type": "code",
   "execution_count": null,
   "id": "3d543602",
   "metadata": {},
   "outputs": [],
   "source": []
  },
  {
   "cell_type": "code",
   "execution_count": 3,
   "id": "c0f0dbc8",
   "metadata": {},
   "outputs": [],
   "source": [
    "class MyReluActivation(tf.keras.layers.Layer):\n",
    "    def __init__(self):\n",
    "        super(MyReluActivation, self).__init__()\n",
    "\n",
    "    def call(self, inputs):\n",
    "        return tf.maximum(inputs, 0)"
   ]
  },
  {
   "cell_type": "code",
   "execution_count": null,
   "id": "5056c7dc",
   "metadata": {},
   "outputs": [],
   "source": []
  },
  {
   "cell_type": "code",
   "execution_count": 6,
   "id": "655b9dd6",
   "metadata": {},
   "outputs": [],
   "source": [
    "class MyDenseLayer(tf.keras.layers.Layer):\n",
    "    def __init__(self, num_outputs):\n",
    "        super(MyDenseLayer, self).__init__()\n",
    "        self.num_outputs = num_outputs\n",
    "\n",
    "    def build(self, input_shape):\n",
    "        self.kernel = self.add_weight(\"kernel\",\n",
    "                                      shape=[int(input_shape[-1]), self.num_outputs])\n",
    "        self.bias   = self.add_weight(\"bias\",\n",
    "                                      shape=[self.num_outputs])\n",
    "\n",
    "    def call(self, inputs):\n",
    "        return tf.matmul(inputs, self.kernel) + self.bias"
   ]
  },
  {
   "cell_type": "code",
   "execution_count": null,
   "id": "6cc7631d",
   "metadata": {},
   "outputs": [],
   "source": []
  },
  {
   "cell_type": "code",
   "execution_count": 7,
   "id": "c460ca13",
   "metadata": {},
   "outputs": [
    {
     "name": "stdout",
     "output_type": "stream",
     "text": [
      "Model: \"sequential_1\"\n",
      "_________________________________________________________________\n",
      " Layer (type)                Output Shape              Param #   \n",
      "=================================================================\n",
      " my_dense_layer_2 (MyDenseLa  (None, 256)              200960    \n",
      " yer)                                                            \n",
      "                                                                 \n",
      " my_relu_activation_1 (MyRel  (None, 256)              0         \n",
      " uActivation)                                                    \n",
      "                                                                 \n",
      " my_dense_layer_3 (MyDenseLa  (None, 10)               2570      \n",
      " yer)                                                            \n",
      "                                                                 \n",
      " softmax_1 (Softmax)         (None, 10)                0         \n",
      "                                                                 \n",
      "=================================================================\n",
      "Total params: 203,530\n",
      "Trainable params: 203,530\n",
      "Non-trainable params: 0\n",
      "_________________________________________________________________\n"
     ]
    }
   ],
   "source": [
    "import tensorflow as tf\n",
    "import tensorflow.keras as keras\n",
    "\n",
    "# create model\n",
    "model = keras.Sequential()\n",
    "model.add(keras.Input(shape=(784,)))\n",
    "model.add(MyDenseLayer(256))\n",
    "model.add(MyReluActivation())\n",
    "model.add(MyDenseLayer(10))\n",
    "model.add(tf.keras.layers.Softmax())\n",
    "model.summary()"
   ]
  },
  {
   "cell_type": "code",
   "execution_count": null,
   "id": "7b2c2e17",
   "metadata": {},
   "outputs": [],
   "source": []
  },
  {
   "cell_type": "code",
   "execution_count": 8,
   "id": "a6539113",
   "metadata": {},
   "outputs": [
    {
     "name": "stdout",
     "output_type": "stream",
     "text": [
      "Epoch 1/100\n",
      "235/235 - 2s - loss: 0.8144 - sparse_categorical_accuracy: 0.7247 - val_loss: 0.6208 - val_sparse_categorical_accuracy: 0.7805 - 2s/epoch - 7ms/step\n",
      "Epoch 2/100\n",
      "235/235 - 1s - loss: 0.5475 - sparse_categorical_accuracy: 0.8105 - val_loss: 0.5452 - val_sparse_categorical_accuracy: 0.8085 - 1s/epoch - 5ms/step\n",
      "Epoch 3/100\n",
      "235/235 - 1s - loss: 0.4939 - sparse_categorical_accuracy: 0.8281 - val_loss: 0.5088 - val_sparse_categorical_accuracy: 0.8210 - 1s/epoch - 5ms/step\n",
      "Epoch 4/100\n",
      "235/235 - 1s - loss: 0.4636 - sparse_categorical_accuracy: 0.8380 - val_loss: 0.4840 - val_sparse_categorical_accuracy: 0.8307 - 1s/epoch - 5ms/step\n",
      "Epoch 5/100\n",
      "235/235 - 1s - loss: 0.4438 - sparse_categorical_accuracy: 0.8443 - val_loss: 0.4680 - val_sparse_categorical_accuracy: 0.8355 - 1s/epoch - 5ms/step\n",
      "Epoch 6/100\n",
      "235/235 - 1s - loss: 0.4283 - sparse_categorical_accuracy: 0.8503 - val_loss: 0.4614 - val_sparse_categorical_accuracy: 0.8359 - 1s/epoch - 5ms/step\n",
      "Epoch 7/100\n",
      "235/235 - 1s - loss: 0.4163 - sparse_categorical_accuracy: 0.8536 - val_loss: 0.4523 - val_sparse_categorical_accuracy: 0.8385 - 1s/epoch - 5ms/step\n",
      "Epoch 8/100\n",
      "235/235 - 1s - loss: 0.4059 - sparse_categorical_accuracy: 0.8576 - val_loss: 0.4494 - val_sparse_categorical_accuracy: 0.8375 - 1s/epoch - 5ms/step\n",
      "Epoch 9/100\n",
      "235/235 - 1s - loss: 0.3976 - sparse_categorical_accuracy: 0.8604 - val_loss: 0.4350 - val_sparse_categorical_accuracy: 0.8445 - 1s/epoch - 5ms/step\n",
      "Epoch 10/100\n",
      "235/235 - 1s - loss: 0.3900 - sparse_categorical_accuracy: 0.8622 - val_loss: 0.4280 - val_sparse_categorical_accuracy: 0.8450 - 1s/epoch - 5ms/step\n",
      "Epoch 11/100\n",
      "235/235 - 1s - loss: 0.3833 - sparse_categorical_accuracy: 0.8646 - val_loss: 0.4281 - val_sparse_categorical_accuracy: 0.8454 - 1s/epoch - 5ms/step\n",
      "Epoch 12/100\n",
      "235/235 - 1s - loss: 0.3775 - sparse_categorical_accuracy: 0.8675 - val_loss: 0.4232 - val_sparse_categorical_accuracy: 0.8487 - 1s/epoch - 5ms/step\n",
      "Epoch 13/100\n",
      "235/235 - 1s - loss: 0.3714 - sparse_categorical_accuracy: 0.8684 - val_loss: 0.4148 - val_sparse_categorical_accuracy: 0.8500 - 1s/epoch - 5ms/step\n",
      "Epoch 14/100\n",
      "235/235 - 1s - loss: 0.3669 - sparse_categorical_accuracy: 0.8709 - val_loss: 0.4116 - val_sparse_categorical_accuracy: 0.8516 - 1s/epoch - 5ms/step\n",
      "Epoch 15/100\n",
      "235/235 - 1s - loss: 0.3621 - sparse_categorical_accuracy: 0.8727 - val_loss: 0.4069 - val_sparse_categorical_accuracy: 0.8552 - 1s/epoch - 5ms/step\n",
      "Epoch 16/100\n",
      "235/235 - 1s - loss: 0.3578 - sparse_categorical_accuracy: 0.8733 - val_loss: 0.4056 - val_sparse_categorical_accuracy: 0.8552 - 1s/epoch - 5ms/step\n",
      "Epoch 17/100\n",
      "235/235 - 1s - loss: 0.3537 - sparse_categorical_accuracy: 0.8753 - val_loss: 0.4073 - val_sparse_categorical_accuracy: 0.8524 - 1s/epoch - 5ms/step\n",
      "Epoch 18/100\n",
      "235/235 - 1s - loss: 0.3495 - sparse_categorical_accuracy: 0.8768 - val_loss: 0.3995 - val_sparse_categorical_accuracy: 0.8574 - 1s/epoch - 5ms/step\n",
      "Epoch 19/100\n",
      "235/235 - 1s - loss: 0.3464 - sparse_categorical_accuracy: 0.8776 - val_loss: 0.3983 - val_sparse_categorical_accuracy: 0.8564 - 1s/epoch - 5ms/step\n",
      "Epoch 20/100\n",
      "235/235 - 1s - loss: 0.3425 - sparse_categorical_accuracy: 0.8785 - val_loss: 0.3992 - val_sparse_categorical_accuracy: 0.8541 - 1s/epoch - 5ms/step\n",
      "Epoch 21/100\n",
      "235/235 - 1s - loss: 0.3394 - sparse_categorical_accuracy: 0.8802 - val_loss: 0.3967 - val_sparse_categorical_accuracy: 0.8590 - 1s/epoch - 6ms/step\n",
      "Epoch 22/100\n",
      "235/235 - 1s - loss: 0.3363 - sparse_categorical_accuracy: 0.8820 - val_loss: 0.3902 - val_sparse_categorical_accuracy: 0.8609 - 1s/epoch - 5ms/step\n",
      "Epoch 23/100\n",
      "235/235 - 1s - loss: 0.3334 - sparse_categorical_accuracy: 0.8820 - val_loss: 0.3862 - val_sparse_categorical_accuracy: 0.8644 - 1s/epoch - 5ms/step\n",
      "Epoch 24/100\n",
      "235/235 - 1s - loss: 0.3307 - sparse_categorical_accuracy: 0.8833 - val_loss: 0.3867 - val_sparse_categorical_accuracy: 0.8613 - 1s/epoch - 5ms/step\n",
      "Epoch 25/100\n",
      "235/235 - 1s - loss: 0.3277 - sparse_categorical_accuracy: 0.8845 - val_loss: 0.3841 - val_sparse_categorical_accuracy: 0.8623 - 1s/epoch - 5ms/step\n",
      "Epoch 26/100\n",
      "235/235 - 1s - loss: 0.3250 - sparse_categorical_accuracy: 0.8857 - val_loss: 0.3837 - val_sparse_categorical_accuracy: 0.8626 - 1s/epoch - 5ms/step\n",
      "Epoch 27/100\n",
      "235/235 - 1s - loss: 0.3225 - sparse_categorical_accuracy: 0.8866 - val_loss: 0.3805 - val_sparse_categorical_accuracy: 0.8633 - 1s/epoch - 5ms/step\n",
      "Epoch 28/100\n",
      "235/235 - 1s - loss: 0.3202 - sparse_categorical_accuracy: 0.8868 - val_loss: 0.3781 - val_sparse_categorical_accuracy: 0.8630 - 1s/epoch - 5ms/step\n",
      "Epoch 29/100\n",
      "235/235 - 1s - loss: 0.3174 - sparse_categorical_accuracy: 0.8873 - val_loss: 0.3775 - val_sparse_categorical_accuracy: 0.8655 - 1s/epoch - 5ms/step\n",
      "Epoch 30/100\n",
      "235/235 - 1s - loss: 0.3152 - sparse_categorical_accuracy: 0.8892 - val_loss: 0.3754 - val_sparse_categorical_accuracy: 0.8682 - 1s/epoch - 5ms/step\n",
      "Epoch 31/100\n",
      "235/235 - 1s - loss: 0.3132 - sparse_categorical_accuracy: 0.8899 - val_loss: 0.3743 - val_sparse_categorical_accuracy: 0.8683 - 1s/epoch - 5ms/step\n",
      "Epoch 32/100\n",
      "235/235 - 1s - loss: 0.3105 - sparse_categorical_accuracy: 0.8908 - val_loss: 0.3721 - val_sparse_categorical_accuracy: 0.8659 - 1s/epoch - 5ms/step\n",
      "Epoch 33/100\n",
      "235/235 - 1s - loss: 0.3085 - sparse_categorical_accuracy: 0.8913 - val_loss: 0.3706 - val_sparse_categorical_accuracy: 0.8681 - 1s/epoch - 5ms/step\n",
      "Epoch 34/100\n",
      "235/235 - 1s - loss: 0.3063 - sparse_categorical_accuracy: 0.8921 - val_loss: 0.3699 - val_sparse_categorical_accuracy: 0.8677 - 1s/epoch - 6ms/step\n",
      "Epoch 35/100\n",
      "235/235 - 1s - loss: 0.3040 - sparse_categorical_accuracy: 0.8934 - val_loss: 0.3685 - val_sparse_categorical_accuracy: 0.8691 - 1s/epoch - 5ms/step\n",
      "Epoch 36/100\n",
      "235/235 - 1s - loss: 0.3023 - sparse_categorical_accuracy: 0.8941 - val_loss: 0.3739 - val_sparse_categorical_accuracy: 0.8646 - 1s/epoch - 5ms/step\n",
      "Epoch 37/100\n",
      "235/235 - 1s - loss: 0.3001 - sparse_categorical_accuracy: 0.8943 - val_loss: 0.3746 - val_sparse_categorical_accuracy: 0.8639 - 1s/epoch - 5ms/step\n",
      "Epoch 38/100\n",
      "235/235 - 1s - loss: 0.2985 - sparse_categorical_accuracy: 0.8944 - val_loss: 0.3696 - val_sparse_categorical_accuracy: 0.8683 - 1s/epoch - 5ms/step\n",
      "Epoch 39/100\n",
      "235/235 - 1s - loss: 0.2963 - sparse_categorical_accuracy: 0.8953 - val_loss: 0.3649 - val_sparse_categorical_accuracy: 0.8687 - 1s/epoch - 5ms/step\n",
      "Epoch 40/100\n",
      "235/235 - 1s - loss: 0.2946 - sparse_categorical_accuracy: 0.8969 - val_loss: 0.3664 - val_sparse_categorical_accuracy: 0.8685 - 1s/epoch - 5ms/step\n",
      "Epoch 41/100\n",
      "235/235 - 1s - loss: 0.2928 - sparse_categorical_accuracy: 0.8972 - val_loss: 0.3616 - val_sparse_categorical_accuracy: 0.8704 - 1s/epoch - 5ms/step\n",
      "Epoch 42/100\n",
      "235/235 - 1s - loss: 0.2907 - sparse_categorical_accuracy: 0.8976 - val_loss: 0.3597 - val_sparse_categorical_accuracy: 0.8719 - 1s/epoch - 5ms/step\n",
      "Epoch 43/100\n",
      "235/235 - 1s - loss: 0.2891 - sparse_categorical_accuracy: 0.8993 - val_loss: 0.3605 - val_sparse_categorical_accuracy: 0.8722 - 1s/epoch - 5ms/step\n",
      "Epoch 44/100\n",
      "235/235 - 1s - loss: 0.2877 - sparse_categorical_accuracy: 0.8988 - val_loss: 0.3633 - val_sparse_categorical_accuracy: 0.8706 - 1s/epoch - 5ms/step\n",
      "Epoch 45/100\n",
      "235/235 - 1s - loss: 0.2857 - sparse_categorical_accuracy: 0.8997 - val_loss: 0.3595 - val_sparse_categorical_accuracy: 0.8720 - 1s/epoch - 5ms/step\n",
      "Epoch 46/100\n",
      "235/235 - 1s - loss: 0.2840 - sparse_categorical_accuracy: 0.9002 - val_loss: 0.3554 - val_sparse_categorical_accuracy: 0.8746 - 1s/epoch - 5ms/step\n",
      "Epoch 47/100\n",
      "235/235 - 1s - loss: 0.2825 - sparse_categorical_accuracy: 0.9003 - val_loss: 0.3589 - val_sparse_categorical_accuracy: 0.8729 - 1s/epoch - 5ms/step\n",
      "Epoch 48/100\n",
      "235/235 - 1s - loss: 0.2809 - sparse_categorical_accuracy: 0.9013 - val_loss: 0.3658 - val_sparse_categorical_accuracy: 0.8681 - 1s/epoch - 5ms/step\n",
      "Epoch 49/100\n",
      "235/235 - 1s - loss: 0.2795 - sparse_categorical_accuracy: 0.9011 - val_loss: 0.3549 - val_sparse_categorical_accuracy: 0.8734 - 1s/epoch - 5ms/step\n",
      "Epoch 50/100\n",
      "235/235 - 1s - loss: 0.2781 - sparse_categorical_accuracy: 0.9021 - val_loss: 0.3614 - val_sparse_categorical_accuracy: 0.8701 - 1s/epoch - 5ms/step\n",
      "Epoch 51/100\n",
      "235/235 - 1s - loss: 0.2767 - sparse_categorical_accuracy: 0.9030 - val_loss: 0.3536 - val_sparse_categorical_accuracy: 0.8741 - 1s/epoch - 5ms/step\n"
     ]
    },
    {
     "name": "stdout",
     "output_type": "stream",
     "text": [
      "Epoch 52/100\n",
      "235/235 - 1s - loss: 0.2748 - sparse_categorical_accuracy: 0.9034 - val_loss: 0.3566 - val_sparse_categorical_accuracy: 0.8729 - 1s/epoch - 5ms/step\n",
      "Epoch 53/100\n",
      "235/235 - 1s - loss: 0.2734 - sparse_categorical_accuracy: 0.9035 - val_loss: 0.3533 - val_sparse_categorical_accuracy: 0.8725 - 1s/epoch - 5ms/step\n",
      "Epoch 54/100\n",
      "235/235 - 1s - loss: 0.2720 - sparse_categorical_accuracy: 0.9042 - val_loss: 0.3496 - val_sparse_categorical_accuracy: 0.8743 - 1s/epoch - 5ms/step\n",
      "Epoch 55/100\n",
      "235/235 - 1s - loss: 0.2703 - sparse_categorical_accuracy: 0.9051 - val_loss: 0.3487 - val_sparse_categorical_accuracy: 0.8764 - 1s/epoch - 5ms/step\n",
      "Epoch 56/100\n",
      "235/235 - 1s - loss: 0.2690 - sparse_categorical_accuracy: 0.9050 - val_loss: 0.3530 - val_sparse_categorical_accuracy: 0.8734 - 1s/epoch - 5ms/step\n",
      "Epoch 57/100\n",
      "235/235 - 1s - loss: 0.2677 - sparse_categorical_accuracy: 0.9058 - val_loss: 0.3487 - val_sparse_categorical_accuracy: 0.8762 - 1s/epoch - 5ms/step\n",
      "Epoch 58/100\n",
      "235/235 - 1s - loss: 0.2665 - sparse_categorical_accuracy: 0.9065 - val_loss: 0.3483 - val_sparse_categorical_accuracy: 0.8751 - 1s/epoch - 5ms/step\n",
      "Epoch 59/100\n",
      "235/235 - 1s - loss: 0.2644 - sparse_categorical_accuracy: 0.9071 - val_loss: 0.3461 - val_sparse_categorical_accuracy: 0.8757 - 1s/epoch - 5ms/step\n",
      "Epoch 60/100\n",
      "235/235 - 1s - loss: 0.2634 - sparse_categorical_accuracy: 0.9074 - val_loss: 0.3525 - val_sparse_categorical_accuracy: 0.8737 - 1s/epoch - 5ms/step\n",
      "Epoch 61/100\n",
      "235/235 - 1s - loss: 0.2620 - sparse_categorical_accuracy: 0.9085 - val_loss: 0.3468 - val_sparse_categorical_accuracy: 0.8760 - 1s/epoch - 5ms/step\n",
      "Epoch 62/100\n",
      "235/235 - 1s - loss: 0.2609 - sparse_categorical_accuracy: 0.9086 - val_loss: 0.3531 - val_sparse_categorical_accuracy: 0.8734 - 1s/epoch - 5ms/step\n",
      "Epoch 63/100\n",
      "235/235 - 1s - loss: 0.2596 - sparse_categorical_accuracy: 0.9093 - val_loss: 0.3522 - val_sparse_categorical_accuracy: 0.8734 - 1s/epoch - 6ms/step\n",
      "Epoch 64/100\n",
      "235/235 - 1s - loss: 0.2579 - sparse_categorical_accuracy: 0.9094 - val_loss: 0.3447 - val_sparse_categorical_accuracy: 0.8761 - 1s/epoch - 5ms/step\n",
      "Epoch 65/100\n",
      "235/235 - 1s - loss: 0.2570 - sparse_categorical_accuracy: 0.9099 - val_loss: 0.3451 - val_sparse_categorical_accuracy: 0.8775 - 1s/epoch - 5ms/step\n",
      "Epoch 66/100\n",
      "235/235 - 1s - loss: 0.2558 - sparse_categorical_accuracy: 0.9100 - val_loss: 0.3478 - val_sparse_categorical_accuracy: 0.8756 - 1s/epoch - 5ms/step\n",
      "Epoch 67/100\n",
      "235/235 - 1s - loss: 0.2541 - sparse_categorical_accuracy: 0.9105 - val_loss: 0.3452 - val_sparse_categorical_accuracy: 0.8773 - 1s/epoch - 5ms/step\n",
      "Epoch 68/100\n",
      "235/235 - 1s - loss: 0.2532 - sparse_categorical_accuracy: 0.9113 - val_loss: 0.3444 - val_sparse_categorical_accuracy: 0.8777 - 1s/epoch - 5ms/step\n",
      "Epoch 69/100\n",
      "235/235 - 1s - loss: 0.2518 - sparse_categorical_accuracy: 0.9121 - val_loss: 0.3462 - val_sparse_categorical_accuracy: 0.8778 - 1s/epoch - 6ms/step\n",
      "Epoch 70/100\n",
      "235/235 - 1s - loss: 0.2509 - sparse_categorical_accuracy: 0.9122 - val_loss: 0.3430 - val_sparse_categorical_accuracy: 0.8766 - 1s/epoch - 5ms/step\n",
      "Epoch 71/100\n",
      "235/235 - 1s - loss: 0.2498 - sparse_categorical_accuracy: 0.9123 - val_loss: 0.3415 - val_sparse_categorical_accuracy: 0.8783 - 1s/epoch - 5ms/step\n",
      "Epoch 72/100\n",
      "235/235 - 1s - loss: 0.2482 - sparse_categorical_accuracy: 0.9135 - val_loss: 0.3411 - val_sparse_categorical_accuracy: 0.8780 - 1s/epoch - 5ms/step\n",
      "Epoch 73/100\n",
      "235/235 - 1s - loss: 0.2471 - sparse_categorical_accuracy: 0.9137 - val_loss: 0.3407 - val_sparse_categorical_accuracy: 0.8787 - 1s/epoch - 5ms/step\n",
      "Epoch 74/100\n",
      "235/235 - 1s - loss: 0.2460 - sparse_categorical_accuracy: 0.9140 - val_loss: 0.3386 - val_sparse_categorical_accuracy: 0.8785 - 1s/epoch - 5ms/step\n",
      "Epoch 75/100\n",
      "235/235 - 1s - loss: 0.2446 - sparse_categorical_accuracy: 0.9151 - val_loss: 0.3378 - val_sparse_categorical_accuracy: 0.8795 - 1s/epoch - 5ms/step\n",
      "Epoch 76/100\n",
      "235/235 - 1s - loss: 0.2439 - sparse_categorical_accuracy: 0.9140 - val_loss: 0.3376 - val_sparse_categorical_accuracy: 0.8793 - 1s/epoch - 5ms/step\n",
      "Epoch 77/100\n",
      "235/235 - 1s - loss: 0.2427 - sparse_categorical_accuracy: 0.9153 - val_loss: 0.3389 - val_sparse_categorical_accuracy: 0.8770 - 1s/epoch - 5ms/step\n",
      "Epoch 78/100\n",
      "235/235 - 1s - loss: 0.2415 - sparse_categorical_accuracy: 0.9157 - val_loss: 0.3415 - val_sparse_categorical_accuracy: 0.8785 - 1s/epoch - 5ms/step\n",
      "Epoch 79/100\n",
      "235/235 - 1s - loss: 0.2406 - sparse_categorical_accuracy: 0.9157 - val_loss: 0.3402 - val_sparse_categorical_accuracy: 0.8790 - 1s/epoch - 5ms/step\n",
      "Epoch 80/100\n",
      "235/235 - 1s - loss: 0.2392 - sparse_categorical_accuracy: 0.9162 - val_loss: 0.3400 - val_sparse_categorical_accuracy: 0.8783 - 1s/epoch - 5ms/step\n",
      "Epoch 81/100\n",
      "235/235 - 1s - loss: 0.2382 - sparse_categorical_accuracy: 0.9170 - val_loss: 0.3394 - val_sparse_categorical_accuracy: 0.8795 - 1s/epoch - 5ms/step\n",
      "Epoch 82/100\n",
      "235/235 - 1s - loss: 0.2372 - sparse_categorical_accuracy: 0.9173 - val_loss: 0.3384 - val_sparse_categorical_accuracy: 0.8787 - 1s/epoch - 5ms/step\n",
      "Epoch 83/100\n",
      "235/235 - 1s - loss: 0.2363 - sparse_categorical_accuracy: 0.9175 - val_loss: 0.3353 - val_sparse_categorical_accuracy: 0.8802 - 1s/epoch - 5ms/step\n",
      "Epoch 84/100\n",
      "235/235 - 1s - loss: 0.2355 - sparse_categorical_accuracy: 0.9180 - val_loss: 0.3349 - val_sparse_categorical_accuracy: 0.8799 - 1s/epoch - 5ms/step\n",
      "Epoch 85/100\n",
      "235/235 - 1s - loss: 0.2341 - sparse_categorical_accuracy: 0.9182 - val_loss: 0.3343 - val_sparse_categorical_accuracy: 0.8805 - 1s/epoch - 5ms/step\n",
      "Epoch 86/100\n",
      "235/235 - 1s - loss: 0.2332 - sparse_categorical_accuracy: 0.9186 - val_loss: 0.3364 - val_sparse_categorical_accuracy: 0.8798 - 1s/epoch - 5ms/step\n",
      "Epoch 87/100\n",
      "235/235 - 1s - loss: 0.2322 - sparse_categorical_accuracy: 0.9190 - val_loss: 0.3342 - val_sparse_categorical_accuracy: 0.8806 - 1s/epoch - 5ms/step\n",
      "Epoch 88/100\n",
      "235/235 - 1s - loss: 0.2310 - sparse_categorical_accuracy: 0.9190 - val_loss: 0.3397 - val_sparse_categorical_accuracy: 0.8773 - 1s/epoch - 5ms/step\n",
      "Epoch 89/100\n",
      "235/235 - 1s - loss: 0.2303 - sparse_categorical_accuracy: 0.9192 - val_loss: 0.3333 - val_sparse_categorical_accuracy: 0.8824 - 1s/epoch - 5ms/step\n",
      "Epoch 90/100\n",
      "235/235 - 1s - loss: 0.2287 - sparse_categorical_accuracy: 0.9205 - val_loss: 0.3359 - val_sparse_categorical_accuracy: 0.8801 - 1s/epoch - 5ms/step\n",
      "Epoch 91/100\n",
      "235/235 - 1s - loss: 0.2279 - sparse_categorical_accuracy: 0.9206 - val_loss: 0.3333 - val_sparse_categorical_accuracy: 0.8815 - 1s/epoch - 6ms/step\n",
      "Epoch 92/100\n",
      "235/235 - 1s - loss: 0.2269 - sparse_categorical_accuracy: 0.9206 - val_loss: 0.3325 - val_sparse_categorical_accuracy: 0.8818 - 1s/epoch - 5ms/step\n",
      "Epoch 93/100\n",
      "235/235 - 1s - loss: 0.2264 - sparse_categorical_accuracy: 0.9210 - val_loss: 0.3396 - val_sparse_categorical_accuracy: 0.8785 - 1s/epoch - 5ms/step\n",
      "Epoch 94/100\n",
      "235/235 - 1s - loss: 0.2252 - sparse_categorical_accuracy: 0.9215 - val_loss: 0.3506 - val_sparse_categorical_accuracy: 0.8720 - 1s/epoch - 5ms/step\n",
      "Epoch 95/100\n",
      "235/235 - 1s - loss: 0.2240 - sparse_categorical_accuracy: 0.9215 - val_loss: 0.3380 - val_sparse_categorical_accuracy: 0.8782 - 1s/epoch - 6ms/step\n",
      "Epoch 96/100\n",
      "235/235 - 1s - loss: 0.2234 - sparse_categorical_accuracy: 0.9225 - val_loss: 0.3333 - val_sparse_categorical_accuracy: 0.8816 - 1s/epoch - 6ms/step\n",
      "Epoch 97/100\n",
      "235/235 - 1s - loss: 0.2221 - sparse_categorical_accuracy: 0.9227 - val_loss: 0.3329 - val_sparse_categorical_accuracy: 0.8831 - 1s/epoch - 5ms/step\n",
      "Epoch 98/100\n",
      "235/235 - 1s - loss: 0.2211 - sparse_categorical_accuracy: 0.9236 - val_loss: 0.3325 - val_sparse_categorical_accuracy: 0.8814 - 1s/epoch - 5ms/step\n",
      "Epoch 99/100\n",
      "235/235 - 1s - loss: 0.2202 - sparse_categorical_accuracy: 0.9233 - val_loss: 0.3359 - val_sparse_categorical_accuracy: 0.8822 - 1s/epoch - 5ms/step\n",
      "Epoch 100/100\n",
      "235/235 - 1s - loss: 0.2192 - sparse_categorical_accuracy: 0.9241 - val_loss: 0.3348 - val_sparse_categorical_accuracy: 0.8801 - 1s/epoch - 5ms/step\n"
     ]
    }
   ],
   "source": [
    "# optimizer and loss\n",
    "model.compile(optimizer='sgd', \n",
    "              loss='sparse_categorical_crossentropy', \n",
    "              metrics=['sparse_categorical_accuracy'])\n",
    "\n",
    "# training\n",
    "history = model.fit(x_train, y_train, \n",
    "                    validation_data=(x_test, y_test), \n",
    "                    batch_size=256, epochs=100, verbose=2)"
   ]
  },
  {
   "cell_type": "code",
   "execution_count": null,
   "id": "e8930b85",
   "metadata": {},
   "outputs": [],
   "source": []
  },
  {
   "cell_type": "code",
   "execution_count": 8,
   "id": "66f70981",
   "metadata": {},
   "outputs": [
    {
     "data": {
      "text/plain": [
       "<matplotlib.legend.Legend at 0x2a000c9da60>"
      ]
     },
     "execution_count": 8,
     "metadata": {},
     "output_type": "execute_result"
    },
    {
     "data": {
      "image/png": "[encoded data removed]",
      "text/plain": [
       "<Figure size 432x288 with 1 Axes>"
      ]
     },
     "metadata": {
      "needs_background": "light"
     },
     "output_type": "display_data"
    }
   ],
   "source": [
    "import matplotlib.pyplot as plt\n",
    "\n",
    "plt.plot(history.history['loss'], label='loss')\n",
    "plt.plot(history.history['val_loss'], label='val_loss')\n",
    "plt.xlabel('iteration')\n",
    "plt.ylabel('Loss')\n",
    "plt.legend()"
   ]
  },
  {
   "cell_type": "code",
   "execution_count": null,
   "id": "ccec74e9",
   "metadata": {},
   "outputs": [],
   "source": []
  },
  {
   "cell_type": "code",
   "execution_count": 9,
   "id": "348a761a",
   "metadata": {},
   "outputs": [
    {
     "data": {
      "text/plain": [
       "<matplotlib.legend.Legend at 0x2a000daaac0>"
      ]
     },
     "execution_count": 9,
     "metadata": {},
     "output_type": "execute_result"
    },
    {
     "data": {
      "image/png": "[encoded data removed]",
      "text/plain": [
       "<Figure size 432x288 with 1 Axes>"
      ]
     },
     "metadata": {
      "needs_background": "light"
     },
     "output_type": "display_data"
    }
   ],
   "source": [
    "import matplotlib.pyplot as plt\n",
    "\n",
    "plt.plot(history.history['sparse_categorical_accuracy'], label='train_accuracy')\n",
    "plt.plot(history.history['val_sparse_categorical_accuracy'], label='val_accuracy')\n",
    "plt.xlabel('iteration')\n",
    "plt.ylabel('Accuracy')\n",
    "plt.legend()"
   ]
  },
  {
   "cell_type": "code",
   "execution_count": 11,
   "id": "51d5f69c",
   "metadata": {},
   "outputs": [
    {
     "name": "stdout",
     "output_type": "stream",
     "text": [
      "40/40 [==============================] - 0s 3ms/step - loss: 0.3851 - sparse_categorical_accuracy: 0.8647\n"
     ]
    },
    {
     "data": {
      "text/plain": [
       "[0.38506269454956055, 0.8647000193595886]"
      ]
     },
     "execution_count": 11,
     "metadata": {},
     "output_type": "execute_result"
    }
   ],
   "source": [
    "model.evaluate(x_test, y_test, 256)"
   ]
  },
  {
   "cell_type": "code",
   "execution_count": null,
   "id": "d5a0cabd",
   "metadata": {},
   "outputs": [],
   "source": []
  }
 ],
 "metadata": {
  "kernelspec": {
   "display_name": "Python 3 (ipykernel)",
   "language": "python",
   "name": "python3"
  },
  "language_info": {
   "codemirror_mode": {
    "name": "ipython",
    "version": 3
   },
   "file_extension": ".py",
   "mimetype": "text/x-python",
   "name": "python",
   "nbconvert_exporter": "python",
   "pygments_lexer": "ipython3",
   "version": "3.9.13"
  }
 },
 "nbformat": 4,
 "nbformat_minor": 5
}
