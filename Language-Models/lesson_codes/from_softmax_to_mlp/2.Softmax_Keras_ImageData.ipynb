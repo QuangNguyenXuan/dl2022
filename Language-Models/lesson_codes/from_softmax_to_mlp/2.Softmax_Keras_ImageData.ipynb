{
 "cells": [
  {
   "cell_type": "markdown",
   "id": "cecbf4b6",
   "metadata": {},
   "source": [
    "# training"
   ]
  },
  {
   "cell_type": "code",
   "execution_count": 1,
   "id": "67d34793",
   "metadata": {},
   "outputs": [
    {
     "name": "stdout",
     "output_type": "stream",
     "text": [
      "(60000, 784)\n",
      "(60000,)\n",
      "(10000, 784)\n",
      "(10000,)\n"
     ]
    }
   ],
   "source": [
    "import numpy as np\n",
    "import gzip\n",
    "\n",
    "# load training images\n",
    "with gzip.open('data_fashion_mnist/train-images-idx3-ubyte.gz', 'rb') as f:\n",
    "    X_train = np.frombuffer(f.read(), np.uint8, offset=16).reshape(-1, 28*28)\n",
    "\n",
    "# load testing images\n",
    "with gzip.open('data_fashion_mnist/t10k-images-idx3-ubyte.gz', 'rb') as f:\n",
    "    X_test = np.frombuffer(f.read(), np.uint8, offset=16).reshape(-1, 28*28)\n",
    "\n",
    "# load training labels\n",
    "with gzip.open('data_fashion_mnist/train-labels-idx1-ubyte.gz', 'rb') as f:\n",
    "    y_train = np.frombuffer(f.read(), np.uint8, offset=8)\n",
    "    \n",
    "# load testing labels\n",
    "with gzip.open('data_fashion_mnist/t10k-labels-idx1-ubyte.gz', 'rb') as f:\n",
    "    y_test = np.frombuffer(f.read(), np.uint8, offset=8)\n",
    "    \n",
    "\n",
    "# check data\n",
    "print(X_train.shape)\n",
    "print(y_train.shape)\n",
    "print(X_test.shape)\n",
    "print(y_test.shape)"
   ]
  },
  {
   "cell_type": "code",
   "execution_count": null,
   "id": "3528a010",
   "metadata": {},
   "outputs": [],
   "source": []
  },
  {
   "cell_type": "code",
   "execution_count": 2,
   "id": "5ffd582a",
   "metadata": {},
   "outputs": [
    {
     "name": "stdout",
     "output_type": "stream",
     "text": [
      "Model: \"sequential\"\n",
      "_________________________________________________________________\n",
      " Layer (type)                Output Shape              Param #   \n",
      "=================================================================\n",
      " dense (Dense)               (None, 10)                7850      \n",
      "                                                                 \n",
      "=================================================================\n",
      "Total params: 7,850\n",
      "Trainable params: 7,850\n",
      "Non-trainable params: 0\n",
      "_________________________________________________________________\n"
     ]
    }
   ],
   "source": [
    "import tensorflow as tf\n",
    "import tensorflow.keras as keras\n",
    "\n",
    "# create model\n",
    "model = keras.Sequential()\n",
    "model.add(keras.Input(shape=(784,)))\n",
    "model.add(keras.layers.Dense(10, activation='softmax'))\n",
    "model.summary()"
   ]
  },
  {
   "cell_type": "code",
   "execution_count": null,
   "id": "1568f6e9",
   "metadata": {},
   "outputs": [],
   "source": []
  },
  {
   "cell_type": "code",
   "execution_count": 3,
   "id": "60b0b697",
   "metadata": {},
   "outputs": [
    {
     "name": "stdout",
     "output_type": "stream",
     "text": [
      "Epoch 1/100\n",
      "235/235 - 2s - loss: 2448.3374 - sparse_categorical_accuracy: 0.6735 - val_loss: 884.3690 - val_sparse_categorical_accuracy: 0.7209 - 2s/epoch - 8ms/step\n",
      "Epoch 2/100\n",
      "235/235 - 1s - loss: 1211.4496 - sparse_categorical_accuracy: 0.7568 - val_loss: 3502.8147 - val_sparse_categorical_accuracy: 0.5971 - 908ms/epoch - 4ms/step\n",
      "Epoch 3/100\n",
      "235/235 - 1s - loss: 1168.1520 - sparse_categorical_accuracy: 0.7653 - val_loss: 640.6757 - val_sparse_categorical_accuracy: 0.7628 - 909ms/epoch - 4ms/step\n",
      "Epoch 4/100\n",
      "235/235 - 1s - loss: 1119.4204 - sparse_categorical_accuracy: 0.7712 - val_loss: 831.7164 - val_sparse_categorical_accuracy: 0.7824 - 917ms/epoch - 4ms/step\n",
      "Epoch 5/100\n",
      "235/235 - 1s - loss: 1019.8992 - sparse_categorical_accuracy: 0.7812 - val_loss: 2242.2788 - val_sparse_categorical_accuracy: 0.7511 - 900ms/epoch - 4ms/step\n",
      "Epoch 6/100\n",
      "235/235 - 1s - loss: 972.0066 - sparse_categorical_accuracy: 0.7837 - val_loss: 1095.8999 - val_sparse_categorical_accuracy: 0.7495 - 912ms/epoch - 4ms/step\n",
      "Epoch 7/100\n",
      "235/235 - 1s - loss: 994.6539 - sparse_categorical_accuracy: 0.7817 - val_loss: 2195.3020 - val_sparse_categorical_accuracy: 0.6721 - 929ms/epoch - 4ms/step\n",
      "Epoch 8/100\n",
      "235/235 - 1s - loss: 986.1031 - sparse_categorical_accuracy: 0.7874 - val_loss: 2096.5376 - val_sparse_categorical_accuracy: 0.6277 - 903ms/epoch - 4ms/step\n",
      "Epoch 9/100\n",
      "235/235 - 1s - loss: 974.0906 - sparse_categorical_accuracy: 0.7858 - val_loss: 2021.8890 - val_sparse_categorical_accuracy: 0.7297 - 1000ms/epoch - 4ms/step\n",
      "Epoch 10/100\n",
      "235/235 - 1s - loss: 991.4600 - sparse_categorical_accuracy: 0.7857 - val_loss: 851.3412 - val_sparse_categorical_accuracy: 0.7605 - 1s/epoch - 4ms/step\n",
      "Epoch 11/100\n",
      "235/235 - 1s - loss: 947.6351 - sparse_categorical_accuracy: 0.7885 - val_loss: 866.7231 - val_sparse_categorical_accuracy: 0.7695 - 936ms/epoch - 4ms/step\n",
      "Epoch 12/100\n",
      "235/235 - 1s - loss: 995.7377 - sparse_categorical_accuracy: 0.7859 - val_loss: 1024.4315 - val_sparse_categorical_accuracy: 0.7551 - 932ms/epoch - 4ms/step\n",
      "Epoch 13/100\n",
      "235/235 - 1s - loss: 956.8875 - sparse_categorical_accuracy: 0.7894 - val_loss: 1134.0775 - val_sparse_categorical_accuracy: 0.7612 - 939ms/epoch - 4ms/step\n",
      "Epoch 14/100\n",
      "235/235 - 1s - loss: 887.5317 - sparse_categorical_accuracy: 0.7954 - val_loss: 861.9558 - val_sparse_categorical_accuracy: 0.7581 - 987ms/epoch - 4ms/step\n",
      "Epoch 15/100\n",
      "235/235 - 1s - loss: 921.3387 - sparse_categorical_accuracy: 0.7944 - val_loss: 886.1232 - val_sparse_categorical_accuracy: 0.7734 - 1s/epoch - 4ms/step\n",
      "Epoch 16/100\n",
      "235/235 - 1s - loss: 949.1190 - sparse_categorical_accuracy: 0.7899 - val_loss: 844.1494 - val_sparse_categorical_accuracy: 0.7670 - 1s/epoch - 4ms/step\n",
      "Epoch 17/100\n",
      "235/235 - 1s - loss: 945.3527 - sparse_categorical_accuracy: 0.7933 - val_loss: 1049.2791 - val_sparse_categorical_accuracy: 0.7336 - 1s/epoch - 4ms/step\n",
      "Epoch 18/100\n",
      "235/235 - 1s - loss: 912.8697 - sparse_categorical_accuracy: 0.7965 - val_loss: 1307.0117 - val_sparse_categorical_accuracy: 0.7364 - 980ms/epoch - 4ms/step\n",
      "Epoch 19/100\n",
      "235/235 - 1s - loss: 903.6727 - sparse_categorical_accuracy: 0.7930 - val_loss: 1004.9231 - val_sparse_categorical_accuracy: 0.7521 - 1s/epoch - 4ms/step\n",
      "Epoch 20/100\n",
      "235/235 - 1s - loss: 914.5268 - sparse_categorical_accuracy: 0.7925 - val_loss: 1056.1976 - val_sparse_categorical_accuracy: 0.7679 - 1s/epoch - 4ms/step\n",
      "Epoch 21/100\n",
      "235/235 - 1s - loss: 918.7197 - sparse_categorical_accuracy: 0.7923 - val_loss: 1816.0068 - val_sparse_categorical_accuracy: 0.6902 - 1s/epoch - 4ms/step\n",
      "Epoch 22/100\n",
      "235/235 - 1s - loss: 891.4770 - sparse_categorical_accuracy: 0.7973 - val_loss: 888.0947 - val_sparse_categorical_accuracy: 0.7590 - 987ms/epoch - 4ms/step\n",
      "Epoch 23/100\n",
      "235/235 - 1s - loss: 906.1054 - sparse_categorical_accuracy: 0.7982 - val_loss: 1039.8480 - val_sparse_categorical_accuracy: 0.7611 - 910ms/epoch - 4ms/step\n",
      "Epoch 24/100\n",
      "235/235 - 1s - loss: 888.2125 - sparse_categorical_accuracy: 0.8009 - val_loss: 1993.4932 - val_sparse_categorical_accuracy: 0.7170 - 908ms/epoch - 4ms/step\n",
      "Epoch 25/100\n",
      "235/235 - 1s - loss: 914.7845 - sparse_categorical_accuracy: 0.7958 - val_loss: 846.5725 - val_sparse_categorical_accuracy: 0.7511 - 955ms/epoch - 4ms/step\n",
      "Epoch 26/100\n",
      "235/235 - 1s - loss: 926.8599 - sparse_categorical_accuracy: 0.7933 - val_loss: 1426.1138 - val_sparse_categorical_accuracy: 0.6742 - 909ms/epoch - 4ms/step\n",
      "Epoch 27/100\n",
      "235/235 - 1s - loss: 842.9183 - sparse_categorical_accuracy: 0.8017 - val_loss: 1882.9922 - val_sparse_categorical_accuracy: 0.7733 - 913ms/epoch - 4ms/step\n",
      "Epoch 28/100\n",
      "235/235 - 1s - loss: 915.2463 - sparse_categorical_accuracy: 0.7947 - val_loss: 698.6643 - val_sparse_categorical_accuracy: 0.7979 - 898ms/epoch - 4ms/step\n",
      "Epoch 29/100\n",
      "235/235 - 1s - loss: 882.7216 - sparse_categorical_accuracy: 0.8027 - val_loss: 1177.8079 - val_sparse_categorical_accuracy: 0.7139 - 909ms/epoch - 4ms/step\n",
      "Epoch 30/100\n",
      "235/235 - 1s - loss: 943.9695 - sparse_categorical_accuracy: 0.7936 - val_loss: 628.9114 - val_sparse_categorical_accuracy: 0.8023 - 907ms/epoch - 4ms/step\n",
      "Epoch 31/100\n",
      "235/235 - 1s - loss: 883.1477 - sparse_categorical_accuracy: 0.8003 - val_loss: 912.6786 - val_sparse_categorical_accuracy: 0.7578 - 908ms/epoch - 4ms/step\n",
      "Epoch 32/100\n",
      "235/235 - 1s - loss: 886.9431 - sparse_categorical_accuracy: 0.7976 - val_loss: 1426.4941 - val_sparse_categorical_accuracy: 0.7292 - 899ms/epoch - 4ms/step\n",
      "Epoch 33/100\n",
      "235/235 - 1s - loss: 853.8577 - sparse_categorical_accuracy: 0.8016 - val_loss: 608.2729 - val_sparse_categorical_accuracy: 0.7939 - 964ms/epoch - 4ms/step\n",
      "Epoch 34/100\n",
      "235/235 - 1s - loss: 874.9011 - sparse_categorical_accuracy: 0.7994 - val_loss: 1057.5691 - val_sparse_categorical_accuracy: 0.7600 - 899ms/epoch - 4ms/step\n",
      "Epoch 35/100\n",
      "235/235 - 1s - loss: 866.8021 - sparse_categorical_accuracy: 0.7995 - val_loss: 1033.0654 - val_sparse_categorical_accuracy: 0.7753 - 955ms/epoch - 4ms/step\n",
      "Epoch 36/100\n",
      "235/235 - 1s - loss: 819.2941 - sparse_categorical_accuracy: 0.8054 - val_loss: 2175.2803 - val_sparse_categorical_accuracy: 0.7549 - 990ms/epoch - 4ms/step\n",
      "Epoch 37/100\n",
      "235/235 - 1s - loss: 917.0008 - sparse_categorical_accuracy: 0.7987 - val_loss: 1333.2269 - val_sparse_categorical_accuracy: 0.7483 - 930ms/epoch - 4ms/step\n",
      "Epoch 38/100\n",
      "235/235 - 1s - loss: 863.5521 - sparse_categorical_accuracy: 0.8055 - val_loss: 1123.9724 - val_sparse_categorical_accuracy: 0.7585 - 910ms/epoch - 4ms/step\n",
      "Epoch 39/100\n",
      "235/235 - 1s - loss: 885.1558 - sparse_categorical_accuracy: 0.8002 - val_loss: 808.5035 - val_sparse_categorical_accuracy: 0.8045 - 926ms/epoch - 4ms/step\n",
      "Epoch 40/100\n",
      "235/235 - 1s - loss: 915.5161 - sparse_categorical_accuracy: 0.7972 - val_loss: 794.6397 - val_sparse_categorical_accuracy: 0.7622 - 920ms/epoch - 4ms/step\n",
      "Epoch 41/100\n",
      "235/235 - 1s - loss: 879.2773 - sparse_categorical_accuracy: 0.8009 - val_loss: 522.3290 - val_sparse_categorical_accuracy: 0.8185 - 903ms/epoch - 4ms/step\n",
      "Epoch 42/100\n",
      "235/235 - 1s - loss: 823.1636 - sparse_categorical_accuracy: 0.8041 - val_loss: 489.7335 - val_sparse_categorical_accuracy: 0.8309 - 904ms/epoch - 4ms/step\n",
      "Epoch 43/100\n",
      "235/235 - 1s - loss: 844.9395 - sparse_categorical_accuracy: 0.8055 - val_loss: 2209.5469 - val_sparse_categorical_accuracy: 0.6359 - 908ms/epoch - 4ms/step\n",
      "Epoch 44/100\n",
      "235/235 - 1s - loss: 868.2536 - sparse_categorical_accuracy: 0.8009 - val_loss: 927.6840 - val_sparse_categorical_accuracy: 0.7625 - 905ms/epoch - 4ms/step\n",
      "Epoch 45/100\n",
      "235/235 - 1s - loss: 887.0811 - sparse_categorical_accuracy: 0.8029 - val_loss: 1169.9850 - val_sparse_categorical_accuracy: 0.7265 - 901ms/epoch - 4ms/step\n",
      "Epoch 46/100\n",
      "235/235 - 1s - loss: 899.5452 - sparse_categorical_accuracy: 0.7987 - val_loss: 528.4638 - val_sparse_categorical_accuracy: 0.8291 - 904ms/epoch - 4ms/step\n",
      "Epoch 47/100\n",
      "235/235 - 1s - loss: 824.6990 - sparse_categorical_accuracy: 0.8066 - val_loss: 1974.4192 - val_sparse_categorical_accuracy: 0.7342 - 925ms/epoch - 4ms/step\n",
      "Epoch 48/100\n",
      "235/235 - 1s - loss: 898.5442 - sparse_categorical_accuracy: 0.8001 - val_loss: 2778.0779 - val_sparse_categorical_accuracy: 0.7233 - 919ms/epoch - 4ms/step\n",
      "Epoch 49/100\n",
      "235/235 - 1s - loss: 885.7402 - sparse_categorical_accuracy: 0.8031 - val_loss: 1971.1416 - val_sparse_categorical_accuracy: 0.7305 - 919ms/epoch - 4ms/step\n"
     ]
    },
    {
     "name": "stdout",
     "output_type": "stream",
     "text": [
      "Epoch 50/100\n",
      "235/235 - 1s - loss: 879.8730 - sparse_categorical_accuracy: 0.8024 - val_loss: 798.0917 - val_sparse_categorical_accuracy: 0.8081 - 910ms/epoch - 4ms/step\n",
      "Epoch 51/100\n",
      "235/235 - 1s - loss: 873.9445 - sparse_categorical_accuracy: 0.8029 - val_loss: 644.5989 - val_sparse_categorical_accuracy: 0.8065 - 912ms/epoch - 4ms/step\n",
      "Epoch 52/100\n",
      "235/235 - 1s - loss: 871.7282 - sparse_categorical_accuracy: 0.8044 - val_loss: 702.5399 - val_sparse_categorical_accuracy: 0.8151 - 901ms/epoch - 4ms/step\n",
      "Epoch 53/100\n",
      "235/235 - 1s - loss: 823.3036 - sparse_categorical_accuracy: 0.8087 - val_loss: 928.6659 - val_sparse_categorical_accuracy: 0.7540 - 913ms/epoch - 4ms/step\n",
      "Epoch 54/100\n",
      "235/235 - 1s - loss: 861.4030 - sparse_categorical_accuracy: 0.7990 - val_loss: 1305.0162 - val_sparse_categorical_accuracy: 0.7278 - 906ms/epoch - 4ms/step\n",
      "Epoch 55/100\n",
      "235/235 - 1s - loss: 894.3676 - sparse_categorical_accuracy: 0.8040 - val_loss: 3006.4663 - val_sparse_categorical_accuracy: 0.6286 - 905ms/epoch - 4ms/step\n",
      "Epoch 56/100\n",
      "235/235 - 1s - loss: 892.7673 - sparse_categorical_accuracy: 0.8045 - val_loss: 651.3116 - val_sparse_categorical_accuracy: 0.8146 - 910ms/epoch - 4ms/step\n",
      "Epoch 57/100\n",
      "235/235 - 1s - loss: 812.6890 - sparse_categorical_accuracy: 0.8088 - val_loss: 1198.3112 - val_sparse_categorical_accuracy: 0.7689 - 910ms/epoch - 4ms/step\n",
      "Epoch 58/100\n",
      "235/235 - 1s - loss: 867.0424 - sparse_categorical_accuracy: 0.8028 - val_loss: 1039.2429 - val_sparse_categorical_accuracy: 0.7742 - 905ms/epoch - 4ms/step\n",
      "Epoch 59/100\n",
      "235/235 - 1s - loss: 896.8113 - sparse_categorical_accuracy: 0.7985 - val_loss: 1534.9268 - val_sparse_categorical_accuracy: 0.6744 - 900ms/epoch - 4ms/step\n",
      "Epoch 60/100\n",
      "235/235 - 1s - loss: 875.1204 - sparse_categorical_accuracy: 0.8056 - val_loss: 577.9230 - val_sparse_categorical_accuracy: 0.8134 - 909ms/epoch - 4ms/step\n",
      "Epoch 61/100\n",
      "235/235 - 1s - loss: 818.2253 - sparse_categorical_accuracy: 0.8076 - val_loss: 989.2079 - val_sparse_categorical_accuracy: 0.7792 - 917ms/epoch - 4ms/step\n",
      "Epoch 62/100\n",
      "235/235 - 1s - loss: 908.4630 - sparse_categorical_accuracy: 0.8028 - val_loss: 2016.7484 - val_sparse_categorical_accuracy: 0.6675 - 832ms/epoch - 4ms/step\n",
      "Epoch 63/100\n",
      "235/235 - 1s - loss: 865.4568 - sparse_categorical_accuracy: 0.8053 - val_loss: 511.0363 - val_sparse_categorical_accuracy: 0.8204 - 732ms/epoch - 3ms/step\n",
      "Epoch 64/100\n",
      "235/235 - 1s - loss: 867.7885 - sparse_categorical_accuracy: 0.7999 - val_loss: 714.5322 - val_sparse_categorical_accuracy: 0.7786 - 916ms/epoch - 4ms/step\n",
      "Epoch 65/100\n",
      "235/235 - 1s - loss: 854.6942 - sparse_categorical_accuracy: 0.8070 - val_loss: 1098.8789 - val_sparse_categorical_accuracy: 0.7681 - 902ms/epoch - 4ms/step\n",
      "Epoch 66/100\n",
      "235/235 - 1s - loss: 856.0100 - sparse_categorical_accuracy: 0.8059 - val_loss: 582.9819 - val_sparse_categorical_accuracy: 0.8149 - 905ms/epoch - 4ms/step\n",
      "Epoch 67/100\n",
      "235/235 - 1s - loss: 835.2560 - sparse_categorical_accuracy: 0.8024 - val_loss: 1211.6521 - val_sparse_categorical_accuracy: 0.7427 - 901ms/epoch - 4ms/step\n",
      "Epoch 68/100\n",
      "235/235 - 1s - loss: 868.1112 - sparse_categorical_accuracy: 0.8069 - val_loss: 864.3832 - val_sparse_categorical_accuracy: 0.7657 - 907ms/epoch - 4ms/step\n",
      "Epoch 69/100\n",
      "235/235 - 1s - loss: 836.0933 - sparse_categorical_accuracy: 0.8080 - val_loss: 783.6633 - val_sparse_categorical_accuracy: 0.7954 - 899ms/epoch - 4ms/step\n",
      "Epoch 70/100\n",
      "235/235 - 1s - loss: 883.1718 - sparse_categorical_accuracy: 0.8029 - val_loss: 888.3517 - val_sparse_categorical_accuracy: 0.7749 - 914ms/epoch - 4ms/step\n",
      "Epoch 71/100\n",
      "235/235 - 1s - loss: 807.6130 - sparse_categorical_accuracy: 0.8062 - val_loss: 661.0232 - val_sparse_categorical_accuracy: 0.7760 - 910ms/epoch - 4ms/step\n",
      "Epoch 72/100\n",
      "235/235 - 1s - loss: 814.8402 - sparse_categorical_accuracy: 0.8087 - val_loss: 567.0583 - val_sparse_categorical_accuracy: 0.8123 - 908ms/epoch - 4ms/step\n",
      "Epoch 73/100\n",
      "235/235 - 1s - loss: 880.2908 - sparse_categorical_accuracy: 0.8037 - val_loss: 878.0458 - val_sparse_categorical_accuracy: 0.7776 - 913ms/epoch - 4ms/step\n",
      "Epoch 74/100\n",
      "235/235 - 1s - loss: 808.1879 - sparse_categorical_accuracy: 0.8087 - val_loss: 1073.8766 - val_sparse_categorical_accuracy: 0.7223 - 903ms/epoch - 4ms/step\n",
      "Epoch 75/100\n",
      "235/235 - 1s - loss: 834.8223 - sparse_categorical_accuracy: 0.8046 - val_loss: 780.4260 - val_sparse_categorical_accuracy: 0.7616 - 907ms/epoch - 4ms/step\n",
      "Epoch 76/100\n",
      "235/235 - 1s - loss: 870.2708 - sparse_categorical_accuracy: 0.8048 - val_loss: 942.0200 - val_sparse_categorical_accuracy: 0.7258 - 911ms/epoch - 4ms/step\n",
      "Epoch 77/100\n",
      "235/235 - 1s - loss: 837.1647 - sparse_categorical_accuracy: 0.8087 - val_loss: 660.5200 - val_sparse_categorical_accuracy: 0.8228 - 907ms/epoch - 4ms/step\n",
      "Epoch 78/100\n",
      "235/235 - 1s - loss: 857.0790 - sparse_categorical_accuracy: 0.8035 - val_loss: 648.8586 - val_sparse_categorical_accuracy: 0.8004 - 901ms/epoch - 4ms/step\n",
      "Epoch 79/100\n",
      "235/235 - 1s - loss: 837.6978 - sparse_categorical_accuracy: 0.8090 - val_loss: 1431.1133 - val_sparse_categorical_accuracy: 0.7032 - 933ms/epoch - 4ms/step\n",
      "Epoch 80/100\n",
      "235/235 - 1s - loss: 833.8625 - sparse_categorical_accuracy: 0.8047 - val_loss: 506.3442 - val_sparse_categorical_accuracy: 0.8215 - 823ms/epoch - 4ms/step\n",
      "Epoch 81/100\n",
      "235/235 - 1s - loss: 823.6083 - sparse_categorical_accuracy: 0.8098 - val_loss: 1451.6265 - val_sparse_categorical_accuracy: 0.7474 - 905ms/epoch - 4ms/step\n",
      "Epoch 82/100\n",
      "235/235 - 1s - loss: 876.6547 - sparse_categorical_accuracy: 0.8035 - val_loss: 991.7986 - val_sparse_categorical_accuracy: 0.6924 - 906ms/epoch - 4ms/step\n",
      "Epoch 83/100\n",
      "235/235 - 1s - loss: 829.4646 - sparse_categorical_accuracy: 0.8054 - val_loss: 748.5538 - val_sparse_categorical_accuracy: 0.7943 - 904ms/epoch - 4ms/step\n",
      "Epoch 84/100\n",
      "235/235 - 1s - loss: 801.0359 - sparse_categorical_accuracy: 0.8125 - val_loss: 656.1846 - val_sparse_categorical_accuracy: 0.7887 - 912ms/epoch - 4ms/step\n",
      "Epoch 85/100\n",
      "235/235 - 1s - loss: 875.2355 - sparse_categorical_accuracy: 0.8046 - val_loss: 2623.4573 - val_sparse_categorical_accuracy: 0.6302 - 910ms/epoch - 4ms/step\n",
      "Epoch 86/100\n",
      "235/235 - 1s - loss: 836.6041 - sparse_categorical_accuracy: 0.8077 - val_loss: 1367.5682 - val_sparse_categorical_accuracy: 0.7371 - 906ms/epoch - 4ms/step\n",
      "Epoch 87/100\n",
      "235/235 - 1s - loss: 867.6592 - sparse_categorical_accuracy: 0.8032 - val_loss: 735.7695 - val_sparse_categorical_accuracy: 0.7729 - 924ms/epoch - 4ms/step\n",
      "Epoch 88/100\n",
      "235/235 - 1s - loss: 795.9739 - sparse_categorical_accuracy: 0.8115 - val_loss: 936.9766 - val_sparse_categorical_accuracy: 0.7639 - 907ms/epoch - 4ms/step\n",
      "Epoch 89/100\n",
      "235/235 - 1s - loss: 822.1938 - sparse_categorical_accuracy: 0.8070 - val_loss: 2360.9011 - val_sparse_categorical_accuracy: 0.6843 - 948ms/epoch - 4ms/step\n",
      "Epoch 90/100\n",
      "235/235 - 1s - loss: 845.1292 - sparse_categorical_accuracy: 0.8084 - val_loss: 1010.2351 - val_sparse_categorical_accuracy: 0.7778 - 1s/epoch - 5ms/step\n",
      "Epoch 91/100\n",
      "235/235 - 1s - loss: 843.1529 - sparse_categorical_accuracy: 0.8072 - val_loss: 1538.1866 - val_sparse_categorical_accuracy: 0.6905 - 1s/epoch - 5ms/step\n",
      "Epoch 92/100\n",
      "235/235 - 1s - loss: 806.7854 - sparse_categorical_accuracy: 0.8084 - val_loss: 687.7752 - val_sparse_categorical_accuracy: 0.7832 - 1s/epoch - 5ms/step\n",
      "Epoch 93/100\n",
      "235/235 - 1s - loss: 839.3655 - sparse_categorical_accuracy: 0.8093 - val_loss: 878.7781 - val_sparse_categorical_accuracy: 0.7726 - 1s/epoch - 4ms/step\n",
      "Epoch 94/100\n",
      "235/235 - 1s - loss: 874.3753 - sparse_categorical_accuracy: 0.8038 - val_loss: 629.3156 - val_sparse_categorical_accuracy: 0.8192 - 1s/epoch - 4ms/step\n",
      "Epoch 95/100\n",
      "235/235 - 1s - loss: 810.4395 - sparse_categorical_accuracy: 0.8067 - val_loss: 1969.8444 - val_sparse_categorical_accuracy: 0.7487 - 928ms/epoch - 4ms/step\n",
      "Epoch 96/100\n",
      "235/235 - 1s - loss: 812.2817 - sparse_categorical_accuracy: 0.8104 - val_loss: 1502.8204 - val_sparse_categorical_accuracy: 0.7435 - 953ms/epoch - 4ms/step\n",
      "Epoch 97/100\n",
      "235/235 - 1s - loss: 850.2674 - sparse_categorical_accuracy: 0.8061 - val_loss: 912.7809 - val_sparse_categorical_accuracy: 0.7849 - 925ms/epoch - 4ms/step\n",
      "Epoch 98/100\n",
      "235/235 - 1s - loss: 839.0594 - sparse_categorical_accuracy: 0.8061 - val_loss: 965.2830 - val_sparse_categorical_accuracy: 0.7463 - 926ms/epoch - 4ms/step\n"
     ]
    },
    {
     "name": "stdout",
     "output_type": "stream",
     "text": [
      "Epoch 99/100\n",
      "235/235 - 1s - loss: 843.6104 - sparse_categorical_accuracy: 0.8069 - val_loss: 795.9446 - val_sparse_categorical_accuracy: 0.7780 - 993ms/epoch - 4ms/step\n",
      "Epoch 100/100\n",
      "235/235 - 1s - loss: 852.5325 - sparse_categorical_accuracy: 0.8068 - val_loss: 513.9265 - val_sparse_categorical_accuracy: 0.8298 - 951ms/epoch - 4ms/step\n"
     ]
    }
   ],
   "source": [
    "# optimizer and loss\n",
    "model.compile(optimizer='sgd', \n",
    "              loss='sparse_categorical_crossentropy', \n",
    "              metrics=['sparse_categorical_accuracy'])\n",
    "\n",
    "# training\n",
    "history = model.fit(X_train, y_train, \n",
    "                    validation_data=(X_test, y_test), \n",
    "                    batch_size=256, epochs=100, verbose=2)"
   ]
  },
  {
   "cell_type": "code",
   "execution_count": null,
   "id": "8d593823",
   "metadata": {},
   "outputs": [],
   "source": []
  },
  {
   "cell_type": "code",
   "execution_count": 4,
   "id": "cb24715d",
   "metadata": {},
   "outputs": [
    {
     "data": {
      "text/plain": [
       "<matplotlib.legend.Legend at 0x1e9d6579940>"
      ]
     },
     "execution_count": 4,
     "metadata": {},
     "output_type": "execute_result"
    }
   ],
   "source": [
    "import matplotlib.pyplot as plt\n",
    "%matplotlib qt\n",
    "\n",
    "plt.plot(history.history['loss'], label='loss')\n",
    "plt.plot(history.history['val_loss'], label='val_loss')\n",
    "plt.xlabel('iteration')\n",
    "plt.ylabel('Loss')\n",
    "plt.legend()"
   ]
  },
  {
   "cell_type": "code",
   "execution_count": null,
   "id": "47fd3de4",
   "metadata": {},
   "outputs": [],
   "source": []
  },
  {
   "cell_type": "code",
   "execution_count": 5,
   "id": "aa4d1c1a",
   "metadata": {},
   "outputs": [
    {
     "data": {
      "text/plain": [
       "<matplotlib.legend.Legend at 0x1e9d1cce1f0>"
      ]
     },
     "execution_count": 5,
     "metadata": {},
     "output_type": "execute_result"
    }
   ],
   "source": [
    "import matplotlib.pyplot as plt\n",
    "%matplotlib qt\n",
    "\n",
    "plt.plot(history.history['sparse_categorical_accuracy'], label='train_accuracy')\n",
    "plt.plot(history.history['val_sparse_categorical_accuracy'], label='val_accuracy')\n",
    "plt.xlabel('iteration')\n",
    "plt.ylabel('Accuracy')\n",
    "plt.legend()"
   ]
  },
  {
   "cell_type": "code",
   "execution_count": null,
   "id": "a18a9155",
   "metadata": {},
   "outputs": [],
   "source": []
  }
 ],
 "metadata": {
  "kernelspec": {
   "display_name": "Python 3 (ipykernel)",
   "language": "python",
   "name": "python3"
  },
  "language_info": {
   "codemirror_mode": {
    "name": "ipython",
    "version": 3
   },
   "file_extension": ".py",
   "mimetype": "text/x-python",
   "name": "python",
   "nbconvert_exporter": "python",
   "pygments_lexer": "ipython3",
   "version": "3.9.13"
  }
 },
 "nbformat": 4,
 "nbformat_minor": 5
}
