{
 "cells": [
  {
   "cell_type": "code",
   "execution_count": 4,
   "id": "13372648-7803-4adb-afc6-8dd60baf8d54",
   "metadata": {},
   "outputs": [
    {
     "name": "stdout",
     "output_type": "stream",
     "text": [
      "tensor([[[ 0.9753,  0.3992, -1.3745],\n",
      "         [ 0.5835,  0.8239, -1.4074]]], grad_fn=<NativeLayerNormBackward0>)\n"
     ]
    }
   ],
   "source": [
    "import torch.nn as nn\n",
    "import torch\n",
    "\n",
    "# Initialize the TransformerEncoderLayer\n",
    "encoder_layer = nn.TransformerEncoderLayer(d_model=3, \n",
    "                                           nhead=1, \n",
    "                                           batch_first=True, \n",
    "                                           dim_feedforward=4,\n",
    "                                           dropout=0.0, \n",
    "                                           bias=False)\n",
    "\n",
    "# ---------------------  self_attn.in_proj_weight  --------\n",
    "in_proj_weight  = torch.tensor([[ 0.01,  0.33, -0.35],\n",
    "                                [-0.53,  0.46, -0.22],\n",
    "                                [-0.13, -0.67,  0.28],\n",
    "                                [ 0.64, -0.32, -0.59],\n",
    "                                [ 0.59, -0.43,  0.26],\n",
    "                                [-0.41,  0.68,  0.22],\n",
    "                                [ 0.52,  0.02, -0.57],\n",
    "                                [ 0.60, -0.52,  0.56],\n",
    "                                [-0.08, -0.29, -0.01]]).float()\n",
    "encoder_layer.self_attn.in_proj_weight = nn.Parameter(in_proj_weight)\n",
    "\n",
    "# ---------------------  self_attn.out_proj.weight  --------\n",
    "out_proj_weight  = torch.tensor([[ 0.45, -0.14, -0.43],\n",
    "                                 [ 0.41,  0.21,  0.25],\n",
    "                                 [-0.45, -0.52,  0.04]]).float()\n",
    "encoder_layer.self_attn.out_proj.weight = nn.Parameter(out_proj_weight)\n",
    "\n",
    "# ---------------------  linear1.weight  --------\n",
    "linear1_weight  = torch.tensor([[ 0.13, -0.38, -0.21],\n",
    "                                [ 0.27,  0.16,  0.26],\n",
    "                                [ 0.24, -0.01,  0.11],\n",
    "                                [-0.15, -0.27, -0.36]]).float()\n",
    "encoder_layer.linear1.weight = nn.Parameter(linear1_weight)\n",
    "\n",
    "# ---------------------  linear2.weight  --------\n",
    "linear2_weight  = torch.tensor([[ 0.36, -0.30,  0.29,  0.06],\n",
    "                                [-0.20, -0.25, -0.02, -0.10],\n",
    "                                [ 0.14,  0.03, -0.30, -0.23]]).float()\n",
    "encoder_layer.linear2.weight = nn.Parameter(linear2_weight)\n",
    "\n",
    "# ---------------------  norm1.weight  --------\n",
    "norm1_weight  = torch.tensor([1., 1., 1.]).float()\n",
    "encoder_layer.norm1.weight = nn.Parameter(norm1_weight)\n",
    "\n",
    "# ---------------------  norm2.weight  --------\n",
    "norm2_weight  = torch.tensor([1., 1., 1.]).float()\n",
    "encoder_layer.norm2.weight = nn.Parameter(norm2_weight)\n",
    "\n",
    "\n",
    "'''\n",
    "# Iterate through the parameters \n",
    "for name, param in encoder_layer.named_parameters():\n",
    "    print(f\"{name}: {param.size()}\")\n",
    "    print(param.shape)\n",
    "    print(param)\n",
    "    print()\n",
    "'''\n",
    "\n",
    "# run for a sample\n",
    "src = torch.Tensor([[[ 0.69,  0.72, -1.41],\n",
    "                     [ 0.21,  1.10, -1.31]]])\n",
    "out = encoder_layer(src)\n",
    "print(out)"
   ]
  },
  {
   "cell_type": "code",
   "execution_count": null,
   "id": "5c32168f-7f56-446f-975e-cf18da3e0092",
   "metadata": {},
   "outputs": [],
   "source": []
  },
  {
   "cell_type": "code",
   "execution_count": 7,
   "id": "6580aac3-8108-4389-b857-9fcf58bc50fc",
   "metadata": {},
   "outputs": [
    {
     "name": "stdout",
     "output_type": "stream",
     "text": [
      "tensor([[[ 0.7262,  0.1776, -0.0190],\n",
      "         [ 0.7279,  0.1864, -0.0325]]], grad_fn=<TransposeBackward0>)\n",
      "tensor([[[ 0.9063,  0.4871, -1.3933],\n",
      "         [ 0.5523,  0.8513, -1.4036]]], grad_fn=<NativeLayerNormBackward0>)\n",
      "tensor([[[ 0.9753,  0.3992, -1.3745],\n",
      "         [ 0.5835,  0.8239, -1.4074]]], grad_fn=<NativeLayerNormBackward0>)\n"
     ]
    }
   ],
   "source": [
    "# 1. self._sa_block(x)\n",
    "\n",
    "x = encoder_layer.self_attn(src, src, src)[0]\n",
    "print(x)\n",
    "\n",
    "# 2. self.norm1(x + self._sa_block(x))\n",
    "x = src + x\n",
    "x1 = encoder_layer.norm1(x)\n",
    "print(x1)\n",
    "\n",
    "# 3. self._ff_block(x)\n",
    "x = encoder_layer.linear2( torch.nn.ReLU()(encoder_layer.linear1(x1)) )\n",
    "\n",
    "# 4. self.norm2(x + self._ff_block(x))\n",
    "x = x + x1\n",
    "x = encoder_layer.norm2(x)\n",
    "print(x)"
   ]
  },
  {
   "cell_type": "code",
   "execution_count": null,
   "id": "ad1731fa-00aa-4189-b14f-dac223c4f882",
   "metadata": {},
   "outputs": [],
   "source": []
  },
  {
   "cell_type": "markdown",
   "id": "31df6e7f-4369-4610-a858-12f626a12c25",
   "metadata": {},
   "source": [
    "## Masked Encoder"
   ]
  },
  {
   "cell_type": "code",
   "execution_count": 9,
   "id": "82aea024-a60a-4f64-a5b6-b00f344755d7",
   "metadata": {},
   "outputs": [],
   "source": [
    "import torch.nn as nn\n",
    "import torch\n",
    "\n",
    "# Initialize the TransformerEncoderLayer\n",
    "encoder_layer = nn.TransformerEncoderLayer(d_model=3, \n",
    "                                           nhead=1, \n",
    "                                           batch_first=True, \n",
    "                                           dim_feedforward=4,\n",
    "                                           dropout=0.0, \n",
    "                                           bias=False)\n",
    "\n",
    "# ---------------------  self_attn.in_proj_weight  --------\n",
    "in_proj_weight  = torch.tensor([[ 0.01,  0.33, -0.35],\n",
    "                                [-0.53,  0.46, -0.22],\n",
    "                                [-0.13, -0.67,  0.28],\n",
    "                                [ 0.64, -0.32, -0.59],\n",
    "                                [ 0.59, -0.43,  0.26],\n",
    "                                [-0.41,  0.68,  0.22],\n",
    "                                [ 0.52,  0.02, -0.57],\n",
    "                                [ 0.60, -0.52,  0.56],\n",
    "                                [-0.08, -0.29, -0.01]]).float()\n",
    "encoder_layer.self_attn.in_proj_weight = nn.Parameter(in_proj_weight)\n",
    "\n",
    "# ---------------------  self_attn.out_proj.weight  --------\n",
    "out_proj_weight  = torch.tensor([[ 0.45, -0.14, -0.43],\n",
    "                                 [ 0.41,  0.21,  0.25],\n",
    "                                 [-0.45, -0.52,  0.04]]).float()\n",
    "encoder_layer.self_attn.out_proj.weight = nn.Parameter(out_proj_weight)\n",
    "\n",
    "# ---------------------  linear1.weight  --------\n",
    "linear1_weight  = torch.tensor([[ 0.13, -0.38, -0.21],\n",
    "                                [ 0.27,  0.16,  0.26],\n",
    "                                [ 0.24, -0.01,  0.11],\n",
    "                                [-0.15, -0.27, -0.36]]).float()\n",
    "encoder_layer.linear1.weight = nn.Parameter(linear1_weight)\n",
    "\n",
    "# ---------------------  linear2.weight  --------\n",
    "linear2_weight  = torch.tensor([[ 0.36, -0.30,  0.29,  0.06],\n",
    "                                [-0.20, -0.25, -0.02, -0.10],\n",
    "                                [ 0.14,  0.03, -0.30, -0.23]]).float()\n",
    "encoder_layer.linear2.weight = nn.Parameter(linear2_weight)\n",
    "\n",
    "# ---------------------  norm1.weight  --------\n",
    "norm1_weight  = torch.tensor([1., 1., 1.]).float()\n",
    "encoder_layer.norm1.weight = nn.Parameter(norm1_weight)\n",
    "\n",
    "# ---------------------  norm2.weight  --------\n",
    "norm2_weight  = torch.tensor([1., 1., 1.]).float()\n",
    "encoder_layer.norm2.weight = nn.Parameter(norm2_weight)"
   ]
  },
  {
   "cell_type": "code",
   "execution_count": 10,
   "id": "12b42995-fd2e-4547-ae07-1e22c4fbceb2",
   "metadata": {},
   "outputs": [
    {
     "name": "stdout",
     "output_type": "stream",
     "text": [
      "tensor([[False,  True,  True],\n",
      "        [False, False,  True],\n",
      "        [False, False, False]])\n"
     ]
    }
   ],
   "source": [
    "mask = torch.triu(torch.ones(3, 3), diagonal=1).bool()  \n",
    "print(mask)"
   ]
  },
  {
   "cell_type": "code",
   "execution_count": 11,
   "id": "09f777ed-281a-4daf-875c-4a6a7bbad1e5",
   "metadata": {},
   "outputs": [
    {
     "name": "stdout",
     "output_type": "stream",
     "text": [
      "tensor([[[ 0.9379,  0.4478, -1.3856],\n",
      "         [ 0.5835,  0.8239, -1.4074],\n",
      "         [-0.8576,  1.4026, -0.5450]]], grad_fn=<NativeLayerNormBackward0>)\n"
     ]
    }
   ],
   "source": [
    "# run for a sample\n",
    "src = torch.Tensor([[[ 0.69,  0.72, -1.41],\n",
    "                     [ 0.21,  1.10, -1.31],\n",
    "                     [-0.88,  0.60, -0.31]]])\n",
    "out = encoder_layer(src, src_mask=mask)\n",
    "print(out)"
   ]
  },
  {
   "cell_type": "code",
   "execution_count": null,
   "id": "1b241b5b-5eca-4942-b7dd-297d4038a37c",
   "metadata": {},
   "outputs": [],
   "source": []
  },
  {
   "cell_type": "code",
   "execution_count": 12,
   "id": "bcd9db0f-9d51-4d19-a1cd-38f3f631b1c8",
   "metadata": {},
   "outputs": [
    {
     "name": "stdout",
     "output_type": "stream",
     "text": [
      "tensor([[[ 0.7421,  0.2626, -0.1496],\n",
      "         [ 0.7279,  0.1864, -0.0325],\n",
      "         [ 0.5771,  0.0535,  0.1394]]], grad_fn=<TransposeBackward0>)\n",
      "tensor([[[ 0.8708,  0.5296, -1.4004],\n",
      "         [ 0.5523,  0.8513, -1.4036],\n",
      "         [-0.8576,  1.4026, -0.5450]]], grad_fn=<NativeLayerNormBackward0>)\n",
      "tensor([[[ 0.9379,  0.4478, -1.3856],\n",
      "         [ 0.5835,  0.8239, -1.4074],\n",
      "         [-0.8576,  1.4026, -0.5450]]], grad_fn=<NativeLayerNormBackward0>)\n"
     ]
    }
   ],
   "source": [
    "# 1. self._sa_block(x)\n",
    "\n",
    "x = encoder_layer.self_attn(src, src, src, attn_mask=mask)[0]\n",
    "print(x)\n",
    "\n",
    "# 2. self.norm1(x + self._sa_block(x))\n",
    "x = src + x\n",
    "x1 = encoder_layer.norm1(x)\n",
    "print(x1)\n",
    "\n",
    "# 3. self._ff_block(x)\n",
    "x = encoder_layer.linear2( torch.nn.ReLU()(encoder_layer.linear1(x1)) )\n",
    "\n",
    "# 4. self.norm2(x + self._ff_block(x))\n",
    "x = x + x1\n",
    "x = encoder_layer.norm2(x)\n",
    "print(x)"
   ]
  },
  {
   "cell_type": "code",
   "execution_count": null,
   "id": "e5252332-1d55-4ec7-968e-943248880ccd",
   "metadata": {},
   "outputs": [],
   "source": []
  },
  {
   "cell_type": "markdown",
   "id": "659ffa92-5a44-42cd-b0ac-19509fdff031",
   "metadata": {},
   "source": [
    "## Transformer"
   ]
  },
  {
   "cell_type": "code",
   "execution_count": 1,
   "id": "ce96c1b8-bdf4-4d9d-914f-76263a72854b",
   "metadata": {},
   "outputs": [
    {
     "name": "stdout",
     "output_type": "stream",
     "text": [
      "tensor([[[-0.8104, -0.5985,  1.4089],\n",
      "         [-1.0062, -0.3575,  1.3637]]], grad_fn=<NativeLayerNormBackward0>)\n"
     ]
    }
   ],
   "source": [
    "import torch.nn as nn\n",
    "import torch\n",
    "\n",
    "# Encoder\n",
    "encoder_layer = nn.TransformerEncoderLayer(d_model=3, \n",
    "                                           nhead=1, \n",
    "                                           batch_first=True,\n",
    "                                           dim_feedforward=4,\n",
    "                                           dropout=0.0, \n",
    "                                           bias=False)\n",
    "\n",
    "# test\n",
    "src = torch.Tensor([[[0.48, 0.44, 0.71],\n",
    "                     [0.65, 0.80, 0.79]]])\n",
    "context = encoder_layer(src)\n",
    "print(context)"
   ]
  },
  {
   "cell_type": "code",
   "execution_count": null,
   "id": "b537a490-16e3-49ed-8f13-f83c73b2ba7f",
   "metadata": {},
   "outputs": [],
   "source": []
  },
  {
   "cell_type": "code",
   "execution_count": 3,
   "id": "3817e807-c4c4-495f-8429-8de3513de5de",
   "metadata": {},
   "outputs": [
    {
     "name": "stdout",
     "output_type": "stream",
     "text": [
      "tensor([[[ 0.6339,  0.7778, -1.4118],\n",
      "         [ 1.3819, -0.9513, -0.4305],\n",
      "         [-1.3955,  0.8962,  0.4993],\n",
      "         [ 1.2710, -0.0984, -1.1726]]], grad_fn=<NativeLayerNormBackward0>)\n"
     ]
    }
   ],
   "source": [
    "decoder_layer = nn.TransformerDecoderLayer(d_model=3, \n",
    "                                           nhead=1, \n",
    "                                           batch_first=True,\n",
    "                                           dim_feedforward=4,\n",
    "                                           dropout=0.0, \n",
    "                                           bias=False)\n",
    "\n",
    "# test\n",
    "target = torch.Tensor( [[[0.3516, 0.9509, 0.2771],\n",
    "                         [0.1993, 0.0177, 0.2628],\n",
    "                         [0.0774, 0.5253, 0.6413],\n",
    "                         [0.6749, 0.5501, 0.1641]]])\n",
    "out = decoder_layer(target, context)\n",
    "print(out)"
   ]
  },
  {
   "cell_type": "code",
   "execution_count": null,
   "id": "8dc51e03-b09b-4da7-8e5b-9cca9bf8fd11",
   "metadata": {},
   "outputs": [],
   "source": []
  },
  {
   "cell_type": "code",
   "execution_count": 4,
   "id": "dee0aa21-4a7c-486a-a787-8568d3ab89c0",
   "metadata": {},
   "outputs": [
    {
     "name": "stdout",
     "output_type": "stream",
     "text": [
      "tensor([[[-0.8104, -0.5985,  1.4089],\n",
      "         [-1.0062, -0.3575,  1.3637]]], grad_fn=<NativeLayerNormBackward0>)\n"
     ]
    }
   ],
   "source": [
    "# 1. self._sa_block(x)\n",
    "x = encoder_layer.self_attn(src, src, src)[0]\n",
    "\n",
    "# 2. self.norm1(x + self._sa_block(x))\n",
    "x = src + x\n",
    "x1 = encoder_layer.norm1(x)\n",
    "\n",
    "# 3. self._ff_block(x)\n",
    "x = encoder_layer.linear2( torch.nn.ReLU()(encoder_layer.linear1(x1)) )\n",
    "\n",
    "# 4. self.norm2(x + self._ff_block(x))\n",
    "x = x + x1\n",
    "x = encoder_layer.norm2(x)\n",
    "print(x)"
   ]
  },
  {
   "cell_type": "code",
   "execution_count": null,
   "id": "c3134460-bb7a-4ea9-8429-e7427d511477",
   "metadata": {},
   "outputs": [],
   "source": [
    "# x = self.norm1( x + self._sa_block(x) )\n",
    "# x = self.norm2( x + self._mha_block(x, memory) )\n",
    "# x = self.norm3( x + self._ff_block(x) )"
   ]
  },
  {
   "cell_type": "code",
   "execution_count": 5,
   "id": "5f9e6afb-8909-41a9-aa93-2363c93b435e",
   "metadata": {},
   "outputs": [
    {
     "name": "stdout",
     "output_type": "stream",
     "text": [
      "torch.Size([1, 4, 3])\n",
      "torch.Size([1, 4, 3])\n",
      "tensor([[[ 0.6339,  0.7778, -1.4118],\n",
      "         [ 1.3819, -0.9513, -0.4305],\n",
      "         [-1.3955,  0.8962,  0.4993],\n",
      "         [ 1.2710, -0.0984, -1.1726]]], grad_fn=<NativeLayerNormBackward0>)\n"
     ]
    }
   ],
   "source": [
    "# 1. self._sa_block(x, tgt_mask)\n",
    "#mask = torch.triu(torch.ones(4, 4), diagonal=1).bool()  \n",
    "#print(mask)   , attn_mask=mask\n",
    "x = decoder_layer.self_attn(target, target, target)[0]\n",
    "print(x.shape)\n",
    "\n",
    "# 2. self.norm1(x + self._sa_block(x, tgt_mask))\n",
    "x = target + x\n",
    "x1 = decoder_layer.norm1(x)\n",
    "print(x1.shape)\n",
    "\n",
    "# 3. self.norm2( x + self._mha_block(x, memory) )\n",
    "x = decoder_layer.multihead_attn(x1, context, context)[0]\n",
    "x2 = decoder_layer.norm2(x + x1)\n",
    "\n",
    "# 4. x = self.norm3(x + self._ff_block(x))\n",
    "x = decoder_layer.linear2( torch.nn.ReLU()(decoder_layer.linear1(x2)) )\n",
    "x = decoder_layer.norm3(x + x2)\n",
    "print(x)"
   ]
  },
  {
   "cell_type": "code",
   "execution_count": null,
   "id": "1b5bdb7b-cbee-442f-90cc-255a1f6252a4",
   "metadata": {},
   "outputs": [],
   "source": [
    "tensor([[[-0.3143,  1.3513, -1.0370],\n",
    "         [ 1.0661, -1.3378,  0.2717],\n",
    "         [-1.3103,  0.1943,  1.1160],\n",
    "         [ 1.0749,  0.2584, -1.3333]]], grad_fn=<NativeLayerNormBackward0>)"
   ]
  },
  {
   "cell_type": "code",
   "execution_count": null,
   "id": "eacc0ac1-ce5b-4d08-9b7e-b84bde52eda6",
   "metadata": {},
   "outputs": [],
   "source": []
  },
  {
   "cell_type": "markdown",
   "id": "31f8c045-5cc6-4ae6-aa8f-59efce5fd74b",
   "metadata": {},
   "source": [
    "## Masked Transformer"
   ]
  },
  {
   "cell_type": "code",
   "execution_count": 42,
   "id": "89447bdc-2da4-40dc-b20e-7d4884330f5f",
   "metadata": {},
   "outputs": [
    {
     "name": "stdout",
     "output_type": "stream",
     "text": [
      "tensor([[[-1.1026,  1.3182, -0.2156],\n",
      "         [-0.8696, -0.5311,  1.4006],\n",
      "         [-1.3835,  0.4381,  0.9454],\n",
      "         [ 0.0779,  1.1839, -1.2618]]], grad_fn=<NativeLayerNormBackward0>)\n"
     ]
    }
   ],
   "source": [
    "# Encoder\n",
    "encoder_layer = nn.TransformerEncoderLayer(d_model=3, \n",
    "                                           nhead=1, \n",
    "                                           batch_first=True,\n",
    "                                           dim_feedforward=4,\n",
    "                                           dropout=0.0, \n",
    "                                           bias=False)\n",
    "\n",
    "decoder_layer = nn.TransformerDecoderLayer(d_model=3, \n",
    "                                           nhead=1, \n",
    "                                           batch_first=True,\n",
    "                                           dim_feedforward=4,\n",
    "                                           dropout=0.0, \n",
    "                                           bias=False)\n",
    "\n",
    "\n",
    "# test\n",
    "src = torch.Tensor([[[0.48, 0.44, 0.71],\n",
    "                     [0.65, 0.80, 0.79]]])\n",
    "\n",
    "target = torch.Tensor( [[[0.3516, 0.9509, 0.2771],\n",
    "                         [0.1993, 0.0177, 0.2628],\n",
    "                         [0.0774, 0.5253, 0.6413],\n",
    "                         [0.6749, 0.5501, 0.1641]]])\n",
    "\n",
    "context = encoder_layer(src)\n",
    "mask = torch.triu(torch.ones(4, 4), diagonal=1).bool()  \n",
    "out = decoder_layer(tgt, context, tgt_mask=mask)\n",
    "print(out)"
   ]
  },
  {
   "cell_type": "code",
   "execution_count": null,
   "id": "91ef397f-4b4c-4a68-a32d-4537f2e14507",
   "metadata": {},
   "outputs": [],
   "source": []
  },
  {
   "cell_type": "code",
   "execution_count": 44,
   "id": "a6b27344-92fa-4c19-9fcf-d88e72a017b5",
   "metadata": {},
   "outputs": [
    {
     "name": "stdout",
     "output_type": "stream",
     "text": [
      "tensor([[[-1.1026,  1.3182, -0.2156],\n",
      "         [-0.8696, -0.5311,  1.4006],\n",
      "         [-1.3835,  0.4381,  0.9454],\n",
      "         [ 0.0779,  1.1839, -1.2618]]], grad_fn=<NativeLayerNormBackward0>)\n"
     ]
    }
   ],
   "source": [
    "# encoder_layer\n",
    "x = encoder_layer.self_attn(src, src, src)[0]\n",
    "x = src + x\n",
    "x1 = encoder_layer.norm1(x)\n",
    "x = encoder_layer.linear2( torch.nn.ReLU()(encoder_layer.linear1(x1)) )\n",
    "x = x + x1\n",
    "context = encoder_layer.norm2(x)\n",
    "\n",
    "# decoder_layer\n",
    "mask = torch.triu(torch.ones(4, 4), diagonal=1).bool() \n",
    "x = decoder_layer.self_attn(target, target, target, attn_mask=mask)[0]\n",
    "x = target + x\n",
    "x1 = decoder_layer.norm1(x)\n",
    "x = decoder_layer.multihead_attn(x1, context, context)[0]\n",
    "x2 = decoder_layer.norm2(x + x1)\n",
    "x = decoder_layer.linear2( torch.nn.ReLU()(decoder_layer.linear1(x2)) )\n",
    "x = decoder_layer.norm3(x + x2)\n",
    "print(x)"
   ]
  },
  {
   "cell_type": "code",
   "execution_count": null,
   "id": "5743427e-91e7-4f09-a801-39b45582049a",
   "metadata": {},
   "outputs": [],
   "source": []
  },
  {
   "cell_type": "code",
   "execution_count": null,
   "id": "325a4596-91f7-4017-aa00-2e6b1c6cc93c",
   "metadata": {},
   "outputs": [],
   "source": [
    "tensor([[[-1.1026,  1.3182, -0.2156],\n",
    "         [-0.8696, -0.5311,  1.4006],\n",
    "         [-1.3835,  0.4381,  0.9454],\n",
    "         [ 0.0779,  1.1839, -1.2618]]], grad_fn=<NativeLayerNormBackward0>)"
   ]
  },
  {
   "cell_type": "code",
   "execution_count": null,
   "id": "a7429a5c-f1cb-4b53-8824-7c118a1c8795",
   "metadata": {},
   "outputs": [],
   "source": []
  }
 ],
 "metadata": {
  "kernelspec": {
   "display_name": "Python 3 (ipykernel)",
   "language": "python",
   "name": "python3"
  },
  "language_info": {
   "codemirror_mode": {
    "name": "ipython",
    "version": 3
   },
   "file_extension": ".py",
   "mimetype": "text/x-python",
   "name": "python",
   "nbconvert_exporter": "python",
   "pygments_lexer": "ipython3",
   "version": "3.9.18"
  }
 },
 "nbformat": 4,
 "nbformat_minor": 5
}
