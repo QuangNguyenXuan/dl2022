{
 "cells": [
  {
   "cell_type": "code",
   "execution_count": 1,
   "id": "5cc812ca",
   "metadata": {},
   "outputs": [
    {
     "name": "stdout",
     "output_type": "stream",
     "text": [
      "(60000, 28, 28)\n",
      "(60000,)\n",
      "(10000, 28, 28)\n",
      "(10000,)\n"
     ]
    }
   ],
   "source": [
    "# fashion_mnist\n",
    "import tensorflow as tf\n",
    "from tensorflow import keras\n",
    "import numpy as np\n",
    "\n",
    "(X_train, y_train), (X_test, y_test) = keras.datasets.fashion_mnist.load_data()\n",
    "print(X_train.shape)\n",
    "print(y_train.shape)\n",
    "print(X_test.shape)\n",
    "print(y_test.shape)"
   ]
  },
  {
   "cell_type": "code",
   "execution_count": null,
   "id": "bb902098",
   "metadata": {},
   "outputs": [],
   "source": []
  },
  {
   "cell_type": "code",
   "execution_count": 2,
   "id": "6c926c32",
   "metadata": {},
   "outputs": [
    {
     "name": "stdout",
     "output_type": "stream",
     "text": [
      "(60000, 784)\n",
      "(60000,)\n",
      "(10000, 784)\n",
      "(10000,)\n"
     ]
    }
   ],
   "source": [
    "X_train = X_train.reshape(60000, -1)\n",
    "X_test  = X_test.reshape(10000, -1)\n",
    "\n",
    "print(X_train.shape)\n",
    "print(y_train.shape)\n",
    "print(X_test.shape)\n",
    "print(y_test.shape)"
   ]
  },
  {
   "cell_type": "code",
   "execution_count": null,
   "id": "3d543602",
   "metadata": {},
   "outputs": [],
   "source": []
  },
  {
   "cell_type": "code",
   "execution_count": 3,
   "id": "c0f0dbc8",
   "metadata": {},
   "outputs": [],
   "source": [
    "class StepFunction(tf.keras.layers.Layer):\n",
    "    def __init__(self):\n",
    "        super(StepFunction, self).__init__()\n",
    "\n",
    "    def call(self, inputs):\n",
    "        return tf.round(tf.nn.sigmoid(inputs))"
   ]
  },
  {
   "cell_type": "code",
   "execution_count": null,
   "id": "f54613b6",
   "metadata": {},
   "outputs": [],
   "source": []
  },
  {
   "cell_type": "code",
   "execution_count": 4,
   "id": "cf3d5a74",
   "metadata": {},
   "outputs": [
    {
     "name": "stdout",
     "output_type": "stream",
     "text": [
      "tf.Tensor([1. 0. 1.], shape=(3,), dtype=float32)\n"
     ]
    }
   ],
   "source": [
    "data = tf.convert_to_tensor([3.0, -2.0, 1.0], dtype=tf.float32)\n",
    "layer = StepFunction()\n",
    "output = layer(data)\n",
    "print(output)"
   ]
  },
  {
   "cell_type": "code",
   "execution_count": null,
   "id": "5056c7dc",
   "metadata": {},
   "outputs": [],
   "source": []
  },
  {
   "cell_type": "code",
   "execution_count": 6,
   "id": "c460ca13",
   "metadata": {},
   "outputs": [
    {
     "name": "stdout",
     "output_type": "stream",
     "text": [
      "Model: \"sequential_1\"\n",
      "_________________________________________________________________\n",
      " Layer (type)                Output Shape              Param #   \n",
      "=================================================================\n",
      " dense_2 (Dense)             (None, 128)               100480    \n",
      "                                                                 \n",
      " step_function_2 (StepFuncti  (None, 128)              0         \n",
      " on)                                                             \n",
      "                                                                 \n",
      " dense_3 (Dense)             (None, 10)                1290      \n",
      "                                                                 \n",
      " softmax_1 (Softmax)         (None, 10)                0         \n",
      "                                                                 \n",
      "=================================================================\n",
      "Total params: 101,770\n",
      "Trainable params: 101,770\n",
      "Non-trainable params: 0\n",
      "_________________________________________________________________\n"
     ]
    }
   ],
   "source": [
    "import tensorflow as tf\n",
    "import tensorflow.keras as keras\n",
    "\n",
    "# set seed\n",
    "tf.random.set_seed(1234)\n",
    "\n",
    "# create model\n",
    "model = keras.Sequential()\n",
    "model.add(keras.Input(shape=(784,)))\n",
    "model.add(keras.layers.Dense(128))\n",
    "model.add(StepFunction())\n",
    "model.add(keras.layers.Dense(10))\n",
    "model.add(tf.keras.layers.Softmax())\n",
    "model.summary()"
   ]
  },
  {
   "cell_type": "code",
   "execution_count": null,
   "id": "7b2c2e17",
   "metadata": {},
   "outputs": [],
   "source": []
  },
  {
   "cell_type": "code",
   "execution_count": 7,
   "id": "a6539113",
   "metadata": {},
   "outputs": [
    {
     "name": "stdout",
     "output_type": "stream",
     "text": [
      "Epoch 1/100\n",
      "WARNING:tensorflow:Gradients do not exist for variables ['dense_2/kernel:0', 'dense_2/bias:0'] when minimizing the loss. If you're using `model.compile()`, did you forget to provide a `loss`argument?\n",
      "WARNING:tensorflow:Gradients do not exist for variables ['dense_2/kernel:0', 'dense_2/bias:0'] when minimizing the loss. If you're using `model.compile()`, did you forget to provide a `loss`argument?\n",
      "235/235 - 1s - loss: 2.6033 - sparse_categorical_accuracy: 0.0749 - val_loss: 2.4735 - val_sparse_categorical_accuracy: 0.0928 - 896ms/epoch - 4ms/step\n",
      "Epoch 2/100\n",
      "235/235 - 1s - loss: 2.3967 - sparse_categorical_accuracy: 0.1168 - val_loss: 2.3354 - val_sparse_categorical_accuracy: 0.1297 - 555ms/epoch - 2ms/step\n",
      "Epoch 3/100\n",
      "235/235 - 1s - loss: 2.2783 - sparse_categorical_accuracy: 0.1569 - val_loss: 2.2307 - val_sparse_categorical_accuracy: 0.1693 - 542ms/epoch - 2ms/step\n",
      "Epoch 4/100\n",
      "235/235 - 1s - loss: 2.1799 - sparse_categorical_accuracy: 0.1938 - val_loss: 2.1382 - val_sparse_categorical_accuracy: 0.2075 - 536ms/epoch - 2ms/step\n",
      "Epoch 5/100\n",
      "235/235 - 1s - loss: 2.0916 - sparse_categorical_accuracy: 0.2321 - val_loss: 2.0546 - val_sparse_categorical_accuracy: 0.2475 - 534ms/epoch - 2ms/step\n",
      "Epoch 6/100\n",
      "235/235 - 1s - loss: 2.0115 - sparse_categorical_accuracy: 0.2717 - val_loss: 1.9786 - val_sparse_categorical_accuracy: 0.2868 - 535ms/epoch - 2ms/step\n",
      "Epoch 7/100\n",
      "235/235 - 1s - loss: 1.9386 - sparse_categorical_accuracy: 0.3088 - val_loss: 1.9095 - val_sparse_categorical_accuracy: 0.3231 - 539ms/epoch - 2ms/step\n",
      "Epoch 8/100\n",
      "235/235 - 1s - loss: 1.8723 - sparse_categorical_accuracy: 0.3421 - val_loss: 1.8466 - val_sparse_categorical_accuracy: 0.3524 - 536ms/epoch - 2ms/step\n",
      "Epoch 9/100\n",
      "235/235 - 1s - loss: 1.8117 - sparse_categorical_accuracy: 0.3728 - val_loss: 1.7891 - val_sparse_categorical_accuracy: 0.3836 - 537ms/epoch - 2ms/step\n",
      "Epoch 10/100\n",
      "235/235 - 1s - loss: 1.7563 - sparse_categorical_accuracy: 0.3995 - val_loss: 1.7365 - val_sparse_categorical_accuracy: 0.4089 - 539ms/epoch - 2ms/step\n",
      "Epoch 11/100\n",
      "235/235 - 1s - loss: 1.7055 - sparse_categorical_accuracy: 0.4249 - val_loss: 1.6883 - val_sparse_categorical_accuracy: 0.4320 - 534ms/epoch - 2ms/step\n",
      "Epoch 12/100\n",
      "235/235 - 1s - loss: 1.6588 - sparse_categorical_accuracy: 0.4462 - val_loss: 1.6439 - val_sparse_categorical_accuracy: 0.4520 - 568ms/epoch - 2ms/step\n",
      "Epoch 13/100\n",
      "235/235 - 1s - loss: 1.6158 - sparse_categorical_accuracy: 0.4659 - val_loss: 1.6030 - val_sparse_categorical_accuracy: 0.4721 - 537ms/epoch - 2ms/step\n",
      "Epoch 14/100\n",
      "235/235 - 1s - loss: 1.5760 - sparse_categorical_accuracy: 0.4833 - val_loss: 1.5652 - val_sparse_categorical_accuracy: 0.4869 - 538ms/epoch - 2ms/step\n",
      "Epoch 15/100\n",
      "235/235 - 1s - loss: 1.5392 - sparse_categorical_accuracy: 0.4993 - val_loss: 1.5301 - val_sparse_categorical_accuracy: 0.5014 - 548ms/epoch - 2ms/step\n",
      "Epoch 16/100\n",
      "235/235 - 1s - loss: 1.5050 - sparse_categorical_accuracy: 0.5154 - val_loss: 1.4975 - val_sparse_categorical_accuracy: 0.5134 - 555ms/epoch - 2ms/step\n",
      "Epoch 17/100\n",
      "235/235 - 1s - loss: 1.4731 - sparse_categorical_accuracy: 0.5288 - val_loss: 1.4672 - val_sparse_categorical_accuracy: 0.5276 - 535ms/epoch - 2ms/step\n",
      "Epoch 18/100\n",
      "235/235 - 1s - loss: 1.4434 - sparse_categorical_accuracy: 0.5416 - val_loss: 1.4388 - val_sparse_categorical_accuracy: 0.5381 - 545ms/epoch - 2ms/step\n",
      "Epoch 19/100\n",
      "235/235 - 1s - loss: 1.4156 - sparse_categorical_accuracy: 0.5527 - val_loss: 1.4123 - val_sparse_categorical_accuracy: 0.5494 - 539ms/epoch - 2ms/step\n",
      "Epoch 20/100\n",
      "235/235 - 1s - loss: 1.3896 - sparse_categorical_accuracy: 0.5634 - val_loss: 1.3875 - val_sparse_categorical_accuracy: 0.5586 - 562ms/epoch - 2ms/step\n",
      "Epoch 21/100\n",
      "235/235 - 1s - loss: 1.3652 - sparse_categorical_accuracy: 0.5735 - val_loss: 1.3642 - val_sparse_categorical_accuracy: 0.5678 - 546ms/epoch - 2ms/step\n",
      "Epoch 22/100\n",
      "235/235 - 1s - loss: 1.3422 - sparse_categorical_accuracy: 0.5838 - val_loss: 1.3423 - val_sparse_categorical_accuracy: 0.5767 - 542ms/epoch - 2ms/step\n",
      "Epoch 23/100\n",
      "235/235 - 1s - loss: 1.3206 - sparse_categorical_accuracy: 0.5928 - val_loss: 1.3217 - val_sparse_categorical_accuracy: 0.5846 - 537ms/epoch - 2ms/step\n",
      "Epoch 24/100\n",
      "235/235 - 1s - loss: 1.3002 - sparse_categorical_accuracy: 0.6010 - val_loss: 1.3022 - val_sparse_categorical_accuracy: 0.5914 - 544ms/epoch - 2ms/step\n",
      "Epoch 25/100\n",
      "235/235 - 1s - loss: 1.2809 - sparse_categorical_accuracy: 0.6071 - val_loss: 1.2838 - val_sparse_categorical_accuracy: 0.5991 - 551ms/epoch - 2ms/step\n",
      "Epoch 26/100\n",
      "235/235 - 1s - loss: 1.2627 - sparse_categorical_accuracy: 0.6144 - val_loss: 1.2664 - val_sparse_categorical_accuracy: 0.6057 - 538ms/epoch - 2ms/step\n",
      "Epoch 27/100\n",
      "235/235 - 1s - loss: 1.2455 - sparse_categorical_accuracy: 0.6200 - val_loss: 1.2499 - val_sparse_categorical_accuracy: 0.6111 - 549ms/epoch - 2ms/step\n",
      "Epoch 28/100\n",
      "235/235 - 1s - loss: 1.2291 - sparse_categorical_accuracy: 0.6264 - val_loss: 1.2342 - val_sparse_categorical_accuracy: 0.6168 - 544ms/epoch - 2ms/step\n",
      "Epoch 29/100\n",
      "235/235 - 1s - loss: 1.2135 - sparse_categorical_accuracy: 0.6311 - val_loss: 1.2193 - val_sparse_categorical_accuracy: 0.6216 - 542ms/epoch - 2ms/step\n",
      "Epoch 30/100\n",
      "235/235 - 1s - loss: 1.1988 - sparse_categorical_accuracy: 0.6360 - val_loss: 1.2052 - val_sparse_categorical_accuracy: 0.6271 - 538ms/epoch - 2ms/step\n",
      "Epoch 31/100\n",
      "235/235 - 1s - loss: 1.1847 - sparse_categorical_accuracy: 0.6408 - val_loss: 1.1917 - val_sparse_categorical_accuracy: 0.6324 - 547ms/epoch - 2ms/step\n",
      "Epoch 32/100\n",
      "235/235 - 1s - loss: 1.1713 - sparse_categorical_accuracy: 0.6448 - val_loss: 1.1789 - val_sparse_categorical_accuracy: 0.6363 - 533ms/epoch - 2ms/step\n",
      "Epoch 33/100\n",
      "235/235 - 1s - loss: 1.1585 - sparse_categorical_accuracy: 0.6498 - val_loss: 1.1666 - val_sparse_categorical_accuracy: 0.6400 - 538ms/epoch - 2ms/step\n",
      "Epoch 34/100\n",
      "235/235 - 1s - loss: 1.1463 - sparse_categorical_accuracy: 0.6530 - val_loss: 1.1549 - val_sparse_categorical_accuracy: 0.6440 - 539ms/epoch - 2ms/step\n",
      "Epoch 35/100\n",
      "235/235 - 1s - loss: 1.1346 - sparse_categorical_accuracy: 0.6574 - val_loss: 1.1438 - val_sparse_categorical_accuracy: 0.6474 - 546ms/epoch - 2ms/step\n",
      "Epoch 36/100\n",
      "235/235 - 1s - loss: 1.1234 - sparse_categorical_accuracy: 0.6600 - val_loss: 1.1331 - val_sparse_categorical_accuracy: 0.6508 - 534ms/epoch - 2ms/step\n",
      "Epoch 37/100\n",
      "235/235 - 1s - loss: 1.1127 - sparse_categorical_accuracy: 0.6638 - val_loss: 1.1228 - val_sparse_categorical_accuracy: 0.6535 - 559ms/epoch - 2ms/step\n",
      "Epoch 38/100\n",
      "235/235 - 1s - loss: 1.1024 - sparse_categorical_accuracy: 0.6661 - val_loss: 1.1130 - val_sparse_categorical_accuracy: 0.6566 - 536ms/epoch - 2ms/step\n",
      "Epoch 39/100\n",
      "235/235 - 1s - loss: 1.0926 - sparse_categorical_accuracy: 0.6690 - val_loss: 1.1035 - val_sparse_categorical_accuracy: 0.6603 - 537ms/epoch - 2ms/step\n",
      "Epoch 40/100\n",
      "235/235 - 1s - loss: 1.0832 - sparse_categorical_accuracy: 0.6722 - val_loss: 1.0945 - val_sparse_categorical_accuracy: 0.6640 - 564ms/epoch - 2ms/step\n",
      "Epoch 41/100\n",
      "235/235 - 1s - loss: 1.0741 - sparse_categorical_accuracy: 0.6747 - val_loss: 1.0858 - val_sparse_categorical_accuracy: 0.6662 - 552ms/epoch - 2ms/step\n",
      "Epoch 42/100\n",
      "235/235 - 1s - loss: 1.0654 - sparse_categorical_accuracy: 0.6774 - val_loss: 1.0774 - val_sparse_categorical_accuracy: 0.6682 - 536ms/epoch - 2ms/step\n",
      "Epoch 43/100\n",
      "235/235 - 1s - loss: 1.0570 - sparse_categorical_accuracy: 0.6795 - val_loss: 1.0694 - val_sparse_categorical_accuracy: 0.6705 - 540ms/epoch - 2ms/step\n",
      "Epoch 44/100\n",
      "235/235 - 1s - loss: 1.0489 - sparse_categorical_accuracy: 0.6814 - val_loss: 1.0616 - val_sparse_categorical_accuracy: 0.6724 - 549ms/epoch - 2ms/step\n",
      "Epoch 45/100\n",
      "235/235 - 1s - loss: 1.0411 - sparse_categorical_accuracy: 0.6836 - val_loss: 1.0542 - val_sparse_categorical_accuracy: 0.6743 - 546ms/epoch - 2ms/step\n",
      "Epoch 46/100\n",
      "235/235 - 1s - loss: 1.0336 - sparse_categorical_accuracy: 0.6853 - val_loss: 1.0470 - val_sparse_categorical_accuracy: 0.6762 - 548ms/epoch - 2ms/step\n",
      "Epoch 47/100\n",
      "235/235 - 1s - loss: 1.0264 - sparse_categorical_accuracy: 0.6875 - val_loss: 1.0400 - val_sparse_categorical_accuracy: 0.6775 - 528ms/epoch - 2ms/step\n",
      "Epoch 48/100\n",
      "235/235 - 1s - loss: 1.0193 - sparse_categorical_accuracy: 0.6890 - val_loss: 1.0333 - val_sparse_categorical_accuracy: 0.6801 - 536ms/epoch - 2ms/step\n"
     ]
    },
    {
     "name": "stdout",
     "output_type": "stream",
     "text": [
      "Epoch 49/100\n",
      "235/235 - 1s - loss: 1.0126 - sparse_categorical_accuracy: 0.6911 - val_loss: 1.0268 - val_sparse_categorical_accuracy: 0.6818 - 536ms/epoch - 2ms/step\n",
      "Epoch 50/100\n",
      "235/235 - 1s - loss: 1.0061 - sparse_categorical_accuracy: 0.6923 - val_loss: 1.0205 - val_sparse_categorical_accuracy: 0.6823 - 543ms/epoch - 2ms/step\n",
      "Epoch 51/100\n",
      "235/235 - 1s - loss: 0.9997 - sparse_categorical_accuracy: 0.6944 - val_loss: 1.0145 - val_sparse_categorical_accuracy: 0.6844 - 582ms/epoch - 2ms/step\n",
      "Epoch 52/100\n",
      "235/235 - 1s - loss: 0.9936 - sparse_categorical_accuracy: 0.6954 - val_loss: 1.0086 - val_sparse_categorical_accuracy: 0.6865 - 551ms/epoch - 2ms/step\n",
      "Epoch 53/100\n",
      "235/235 - 1s - loss: 0.9877 - sparse_categorical_accuracy: 0.6964 - val_loss: 1.0030 - val_sparse_categorical_accuracy: 0.6873 - 601ms/epoch - 3ms/step\n",
      "Epoch 54/100\n",
      "235/235 - 1s - loss: 0.9820 - sparse_categorical_accuracy: 0.6979 - val_loss: 0.9975 - val_sparse_categorical_accuracy: 0.6891 - 567ms/epoch - 2ms/step\n",
      "Epoch 55/100\n",
      "235/235 - 1s - loss: 0.9764 - sparse_categorical_accuracy: 0.6993 - val_loss: 0.9921 - val_sparse_categorical_accuracy: 0.6897 - 570ms/epoch - 2ms/step\n",
      "Epoch 56/100\n",
      "235/235 - 1s - loss: 0.9711 - sparse_categorical_accuracy: 0.7007 - val_loss: 0.9870 - val_sparse_categorical_accuracy: 0.6910 - 585ms/epoch - 2ms/step\n",
      "Epoch 57/100\n",
      "235/235 - 1s - loss: 0.9658 - sparse_categorical_accuracy: 0.7020 - val_loss: 0.9819 - val_sparse_categorical_accuracy: 0.6927 - 537ms/epoch - 2ms/step\n",
      "Epoch 58/100\n",
      "235/235 - 1s - loss: 0.9608 - sparse_categorical_accuracy: 0.7032 - val_loss: 0.9771 - val_sparse_categorical_accuracy: 0.6945 - 533ms/epoch - 2ms/step\n",
      "Epoch 59/100\n",
      "235/235 - 1s - loss: 0.9559 - sparse_categorical_accuracy: 0.7043 - val_loss: 0.9724 - val_sparse_categorical_accuracy: 0.6949 - 534ms/epoch - 2ms/step\n",
      "Epoch 60/100\n",
      "235/235 - 1s - loss: 0.9511 - sparse_categorical_accuracy: 0.7054 - val_loss: 0.9678 - val_sparse_categorical_accuracy: 0.6958 - 566ms/epoch - 2ms/step\n",
      "Epoch 61/100\n",
      "235/235 - 1s - loss: 0.9464 - sparse_categorical_accuracy: 0.7061 - val_loss: 0.9633 - val_sparse_categorical_accuracy: 0.6971 - 578ms/epoch - 2ms/step\n",
      "Epoch 62/100\n",
      "235/235 - 1s - loss: 0.9419 - sparse_categorical_accuracy: 0.7074 - val_loss: 0.9590 - val_sparse_categorical_accuracy: 0.6985 - 568ms/epoch - 2ms/step\n",
      "Epoch 63/100\n",
      "235/235 - 1s - loss: 0.9375 - sparse_categorical_accuracy: 0.7082 - val_loss: 0.9547 - val_sparse_categorical_accuracy: 0.6996 - 582ms/epoch - 2ms/step\n",
      "Epoch 64/100\n",
      "235/235 - 1s - loss: 0.9333 - sparse_categorical_accuracy: 0.7091 - val_loss: 0.9506 - val_sparse_categorical_accuracy: 0.7008 - 597ms/epoch - 3ms/step\n",
      "Epoch 65/100\n",
      "235/235 - 1s - loss: 0.9291 - sparse_categorical_accuracy: 0.7099 - val_loss: 0.9466 - val_sparse_categorical_accuracy: 0.7020 - 590ms/epoch - 3ms/step\n",
      "Epoch 66/100\n",
      "235/235 - 1s - loss: 0.9250 - sparse_categorical_accuracy: 0.7112 - val_loss: 0.9427 - val_sparse_categorical_accuracy: 0.7028 - 532ms/epoch - 2ms/step\n",
      "Epoch 67/100\n",
      "235/235 - 1s - loss: 0.9211 - sparse_categorical_accuracy: 0.7122 - val_loss: 0.9390 - val_sparse_categorical_accuracy: 0.7041 - 560ms/epoch - 2ms/step\n",
      "Epoch 68/100\n",
      "235/235 - 1s - loss: 0.9173 - sparse_categorical_accuracy: 0.7131 - val_loss: 0.9353 - val_sparse_categorical_accuracy: 0.7044 - 526ms/epoch - 2ms/step\n",
      "Epoch 69/100\n",
      "235/235 - 1s - loss: 0.9135 - sparse_categorical_accuracy: 0.7139 - val_loss: 0.9316 - val_sparse_categorical_accuracy: 0.7059 - 528ms/epoch - 2ms/step\n",
      "Epoch 70/100\n",
      "235/235 - 1s - loss: 0.9099 - sparse_categorical_accuracy: 0.7146 - val_loss: 0.9281 - val_sparse_categorical_accuracy: 0.7068 - 529ms/epoch - 2ms/step\n",
      "Epoch 71/100\n",
      "235/235 - 1s - loss: 0.9063 - sparse_categorical_accuracy: 0.7154 - val_loss: 0.9247 - val_sparse_categorical_accuracy: 0.7071 - 533ms/epoch - 2ms/step\n",
      "Epoch 72/100\n",
      "235/235 - 1s - loss: 0.9028 - sparse_categorical_accuracy: 0.7162 - val_loss: 0.9214 - val_sparse_categorical_accuracy: 0.7077 - 531ms/epoch - 2ms/step\n",
      "Epoch 73/100\n",
      "235/235 - 1s - loss: 0.8994 - sparse_categorical_accuracy: 0.7175 - val_loss: 0.9181 - val_sparse_categorical_accuracy: 0.7086 - 531ms/epoch - 2ms/step\n",
      "Epoch 74/100\n",
      "235/235 - 1s - loss: 0.8961 - sparse_categorical_accuracy: 0.7182 - val_loss: 0.9149 - val_sparse_categorical_accuracy: 0.7094 - 527ms/epoch - 2ms/step\n",
      "Epoch 75/100\n",
      "235/235 - 1s - loss: 0.8929 - sparse_categorical_accuracy: 0.7188 - val_loss: 0.9118 - val_sparse_categorical_accuracy: 0.7101 - 532ms/epoch - 2ms/step\n",
      "Epoch 76/100\n",
      "235/235 - 1s - loss: 0.8897 - sparse_categorical_accuracy: 0.7196 - val_loss: 0.9087 - val_sparse_categorical_accuracy: 0.7106 - 528ms/epoch - 2ms/step\n",
      "Epoch 77/100\n",
      "235/235 - 1s - loss: 0.8867 - sparse_categorical_accuracy: 0.7199 - val_loss: 0.9058 - val_sparse_categorical_accuracy: 0.7118 - 531ms/epoch - 2ms/step\n",
      "Epoch 78/100\n",
      "235/235 - 1s - loss: 0.8836 - sparse_categorical_accuracy: 0.7205 - val_loss: 0.9029 - val_sparse_categorical_accuracy: 0.7129 - 575ms/epoch - 2ms/step\n",
      "Epoch 79/100\n",
      "235/235 - 1s - loss: 0.8807 - sparse_categorical_accuracy: 0.7210 - val_loss: 0.9000 - val_sparse_categorical_accuracy: 0.7137 - 577ms/epoch - 2ms/step\n",
      "Epoch 80/100\n",
      "235/235 - 1s - loss: 0.8778 - sparse_categorical_accuracy: 0.7215 - val_loss: 0.8972 - val_sparse_categorical_accuracy: 0.7151 - 591ms/epoch - 3ms/step\n",
      "Epoch 81/100\n",
      "235/235 - 1s - loss: 0.8750 - sparse_categorical_accuracy: 0.7221 - val_loss: 0.8945 - val_sparse_categorical_accuracy: 0.7159 - 535ms/epoch - 2ms/step\n",
      "Epoch 82/100\n",
      "235/235 - 1s - loss: 0.8722 - sparse_categorical_accuracy: 0.7231 - val_loss: 0.8919 - val_sparse_categorical_accuracy: 0.7162 - 538ms/epoch - 2ms/step\n",
      "Epoch 83/100\n",
      "235/235 - 1s - loss: 0.8695 - sparse_categorical_accuracy: 0.7238 - val_loss: 0.8893 - val_sparse_categorical_accuracy: 0.7164 - 542ms/epoch - 2ms/step\n",
      "Epoch 84/100\n",
      "235/235 - 1s - loss: 0.8669 - sparse_categorical_accuracy: 0.7246 - val_loss: 0.8867 - val_sparse_categorical_accuracy: 0.7170 - 539ms/epoch - 2ms/step\n",
      "Epoch 85/100\n",
      "235/235 - 1s - loss: 0.8643 - sparse_categorical_accuracy: 0.7250 - val_loss: 0.8842 - val_sparse_categorical_accuracy: 0.7170 - 538ms/epoch - 2ms/step\n",
      "Epoch 86/100\n",
      "235/235 - 1s - loss: 0.8617 - sparse_categorical_accuracy: 0.7258 - val_loss: 0.8818 - val_sparse_categorical_accuracy: 0.7174 - 535ms/epoch - 2ms/step\n",
      "Epoch 87/100\n",
      "235/235 - 1s - loss: 0.8592 - sparse_categorical_accuracy: 0.7259 - val_loss: 0.8793 - val_sparse_categorical_accuracy: 0.7179 - 529ms/epoch - 2ms/step\n",
      "Epoch 88/100\n",
      "235/235 - 1s - loss: 0.8568 - sparse_categorical_accuracy: 0.7263 - val_loss: 0.8770 - val_sparse_categorical_accuracy: 0.7181 - 535ms/epoch - 2ms/step\n",
      "Epoch 89/100\n",
      "235/235 - 1s - loss: 0.8544 - sparse_categorical_accuracy: 0.7267 - val_loss: 0.8747 - val_sparse_categorical_accuracy: 0.7187 - 534ms/epoch - 2ms/step\n",
      "Epoch 90/100\n",
      "235/235 - 1s - loss: 0.8521 - sparse_categorical_accuracy: 0.7272 - val_loss: 0.8724 - val_sparse_categorical_accuracy: 0.7192 - 539ms/epoch - 2ms/step\n",
      "Epoch 91/100\n",
      "235/235 - 1s - loss: 0.8498 - sparse_categorical_accuracy: 0.7279 - val_loss: 0.8702 - val_sparse_categorical_accuracy: 0.7202 - 538ms/epoch - 2ms/step\n",
      "Epoch 92/100\n",
      "235/235 - 1s - loss: 0.8475 - sparse_categorical_accuracy: 0.7285 - val_loss: 0.8680 - val_sparse_categorical_accuracy: 0.7203 - 537ms/epoch - 2ms/step\n",
      "Epoch 93/100\n",
      "235/235 - 1s - loss: 0.8453 - sparse_categorical_accuracy: 0.7293 - val_loss: 0.8659 - val_sparse_categorical_accuracy: 0.7207 - 544ms/epoch - 2ms/step\n",
      "Epoch 94/100\n",
      "235/235 - 1s - loss: 0.8431 - sparse_categorical_accuracy: 0.7296 - val_loss: 0.8638 - val_sparse_categorical_accuracy: 0.7209 - 547ms/epoch - 2ms/step\n",
      "Epoch 95/100\n",
      "235/235 - 1s - loss: 0.8410 - sparse_categorical_accuracy: 0.7300 - val_loss: 0.8617 - val_sparse_categorical_accuracy: 0.7216 - 535ms/epoch - 2ms/step\n",
      "Epoch 96/100\n",
      "235/235 - 1s - loss: 0.8389 - sparse_categorical_accuracy: 0.7305 - val_loss: 0.8597 - val_sparse_categorical_accuracy: 0.7219 - 615ms/epoch - 3ms/step\n",
      "Epoch 97/100\n",
      "235/235 - 1s - loss: 0.8369 - sparse_categorical_accuracy: 0.7310 - val_loss: 0.8577 - val_sparse_categorical_accuracy: 0.7225 - 570ms/epoch - 2ms/step\n",
      "Epoch 98/100\n",
      "235/235 - 1s - loss: 0.8348 - sparse_categorical_accuracy: 0.7312 - val_loss: 0.8558 - val_sparse_categorical_accuracy: 0.7231 - 566ms/epoch - 2ms/step\n"
     ]
    },
    {
     "name": "stdout",
     "output_type": "stream",
     "text": [
      "Epoch 99/100\n",
      "235/235 - 1s - loss: 0.8329 - sparse_categorical_accuracy: 0.7319 - val_loss: 0.8539 - val_sparse_categorical_accuracy: 0.7234 - 582ms/epoch - 2ms/step\n",
      "Epoch 100/100\n",
      "235/235 - 1s - loss: 0.8309 - sparse_categorical_accuracy: 0.7321 - val_loss: 0.8520 - val_sparse_categorical_accuracy: 0.7237 - 632ms/epoch - 3ms/step\n"
     ]
    }
   ],
   "source": [
    "# optimizer and loss\n",
    "opt = tf.keras.optimizers.SGD(0.001)\n",
    "model.compile(optimizer=opt, \n",
    "              loss='sparse_categorical_crossentropy', \n",
    "              metrics=['sparse_categorical_accuracy'])\n",
    "\n",
    "# training\n",
    "batch_size = 256\n",
    "history = model.fit(X_train, y_train, batch_size,\n",
    "                    validation_data=(X_test, y_test),\n",
    "                    epochs=100, verbose=2)"
   ]
  },
  {
   "cell_type": "code",
   "execution_count": null,
   "id": "e8930b85",
   "metadata": {},
   "outputs": [],
   "source": []
  },
  {
   "cell_type": "code",
   "execution_count": 8,
   "id": "66f70981",
   "metadata": {},
   "outputs": [
    {
     "data": {
      "text/plain": [
       "<matplotlib.legend.Legend at 0x1d27fecdd60>"
      ]
     },
     "execution_count": 8,
     "metadata": {},
     "output_type": "execute_result"
    },
    {
     "data": {
      "image/png": "[encoded data removed]",
      "text/plain": [
       "<Figure size 432x288 with 1 Axes>"
      ]
     },
     "metadata": {
      "needs_background": "light"
     },
     "output_type": "display_data"
    }
   ],
   "source": [
    "import matplotlib.pyplot as plt\n",
    "\n",
    "plt.plot(history.history['loss'], label='loss')\n",
    "plt.plot(history.history['val_loss'], label='val_loss')\n",
    "plt.xlabel('iteration')\n",
    "plt.ylabel('Loss')\n",
    "plt.legend()"
   ]
  },
  {
   "cell_type": "code",
   "execution_count": null,
   "id": "ccec74e9",
   "metadata": {},
   "outputs": [],
   "source": []
  },
  {
   "cell_type": "code",
   "execution_count": 9,
   "id": "348a761a",
   "metadata": {},
   "outputs": [
    {
     "data": {
      "text/plain": [
       "<matplotlib.legend.Legend at 0x1d27ffd7850>"
      ]
     },
     "execution_count": 9,
     "metadata": {},
     "output_type": "execute_result"
    },
    {
     "data": {
      "image/png": "[encoded data removed]",
      "text/plain": [
       "<Figure size 432x288 with 1 Axes>"
      ]
     },
     "metadata": {
      "needs_background": "light"
     },
     "output_type": "display_data"
    }
   ],
   "source": [
    "import matplotlib.pyplot as plt\n",
    "\n",
    "plt.plot(history.history['sparse_categorical_accuracy'], label='train_accuracy')\n",
    "plt.plot(history.history['val_sparse_categorical_accuracy'], label='val_accuracy')\n",
    "plt.xlabel('iteration')\n",
    "plt.ylabel('Accuracy')\n",
    "plt.legend()"
   ]
  },
  {
   "cell_type": "code",
   "execution_count": 10,
   "id": "51d5f69c",
   "metadata": {},
   "outputs": [
    {
     "name": "stdout",
     "output_type": "stream",
     "text": [
      "40/40 [==============================] - 0s 2ms/step - loss: 0.8520 - sparse_categorical_accuracy: 0.7237\n"
     ]
    },
    {
     "data": {
      "text/plain": [
       "[0.8519867062568665, 0.7236999869346619]"
      ]
     },
     "execution_count": 10,
     "metadata": {},
     "output_type": "execute_result"
    }
   ],
   "source": [
    "model.evaluate(X_test, y_test, batch_size)"
   ]
  },
  {
   "cell_type": "code",
   "execution_count": null,
   "id": "d5a0cabd",
   "metadata": {},
   "outputs": [],
   "source": []
  }
 ],
 "metadata": {
  "kernelspec": {
   "display_name": "Python 3 (ipykernel)",
   "language": "python",
   "name": "python3"
  },
  "language_info": {
   "codemirror_mode": {
    "name": "ipython",
    "version": 3
   },
   "file_extension": ".py",
   "mimetype": "text/x-python",
   "name": "python",
   "nbconvert_exporter": "python",
   "pygments_lexer": "ipython3",
   "version": "3.9.13"
  }
 },
 "nbformat": 4,
 "nbformat_minor": 5
}
