{
 "cells": [
  {
   "cell_type": "code",
   "execution_count": 1,
   "id": "5cc812ca",
   "metadata": {},
   "outputs": [
    {
     "name": "stdout",
     "output_type": "stream",
     "text": [
      "(60000, 784)\n",
      "(10000, 784)\n",
      "(60000,)\n",
      "(10000,)\n"
     ]
    }
   ],
   "source": [
    "import numpy as np\n",
    "import tensorflow as tf\n",
    "import tensorflow.keras as keras\n",
    "from tensorflow.keras.datasets import fashion_mnist\n",
    "\n",
    "(x_train, y_train), (x_test, y_test) = fashion_mnist.load_data()\n",
    "\n",
    "x_train = x_train.astype('float32')\n",
    "x_test  = x_test.astype('float32')\n",
    "\n",
    "x_train = tf.reshape(x_train, (-1, 28*28))\n",
    "x_test  = tf.reshape(x_test, (-1, 28*28))\n",
    "\n",
    "print(x_train.shape)\n",
    "print(x_test.shape)\n",
    "\n",
    "print(y_train.shape)\n",
    "print(y_test.shape)"
   ]
  },
  {
   "cell_type": "code",
   "execution_count": null,
   "id": "bb902098",
   "metadata": {},
   "outputs": [],
   "source": []
  },
  {
   "cell_type": "code",
   "execution_count": 2,
   "id": "d49b01b0",
   "metadata": {},
   "outputs": [],
   "source": [
    "# data normalization\n",
    "\n",
    "mean = np.mean(x_train)\n",
    "std  = np.std(x_train)\n",
    "\n",
    "x_train = (x_train-mean)/std\n",
    "x_test  = (x_test-mean)/std"
   ]
  },
  {
   "cell_type": "code",
   "execution_count": null,
   "id": "f93335f6",
   "metadata": {},
   "outputs": [],
   "source": []
  },
  {
   "cell_type": "code",
   "execution_count": 3,
   "id": "c460ca13",
   "metadata": {},
   "outputs": [
    {
     "name": "stdout",
     "output_type": "stream",
     "text": [
      "Model: \"sequential\"\n",
      "_________________________________________________________________\n",
      " Layer (type)                Output Shape              Param #   \n",
      "=================================================================\n",
      " dense (Dense)               (None, 256)               200960    \n",
      "                                                                 \n",
      " dense_1 (Dense)             (None, 10)                2570      \n",
      "                                                                 \n",
      "=================================================================\n",
      "Total params: 203,530\n",
      "Trainable params: 203,530\n",
      "Non-trainable params: 0\n",
      "_________________________________________________________________\n"
     ]
    }
   ],
   "source": [
    "import tensorflow as tf\n",
    "import tensorflow.keras as keras\n",
    "\n",
    "initializer = tf.keras.initializers.Zeros()\n",
    "\n",
    "# create model\n",
    "model = keras.Sequential()\n",
    "model.add(keras.Input(shape=(784,)))\n",
    "model.add(keras.layers.Dense(256, activation='relu', kernel_initializer=initializer))\n",
    "model.add(keras.layers.Dense(10, activation='softmax', kernel_initializer=initializer))\n",
    "model.summary()"
   ]
  },
  {
   "cell_type": "code",
   "execution_count": null,
   "id": "7b2c2e17",
   "metadata": {},
   "outputs": [],
   "source": []
  },
  {
   "cell_type": "code",
   "execution_count": 4,
   "id": "a6539113",
   "metadata": {},
   "outputs": [
    {
     "name": "stdout",
     "output_type": "stream",
     "text": [
      "Epoch 1/10\n",
      "235/235 - 3s - loss: 2.3026 - sparse_categorical_accuracy: 0.0960 - val_loss: 2.3026 - val_sparse_categorical_accuracy: 0.1000 - 3s/epoch - 14ms/step\n",
      "Epoch 2/10\n",
      "235/235 - 2s - loss: 2.3026 - sparse_categorical_accuracy: 0.0958 - val_loss: 2.3026 - val_sparse_categorical_accuracy: 0.1000 - 2s/epoch - 8ms/step\n",
      "Epoch 3/10\n",
      "235/235 - 2s - loss: 2.3026 - sparse_categorical_accuracy: 0.0972 - val_loss: 2.3026 - val_sparse_categorical_accuracy: 0.1000 - 2s/epoch - 8ms/step\n",
      "Epoch 4/10\n",
      "235/235 - 2s - loss: 2.3026 - sparse_categorical_accuracy: 0.0977 - val_loss: 2.3026 - val_sparse_categorical_accuracy: 0.1000 - 2s/epoch - 8ms/step\n",
      "Epoch 5/10\n",
      "235/235 - 2s - loss: 2.3026 - sparse_categorical_accuracy: 0.0977 - val_loss: 2.3026 - val_sparse_categorical_accuracy: 0.1000 - 2s/epoch - 8ms/step\n",
      "Epoch 6/10\n",
      "235/235 - 2s - loss: 2.3026 - sparse_categorical_accuracy: 0.0953 - val_loss: 2.3026 - val_sparse_categorical_accuracy: 0.1000 - 2s/epoch - 8ms/step\n",
      "Epoch 7/10\n",
      "235/235 - 2s - loss: 2.3026 - sparse_categorical_accuracy: 0.0986 - val_loss: 2.3026 - val_sparse_categorical_accuracy: 0.1000 - 2s/epoch - 8ms/step\n",
      "Epoch 8/10\n",
      "235/235 - 2s - loss: 2.3026 - sparse_categorical_accuracy: 0.0980 - val_loss: 2.3026 - val_sparse_categorical_accuracy: 0.1000 - 2s/epoch - 8ms/step\n",
      "Epoch 9/10\n",
      "235/235 - 2s - loss: 2.3026 - sparse_categorical_accuracy: 0.0981 - val_loss: 2.3026 - val_sparse_categorical_accuracy: 0.1000 - 2s/epoch - 7ms/step\n",
      "Epoch 10/10\n",
      "235/235 - 2s - loss: 2.3026 - sparse_categorical_accuracy: 0.0983 - val_loss: 2.3026 - val_sparse_categorical_accuracy: 0.1000 - 2s/epoch - 7ms/step\n"
     ]
    }
   ],
   "source": [
    "# optimizer and loss\n",
    "model.compile(optimizer='sgd', \n",
    "              loss='sparse_categorical_crossentropy', \n",
    "              metrics=['sparse_categorical_accuracy'])\n",
    "\n",
    "# training\n",
    "history = model.fit(x_train, y_train, \n",
    "                    validation_data=(x_test, y_test), \n",
    "                    batch_size=256, epochs=10, verbose=2)"
   ]
  },
  {
   "cell_type": "code",
   "execution_count": null,
   "id": "e8930b85",
   "metadata": {},
   "outputs": [],
   "source": []
  },
  {
   "cell_type": "code",
   "execution_count": 5,
   "id": "66f70981",
   "metadata": {},
   "outputs": [
    {
     "data": {
      "text/plain": [
       "<matplotlib.legend.Legend at 0x1c980fa8b80>"
      ]
     },
     "execution_count": 5,
     "metadata": {},
     "output_type": "execute_result"
    },
    {
     "data": {
      "image/png": "[encoded data removed]",
      "text/plain": [
       "<Figure size 640x480 with 1 Axes>"
      ]
     },
     "metadata": {},
     "output_type": "display_data"
    }
   ],
   "source": [
    "import matplotlib.pyplot as plt\n",
    "#%matplotlib qt\n",
    "\n",
    "plt.plot(history.history['loss'], label='loss')\n",
    "plt.plot(history.history['val_loss'], label='val_loss')\n",
    "plt.xlabel('iteration')\n",
    "plt.ylabel('Loss')\n",
    "plt.legend()"
   ]
  },
  {
   "cell_type": "code",
   "execution_count": null,
   "id": "ccec74e9",
   "metadata": {},
   "outputs": [],
   "source": []
  },
  {
   "cell_type": "code",
   "execution_count": 6,
   "id": "348a761a",
   "metadata": {},
   "outputs": [
    {
     "data": {
      "text/plain": [
       "<matplotlib.legend.Legend at 0x1c980ff68b0>"
      ]
     },
     "execution_count": 6,
     "metadata": {},
     "output_type": "execute_result"
    },
    {
     "data": {
      "image/png": "[encoded data removed]",
      "text/plain": [
       "<Figure size 640x480 with 1 Axes>"
      ]
     },
     "metadata": {},
     "output_type": "display_data"
    }
   ],
   "source": [
    "import matplotlib.pyplot as plt\n",
    "#%matplotlib qt\n",
    "\n",
    "plt.plot(history.history['sparse_categorical_accuracy'], label='train_accuracy')\n",
    "plt.plot(history.history['val_sparse_categorical_accuracy'], label='val_accuracy')\n",
    "plt.xlabel('iteration')\n",
    "plt.ylabel('Accuracy')\n",
    "plt.legend()"
   ]
  },
  {
   "cell_type": "code",
   "execution_count": 7,
   "id": "51d5f69c",
   "metadata": {},
   "outputs": [
    {
     "data": {
      "text/plain": [
       "[array([[0., 0., 0., ..., 0., 0., 0.],\n",
       "        [0., 0., 0., ..., 0., 0., 0.],\n",
       "        [0., 0., 0., ..., 0., 0., 0.],\n",
       "        ...,\n",
       "        [0., 0., 0., ..., 0., 0., 0.],\n",
       "        [0., 0., 0., ..., 0., 0., 0.],\n",
       "        [0., 0., 0., ..., 0., 0., 0.]], dtype=float32),\n",
       " array([0., 0., 0., 0., 0., 0., 0., 0., 0., 0., 0., 0., 0., 0., 0., 0., 0.,\n",
       "        0., 0., 0., 0., 0., 0., 0., 0., 0., 0., 0., 0., 0., 0., 0., 0., 0.,\n",
       "        0., 0., 0., 0., 0., 0., 0., 0., 0., 0., 0., 0., 0., 0., 0., 0., 0.,\n",
       "        0., 0., 0., 0., 0., 0., 0., 0., 0., 0., 0., 0., 0., 0., 0., 0., 0.,\n",
       "        0., 0., 0., 0., 0., 0., 0., 0., 0., 0., 0., 0., 0., 0., 0., 0., 0.,\n",
       "        0., 0., 0., 0., 0., 0., 0., 0., 0., 0., 0., 0., 0., 0., 0., 0., 0.,\n",
       "        0., 0., 0., 0., 0., 0., 0., 0., 0., 0., 0., 0., 0., 0., 0., 0., 0.,\n",
       "        0., 0., 0., 0., 0., 0., 0., 0., 0., 0., 0., 0., 0., 0., 0., 0., 0.,\n",
       "        0., 0., 0., 0., 0., 0., 0., 0., 0., 0., 0., 0., 0., 0., 0., 0., 0.,\n",
       "        0., 0., 0., 0., 0., 0., 0., 0., 0., 0., 0., 0., 0., 0., 0., 0., 0.,\n",
       "        0., 0., 0., 0., 0., 0., 0., 0., 0., 0., 0., 0., 0., 0., 0., 0., 0.,\n",
       "        0., 0., 0., 0., 0., 0., 0., 0., 0., 0., 0., 0., 0., 0., 0., 0., 0.,\n",
       "        0., 0., 0., 0., 0., 0., 0., 0., 0., 0., 0., 0., 0., 0., 0., 0., 0.,\n",
       "        0., 0., 0., 0., 0., 0., 0., 0., 0., 0., 0., 0., 0., 0., 0., 0., 0.,\n",
       "        0., 0., 0., 0., 0., 0., 0., 0., 0., 0., 0., 0., 0., 0., 0., 0., 0.,\n",
       "        0.], dtype=float32)]"
      ]
     },
     "execution_count": 7,
     "metadata": {},
     "output_type": "execute_result"
    }
   ],
   "source": [
    "model.layers[0].get_weights()"
   ]
  },
  {
   "cell_type": "code",
   "execution_count": 8,
   "id": "8b87e49a",
   "metadata": {},
   "outputs": [
    {
     "data": {
      "text/plain": [
       "[array([[0., 0., 0., ..., 0., 0., 0.],\n",
       "        [0., 0., 0., ..., 0., 0., 0.],\n",
       "        [0., 0., 0., ..., 0., 0., 0.],\n",
       "        ...,\n",
       "        [0., 0., 0., ..., 0., 0., 0.],\n",
       "        [0., 0., 0., ..., 0., 0., 0.],\n",
       "        [0., 0., 0., ..., 0., 0., 0.]], dtype=float32),\n",
       " array([ 8.0366596e-04,  2.3187842e-04,  7.6769630e-04, -8.6651300e-04,\n",
       "         2.0550596e-04, -6.2976289e-04, -5.1355490e-04,  5.1105133e-04,\n",
       "        -3.4585028e-05, -4.7535304e-04], dtype=float32)]"
      ]
     },
     "execution_count": 8,
     "metadata": {},
     "output_type": "execute_result"
    }
   ],
   "source": [
    "model.layers[1].get_weights()"
   ]
  },
  {
   "cell_type": "code",
   "execution_count": null,
   "id": "6b80a103",
   "metadata": {},
   "outputs": [],
   "source": []
  },
  {
   "cell_type": "code",
   "execution_count": 10,
   "id": "b58a5aee",
   "metadata": {},
   "outputs": [
    {
     "name": "stdout",
     "output_type": "stream",
     "text": [
      "tf.Tensor(\n",
      "[[0. 0. 0. ... 0. 0. 0.]\n",
      " [0. 0. 0. ... 0. 0. 0.]\n",
      " [0. 0. 0. ... 0. 0. 0.]\n",
      " ...\n",
      " [0. 0. 0. ... 0. 0. 0.]\n",
      " [0. 0. 0. ... 0. 0. 0.]\n",
      " [0. 0. 0. ... 0. 0. 0.]], shape=(10000, 256), dtype=float32)\n"
     ]
    }
   ],
   "source": [
    "hidden = x_test@model.layers[0].get_weights()[0] + model.layers[0].get_weights()[1]\n",
    "print(hidden)"
   ]
  },
  {
   "cell_type": "code",
   "execution_count": 12,
   "id": "7d39513c",
   "metadata": {},
   "outputs": [
    {
     "name": "stdout",
     "output_type": "stream",
     "text": [
      "tf.Tensor(\n",
      "[ 8.0366596e-04  2.3187842e-04  7.6769630e-04 -8.6651300e-04\n",
      "  2.0550596e-04 -6.2976289e-04 -5.1355490e-04  5.1105133e-04\n",
      " -3.4585028e-05 -4.7535304e-04], shape=(10,), dtype=float32)\n"
     ]
    }
   ],
   "source": [
    "output = hidden@model.layers[1].get_weights()[0] + model.layers[1].get_weights()[1]\n",
    "print(output[0])"
   ]
  },
  {
   "cell_type": "code",
   "execution_count": 13,
   "id": "33638d95",
   "metadata": {},
   "outputs": [
    {
     "name": "stdout",
     "output_type": "stream",
     "text": [
      "tf.Tensor(\n",
      "[[ 8.0366596e-04  2.3187842e-04  7.6769630e-04 ...  5.1105133e-04\n",
      "  -3.4585028e-05 -4.7535304e-04]\n",
      " [ 8.0366596e-04  2.3187842e-04  7.6769630e-04 ...  5.1105133e-04\n",
      "  -3.4585028e-05 -4.7535304e-04]\n",
      " [ 8.0366596e-04  2.3187842e-04  7.6769630e-04 ...  5.1105133e-04\n",
      "  -3.4585028e-05 -4.7535304e-04]\n",
      " ...\n",
      " [ 8.0366596e-04  2.3187842e-04  7.6769630e-04 ...  5.1105133e-04\n",
      "  -3.4585028e-05 -4.7535304e-04]\n",
      " [ 8.0366596e-04  2.3187842e-04  7.6769630e-04 ...  5.1105133e-04\n",
      "  -3.4585028e-05 -4.7535304e-04]\n",
      " [ 8.0366596e-04  2.3187842e-04  7.6769630e-04 ...  5.1105133e-04\n",
      "  -3.4585028e-05 -4.7535304e-04]], shape=(10000, 10), dtype=float32)\n"
     ]
    }
   ],
   "source": [
    "print(output)"
   ]
  },
  {
   "cell_type": "code",
   "execution_count": null,
   "id": "9be9acd7",
   "metadata": {},
   "outputs": [],
   "source": []
  }
 ],
 "metadata": {
  "kernelspec": {
   "display_name": "Python 3 (ipykernel)",
   "language": "python",
   "name": "python3"
  },
  "language_info": {
   "codemirror_mode": {
    "name": "ipython",
    "version": 3
   },
   "file_extension": ".py",
   "mimetype": "text/x-python",
   "name": "python",
   "nbconvert_exporter": "python",
   "pygments_lexer": "ipython3",
   "version": "3.9.13"
  }
 },
 "nbformat": 4,
 "nbformat_minor": 5
}
