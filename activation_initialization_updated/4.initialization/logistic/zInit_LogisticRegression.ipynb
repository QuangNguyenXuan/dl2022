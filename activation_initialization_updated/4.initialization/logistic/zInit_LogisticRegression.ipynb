{
 "cells": [
  {
   "cell_type": "markdown",
   "id": "6febf0a7",
   "metadata": {},
   "source": [
    "# One sample"
   ]
  },
  {
   "cell_type": "code",
   "execution_count": 2,
   "id": "c880195a",
   "metadata": {},
   "outputs": [
    {
     "name": "stdout",
     "output_type": "stream",
     "text": [
      "[[1.  5.1 3.4 1.5 0.2]\n",
      " [1.  5.2 3.5 1.5 0.2]\n",
      " [1.  5.6 2.5 3.9 1.1]\n",
      " [1.  6.1 2.8 4.7 1.2]\n",
      " [1.  4.3 3.  1.1 0.1]]\n",
      "[[0.]\n",
      " [0.]\n",
      " [1.]\n",
      " [1.]\n",
      " [0.]]\n"
     ]
    }
   ],
   "source": [
    "import numpy as np\n",
    "import tensorflow as tf\n",
    "\n",
    "# Data preparation\n",
    "data = np.genfromtxt('iris_full.csv', \n",
    "                     delimiter=',', \n",
    "                     skip_header=1)\n",
    "X = data[:,0:4]\n",
    "y = data[:,4:]\n",
    "N = X.shape[0]\n",
    "\n",
    "X = np.c_[np.ones((N, 1)), X]\n",
    "\n",
    "# shuffle\n",
    "inds = np.arange(N)\n",
    "np.random.shuffle(inds)\n",
    "\n",
    "X = X[inds]\n",
    "y = y[inds]\n",
    "\n",
    "print(X[:5])\n",
    "print(y[:5])"
   ]
  },
  {
   "cell_type": "code",
   "execution_count": null,
   "id": "386da487",
   "metadata": {},
   "outputs": [],
   "source": []
  },
  {
   "cell_type": "code",
   "execution_count": 3,
   "id": "e4d5b85b",
   "metadata": {},
   "outputs": [],
   "source": [
    "# theta\n",
    "theta = tf.Variable([[0.0],\n",
    "                     [0.0], \n",
    "                     [0.0], \n",
    "                     [0.0], \n",
    "                     [0.0]], dtype=tf.float64)\n",
    " \n",
    "# forward\n",
    "def compute_output(theta, X):\n",
    "    return tf.math.sigmoid(tf.transpose(theta)@X)"
   ]
  },
  {
   "cell_type": "code",
   "execution_count": null,
   "id": "6b86e9d8",
   "metadata": {},
   "outputs": [],
   "source": []
  },
  {
   "cell_type": "code",
   "execution_count": 4,
   "id": "e12d6362",
   "metadata": {},
   "outputs": [],
   "source": [
    "# parameters\n",
    "lr = 0.1\n",
    "num_epochs = 50\n",
    "loss_fn = tf.keras.losses.BinaryCrossentropy()\n",
    "\n",
    "losses = []"
   ]
  },
  {
   "cell_type": "code",
   "execution_count": null,
   "id": "30080992",
   "metadata": {},
   "outputs": [],
   "source": []
  },
  {
   "cell_type": "code",
   "execution_count": 5,
   "id": "6eaf0b14",
   "metadata": {},
   "outputs": [],
   "source": [
    "# training\n",
    "for epoch in range(num_epochs):\n",
    "    for x_data, y_data in zip(X, y):\n",
    "        # reshape -> (5,1)\n",
    "        x_data = tf.reshape(x_data, (-1,1))\n",
    "        \n",
    "        with tf.GradientTape() as t:\n",
    "            # y_hat\n",
    "            y_hat = compute_output(theta, x_data)\n",
    "            \n",
    "            # loss\n",
    "            loss = loss_fn(y_data, y_hat)\n",
    "            \n",
    "        losses.append(loss.numpy())            \n",
    "\n",
    "        # gradient\n",
    "        dtheta = t.gradient(loss, theta)\n",
    "\n",
    "        # update\n",
    "        theta.assign_sub(lr*dtheta)"
   ]
  },
  {
   "cell_type": "code",
   "execution_count": null,
   "id": "e4a2cbfa",
   "metadata": {},
   "outputs": [],
   "source": []
  },
  {
   "cell_type": "code",
   "execution_count": 6,
   "id": "608b6ad0",
   "metadata": {},
   "outputs": [
    {
     "data": {
      "image/png": "[encoded data removed]",
      "text/plain": [
       "<Figure size 640x480 with 1 Axes>"
      ]
     },
     "metadata": {},
     "output_type": "display_data"
    }
   ],
   "source": [
    "import matplotlib.pyplot as plt\n",
    "\n",
    "plt.plot(losses)\n",
    "plt.xlabel('iteration')\n",
    "plt.ylabel('Loss')\n",
    "plt.show()"
   ]
  },
  {
   "cell_type": "code",
   "execution_count": null,
   "id": "adc12217",
   "metadata": {},
   "outputs": [],
   "source": []
  },
  {
   "cell_type": "code",
   "execution_count": null,
   "id": "62ca5268",
   "metadata": {},
   "outputs": [],
   "source": []
  },
  {
   "cell_type": "markdown",
   "id": "2e9b26e0",
   "metadata": {},
   "source": [
    "# N samples"
   ]
  },
  {
   "cell_type": "code",
   "execution_count": 7,
   "id": "eed158da",
   "metadata": {},
   "outputs": [
    {
     "name": "stdout",
     "output_type": "stream",
     "text": [
      "[[1.  5.1 3.5 1.4 0.2]\n",
      " [1.  4.9 3.  1.4 0.2]\n",
      " [1.  4.7 3.2 1.3 0.2]\n",
      " [1.  4.6 3.1 1.5 0.2]\n",
      " [1.  5.  3.6 1.4 0.2]\n",
      " [1.  5.4 3.9 1.7 0.4]\n",
      " [1.  4.6 3.4 1.4 0.3]\n",
      " [1.  5.  3.4 1.5 0.2]\n",
      " [1.  4.4 2.9 1.4 0.2]\n",
      " [1.  4.9 3.1 1.5 0.1]]\n"
     ]
    }
   ],
   "source": [
    "import numpy as np\n",
    "import tensorflow as tf\n",
    "\n",
    "# Data preparation\n",
    "data = np.genfromtxt('iris_full.csv', \n",
    "                     delimiter=',', \n",
    "                     skip_header=1)\n",
    "X = data[:,0:4]\n",
    "y = data[:,4:]\n",
    "N = X.shape[0]\n",
    "\n",
    "X = np.c_[np.ones((N, 1)), X]\n",
    "\n",
    "print(X[:10])"
   ]
  },
  {
   "cell_type": "code",
   "execution_count": null,
   "id": "cc63de6f",
   "metadata": {},
   "outputs": [],
   "source": []
  },
  {
   "cell_type": "code",
   "execution_count": 8,
   "id": "bce8de74",
   "metadata": {},
   "outputs": [],
   "source": [
    "# theta\n",
    "theta = tf.Variable([[0.0],\n",
    "                     [0.0], \n",
    "                     [0.0], \n",
    "                     [0.0], \n",
    "                     [0.0]], dtype=tf.float64)\n",
    " \n",
    "# forward\n",
    "def compute_output(theta, X):\n",
    "    return tf.math.sigmoid(X@theta)"
   ]
  },
  {
   "cell_type": "code",
   "execution_count": null,
   "id": "8cd32058",
   "metadata": {},
   "outputs": [],
   "source": []
  },
  {
   "cell_type": "code",
   "execution_count": 9,
   "id": "51f2d30c",
   "metadata": {},
   "outputs": [],
   "source": [
    "# parameters\n",
    "lr = 0.01\n",
    "num_epochs = 1000\n",
    "loss_fn = tf.keras.losses.BinaryCrossentropy()\n",
    "\n",
    "losses = []"
   ]
  },
  {
   "cell_type": "code",
   "execution_count": null,
   "id": "a7ac2817",
   "metadata": {},
   "outputs": [],
   "source": []
  },
  {
   "cell_type": "code",
   "execution_count": 10,
   "id": "b1368ee3",
   "metadata": {},
   "outputs": [],
   "source": [
    "# training\n",
    "for epoch in range(num_epochs):\n",
    "    with tf.GradientTape() as t:\n",
    "        # y_hat\n",
    "        y_hat = compute_output(theta, X)\n",
    "        \n",
    "        # loss\n",
    "        loss = loss_fn(y, y_hat)\n",
    "        \n",
    "    losses.append(loss.numpy())\n",
    "\n",
    "    # gradient\n",
    "    dtheta = t.gradient(loss, theta)\n",
    "\n",
    "    # update\n",
    "    theta.assign_sub(lr*dtheta)"
   ]
  },
  {
   "cell_type": "code",
   "execution_count": null,
   "id": "a977a766",
   "metadata": {},
   "outputs": [],
   "source": []
  },
  {
   "cell_type": "code",
   "execution_count": 11,
   "id": "50b4b4ad",
   "metadata": {},
   "outputs": [
    {
     "data": {
      "image/png": "[encoded data removed]",
      "text/plain": [
       "<Figure size 640x480 with 1 Axes>"
      ]
     },
     "metadata": {},
     "output_type": "display_data"
    }
   ],
   "source": [
    "import matplotlib.pyplot as plt\n",
    "\n",
    "plt.plot(losses)\n",
    "plt.xlabel('iteration')\n",
    "plt.ylabel('Loss')\n",
    "plt.show()"
   ]
  },
  {
   "cell_type": "code",
   "execution_count": 12,
   "id": "8f167e0d",
   "metadata": {},
   "outputs": [
    {
     "name": "stdout",
     "output_type": "stream",
     "text": [
      "tf.Tensor(\n",
      "[[0.05211472]\n",
      " [0.08926149]\n",
      " [0.06694796]\n",
      " [0.10136426]\n",
      " [0.04848641]\n",
      " [0.05810549]\n",
      " [0.070036  ]\n",
      " [0.06860688]\n",
      " [0.11136886]\n",
      " [0.08819396]\n",
      " [0.0458949 ]\n",
      " [0.083802  ]\n",
      " [0.08602441]\n",
      " [0.06289732]\n",
      " [0.01907302]\n",
      " [0.02385014]\n",
      " [0.03151724]\n",
      " [0.0556199 ]\n",
      " [0.05545826]\n",
      " [0.04810888]\n",
      " [0.08303922]\n",
      " [0.05668503]\n",
      " [0.02922447]\n",
      " [0.11856102]\n",
      " [0.12874473]\n",
      " [0.11596426]\n",
      " [0.09023234]\n",
      " [0.05901107]\n",
      " [0.05599857]\n",
      " [0.10387671]\n",
      " [0.11116572]\n",
      " [0.07017942]\n",
      " [0.03036061]\n",
      " [0.0231102 ]\n",
      " [0.08819396]\n",
      " [0.05318288]\n",
      " [0.04015899]\n",
      " [0.08819396]\n",
      " [0.08778214]\n",
      " [0.06681975]\n",
      " [0.04909918]\n",
      " [0.17215019]\n",
      " [0.07245255]\n",
      " [0.09300358]\n",
      " [0.09307765]\n",
      " [0.09747712]\n",
      " [0.05245636]\n",
      " [0.07970635]\n",
      " [0.04715066]\n",
      " [0.06513844]\n",
      " [0.9514855 ]\n",
      " [0.94760096]\n",
      " [0.97061222]\n",
      " [0.95896605]\n",
      " [0.96904592]\n",
      " [0.96684386]\n",
      " [0.96112079]\n",
      " [0.86891477]\n",
      " [0.95982878]\n",
      " [0.93866536]\n",
      " [0.9308648 ]\n",
      " [0.9407839 ]\n",
      " [0.94823073]\n",
      " [0.97190998]\n",
      " [0.86504127]\n",
      " [0.93617865]\n",
      " [0.96544796]\n",
      " [0.93104388]\n",
      " [0.98191858]\n",
      " [0.9319519 ]\n",
      " [0.97640097]\n",
      " [0.92129772]\n",
      " [0.98652016]\n",
      " [0.9709864 ]\n",
      " [0.93994464]\n",
      " [0.94365809]\n",
      " [0.97365702]\n",
      " [0.98121537]\n",
      " [0.96514819]\n",
      " [0.85521444]\n",
      " [0.93020109]\n",
      " [0.91381196]\n",
      " [0.91838856]\n",
      " [0.98962483]\n",
      " [0.96728779]\n",
      " [0.94626697]\n",
      " [0.96210079]\n",
      " [0.97246911]\n",
      " [0.92777253]\n",
      " [0.94992516]\n",
      " [0.96799496]\n",
      " [0.96372448]\n",
      " [0.93612598]\n",
      " [0.87732961]\n",
      " [0.95372368]\n",
      " [0.93186821]\n",
      " [0.94206985]\n",
      " [0.9430624 ]\n",
      " [0.78911607]\n",
      " [0.93896016]], shape=(100, 1), dtype=float64)\n"
     ]
    }
   ],
   "source": [
    "y_hat = compute_output(theta, X)\n",
    "print(y_hat)"
   ]
  },
  {
   "cell_type": "code",
   "execution_count": null,
   "id": "934d7e7e",
   "metadata": {},
   "outputs": [],
   "source": []
  }
 ],
 "metadata": {
  "kernelspec": {
   "display_name": "Python 3 (ipykernel)",
   "language": "python",
   "name": "python3"
  },
  "language_info": {
   "codemirror_mode": {
    "name": "ipython",
    "version": 3
   },
   "file_extension": ".py",
   "mimetype": "text/x-python",
   "name": "python",
   "nbconvert_exporter": "python",
   "pygments_lexer": "ipython3",
   "version": "3.9.13"
  }
 },
 "nbformat": 4,
 "nbformat_minor": 5
}
