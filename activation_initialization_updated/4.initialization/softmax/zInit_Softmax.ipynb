{
 "cells": [
  {
   "cell_type": "markdown",
   "id": "37aa95eb",
   "metadata": {},
   "source": [
    "# N samples"
   ]
  },
  {
   "cell_type": "code",
   "execution_count": 1,
   "id": "c0d10420",
   "metadata": {},
   "outputs": [
    {
     "name": "stdout",
     "output_type": "stream",
     "text": [
      "[[1.  5.7 2.6 3.5 1. ]\n",
      " [1.  5.  3.  1.6 0.2]\n",
      " [1.  4.8 3.  1.4 0.1]\n",
      " [1.  5.  3.6 1.4 0.2]\n",
      " [1.  4.8 3.1 1.6 0.2]\n",
      " [1.  7.  3.2 4.7 1.4]\n",
      " [1.  6.2 2.8 4.8 1.8]]\n",
      "[[1.]\n",
      " [0.]\n",
      " [0.]\n",
      " [0.]\n",
      " [0.]\n",
      " [1.]\n",
      " [2.]]\n"
     ]
    }
   ],
   "source": [
    "import numpy as np\n",
    "import tensorflow as tf\n",
    "\n",
    "# Data preparation\n",
    "data = np.genfromtxt('iris_full.csv', delimiter=',', skip_header=1)\n",
    "X = data[:,0:4]\n",
    "y = data[:,4:]\n",
    "N = X.shape[0]\n",
    "\n",
    "# add 1\n",
    "X = np.c_[np.ones((N, 1)), X]\n",
    "\n",
    "# shuffle\n",
    "inds = np.arange(N)\n",
    "np.random.shuffle(inds)\n",
    "\n",
    "X = X[inds]\n",
    "y = y[inds]\n",
    "\n",
    "print(X[:7])\n",
    "print(y[:7])"
   ]
  },
  {
   "cell_type": "code",
   "execution_count": null,
   "id": "9770020c",
   "metadata": {},
   "outputs": [],
   "source": []
  },
  {
   "cell_type": "code",
   "execution_count": 2,
   "id": "d654915b",
   "metadata": {},
   "outputs": [],
   "source": [
    "# theta\n",
    "D = 4 + 1\n",
    "K = 3\n",
    "theta = tf.Variable(tf.zeros((D, K), dtype=tf.float64))\n",
    " \n",
    "# forward\n",
    "def compute_output(theta, X):\n",
    "    return tf.math.softmax(X@theta)"
   ]
  },
  {
   "cell_type": "code",
   "execution_count": null,
   "id": "37bcefa7",
   "metadata": {},
   "outputs": [],
   "source": []
  },
  {
   "cell_type": "code",
   "execution_count": 3,
   "id": "8f593053",
   "metadata": {},
   "outputs": [],
   "source": [
    "# parameters\n",
    "lr = 0.01\n",
    "num_epochs = 1000\n",
    "losses = [] # for debug\n",
    "\n",
    "loss_fn = tf.keras.losses.SparseCategoricalCrossentropy()"
   ]
  },
  {
   "cell_type": "code",
   "execution_count": null,
   "id": "50a16d6e",
   "metadata": {},
   "outputs": [],
   "source": []
  },
  {
   "cell_type": "code",
   "execution_count": 4,
   "id": "3ba08f2a",
   "metadata": {},
   "outputs": [],
   "source": [
    "for epoch in range(num_epochs):\n",
    "    with tf.GradientTape() as t:\n",
    "        # output\n",
    "        output = compute_output(theta, X)\n",
    "        \n",
    "        # loss\n",
    "        loss = loss_fn(y, output)\n",
    "        \n",
    "    losses.append(loss.numpy())\n",
    "\n",
    "    # gradient\n",
    "    dtheta = t.gradient(loss, theta)\n",
    "\n",
    "    # update\n",
    "    theta.assign_sub(lr * dtheta)"
   ]
  },
  {
   "cell_type": "code",
   "execution_count": null,
   "id": "f84d2bd8",
   "metadata": {},
   "outputs": [],
   "source": []
  },
  {
   "cell_type": "code",
   "execution_count": 5,
   "id": "7b5f8c80",
   "metadata": {},
   "outputs": [
    {
     "data": {
      "image/png": "[encoded data removed]",
      "text/plain": [
       "<Figure size 640x480 with 1 Axes>"
      ]
     },
     "metadata": {},
     "output_type": "display_data"
    }
   ],
   "source": [
    "import matplotlib.pyplot as plt\n",
    "\n",
    "plt.plot(losses)\n",
    "plt.xlabel('iteration')\n",
    "plt.ylabel('Loss')\n",
    "plt.show()"
   ]
  },
  {
   "cell_type": "code",
   "execution_count": 6,
   "id": "ab233da4",
   "metadata": {},
   "outputs": [
    {
     "name": "stdout",
     "output_type": "stream",
     "text": [
      "<tf.Variable 'Variable:0' shape=(5, 3) dtype=float64, numpy=\n",
      "array([[ 0.16848743,  0.08467167, -0.2531591 ],\n",
      "       [ 0.32202694,  0.17456566, -0.4965926 ],\n",
      "       [ 0.8288372 , -0.27190856, -0.55692864],\n",
      "       [-1.19809798,  0.18832046,  1.00977752],\n",
      "       [-0.55255654, -0.17043636,  0.72299289]])>\n"
     ]
    }
   ],
   "source": [
    "print(theta)"
   ]
  },
  {
   "cell_type": "code",
   "execution_count": null,
   "id": "d1a8191a",
   "metadata": {},
   "outputs": [],
   "source": []
  }
 ],
 "metadata": {
  "kernelspec": {
   "display_name": "Python 3 (ipykernel)",
   "language": "python",
   "name": "python3"
  },
  "language_info": {
   "codemirror_mode": {
    "name": "ipython",
    "version": 3
   },
   "file_extension": ".py",
   "mimetype": "text/x-python",
   "name": "python",
   "nbconvert_exporter": "python",
   "pygments_lexer": "ipython3",
   "version": "3.9.13"
  }
 },
 "nbformat": 4,
 "nbformat_minor": 5
}
