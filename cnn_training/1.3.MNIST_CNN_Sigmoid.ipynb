{
 "cells": [
  {
   "cell_type": "code",
   "execution_count": 1,
   "metadata": {},
   "outputs": [
    {
     "name": "stdout",
     "output_type": "stream",
     "text": [
      "Downloading data from https://storage.googleapis.com/tensorflow/tf-keras-datasets/mnist.npz\n",
      "11493376/11490434 [==============================] - 1s 0us/step\n",
      "11501568/11490434 [==============================] - 1s 0us/step\n"
     ]
    },
    {
     "name": "stderr",
     "output_type": "stream",
     "text": [
      "2022-01-26 10:44:10.716423: I tensorflow/stream_executor/cuda/cuda_gpu_executor.cc:939] successful NUMA node read from SysFS had negative value (-1), but there must be at least one NUMA node, so returning NUMA node zero\n",
      "2022-01-26 10:44:10.719996: I tensorflow/stream_executor/cuda/cuda_gpu_executor.cc:939] successful NUMA node read from SysFS had negative value (-1), but there must be at least one NUMA node, so returning NUMA node zero\n",
      "2022-01-26 10:44:10.720257: I tensorflow/stream_executor/cuda/cuda_gpu_executor.cc:939] successful NUMA node read from SysFS had negative value (-1), but there must be at least one NUMA node, so returning NUMA node zero\n",
      "2022-01-26 10:44:10.720641: I tensorflow/core/platform/cpu_feature_guard.cc:151] This TensorFlow binary is optimized with oneAPI Deep Neural Network Library (oneDNN) to use the following CPU instructions in performance-critical operations:  AVX2 FMA\n",
      "To enable them in other operations, rebuild TensorFlow with the appropriate compiler flags.\n",
      "2022-01-26 10:44:10.721384: I tensorflow/stream_executor/cuda/cuda_gpu_executor.cc:939] successful NUMA node read from SysFS had negative value (-1), but there must be at least one NUMA node, so returning NUMA node zero\n",
      "2022-01-26 10:44:10.721650: I tensorflow/stream_executor/cuda/cuda_gpu_executor.cc:939] successful NUMA node read from SysFS had negative value (-1), but there must be at least one NUMA node, so returning NUMA node zero\n",
      "2022-01-26 10:44:10.721897: I tensorflow/stream_executor/cuda/cuda_gpu_executor.cc:939] successful NUMA node read from SysFS had negative value (-1), but there must be at least one NUMA node, so returning NUMA node zero\n",
      "2022-01-26 10:44:11.045113: I tensorflow/stream_executor/cuda/cuda_gpu_executor.cc:939] successful NUMA node read from SysFS had negative value (-1), but there must be at least one NUMA node, so returning NUMA node zero\n",
      "2022-01-26 10:44:11.045389: I tensorflow/stream_executor/cuda/cuda_gpu_executor.cc:939] successful NUMA node read from SysFS had negative value (-1), but there must be at least one NUMA node, so returning NUMA node zero\n",
      "2022-01-26 10:44:11.045626: I tensorflow/stream_executor/cuda/cuda_gpu_executor.cc:939] successful NUMA node read from SysFS had negative value (-1), but there must be at least one NUMA node, so returning NUMA node zero\n",
      "2022-01-26 10:44:11.045853: I tensorflow/core/common_runtime/gpu/gpu_device.cc:1525] Created device /job:localhost/replica:0/task:0/device:GPU:0 with 5702 MB memory:  -> device: 0, name: NVIDIA GeForce RTX 3070, pci bus id: 0000:01:00.0, compute capability: 8.6\n"
     ]
    },
    {
     "name": "stdout",
     "output_type": "stream",
     "text": [
      "Model: \"sequential\"\n",
      "_________________________________________________________________\n",
      " Layer (type)                Output Shape              Param #   \n",
      "=================================================================\n",
      " conv2d (Conv2D)             (None, 28, 28, 64)        640       \n",
      "                                                                 \n",
      " max_pooling2d (MaxPooling2D  (None, 14, 14, 64)       0         \n",
      " )                                                               \n",
      "                                                                 \n",
      " conv2d_1 (Conv2D)           (None, 14, 14, 128)       73856     \n",
      "                                                                 \n",
      " max_pooling2d_1 (MaxPooling  (None, 7, 7, 128)        0         \n",
      " 2D)                                                             \n",
      "                                                                 \n",
      " flatten (Flatten)           (None, 6272)              0         \n",
      "                                                                 \n",
      " dense (Dense)               (None, 10)                62730     \n",
      "                                                                 \n",
      "=================================================================\n",
      "Total params: 137,226\n",
      "Trainable params: 137,226\n",
      "Non-trainable params: 0\n",
      "_________________________________________________________________\n",
      "Epoch 1/100\n"
     ]
    },
    {
     "name": "stderr",
     "output_type": "stream",
     "text": [
      "2022-01-26 10:44:12.028749: I tensorflow/stream_executor/cuda/cuda_dnn.cc:366] Loaded cuDNN version 8201\n",
      "2022-01-26 10:44:13.055262: I tensorflow/stream_executor/cuda/cuda_blas.cc:1774] TensorFloat-32 will be used for the matrix multiplication. This will only be logged once.\n"
     ]
    },
    {
     "name": "stdout",
     "output_type": "stream",
     "text": [
      "235/235 [==============================] - 4s 7ms/step - loss: 2.3104 - accuracy: 0.1050 - val_loss: 2.3003 - val_accuracy: 0.1028\n",
      "Epoch 2/100\n",
      "235/235 [==============================] - 2s 6ms/step - loss: 2.2845 - accuracy: 0.1394 - val_loss: 2.2493 - val_accuracy: 0.1656\n",
      "Epoch 3/100\n",
      "235/235 [==============================] - 2s 6ms/step - loss: 2.1223 - accuracy: 0.3751 - val_loss: 1.8711 - val_accuracy: 0.6364\n",
      "Epoch 4/100\n",
      "235/235 [==============================] - 2s 6ms/step - loss: 1.4229 - accuracy: 0.6920 - val_loss: 0.9871 - val_accuracy: 0.7708\n",
      "Epoch 5/100\n",
      "235/235 [==============================] - 2s 6ms/step - loss: 0.8002 - accuracy: 0.8001 - val_loss: 0.6427 - val_accuracy: 0.8333\n",
      "Epoch 6/100\n",
      "235/235 [==============================] - 2s 7ms/step - loss: 0.5850 - accuracy: 0.8421 - val_loss: 0.5046 - val_accuracy: 0.8659\n",
      "Epoch 7/100\n",
      "235/235 [==============================] - 2s 6ms/step - loss: 0.4864 - accuracy: 0.8655 - val_loss: 0.4368 - val_accuracy: 0.8772\n",
      "Epoch 8/100\n",
      "235/235 [==============================] - 2s 7ms/step - loss: 0.4277 - accuracy: 0.8801 - val_loss: 0.3858 - val_accuracy: 0.8937\n",
      "Epoch 9/100\n",
      "235/235 [==============================] - 2s 6ms/step - loss: 0.3877 - accuracy: 0.8895 - val_loss: 0.3516 - val_accuracy: 0.9030\n",
      "Epoch 10/100\n",
      "235/235 [==============================] - 2s 7ms/step - loss: 0.3554 - accuracy: 0.8995 - val_loss: 0.3272 - val_accuracy: 0.9108\n",
      "Epoch 11/100\n",
      "235/235 [==============================] - 1s 6ms/step - loss: 0.3290 - accuracy: 0.9066 - val_loss: 0.3024 - val_accuracy: 0.9168\n",
      "Epoch 12/100\n",
      "235/235 [==============================] - 2s 7ms/step - loss: 0.3060 - accuracy: 0.9138 - val_loss: 0.2805 - val_accuracy: 0.9216\n",
      "Epoch 13/100\n",
      "235/235 [==============================] - 2s 6ms/step - loss: 0.2859 - accuracy: 0.9191 - val_loss: 0.2592 - val_accuracy: 0.9278\n",
      "Epoch 14/100\n",
      "235/235 [==============================] - 2s 7ms/step - loss: 0.2676 - accuracy: 0.9240 - val_loss: 0.2494 - val_accuracy: 0.9316\n",
      "Epoch 15/100\n",
      "235/235 [==============================] - 2s 7ms/step - loss: 0.2510 - accuracy: 0.9289 - val_loss: 0.2311 - val_accuracy: 0.9355\n",
      "Epoch 16/100\n",
      "235/235 [==============================] - 2s 6ms/step - loss: 0.2362 - accuracy: 0.9325 - val_loss: 0.2171 - val_accuracy: 0.9388\n",
      "Epoch 17/100\n",
      "235/235 [==============================] - 2s 7ms/step - loss: 0.2218 - accuracy: 0.9378 - val_loss: 0.2008 - val_accuracy: 0.9443\n",
      "Epoch 18/100\n",
      "235/235 [==============================] - 2s 7ms/step - loss: 0.2093 - accuracy: 0.9406 - val_loss: 0.1918 - val_accuracy: 0.9453\n",
      "Epoch 19/100\n",
      "235/235 [==============================] - 2s 7ms/step - loss: 0.1966 - accuracy: 0.9447 - val_loss: 0.1799 - val_accuracy: 0.9487\n",
      "Epoch 20/100\n",
      "235/235 [==============================] - 2s 7ms/step - loss: 0.1852 - accuracy: 0.9477 - val_loss: 0.1717 - val_accuracy: 0.9513\n",
      "Epoch 21/100\n",
      "235/235 [==============================] - 2s 7ms/step - loss: 0.1753 - accuracy: 0.9505 - val_loss: 0.1586 - val_accuracy: 0.9550\n",
      "Epoch 22/100\n",
      "235/235 [==============================] - 2s 7ms/step - loss: 0.1659 - accuracy: 0.9536 - val_loss: 0.1532 - val_accuracy: 0.9553\n",
      "Epoch 23/100\n",
      "235/235 [==============================] - 2s 7ms/step - loss: 0.1573 - accuracy: 0.9559 - val_loss: 0.1471 - val_accuracy: 0.9583\n",
      "Epoch 24/100\n",
      "235/235 [==============================] - 2s 7ms/step - loss: 0.1489 - accuracy: 0.9578 - val_loss: 0.1355 - val_accuracy: 0.9610\n",
      "Epoch 25/100\n",
      "235/235 [==============================] - 2s 7ms/step - loss: 0.1415 - accuracy: 0.9597 - val_loss: 0.1317 - val_accuracy: 0.9638\n",
      "Epoch 26/100\n",
      "235/235 [==============================] - 2s 7ms/step - loss: 0.1346 - accuracy: 0.9621 - val_loss: 0.1272 - val_accuracy: 0.9632\n",
      "Epoch 27/100\n",
      "235/235 [==============================] - 2s 7ms/step - loss: 0.1288 - accuracy: 0.9639 - val_loss: 0.1195 - val_accuracy: 0.9664\n",
      "Epoch 28/100\n",
      "235/235 [==============================] - 2s 7ms/step - loss: 0.1230 - accuracy: 0.9650 - val_loss: 0.1140 - val_accuracy: 0.9679\n",
      "Epoch 29/100\n",
      "235/235 [==============================] - 2s 7ms/step - loss: 0.1181 - accuracy: 0.9659 - val_loss: 0.1079 - val_accuracy: 0.9693\n",
      "Epoch 30/100\n",
      "235/235 [==============================] - 2s 7ms/step - loss: 0.1129 - accuracy: 0.9678 - val_loss: 0.1076 - val_accuracy: 0.9667\n",
      "Epoch 31/100\n",
      "235/235 [==============================] - 2s 7ms/step - loss: 0.1084 - accuracy: 0.9687 - val_loss: 0.1014 - val_accuracy: 0.9702\n",
      "Epoch 32/100\n",
      "235/235 [==============================] - 2s 7ms/step - loss: 0.1041 - accuracy: 0.9705 - val_loss: 0.0982 - val_accuracy: 0.9716\n",
      "Epoch 33/100\n",
      "235/235 [==============================] - 2s 7ms/step - loss: 0.1006 - accuracy: 0.9713 - val_loss: 0.0927 - val_accuracy: 0.9728\n",
      "Epoch 34/100\n",
      "235/235 [==============================] - 2s 6ms/step - loss: 0.0973 - accuracy: 0.9723 - val_loss: 0.0894 - val_accuracy: 0.9737\n",
      "Epoch 35/100\n",
      "235/235 [==============================] - 2s 7ms/step - loss: 0.0937 - accuracy: 0.9730 - val_loss: 0.0888 - val_accuracy: 0.9743\n",
      "Epoch 36/100\n",
      "235/235 [==============================] - 2s 7ms/step - loss: 0.0905 - accuracy: 0.9742 - val_loss: 0.0850 - val_accuracy: 0.9756\n",
      "Epoch 37/100\n",
      "235/235 [==============================] - 2s 7ms/step - loss: 0.0878 - accuracy: 0.9745 - val_loss: 0.0816 - val_accuracy: 0.9762\n",
      "Epoch 38/100\n",
      "235/235 [==============================] - 2s 7ms/step - loss: 0.0850 - accuracy: 0.9761 - val_loss: 0.0813 - val_accuracy: 0.9749\n",
      "Epoch 39/100\n",
      "235/235 [==============================] - 2s 7ms/step - loss: 0.0824 - accuracy: 0.9763 - val_loss: 0.0768 - val_accuracy: 0.9769\n",
      "Epoch 40/100\n",
      "235/235 [==============================] - 2s 7ms/step - loss: 0.0803 - accuracy: 0.9765 - val_loss: 0.0768 - val_accuracy: 0.9768\n",
      "Epoch 41/100\n",
      "235/235 [==============================] - 2s 7ms/step - loss: 0.0780 - accuracy: 0.9775 - val_loss: 0.0751 - val_accuracy: 0.9767\n",
      "Epoch 42/100\n",
      "235/235 [==============================] - 2s 7ms/step - loss: 0.0759 - accuracy: 0.9783 - val_loss: 0.0735 - val_accuracy: 0.9781\n",
      "Epoch 43/100\n",
      "235/235 [==============================] - 2s 7ms/step - loss: 0.0740 - accuracy: 0.9786 - val_loss: 0.0712 - val_accuracy: 0.9781\n",
      "Epoch 44/100\n",
      "235/235 [==============================] - 2s 7ms/step - loss: 0.0724 - accuracy: 0.9788 - val_loss: 0.0686 - val_accuracy: 0.9790\n",
      "Epoch 45/100\n",
      "235/235 [==============================] - 2s 7ms/step - loss: 0.0704 - accuracy: 0.9796 - val_loss: 0.0671 - val_accuracy: 0.9797\n",
      "Epoch 46/100\n",
      "235/235 [==============================] - 2s 7ms/step - loss: 0.0689 - accuracy: 0.9798 - val_loss: 0.0670 - val_accuracy: 0.9804\n",
      "Epoch 47/100\n",
      "235/235 [==============================] - 2s 7ms/step - loss: 0.0673 - accuracy: 0.9800 - val_loss: 0.0664 - val_accuracy: 0.9799\n",
      "Epoch 48/100\n",
      "235/235 [==============================] - 2s 7ms/step - loss: 0.0660 - accuracy: 0.9808 - val_loss: 0.0636 - val_accuracy: 0.9802\n",
      "Epoch 49/100\n",
      "235/235 [==============================] - 2s 7ms/step - loss: 0.0644 - accuracy: 0.9811 - val_loss: 0.0615 - val_accuracy: 0.9813\n",
      "Epoch 50/100\n",
      "235/235 [==============================] - 2s 7ms/step - loss: 0.0627 - accuracy: 0.9818 - val_loss: 0.0601 - val_accuracy: 0.9814\n",
      "Epoch 51/100\n",
      "235/235 [==============================] - 2s 7ms/step - loss: 0.0616 - accuracy: 0.9821 - val_loss: 0.0601 - val_accuracy: 0.9807\n",
      "Epoch 52/100\n",
      "235/235 [==============================] - 2s 7ms/step - loss: 0.0603 - accuracy: 0.9828 - val_loss: 0.0572 - val_accuracy: 0.9822\n",
      "Epoch 53/100\n",
      "235/235 [==============================] - 2s 7ms/step - loss: 0.0592 - accuracy: 0.9828 - val_loss: 0.0571 - val_accuracy: 0.9816\n",
      "Epoch 54/100\n",
      "235/235 [==============================] - 2s 7ms/step - loss: 0.0580 - accuracy: 0.9833 - val_loss: 0.0575 - val_accuracy: 0.9822\n",
      "Epoch 55/100\n",
      "235/235 [==============================] - 2s 7ms/step - loss: 0.0571 - accuracy: 0.9834 - val_loss: 0.0555 - val_accuracy: 0.9822\n",
      "Epoch 56/100\n",
      "235/235 [==============================] - 2s 7ms/step - loss: 0.0560 - accuracy: 0.9839 - val_loss: 0.0545 - val_accuracy: 0.9826\n",
      "Epoch 57/100\n",
      "235/235 [==============================] - 2s 7ms/step - loss: 0.0550 - accuracy: 0.9842 - val_loss: 0.0543 - val_accuracy: 0.9819\n",
      "Epoch 58/100\n"
     ]
    },
    {
     "name": "stdout",
     "output_type": "stream",
     "text": [
      "235/235 [==============================] - 2s 7ms/step - loss: 0.0541 - accuracy: 0.9845 - val_loss: 0.0548 - val_accuracy: 0.9829\n",
      "Epoch 59/100\n",
      "235/235 [==============================] - 2s 7ms/step - loss: 0.0534 - accuracy: 0.9845 - val_loss: 0.0552 - val_accuracy: 0.9817\n",
      "Epoch 60/100\n",
      "235/235 [==============================] - 2s 7ms/step - loss: 0.0519 - accuracy: 0.9849 - val_loss: 0.0512 - val_accuracy: 0.9834\n",
      "Epoch 61/100\n",
      "235/235 [==============================] - 2s 7ms/step - loss: 0.0513 - accuracy: 0.9853 - val_loss: 0.0526 - val_accuracy: 0.9838\n",
      "Epoch 62/100\n",
      "235/235 [==============================] - 2s 7ms/step - loss: 0.0507 - accuracy: 0.9852 - val_loss: 0.0507 - val_accuracy: 0.9839\n",
      "Epoch 63/100\n",
      "235/235 [==============================] - 2s 7ms/step - loss: 0.0500 - accuracy: 0.9855 - val_loss: 0.0501 - val_accuracy: 0.9837\n",
      "Epoch 64/100\n",
      "235/235 [==============================] - 2s 7ms/step - loss: 0.0495 - accuracy: 0.9859 - val_loss: 0.0490 - val_accuracy: 0.9835\n",
      "Epoch 65/100\n",
      "235/235 [==============================] - 2s 7ms/step - loss: 0.0484 - accuracy: 0.9865 - val_loss: 0.0492 - val_accuracy: 0.9842\n",
      "Epoch 66/100\n",
      "235/235 [==============================] - 2s 7ms/step - loss: 0.0479 - accuracy: 0.9862 - val_loss: 0.0499 - val_accuracy: 0.9832\n",
      "Epoch 67/100\n",
      "235/235 [==============================] - 2s 7ms/step - loss: 0.0470 - accuracy: 0.9865 - val_loss: 0.0476 - val_accuracy: 0.9844\n",
      "Epoch 68/100\n",
      "235/235 [==============================] - 2s 7ms/step - loss: 0.0462 - accuracy: 0.9866 - val_loss: 0.0501 - val_accuracy: 0.9842\n",
      "Epoch 69/100\n",
      "235/235 [==============================] - 2s 7ms/step - loss: 0.0455 - accuracy: 0.9869 - val_loss: 0.0480 - val_accuracy: 0.9842\n",
      "Epoch 70/100\n",
      "235/235 [==============================] - 2s 7ms/step - loss: 0.0446 - accuracy: 0.9873 - val_loss: 0.0467 - val_accuracy: 0.9848\n",
      "Epoch 71/100\n",
      "235/235 [==============================] - 2s 7ms/step - loss: 0.0437 - accuracy: 0.9877 - val_loss: 0.0464 - val_accuracy: 0.9862\n",
      "Epoch 72/100\n",
      "235/235 [==============================] - 2s 7ms/step - loss: 0.0438 - accuracy: 0.9876 - val_loss: 0.0462 - val_accuracy: 0.9857\n",
      "Epoch 73/100\n",
      "235/235 [==============================] - 2s 7ms/step - loss: 0.0432 - accuracy: 0.9875 - val_loss: 0.0451 - val_accuracy: 0.9851\n",
      "Epoch 74/100\n",
      "235/235 [==============================] - 2s 7ms/step - loss: 0.0424 - accuracy: 0.9879 - val_loss: 0.0457 - val_accuracy: 0.9861\n",
      "Epoch 75/100\n",
      "235/235 [==============================] - 2s 7ms/step - loss: 0.0418 - accuracy: 0.9881 - val_loss: 0.0483 - val_accuracy: 0.9849\n",
      "Epoch 76/100\n",
      "235/235 [==============================] - 2s 7ms/step - loss: 0.0414 - accuracy: 0.9882 - val_loss: 0.0449 - val_accuracy: 0.9855\n",
      "Epoch 77/100\n",
      "235/235 [==============================] - 2s 7ms/step - loss: 0.0411 - accuracy: 0.9887 - val_loss: 0.0444 - val_accuracy: 0.9858\n",
      "Epoch 78/100\n",
      "235/235 [==============================] - 2s 7ms/step - loss: 0.0401 - accuracy: 0.9889 - val_loss: 0.0442 - val_accuracy: 0.9854\n",
      "Epoch 79/100\n",
      "235/235 [==============================] - 2s 7ms/step - loss: 0.0397 - accuracy: 0.9887 - val_loss: 0.0435 - val_accuracy: 0.9869\n",
      "Epoch 80/100\n",
      "235/235 [==============================] - 2s 7ms/step - loss: 0.0391 - accuracy: 0.9893 - val_loss: 0.0436 - val_accuracy: 0.9855\n",
      "Epoch 81/100\n",
      "235/235 [==============================] - 2s 7ms/step - loss: 0.0388 - accuracy: 0.9891 - val_loss: 0.0473 - val_accuracy: 0.9861\n",
      "Epoch 82/100\n",
      "235/235 [==============================] - 2s 7ms/step - loss: 0.0385 - accuracy: 0.9891 - val_loss: 0.0418 - val_accuracy: 0.9867\n",
      "Epoch 83/100\n",
      "235/235 [==============================] - 2s 7ms/step - loss: 0.0375 - accuracy: 0.9895 - val_loss: 0.0437 - val_accuracy: 0.9860\n",
      "Epoch 84/100\n",
      "235/235 [==============================] - 2s 7ms/step - loss: 0.0373 - accuracy: 0.9895 - val_loss: 0.0428 - val_accuracy: 0.9870\n",
      "Epoch 85/100\n",
      "235/235 [==============================] - 2s 7ms/step - loss: 0.0367 - accuracy: 0.9895 - val_loss: 0.0412 - val_accuracy: 0.9877\n",
      "Epoch 86/100\n",
      "235/235 [==============================] - 2s 7ms/step - loss: 0.0361 - accuracy: 0.9904 - val_loss: 0.0427 - val_accuracy: 0.9869\n",
      "Epoch 87/100\n",
      "235/235 [==============================] - 2s 7ms/step - loss: 0.0360 - accuracy: 0.9899 - val_loss: 0.0445 - val_accuracy: 0.9858\n",
      "Epoch 88/100\n",
      "235/235 [==============================] - 2s 7ms/step - loss: 0.0356 - accuracy: 0.9900 - val_loss: 0.0414 - val_accuracy: 0.9875\n",
      "Epoch 89/100\n",
      "235/235 [==============================] - 2s 7ms/step - loss: 0.0351 - accuracy: 0.9900 - val_loss: 0.0427 - val_accuracy: 0.9867\n",
      "Epoch 90/100\n",
      "235/235 [==============================] - 2s 7ms/step - loss: 0.0348 - accuracy: 0.9903 - val_loss: 0.0399 - val_accuracy: 0.9876\n",
      "Epoch 91/100\n",
      "235/235 [==============================] - 2s 7ms/step - loss: 0.0343 - accuracy: 0.9906 - val_loss: 0.0430 - val_accuracy: 0.9863\n",
      "Epoch 92/100\n",
      "235/235 [==============================] - 2s 7ms/step - loss: 0.0339 - accuracy: 0.9905 - val_loss: 0.0408 - val_accuracy: 0.9881\n",
      "Epoch 93/100\n",
      "235/235 [==============================] - 2s 6ms/step - loss: 0.0334 - accuracy: 0.9908 - val_loss: 0.0408 - val_accuracy: 0.9868\n",
      "Epoch 94/100\n",
      "235/235 [==============================] - 2s 7ms/step - loss: 0.0331 - accuracy: 0.9908 - val_loss: 0.0403 - val_accuracy: 0.9880\n",
      "Epoch 95/100\n",
      "235/235 [==============================] - 2s 7ms/step - loss: 0.0329 - accuracy: 0.9908 - val_loss: 0.0395 - val_accuracy: 0.9879\n",
      "Epoch 96/100\n",
      "235/235 [==============================] - 2s 7ms/step - loss: 0.0324 - accuracy: 0.9915 - val_loss: 0.0399 - val_accuracy: 0.9877\n",
      "Epoch 97/100\n",
      "235/235 [==============================] - 2s 7ms/step - loss: 0.0320 - accuracy: 0.9912 - val_loss: 0.0396 - val_accuracy: 0.9878\n",
      "Epoch 98/100\n",
      "235/235 [==============================] - 2s 7ms/step - loss: 0.0314 - accuracy: 0.9915 - val_loss: 0.0406 - val_accuracy: 0.9869\n",
      "Epoch 99/100\n",
      "235/235 [==============================] - 2s 7ms/step - loss: 0.0312 - accuracy: 0.9913 - val_loss: 0.0408 - val_accuracy: 0.9869\n",
      "Epoch 100/100\n",
      "235/235 [==============================] - 2s 7ms/step - loss: 0.0311 - accuracy: 0.9915 - val_loss: 0.0389 - val_accuracy: 0.9880\n"
     ]
    }
   ],
   "source": [
    "import tensorflow as tf\n",
    "import tensorflow.keras as keras\n",
    "\n",
    "# set seed\n",
    "tf.random.set_seed(1234)\n",
    "\n",
    "# data preparation\n",
    "mnist = tf.keras.datasets.mnist\n",
    "(x_train, y_train),(x_test, y_test) = mnist.load_data()\n",
    "\n",
    "x_train = x_train.reshape((60000, 28, 28, 1))\n",
    "x_test  = x_test.reshape((10000, 28, 28, 1))\n",
    "\n",
    "# normalize\n",
    "x_train, x_test = x_train / 255.0, x_test / 255.0\n",
    "\n",
    "# model\n",
    "model = keras.models.Sequential()\n",
    "model.add(tf.keras.Input(shape=(28, 28, 1)))\n",
    "\n",
    "model.add(keras.layers.Conv2D(64, 3, padding='same', \n",
    "                              activation='sigmoid'))\n",
    "model.add(keras.layers.MaxPooling2D(2))\n",
    "\n",
    "model.add(keras.layers.Conv2D(128, 3, padding='same', \n",
    "                              activation='sigmoid'))\n",
    "model.add(keras.layers.MaxPooling2D(2))\n",
    "\n",
    "# flatten\n",
    "model.add(keras.layers.Flatten())\n",
    "model.add(keras.layers.Dense(10, activation='softmax'))\n",
    "model.summary()\n",
    "\n",
    "# training\n",
    "opt = tf.keras.optimizers.Adam(0.0001)\n",
    "model.compile(optimizer=opt, metrics=['accuracy'], \n",
    "              loss='sparse_categorical_crossentropy')\n",
    "\n",
    "history = model.fit(x_train, y_train, batch_size=256, \n",
    "                    validation_data=(x_test, y_test), \n",
    "                    epochs=100, verbose=1)"
   ]
  },
  {
   "cell_type": "code",
   "execution_count": null,
   "metadata": {},
   "outputs": [],
   "source": []
  },
  {
   "cell_type": "code",
   "execution_count": 3,
   "metadata": {},
   "outputs": [
    {
     "data": {
      "text/plain": [
       "<matplotlib.legend.Legend at 0x7f5478721d30>"
      ]
     },
     "execution_count": 3,
     "metadata": {},
     "output_type": "execute_result"
    },
    {
     "data": {
      "image/png": "[encoded data removed]",
      "text/plain": [
       "<Figure size 432x288 with 1 Axes>"
      ]
     },
     "metadata": {
      "needs_background": "light"
     },
     "output_type": "display_data"
    }
   ],
   "source": [
    "import matplotlib.pyplot as plt\n",
    "\n",
    "plt.plot(history.history['loss'], label = \"train_loss\")\n",
    "plt.plot(history.history['val_loss'], label = \"val_loss\")\n",
    "plt.xlabel('iteration')\n",
    "plt.ylabel('Loss')\n",
    "plt.legend()"
   ]
  },
  {
   "cell_type": "code",
   "execution_count": null,
   "metadata": {},
   "outputs": [],
   "source": []
  },
  {
   "cell_type": "code",
   "execution_count": 4,
   "metadata": {},
   "outputs": [
    {
     "data": {
      "text/plain": [
       "<matplotlib.legend.Legend at 0x7f5478629d00>"
      ]
     },
     "execution_count": 4,
     "metadata": {},
     "output_type": "execute_result"
    },
    {
     "data": {
      "image/png": "[encoded data removed]",
      "text/plain": [
       "<Figure size 432x288 with 1 Axes>"
      ]
     },
     "metadata": {
      "needs_background": "light"
     },
     "output_type": "display_data"
    }
   ],
   "source": [
    "import matplotlib.pyplot as plt\n",
    "\n",
    "plt.plot(history.history['accuracy'], label = \"train_accuracy\")\n",
    "plt.plot(history.history['val_accuracy'], label = \"val_accuracy\")\n",
    "plt.xlabel('iteration')\n",
    "plt.ylabel('Accuracy')\n",
    "plt.legend()"
   ]
  },
  {
   "cell_type": "code",
   "execution_count": null,
   "metadata": {},
   "outputs": [],
   "source": []
  }
 ],
 "metadata": {
  "kernelspec": {
   "display_name": "Python 3 (ipykernel)",
   "language": "python",
   "name": "python3"
  },
  "language_info": {
   "codemirror_mode": {
    "name": "ipython",
    "version": 3
   },
   "file_extension": ".py",
   "mimetype": "text/x-python",
   "name": "python",
   "nbconvert_exporter": "python",
   "pygments_lexer": "ipython3",
   "version": "3.9.13"
  }
 },
 "nbformat": 4,
 "nbformat_minor": 2
}
