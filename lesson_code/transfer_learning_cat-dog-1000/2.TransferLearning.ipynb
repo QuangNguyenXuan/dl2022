{
 "cells": [
  {
   "cell_type": "code",
   "execution_count": 1,
   "id": "d4e45a49-974f-4f9c-8642-42e2c45aab71",
   "metadata": {},
   "outputs": [],
   "source": [
    "import torch\n",
    "from torchvision import datasets, transforms\n",
    "import torch.nn as nn\n",
    "import torch.nn.functional as F\n",
    "\n",
    "import numpy as np\n",
    "import matplotlib.pyplot as plt\n",
    "\n",
    "from torchvision.datasets import CIFAR10\n",
    "from torch.utils.data import DataLoader \n",
    "from torch.optim import Adam\n",
    "import torchvision\n",
    "import torchvision.models as models\n",
    "from torchsummary import summary\n",
    "\n",
    "torch.manual_seed(1)\n",
    "device = 'cuda' if torch.cuda.is_available() else 'cpu'"
   ]
  },
  {
   "cell_type": "code",
   "execution_count": null,
   "id": "42432066-6cf0-416b-961a-adb1e3217204",
   "metadata": {},
   "outputs": [],
   "source": []
  },
  {
   "cell_type": "markdown",
   "id": "f913360b-019e-4d69-a540-b7b5715544e1",
   "metadata": {},
   "source": [
    "## Data"
   ]
  },
  {
   "cell_type": "code",
   "execution_count": 2,
   "id": "3ad21976-2d99-49b7-b0b5-84e9ebcd371e",
   "metadata": {},
   "outputs": [],
   "source": [
    "train_transform = transforms.Compose(\n",
    "    [\n",
    "        transforms.Resize((224, 224)),   # Resize images to a fixed size\n",
    "        transforms.ToTensor(),           # Convert images to PyTorch tensors\n",
    "        transforms.Normalize(mean=[0.485, 0.456, 0.406], \n",
    "                             std=[0.229, 0.224, 0.225]),\n",
    "        transforms.RandomErasing(p=0.75,\n",
    "                                 scale=(0.01, 0.3),\n",
    "                                 ratio=(1.0, 1.0),\n",
    "                                 value=0,\n",
    "                                 inplace =True)        \n",
    "    ])\n",
    "\n",
    "test_transform = transforms.Compose([\n",
    "    transforms.Resize((224, 224)),   # Resize images to a fixed size\n",
    "    transforms.ToTensor(),           # Convert images to PyTorch tensors\n",
    "    transforms.Normalize(mean=[0.485, 0.456, 0.406], \n",
    "                         std=[0.229, 0.224, 0.225]) # Normalize\n",
    "])\n",
    "\n",
    "# Load datasets\n",
    "train_dataset = datasets.ImageFolder('data/train', transform=train_transform)\n",
    "test_dataset = datasets.ImageFolder('data/validation', transform=test_transform)\n",
    "\n",
    "# Create data loaders\n",
    "train_loader = DataLoader(train_dataset, batch_size=32, shuffle=True)\n",
    "test_loader = DataLoader(test_dataset, batch_size=32, shuffle=False)"
   ]
  },
  {
   "cell_type": "code",
   "execution_count": null,
   "id": "cf229497-4b6e-443d-b330-66b6fa139fcd",
   "metadata": {},
   "outputs": [],
   "source": []
  },
  {
   "cell_type": "markdown",
   "id": "6ea0dde8-29e7-4096-bd15-6a5ed74655f0",
   "metadata": {},
   "source": [
    "## Model"
   ]
  },
  {
   "cell_type": "code",
   "execution_count": 3,
   "id": "667fc692-e195-4fe1-94c0-1fda94be7849",
   "metadata": {},
   "outputs": [
    {
     "name": "stdout",
     "output_type": "stream",
     "text": [
      ": Not trainable\n",
      "0: Not trainable\n",
      "1: Not trainable\n",
      "2: Not trainable\n",
      "3: Not trainable\n",
      "4: Not trainable\n",
      "5: Not trainable\n",
      "6: Not trainable\n",
      "7: Not trainable\n",
      "8: Not trainable\n",
      "9: Not trainable\n",
      "10: Not trainable\n",
      "11: Not trainable\n",
      "12: Not trainable\n",
      "13: Not trainable\n",
      "14: Not trainable\n",
      "15: Not trainable\n",
      "16: Not trainable\n",
      "17: Not trainable\n",
      "18: Not trainable\n",
      "19: Not trainable\n",
      "20: Not trainable\n",
      "21: Not trainable\n",
      "22: Not trainable\n",
      "23: Not trainable\n",
      "24: Not trainable\n",
      "25: Not trainable\n",
      "26: Not trainable\n",
      "27: Not trainable\n",
      "28: Not trainable\n",
      "29: Not trainable\n",
      "30: Not trainable\n"
     ]
    }
   ],
   "source": [
    "# Load the pretrained VGG16 model\n",
    "vgg16 = models.vgg16(weights=models.VGG16_Weights.DEFAULT)\n",
    "f_extractor = vgg16.features\n",
    "\n",
    "# Freeze the feature extraction part (all layers up to the classifier)\n",
    "for param in f_extractor.parameters():\n",
    "    param.requires_grad = False\n",
    "\n",
    "for name, module in f_extractor.named_modules():\n",
    "    if hasattr(module, 'parameters'):\n",
    "        is_trainable = any(param.requires_grad for param in module.parameters())\n",
    "        print(f\"{name}: {'Trainable' if is_trainable else 'Not trainable'}\")"
   ]
  },
  {
   "cell_type": "code",
   "execution_count": 4,
   "id": "c8516821-d41b-42a8-9e51-ddfb8f9ec87e",
   "metadata": {},
   "outputs": [
    {
     "name": "stdout",
     "output_type": "stream",
     "text": [
      "==========================================================================================\n",
      "Layer (type:depth-idx)                   Output Shape              Param #\n",
      "==========================================================================================\n",
      "├─Sequential: 1-1                        [-1, 512, 7, 7]           --\n",
      "|    └─Conv2d: 2-1                       [-1, 64, 224, 224]        (1,792)\n",
      "|    └─ReLU: 2-2                         [-1, 64, 224, 224]        --\n",
      "|    └─Conv2d: 2-3                       [-1, 64, 224, 224]        (36,928)\n",
      "|    └─ReLU: 2-4                         [-1, 64, 224, 224]        --\n",
      "|    └─MaxPool2d: 2-5                    [-1, 64, 112, 112]        --\n",
      "|    └─Conv2d: 2-6                       [-1, 128, 112, 112]       (73,856)\n",
      "|    └─ReLU: 2-7                         [-1, 128, 112, 112]       --\n",
      "|    └─Conv2d: 2-8                       [-1, 128, 112, 112]       (147,584)\n",
      "|    └─ReLU: 2-9                         [-1, 128, 112, 112]       --\n",
      "|    └─MaxPool2d: 2-10                   [-1, 128, 56, 56]         --\n",
      "|    └─Conv2d: 2-11                      [-1, 256, 56, 56]         (295,168)\n",
      "|    └─ReLU: 2-12                        [-1, 256, 56, 56]         --\n",
      "|    └─Conv2d: 2-13                      [-1, 256, 56, 56]         (590,080)\n",
      "|    └─ReLU: 2-14                        [-1, 256, 56, 56]         --\n",
      "|    └─Conv2d: 2-15                      [-1, 256, 56, 56]         (590,080)\n",
      "|    └─ReLU: 2-16                        [-1, 256, 56, 56]         --\n",
      "|    └─MaxPool2d: 2-17                   [-1, 256, 28, 28]         --\n",
      "|    └─Conv2d: 2-18                      [-1, 512, 28, 28]         (1,180,160)\n",
      "|    └─ReLU: 2-19                        [-1, 512, 28, 28]         --\n",
      "|    └─Conv2d: 2-20                      [-1, 512, 28, 28]         (2,359,808)\n",
      "|    └─ReLU: 2-21                        [-1, 512, 28, 28]         --\n",
      "|    └─Conv2d: 2-22                      [-1, 512, 28, 28]         (2,359,808)\n",
      "|    └─ReLU: 2-23                        [-1, 512, 28, 28]         --\n",
      "|    └─MaxPool2d: 2-24                   [-1, 512, 14, 14]         --\n",
      "|    └─Conv2d: 2-25                      [-1, 512, 14, 14]         (2,359,808)\n",
      "|    └─ReLU: 2-26                        [-1, 512, 14, 14]         --\n",
      "|    └─Conv2d: 2-27                      [-1, 512, 14, 14]         (2,359,808)\n",
      "|    └─ReLU: 2-28                        [-1, 512, 14, 14]         --\n",
      "|    └─Conv2d: 2-29                      [-1, 512, 14, 14]         (2,359,808)\n",
      "|    └─ReLU: 2-30                        [-1, 512, 14, 14]         --\n",
      "|    └─MaxPool2d: 2-31                   [-1, 512, 7, 7]           --\n",
      "├─Flatten: 1-2                           [-1, 25088]               --\n",
      "├─Dropout: 1-3                           [-1, 25088]               --\n",
      "├─Linear: 1-4                            [-1, 512]                 12,845,568\n",
      "├─ReLU: 1-5                              [-1, 512]                 --\n",
      "├─Dropout: 1-6                           [-1, 512]                 --\n",
      "├─Linear: 1-7                            [-1, 2]                   1,026\n",
      "==========================================================================================\n",
      "Total params: 27,561,282\n",
      "Trainable params: 12,846,594\n",
      "Non-trainable params: 14,714,688\n",
      "Total mult-adds (G): 15.37\n",
      "==========================================================================================\n",
      "Input size (MB): 0.57\n",
      "Forward/backward pass size (MB): 103.36\n",
      "Params size (MB): 105.14\n",
      "Estimated Total Size (MB): 209.08\n",
      "==========================================================================================\n"
     ]
    },
    {
     "data": {
      "text/plain": [
       "==========================================================================================\n",
       "Layer (type:depth-idx)                   Output Shape              Param #\n",
       "==========================================================================================\n",
       "├─Sequential: 1-1                        [-1, 512, 7, 7]           --\n",
       "|    └─Conv2d: 2-1                       [-1, 64, 224, 224]        (1,792)\n",
       "|    └─ReLU: 2-2                         [-1, 64, 224, 224]        --\n",
       "|    └─Conv2d: 2-3                       [-1, 64, 224, 224]        (36,928)\n",
       "|    └─ReLU: 2-4                         [-1, 64, 224, 224]        --\n",
       "|    └─MaxPool2d: 2-5                    [-1, 64, 112, 112]        --\n",
       "|    └─Conv2d: 2-6                       [-1, 128, 112, 112]       (73,856)\n",
       "|    └─ReLU: 2-7                         [-1, 128, 112, 112]       --\n",
       "|    └─Conv2d: 2-8                       [-1, 128, 112, 112]       (147,584)\n",
       "|    └─ReLU: 2-9                         [-1, 128, 112, 112]       --\n",
       "|    └─MaxPool2d: 2-10                   [-1, 128, 56, 56]         --\n",
       "|    └─Conv2d: 2-11                      [-1, 256, 56, 56]         (295,168)\n",
       "|    └─ReLU: 2-12                        [-1, 256, 56, 56]         --\n",
       "|    └─Conv2d: 2-13                      [-1, 256, 56, 56]         (590,080)\n",
       "|    └─ReLU: 2-14                        [-1, 256, 56, 56]         --\n",
       "|    └─Conv2d: 2-15                      [-1, 256, 56, 56]         (590,080)\n",
       "|    └─ReLU: 2-16                        [-1, 256, 56, 56]         --\n",
       "|    └─MaxPool2d: 2-17                   [-1, 256, 28, 28]         --\n",
       "|    └─Conv2d: 2-18                      [-1, 512, 28, 28]         (1,180,160)\n",
       "|    └─ReLU: 2-19                        [-1, 512, 28, 28]         --\n",
       "|    └─Conv2d: 2-20                      [-1, 512, 28, 28]         (2,359,808)\n",
       "|    └─ReLU: 2-21                        [-1, 512, 28, 28]         --\n",
       "|    └─Conv2d: 2-22                      [-1, 512, 28, 28]         (2,359,808)\n",
       "|    └─ReLU: 2-23                        [-1, 512, 28, 28]         --\n",
       "|    └─MaxPool2d: 2-24                   [-1, 512, 14, 14]         --\n",
       "|    └─Conv2d: 2-25                      [-1, 512, 14, 14]         (2,359,808)\n",
       "|    └─ReLU: 2-26                        [-1, 512, 14, 14]         --\n",
       "|    └─Conv2d: 2-27                      [-1, 512, 14, 14]         (2,359,808)\n",
       "|    └─ReLU: 2-28                        [-1, 512, 14, 14]         --\n",
       "|    └─Conv2d: 2-29                      [-1, 512, 14, 14]         (2,359,808)\n",
       "|    └─ReLU: 2-30                        [-1, 512, 14, 14]         --\n",
       "|    └─MaxPool2d: 2-31                   [-1, 512, 7, 7]           --\n",
       "├─Flatten: 1-2                           [-1, 25088]               --\n",
       "├─Dropout: 1-3                           [-1, 25088]               --\n",
       "├─Linear: 1-4                            [-1, 512]                 12,845,568\n",
       "├─ReLU: 1-5                              [-1, 512]                 --\n",
       "├─Dropout: 1-6                           [-1, 512]                 --\n",
       "├─Linear: 1-7                            [-1, 2]                   1,026\n",
       "==========================================================================================\n",
       "Total params: 27,561,282\n",
       "Trainable params: 12,846,594\n",
       "Non-trainable params: 14,714,688\n",
       "Total mult-adds (G): 15.37\n",
       "==========================================================================================\n",
       "Input size (MB): 0.57\n",
       "Forward/backward pass size (MB): 103.36\n",
       "Params size (MB): 105.14\n",
       "Estimated Total Size (MB): 209.08\n",
       "=========================================================================================="
      ]
     },
     "execution_count": 4,
     "metadata": {},
     "output_type": "execute_result"
    }
   ],
   "source": [
    "model = nn.Sequential(f_extractor, \n",
    "                      nn.Flatten(), \n",
    "                      nn.Dropout(0.3), \n",
    "                      nn.Linear(512*7*7, 512),\n",
    "                      nn.ReLU(),\n",
    "                      nn.Dropout(0.3),\n",
    "                      nn.Linear(512, 2))\n",
    "model.to(device)\n",
    "summary(model, (3, 224, 224))"
   ]
  },
  {
   "cell_type": "code",
   "execution_count": null,
   "id": "9b8b7cc7-f67c-4ba0-ba21-ac2ed717f674",
   "metadata": {},
   "outputs": [],
   "source": []
  },
  {
   "cell_type": "markdown",
   "id": "43c7b151-a199-4e2a-8015-fdfb5f166284",
   "metadata": {},
   "source": [
    "# Train"
   ]
  },
  {
   "cell_type": "code",
   "execution_count": 5,
   "id": "1464e2bd-b627-475d-9941-f2a930d69a14",
   "metadata": {},
   "outputs": [],
   "source": [
    "criterion = nn.CrossEntropyLoss()\n",
    "optimizer = Adam(model.parameters(), lr=1e-4)  "
   ]
  },
  {
   "cell_type": "code",
   "execution_count": 6,
   "id": "04744c84-1e6d-4bfb-8dd5-abbdc91f102e",
   "metadata": {},
   "outputs": [],
   "source": [
    "# Function to compute loss and accuracy for test set\n",
    "def evaluate(model, test_loader, criterion):\n",
    "    model.eval()\n",
    "    test_loss = 0.0\n",
    "    running_correct = 0\n",
    "    total = 0\n",
    "    with torch.no_grad():\n",
    "        for images, labels in test_loader:\n",
    "            # Move inputs and labels to the device\n",
    "            images, labels = images.to(device), labels.to(device)\n",
    "\n",
    "            outputs = model(images)\n",
    "            loss = criterion(outputs, labels)\n",
    "            test_loss += loss.item()\n",
    "            \n",
    "            _, predicted = torch.max(outputs.data, 1)\n",
    "            total += labels.size(0)\n",
    "            running_correct += (predicted == labels).sum().item()\n",
    "\n",
    "    accuracy = 100 * running_correct / total\n",
    "    test_loss = test_loss / len(test_loader)\n",
    "    return test_loss, accuracy"
   ]
  },
  {
   "cell_type": "code",
   "execution_count": 7,
   "id": "f2402591-e7f7-4bdd-8962-c029cfcd9307",
   "metadata": {},
   "outputs": [],
   "source": [
    "# some parameter\n",
    "train_losses = []\n",
    "train_accuracies = []\n",
    "test_losses = []\n",
    "test_accuracies = []\n",
    "max_epoch = 10"
   ]
  },
  {
   "cell_type": "code",
   "execution_count": 8,
   "id": "190a58e1-0864-4818-a8d2-0f83212c6d13",
   "metadata": {},
   "outputs": [
    {
     "name": "stdout",
     "output_type": "stream",
     "text": [
      "Epoch [1/10], Loss: 0.1791, Accuracy: 92.10%, Test Loss: 0.0291, Test Accuracy: 99.00%\n",
      "Epoch [2/10], Loss: 0.0647, Accuracy: 97.35%, Test Loss: 0.0249, Test Accuracy: 99.00%\n",
      "Epoch [3/10], Loss: 0.0631, Accuracy: 97.75%, Test Loss: 0.0293, Test Accuracy: 98.50%\n",
      "Epoch [4/10], Loss: 0.0417, Accuracy: 98.45%, Test Loss: 0.0310, Test Accuracy: 98.70%\n",
      "Epoch [5/10], Loss: 0.0315, Accuracy: 98.85%, Test Loss: 0.0252, Test Accuracy: 98.60%\n",
      "Epoch [6/10], Loss: 0.0470, Accuracy: 98.15%, Test Loss: 0.0323, Test Accuracy: 98.60%\n",
      "Epoch [7/10], Loss: 0.0260, Accuracy: 99.05%, Test Loss: 0.0294, Test Accuracy: 98.50%\n",
      "Epoch [8/10], Loss: 0.0254, Accuracy: 99.25%, Test Loss: 0.0249, Test Accuracy: 99.10%\n",
      "Epoch [9/10], Loss: 0.0179, Accuracy: 99.20%, Test Loss: 0.0296, Test Accuracy: 98.80%\n",
      "Epoch [10/10], Loss: 0.0319, Accuracy: 98.60%, Test Loss: 0.0402, Test Accuracy: 98.50%\n"
     ]
    }
   ],
   "source": [
    "# train\n",
    "for epoch in range(max_epoch):\n",
    "    model.train()\n",
    "    running_loss = 0.0\n",
    "    running_correct = 0   # to track number of correct predictions\n",
    "    total = 0             # to track total number of samples\n",
    "\n",
    "    for i, (inputs, labels) in enumerate(train_loader, 0):\n",
    "        # Move inputs and labels to the device\n",
    "        inputs, labels = inputs.to(device), labels.to(device)\n",
    "\n",
    "        # Zero the parameter gradients\n",
    "        optimizer.zero_grad()\n",
    "\n",
    "        # Forward pass\n",
    "        outputs = model(inputs)\n",
    "        loss = criterion(outputs, labels)\n",
    "        running_loss += loss.item()\n",
    "\n",
    "        # Backward pass and optimization\n",
    "        loss.backward()\n",
    "        optimizer.step()  \n",
    "    \n",
    "        # Determine class predictions and track accuracy\n",
    "        _, predicted = torch.max(outputs.data, 1)\n",
    "        total += labels.size(0)\n",
    "        running_correct += (predicted == labels).sum().item()\n",
    "\n",
    "\n",
    "    epoch_accuracy = 100 * running_correct / total\n",
    "    epoch_loss = running_loss / (i + 1)\n",
    "    \n",
    "    test_loss, test_accuracy = evaluate(model, test_loader, criterion)\n",
    "    print(f\"Epoch [{epoch + 1}/{max_epoch}], Loss: {epoch_loss:.4f}, Accuracy: {epoch_accuracy:.2f}%, Test Loss: {test_loss:.4f}, Test Accuracy: {test_accuracy:.2f}%\")\n",
    "    \n",
    "    # save for plot\n",
    "    train_losses.append(epoch_loss)\n",
    "    train_accuracies.append(epoch_accuracy)\n",
    "    test_losses.append(test_loss)\n",
    "    test_accuracies.append(test_accuracy)"
   ]
  },
  {
   "cell_type": "code",
   "execution_count": null,
   "id": "cebcb439-88f2-40b6-9a17-4990ad324731",
   "metadata": {},
   "outputs": [],
   "source": []
  },
  {
   "cell_type": "code",
   "execution_count": 9,
   "id": "DkC3_902Lgn-",
   "metadata": {
    "executionInfo": {
     "elapsed": 3,
     "status": "ok",
     "timestamp": 1673091684322,
     "user": {
      "displayName": "Thắng Dương Đình",
      "userId": "02196529682032971345"
     },
     "user_tz": -420
    },
    "id": "DkC3_902Lgn-"
   },
   "outputs": [
    {
     "data": {
      "text/plain": [
       "<matplotlib.legend.Legend at 0x7f20f1b978e0>"
      ]
     },
     "execution_count": 9,
     "metadata": {},
     "output_type": "execute_result"
    },
    {
     "data": {
      "image/png": "[encoded data removed]",
      "text/plain": [
       "<Figure size 640x480 with 1 Axes>"
      ]
     },
     "metadata": {},
     "output_type": "display_data"
    }
   ],
   "source": [
    "import matplotlib.pyplot as plt\n",
    "\n",
    "plt.plot(train_losses, label='train_losses')\n",
    "plt.plot(test_losses, label='test_losses')\n",
    "plt.legend()"
   ]
  },
  {
   "cell_type": "code",
   "execution_count": 10,
   "id": "794f4e81",
   "metadata": {
    "executionInfo": {
     "elapsed": 8,
     "status": "ok",
     "timestamp": 1673092872464,
     "user": {
      "displayName": "Thắng Dương Đình",
      "userId": "02196529682032971345"
     },
     "user_tz": -420
    },
    "id": "794f4e81"
   },
   "outputs": [
    {
     "data": {
      "text/plain": [
       "<matplotlib.legend.Legend at 0x7f20f134ba60>"
      ]
     },
     "execution_count": 10,
     "metadata": {},
     "output_type": "execute_result"
    },
    {
     "data": {
      "image/png": "[encoded data removed]",
      "text/plain": [
       "<Figure size 640x480 with 1 Axes>"
      ]
     },
     "metadata": {},
     "output_type": "display_data"
    }
   ],
   "source": [
    "import matplotlib.pyplot as plt\n",
    "\n",
    "plt.plot(train_accuracies, label='train_accuracy')\n",
    "plt.plot(test_accuracies, label='test_accuracy')\n",
    "plt.legend()"
   ]
  },
  {
   "cell_type": "code",
   "execution_count": null,
   "id": "a2ec7c96-ff05-4863-92e7-c45f2f0e3d03",
   "metadata": {},
   "outputs": [],
   "source": []
  },
  {
   "cell_type": "code",
   "execution_count": null,
   "id": "8c86325e-7b6c-43a6-b315-93e02bcdb264",
   "metadata": {},
   "outputs": [],
   "source": []
  },
  {
   "cell_type": "code",
   "execution_count": 11,
   "id": "d2a401f6-9ed4-4dee-9e95-f65826e2d92d",
   "metadata": {},
   "outputs": [
    {
     "data": {
      "text/plain": [
       "<matplotlib.legend.Legend at 0x7f20dac51fc0>"
      ]
     },
     "execution_count": 11,
     "metadata": {},
     "output_type": "execute_result"
    }
   ],
   "source": [
    "import matplotlib.pyplot as plt\n",
    "%matplotlib qt\n",
    "\n",
    "plt.plot(train_losses, label='train_losses')\n",
    "plt.plot(test_losses, label='test_losses')\n",
    "plt.legend()"
   ]
  },
  {
   "cell_type": "code",
   "execution_count": 12,
   "id": "b4d1601e-a633-4f04-b476-7288856e1971",
   "metadata": {},
   "outputs": [
    {
     "data": {
      "text/plain": [
       "<matplotlib.legend.Legend at 0x7f20b0207a60>"
      ]
     },
     "execution_count": 12,
     "metadata": {},
     "output_type": "execute_result"
    }
   ],
   "source": [
    "import matplotlib.pyplot as plt\n",
    "%matplotlib qt\n",
    "\n",
    "plt.plot(train_accuracies, label='train_accuracy')\n",
    "plt.plot(test_accuracies, label='test_accuracy')\n",
    "plt.legend()"
   ]
  },
  {
   "cell_type": "code",
   "execution_count": null,
   "id": "386d038d-d554-4857-ab4b-fe1314e8937c",
   "metadata": {},
   "outputs": [],
   "source": []
  }
 ],
 "metadata": {
  "accelerator": "GPU",
  "colab": {
   "provenance": []
  },
  "gpuClass": "standard",
  "kernelspec": {
   "display_name": "Python 3 (ipykernel)",
   "language": "python",
   "name": "python3"
  },
  "language_info": {
   "codemirror_mode": {
    "name": "ipython",
    "version": 3
   },
   "file_extension": ".py",
   "mimetype": "text/x-python",
   "name": "python",
   "nbconvert_exporter": "python",
   "pygments_lexer": "ipython3",
   "version": "3.11.5"
  },
  "widgets": {
   "application/vnd.jupyter.widget-state+json": {
    "00397590a13d454d8b16fd8d15ae9b41": {
     "model_module": "@jupyter-widgets/controls",
     "model_module_version": "1.5.0",
     "model_name": "DescriptionStyleModel",
     "state": {
      "_model_module": "@jupyter-widgets/controls",
      "_model_module_version": "1.5.0",
      "_model_name": "DescriptionStyleModel",
      "_view_count": null,
      "_view_module": "@jupyter-widgets/base",
      "_view_module_version": "1.2.0",
      "_view_name": "StyleView",
      "description_width": ""
     }
    },
    "0a3d339ba81a4f22b893250502c493af": {
     "model_module": "@jupyter-widgets/base",
     "model_module_version": "1.2.0",
     "model_name": "LayoutModel",
     "state": {
      "_model_module": "@jupyter-widgets/base",
      "_model_module_version": "1.2.0",
      "_model_name": "LayoutModel",
      "_view_count": null,
      "_view_module": "@jupyter-widgets/base",
      "_view_module_version": "1.2.0",
      "_view_name": "LayoutView",
      "align_content": null,
      "align_items": null,
      "align_self": null,
      "border": null,
      "bottom": null,
      "display": null,
      "flex": null,
      "flex_flow": null,
      "grid_area": null,
      "grid_auto_columns": null,
      "grid_auto_flow": null,
      "grid_auto_rows": null,
      "grid_column": null,
      "grid_gap": null,
      "grid_row": null,
      "grid_template_areas": null,
      "grid_template_columns": null,
      "grid_template_rows": null,
      "height": null,
      "justify_content": null,
      "justify_items": null,
      "left": null,
      "margin": null,
      "max_height": null,
      "max_width": null,
      "min_height": null,
      "min_width": null,
      "object_fit": null,
      "object_position": null,
      "order": null,
      "overflow": null,
      "overflow_x": null,
      "overflow_y": null,
      "padding": null,
      "right": null,
      "top": null,
      "visibility": null,
      "width": null
     }
    },
    "4691e220a8cb466bb46540f16f65e864": {
     "model_module": "@jupyter-widgets/controls",
     "model_module_version": "1.5.0",
     "model_name": "ProgressStyleModel",
     "state": {
      "_model_module": "@jupyter-widgets/controls",
      "_model_module_version": "1.5.0",
      "_model_name": "ProgressStyleModel",
      "_view_count": null,
      "_view_module": "@jupyter-widgets/base",
      "_view_module_version": "1.2.0",
      "_view_name": "StyleView",
      "bar_color": null,
      "description_width": ""
     }
    },
    "56c90ad0a7fb47d08727a7dac3f68f39": {
     "model_module": "@jupyter-widgets/base",
     "model_module_version": "1.2.0",
     "model_name": "LayoutModel",
     "state": {
      "_model_module": "@jupyter-widgets/base",
      "_model_module_version": "1.2.0",
      "_model_name": "LayoutModel",
      "_view_count": null,
      "_view_module": "@jupyter-widgets/base",
      "_view_module_version": "1.2.0",
      "_view_name": "LayoutView",
      "align_content": null,
      "align_items": null,
      "align_self": null,
      "border": null,
      "bottom": null,
      "display": null,
      "flex": null,
      "flex_flow": null,
      "grid_area": null,
      "grid_auto_columns": null,
      "grid_auto_flow": null,
      "grid_auto_rows": null,
      "grid_column": null,
      "grid_gap": null,
      "grid_row": null,
      "grid_template_areas": null,
      "grid_template_columns": null,
      "grid_template_rows": null,
      "height": null,
      "justify_content": null,
      "justify_items": null,
      "left": null,
      "margin": null,
      "max_height": null,
      "max_width": null,
      "min_height": null,
      "min_width": null,
      "object_fit": null,
      "object_position": null,
      "order": null,
      "overflow": null,
      "overflow_x": null,
      "overflow_y": null,
      "padding": null,
      "right": null,
      "top": null,
      "visibility": null,
      "width": null
     }
    },
    "619c9ef51fc5497f81b4af88db9214cc": {
     "model_module": "@jupyter-widgets/controls",
     "model_module_version": "1.5.0",
     "model_name": "DescriptionStyleModel",
     "state": {
      "_model_module": "@jupyter-widgets/controls",
      "_model_module_version": "1.5.0",
      "_model_name": "DescriptionStyleModel",
      "_view_count": null,
      "_view_module": "@jupyter-widgets/base",
      "_view_module_version": "1.2.0",
      "_view_name": "StyleView",
      "description_width": ""
     }
    },
    "7c95c188ecf242de9776dcfd3e3fc8d2": {
     "model_module": "@jupyter-widgets/base",
     "model_module_version": "1.2.0",
     "model_name": "LayoutModel",
     "state": {
      "_model_module": "@jupyter-widgets/base",
      "_model_module_version": "1.2.0",
      "_model_name": "LayoutModel",
      "_view_count": null,
      "_view_module": "@jupyter-widgets/base",
      "_view_module_version": "1.2.0",
      "_view_name": "LayoutView",
      "align_content": null,
      "align_items": null,
      "align_self": null,
      "border": null,
      "bottom": null,
      "display": null,
      "flex": null,
      "flex_flow": null,
      "grid_area": null,
      "grid_auto_columns": null,
      "grid_auto_flow": null,
      "grid_auto_rows": null,
      "grid_column": null,
      "grid_gap": null,
      "grid_row": null,
      "grid_template_areas": null,
      "grid_template_columns": null,
      "grid_template_rows": null,
      "height": null,
      "justify_content": null,
      "justify_items": null,
      "left": null,
      "margin": null,
      "max_height": null,
      "max_width": null,
      "min_height": null,
      "min_width": null,
      "object_fit": null,
      "object_position": null,
      "order": null,
      "overflow": null,
      "overflow_x": null,
      "overflow_y": null,
      "padding": null,
      "right": null,
      "top": null,
      "visibility": null,
      "width": null
     }
    },
    "8a6ed597588f4c07bff4271aeba7c1bb": {
     "model_module": "@jupyter-widgets/controls",
     "model_module_version": "1.5.0",
     "model_name": "HBoxModel",
     "state": {
      "_dom_classes": [],
      "_model_module": "@jupyter-widgets/controls",
      "_model_module_version": "1.5.0",
      "_model_name": "HBoxModel",
      "_view_count": null,
      "_view_module": "@jupyter-widgets/controls",
      "_view_module_version": "1.5.0",
      "_view_name": "HBoxView",
      "box_style": "",
      "children": [
       "IPY_MODEL_e09dd53ac3044e3097ed084354a52e13",
       "IPY_MODEL_8b2a0088b39741f6968c95f40ff787e6",
       "IPY_MODEL_cf5fb8e067be464bb14a1cf5e8b4e2de"
      ],
      "layout": "IPY_MODEL_0a3d339ba81a4f22b893250502c493af"
     }
    },
    "8b2a0088b39741f6968c95f40ff787e6": {
     "model_module": "@jupyter-widgets/controls",
     "model_module_version": "1.5.0",
     "model_name": "FloatProgressModel",
     "state": {
      "_dom_classes": [],
      "_model_module": "@jupyter-widgets/controls",
      "_model_module_version": "1.5.0",
      "_model_name": "FloatProgressModel",
      "_view_count": null,
      "_view_module": "@jupyter-widgets/controls",
      "_view_module_version": "1.5.0",
      "_view_name": "ProgressView",
      "bar_style": "success",
      "description": "",
      "description_tooltip": null,
      "layout": "IPY_MODEL_56c90ad0a7fb47d08727a7dac3f68f39",
      "max": 170498071,
      "min": 0,
      "orientation": "horizontal",
      "style": "IPY_MODEL_4691e220a8cb466bb46540f16f65e864",
      "value": 170498071
     }
    },
    "cf5fb8e067be464bb14a1cf5e8b4e2de": {
     "model_module": "@jupyter-widgets/controls",
     "model_module_version": "1.5.0",
     "model_name": "HTMLModel",
     "state": {
      "_dom_classes": [],
      "_model_module": "@jupyter-widgets/controls",
      "_model_module_version": "1.5.0",
      "_model_name": "HTMLModel",
      "_view_count": null,
      "_view_module": "@jupyter-widgets/controls",
      "_view_module_version": "1.5.0",
      "_view_name": "HTMLView",
      "description": "",
      "description_tooltip": null,
      "layout": "IPY_MODEL_7c95c188ecf242de9776dcfd3e3fc8d2",
      "placeholder": "​",
      "style": "IPY_MODEL_619c9ef51fc5497f81b4af88db9214cc",
      "value": " 170498071/170498071 [00:01&lt;00:00, 97303096.82it/s]"
     }
    },
    "e09dd53ac3044e3097ed084354a52e13": {
     "model_module": "@jupyter-widgets/controls",
     "model_module_version": "1.5.0",
     "model_name": "HTMLModel",
     "state": {
      "_dom_classes": [],
      "_model_module": "@jupyter-widgets/controls",
      "_model_module_version": "1.5.0",
      "_model_name": "HTMLModel",
      "_view_count": null,
      "_view_module": "@jupyter-widgets/controls",
      "_view_module_version": "1.5.0",
      "_view_name": "HTMLView",
      "description": "",
      "description_tooltip": null,
      "layout": "IPY_MODEL_f4c44a600db84290a51877583e18ee26",
      "placeholder": "​",
      "style": "IPY_MODEL_00397590a13d454d8b16fd8d15ae9b41",
      "value": "100%"
     }
    },
    "f4c44a600db84290a51877583e18ee26": {
     "model_module": "@jupyter-widgets/base",
     "model_module_version": "1.2.0",
     "model_name": "LayoutModel",
     "state": {
      "_model_module": "@jupyter-widgets/base",
      "_model_module_version": "1.2.0",
      "_model_name": "LayoutModel",
      "_view_count": null,
      "_view_module": "@jupyter-widgets/base",
      "_view_module_version": "1.2.0",
      "_view_name": "LayoutView",
      "align_content": null,
      "align_items": null,
      "align_self": null,
      "border": null,
      "bottom": null,
      "display": null,
      "flex": null,
      "flex_flow": null,
      "grid_area": null,
      "grid_auto_columns": null,
      "grid_auto_flow": null,
      "grid_auto_rows": null,
      "grid_column": null,
      "grid_gap": null,
      "grid_row": null,
      "grid_template_areas": null,
      "grid_template_columns": null,
      "grid_template_rows": null,
      "height": null,
      "justify_content": null,
      "justify_items": null,
      "left": null,
      "margin": null,
      "max_height": null,
      "max_width": null,
      "min_height": null,
      "min_width": null,
      "object_fit": null,
      "object_position": null,
      "order": null,
      "overflow": null,
      "overflow_x": null,
      "overflow_y": null,
      "padding": null,
      "right": null,
      "top": null,
      "visibility": null,
      "width": null
     }
    }
   }
  }
 },
 "nbformat": 4,
 "nbformat_minor": 5
}
