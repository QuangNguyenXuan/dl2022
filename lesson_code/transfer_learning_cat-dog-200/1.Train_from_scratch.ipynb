{
 "cells": [
  {
   "cell_type": "code",
   "execution_count": 1,
   "id": "d4e45a49-974f-4f9c-8642-42e2c45aab71",
   "metadata": {},
   "outputs": [],
   "source": [
    "import torch\n",
    "from torchvision import datasets, transforms\n",
    "import torch.nn as nn\n",
    "import torch.nn.functional as F\n",
    "\n",
    "import numpy as np\n",
    "import matplotlib.pyplot as plt\n",
    "\n",
    "from torchvision.datasets import CIFAR10\n",
    "from torch.utils.data import DataLoader \n",
    "from torch.optim import Adam\n",
    "import torchvision\n",
    "import torchvision.models as models\n",
    "\n",
    "torch.manual_seed(1)\n",
    "device = 'cuda' if torch.cuda.is_available() else 'cpu'"
   ]
  },
  {
   "cell_type": "code",
   "execution_count": null,
   "id": "42432066-6cf0-416b-961a-adb1e3217204",
   "metadata": {},
   "outputs": [],
   "source": []
  },
  {
   "cell_type": "markdown",
   "id": "f913360b-019e-4d69-a540-b7b5715544e1",
   "metadata": {},
   "source": [
    "## Data"
   ]
  },
  {
   "cell_type": "code",
   "execution_count": 2,
   "id": "3ad21976-2d99-49b7-b0b5-84e9ebcd371e",
   "metadata": {},
   "outputs": [],
   "source": [
    "train_transform = transforms.Compose(\n",
    "    [\n",
    "        transforms.Resize((224, 224)),   # Resize images to a fixed size\n",
    "        transforms.ToTensor(),           # Convert images to PyTorch tensors\n",
    "        transforms.Normalize(mean=[0.485, 0.456, 0.406], \n",
    "                             std=[0.229, 0.224, 0.225]),\n",
    "        transforms.RandomErasing(p=0.75,\n",
    "                                 scale=(0.01, 0.3),\n",
    "                                 ratio=(1.0, 1.0),\n",
    "                                 value=0,\n",
    "                                 inplace =True)        \n",
    "    ])\n",
    "\n",
    "test_transform = transforms.Compose([\n",
    "    transforms.Resize((224, 224)),   # Resize images to a fixed size\n",
    "    transforms.ToTensor(),           # Convert images to PyTorch tensors\n",
    "    transforms.Normalize(mean=[0.485, 0.456, 0.406], \n",
    "                         std=[0.229, 0.224, 0.225]) # Normalize\n",
    "])\n",
    "\n",
    "# Load datasets\n",
    "train_dataset = datasets.ImageFolder('data200/train', transform=train_transform)\n",
    "test_dataset = datasets.ImageFolder('data200/validation', transform=test_transform)\n",
    "\n",
    "# Create data loaders\n",
    "train_loader = DataLoader(train_dataset, batch_size=32, shuffle=True)\n",
    "test_loader = DataLoader(test_dataset, batch_size=32, shuffle=False)"
   ]
  },
  {
   "cell_type": "code",
   "execution_count": null,
   "id": "cf229497-4b6e-443d-b330-66b6fa139fcd",
   "metadata": {},
   "outputs": [],
   "source": []
  },
  {
   "cell_type": "markdown",
   "id": "6ea0dde8-29e7-4096-bd15-6a5ed74655f0",
   "metadata": {},
   "source": [
    "## Model"
   ]
  },
  {
   "cell_type": "code",
   "execution_count": 3,
   "id": "667fc692-e195-4fe1-94c0-1fda94be7849",
   "metadata": {},
   "outputs": [
    {
     "name": "stdout",
     "output_type": "stream",
     "text": [
      "==========================================================================================\n",
      "Layer (type:depth-idx)                   Output Shape              Param #\n",
      "==========================================================================================\n",
      "├─Sequential: 1-1                        [-1, 512, 7, 7]           --\n",
      "|    └─Conv2d: 2-1                       [-1, 64, 224, 224]        1,792\n",
      "|    └─ReLU: 2-2                         [-1, 64, 224, 224]        --\n",
      "|    └─Conv2d: 2-3                       [-1, 64, 224, 224]        36,928\n",
      "|    └─ReLU: 2-4                         [-1, 64, 224, 224]        --\n",
      "|    └─MaxPool2d: 2-5                    [-1, 64, 112, 112]        --\n",
      "|    └─Conv2d: 2-6                       [-1, 128, 112, 112]       73,856\n",
      "|    └─ReLU: 2-7                         [-1, 128, 112, 112]       --\n",
      "|    └─Conv2d: 2-8                       [-1, 128, 112, 112]       147,584\n",
      "|    └─ReLU: 2-9                         [-1, 128, 112, 112]       --\n",
      "|    └─MaxPool2d: 2-10                   [-1, 128, 56, 56]         --\n",
      "|    └─Conv2d: 2-11                      [-1, 256, 56, 56]         295,168\n",
      "|    └─ReLU: 2-12                        [-1, 256, 56, 56]         --\n",
      "|    └─Conv2d: 2-13                      [-1, 256, 56, 56]         590,080\n",
      "|    └─ReLU: 2-14                        [-1, 256, 56, 56]         --\n",
      "|    └─Conv2d: 2-15                      [-1, 256, 56, 56]         590,080\n",
      "|    └─ReLU: 2-16                        [-1, 256, 56, 56]         --\n",
      "|    └─MaxPool2d: 2-17                   [-1, 256, 28, 28]         --\n",
      "|    └─Conv2d: 2-18                      [-1, 512, 28, 28]         1,180,160\n",
      "|    └─ReLU: 2-19                        [-1, 512, 28, 28]         --\n",
      "|    └─Conv2d: 2-20                      [-1, 512, 28, 28]         2,359,808\n",
      "|    └─ReLU: 2-21                        [-1, 512, 28, 28]         --\n",
      "|    └─Conv2d: 2-22                      [-1, 512, 28, 28]         2,359,808\n",
      "|    └─ReLU: 2-23                        [-1, 512, 28, 28]         --\n",
      "|    └─MaxPool2d: 2-24                   [-1, 512, 14, 14]         --\n",
      "|    └─Conv2d: 2-25                      [-1, 512, 14, 14]         2,359,808\n",
      "|    └─ReLU: 2-26                        [-1, 512, 14, 14]         --\n",
      "|    └─Conv2d: 2-27                      [-1, 512, 14, 14]         2,359,808\n",
      "|    └─ReLU: 2-28                        [-1, 512, 14, 14]         --\n",
      "|    └─Conv2d: 2-29                      [-1, 512, 14, 14]         2,359,808\n",
      "|    └─ReLU: 2-30                        [-1, 512, 14, 14]         --\n",
      "|    └─MaxPool2d: 2-31                   [-1, 512, 7, 7]           --\n",
      "├─Flatten: 1-2                           [-1, 25088]               --\n",
      "├─Dropout: 1-3                           [-1, 25088]               --\n",
      "├─Linear: 1-4                            [-1, 512]                 12,845,568\n",
      "├─ReLU: 1-5                              [-1, 512]                 --\n",
      "├─Dropout: 1-6                           [-1, 512]                 --\n",
      "├─Linear: 1-7                            [-1, 2]                   1,026\n",
      "==========================================================================================\n",
      "Total params: 27,561,282\n",
      "Trainable params: 27,561,282\n",
      "Non-trainable params: 0\n",
      "Total mult-adds (G): 15.37\n",
      "==========================================================================================\n",
      "Input size (MB): 0.57\n",
      "Forward/backward pass size (MB): 103.36\n",
      "Params size (MB): 105.14\n",
      "Estimated Total Size (MB): 209.08\n",
      "==========================================================================================\n"
     ]
    },
    {
     "data": {
      "text/plain": [
       "==========================================================================================\n",
       "Layer (type:depth-idx)                   Output Shape              Param #\n",
       "==========================================================================================\n",
       "├─Sequential: 1-1                        [-1, 512, 7, 7]           --\n",
       "|    └─Conv2d: 2-1                       [-1, 64, 224, 224]        1,792\n",
       "|    └─ReLU: 2-2                         [-1, 64, 224, 224]        --\n",
       "|    └─Conv2d: 2-3                       [-1, 64, 224, 224]        36,928\n",
       "|    └─ReLU: 2-4                         [-1, 64, 224, 224]        --\n",
       "|    └─MaxPool2d: 2-5                    [-1, 64, 112, 112]        --\n",
       "|    └─Conv2d: 2-6                       [-1, 128, 112, 112]       73,856\n",
       "|    └─ReLU: 2-7                         [-1, 128, 112, 112]       --\n",
       "|    └─Conv2d: 2-8                       [-1, 128, 112, 112]       147,584\n",
       "|    └─ReLU: 2-9                         [-1, 128, 112, 112]       --\n",
       "|    └─MaxPool2d: 2-10                   [-1, 128, 56, 56]         --\n",
       "|    └─Conv2d: 2-11                      [-1, 256, 56, 56]         295,168\n",
       "|    └─ReLU: 2-12                        [-1, 256, 56, 56]         --\n",
       "|    └─Conv2d: 2-13                      [-1, 256, 56, 56]         590,080\n",
       "|    └─ReLU: 2-14                        [-1, 256, 56, 56]         --\n",
       "|    └─Conv2d: 2-15                      [-1, 256, 56, 56]         590,080\n",
       "|    └─ReLU: 2-16                        [-1, 256, 56, 56]         --\n",
       "|    └─MaxPool2d: 2-17                   [-1, 256, 28, 28]         --\n",
       "|    └─Conv2d: 2-18                      [-1, 512, 28, 28]         1,180,160\n",
       "|    └─ReLU: 2-19                        [-1, 512, 28, 28]         --\n",
       "|    └─Conv2d: 2-20                      [-1, 512, 28, 28]         2,359,808\n",
       "|    └─ReLU: 2-21                        [-1, 512, 28, 28]         --\n",
       "|    └─Conv2d: 2-22                      [-1, 512, 28, 28]         2,359,808\n",
       "|    └─ReLU: 2-23                        [-1, 512, 28, 28]         --\n",
       "|    └─MaxPool2d: 2-24                   [-1, 512, 14, 14]         --\n",
       "|    └─Conv2d: 2-25                      [-1, 512, 14, 14]         2,359,808\n",
       "|    └─ReLU: 2-26                        [-1, 512, 14, 14]         --\n",
       "|    └─Conv2d: 2-27                      [-1, 512, 14, 14]         2,359,808\n",
       "|    └─ReLU: 2-28                        [-1, 512, 14, 14]         --\n",
       "|    └─Conv2d: 2-29                      [-1, 512, 14, 14]         2,359,808\n",
       "|    └─ReLU: 2-30                        [-1, 512, 14, 14]         --\n",
       "|    └─MaxPool2d: 2-31                   [-1, 512, 7, 7]           --\n",
       "├─Flatten: 1-2                           [-1, 25088]               --\n",
       "├─Dropout: 1-3                           [-1, 25088]               --\n",
       "├─Linear: 1-4                            [-1, 512]                 12,845,568\n",
       "├─ReLU: 1-5                              [-1, 512]                 --\n",
       "├─Dropout: 1-6                           [-1, 512]                 --\n",
       "├─Linear: 1-7                            [-1, 2]                   1,026\n",
       "==========================================================================================\n",
       "Total params: 27,561,282\n",
       "Trainable params: 27,561,282\n",
       "Non-trainable params: 0\n",
       "Total mult-adds (G): 15.37\n",
       "==========================================================================================\n",
       "Input size (MB): 0.57\n",
       "Forward/backward pass size (MB): 103.36\n",
       "Params size (MB): 105.14\n",
       "Estimated Total Size (MB): 209.08\n",
       "=========================================================================================="
      ]
     },
     "execution_count": 3,
     "metadata": {},
     "output_type": "execute_result"
    }
   ],
   "source": [
    "from torchsummary import summary\n",
    "\n",
    "# Load the pretrained VGG16 model\n",
    "vgg16 = models.vgg16()\n",
    "f_extractor = vgg16.features\n",
    "\n",
    "model = nn.Sequential(f_extractor, \n",
    "                      nn.Flatten(), \n",
    "                      nn.Dropout(0.3), \n",
    "                      nn.Linear(512*7*7, 512),\n",
    "                      nn.ReLU(),\n",
    "                      nn.Dropout(0.3),\n",
    "                      nn.Linear(512, 2))\n",
    "                      \n",
    "\n",
    "\n",
    "model.to(device)\n",
    "summary(model, (3, 224, 224))"
   ]
  },
  {
   "cell_type": "code",
   "execution_count": null,
   "id": "c8516821-d41b-42a8-9e51-ddfb8f9ec87e",
   "metadata": {},
   "outputs": [],
   "source": []
  },
  {
   "cell_type": "markdown",
   "id": "43c7b151-a199-4e2a-8015-fdfb5f166284",
   "metadata": {},
   "source": [
    "# Train"
   ]
  },
  {
   "cell_type": "code",
   "execution_count": 4,
   "id": "1464e2bd-b627-475d-9941-f2a930d69a14",
   "metadata": {},
   "outputs": [],
   "source": [
    "criterion = nn.CrossEntropyLoss()\n",
    "optimizer = Adam(model.parameters(), lr=1e-4)  "
   ]
  },
  {
   "cell_type": "code",
   "execution_count": 5,
   "id": "04744c84-1e6d-4bfb-8dd5-abbdc91f102e",
   "metadata": {},
   "outputs": [],
   "source": [
    "# Function to compute loss and accuracy for test set\n",
    "def evaluate(model, test_loader, criterion):\n",
    "    model.eval()\n",
    "    test_loss = 0.0\n",
    "    running_correct = 0\n",
    "    total = 0\n",
    "    with torch.no_grad():\n",
    "        for images, labels in test_loader:\n",
    "            # Move inputs and labels to the device\n",
    "            images, labels = images.to(device), labels.to(device)\n",
    "\n",
    "            outputs = model(images)\n",
    "            loss = criterion(outputs, labels)\n",
    "            test_loss += loss.item()\n",
    "            \n",
    "            _, predicted = torch.max(outputs.data, 1)\n",
    "            total += labels.size(0)\n",
    "            running_correct += (predicted == labels).sum().item()\n",
    "\n",
    "    accuracy = 100 * running_correct / total\n",
    "    test_loss = test_loss / len(test_loader)\n",
    "    return test_loss, accuracy"
   ]
  },
  {
   "cell_type": "code",
   "execution_count": 6,
   "id": "f2402591-e7f7-4bdd-8962-c029cfcd9307",
   "metadata": {},
   "outputs": [],
   "source": [
    "# some parameter\n",
    "train_losses = []\n",
    "train_accuracies = []\n",
    "test_losses = []\n",
    "test_accuracies = []\n",
    "max_epoch = 100"
   ]
  },
  {
   "cell_type": "code",
   "execution_count": 7,
   "id": "190a58e1-0864-4818-a8d2-0f83212c6d13",
   "metadata": {},
   "outputs": [
    {
     "name": "stdout",
     "output_type": "stream",
     "text": [
      "Epoch [1/100], Loss: 0.7091, Accuracy: 50.75%, Test Loss: 0.6905, Test Accuracy: 50.10%\n",
      "Epoch [2/100], Loss: 0.6922, Accuracy: 51.25%, Test Loss: 0.6883, Test Accuracy: 60.70%\n",
      "Epoch [3/100], Loss: 0.6850, Accuracy: 50.25%, Test Loss: 0.6773, Test Accuracy: 59.90%\n",
      "Epoch [4/100], Loss: 0.6755, Accuracy: 63.25%, Test Loss: 0.6650, Test Accuracy: 60.90%\n",
      "Epoch [5/100], Loss: 0.6727, Accuracy: 57.75%, Test Loss: 0.6892, Test Accuracy: 53.90%\n",
      "Epoch [6/100], Loss: 0.6809, Accuracy: 54.50%, Test Loss: 0.6726, Test Accuracy: 59.20%\n",
      "Epoch [7/100], Loss: 0.6470, Accuracy: 65.00%, Test Loss: 0.7056, Test Accuracy: 59.50%\n",
      "Epoch [8/100], Loss: 0.6332, Accuracy: 65.25%, Test Loss: 0.6615, Test Accuracy: 60.90%\n",
      "Epoch [9/100], Loss: 0.6518, Accuracy: 59.00%, Test Loss: 0.6724, Test Accuracy: 59.70%\n",
      "Epoch [10/100], Loss: 0.6552, Accuracy: 70.75%, Test Loss: 0.6599, Test Accuracy: 60.20%\n",
      "Epoch [11/100], Loss: 0.6290, Accuracy: 67.50%, Test Loss: 0.6599, Test Accuracy: 60.80%\n",
      "Epoch [12/100], Loss: 0.6156, Accuracy: 68.50%, Test Loss: 0.6713, Test Accuracy: 60.50%\n",
      "Epoch [13/100], Loss: 0.5920, Accuracy: 67.00%, Test Loss: 0.6828, Test Accuracy: 61.80%\n",
      "Epoch [14/100], Loss: 0.5752, Accuracy: 70.25%, Test Loss: 0.6873, Test Accuracy: 62.90%\n",
      "Epoch [15/100], Loss: 0.5940, Accuracy: 68.25%, Test Loss: 0.6695, Test Accuracy: 61.10%\n",
      "Epoch [16/100], Loss: 0.5545, Accuracy: 72.00%, Test Loss: 0.7154, Test Accuracy: 59.70%\n",
      "Epoch [17/100], Loss: 0.5217, Accuracy: 72.00%, Test Loss: 0.7791, Test Accuracy: 61.70%\n",
      "Epoch [18/100], Loss: 0.5077, Accuracy: 73.00%, Test Loss: 0.7535, Test Accuracy: 62.60%\n",
      "Epoch [19/100], Loss: 0.4534, Accuracy: 77.75%, Test Loss: 0.8984, Test Accuracy: 62.20%\n",
      "Epoch [20/100], Loss: 0.4800, Accuracy: 76.75%, Test Loss: 0.7289, Test Accuracy: 62.10%\n",
      "Epoch [21/100], Loss: 0.5258, Accuracy: 74.75%, Test Loss: 0.7976, Test Accuracy: 62.30%\n",
      "Epoch [22/100], Loss: 0.5028, Accuracy: 75.25%, Test Loss: 0.7760, Test Accuracy: 59.70%\n",
      "Epoch [23/100], Loss: 0.5000, Accuracy: 72.50%, Test Loss: 0.8657, Test Accuracy: 61.90%\n",
      "Epoch [24/100], Loss: 0.3910, Accuracy: 80.00%, Test Loss: 1.0293, Test Accuracy: 62.50%\n",
      "Epoch [25/100], Loss: 0.3751, Accuracy: 84.25%, Test Loss: 1.0209, Test Accuracy: 62.10%\n",
      "Epoch [26/100], Loss: 0.3194, Accuracy: 86.75%, Test Loss: 1.2815, Test Accuracy: 62.20%\n",
      "Epoch [27/100], Loss: 0.3700, Accuracy: 83.25%, Test Loss: 0.8070, Test Accuracy: 62.70%\n",
      "Epoch [28/100], Loss: 0.3470, Accuracy: 86.50%, Test Loss: 1.2260, Test Accuracy: 62.70%\n",
      "Epoch [29/100], Loss: 0.2748, Accuracy: 88.75%, Test Loss: 1.2369, Test Accuracy: 62.40%\n",
      "Epoch [30/100], Loss: 0.2624, Accuracy: 90.00%, Test Loss: 1.3912, Test Accuracy: 64.20%\n",
      "Epoch [31/100], Loss: 0.2644, Accuracy: 88.75%, Test Loss: 1.8993, Test Accuracy: 62.40%\n",
      "Epoch [32/100], Loss: 0.2635, Accuracy: 88.25%, Test Loss: 1.2040, Test Accuracy: 61.70%\n",
      "Epoch [33/100], Loss: 0.2178, Accuracy: 93.50%, Test Loss: 1.7151, Test Accuracy: 62.10%\n",
      "Epoch [34/100], Loss: 0.2004, Accuracy: 91.00%, Test Loss: 1.4073, Test Accuracy: 60.20%\n",
      "Epoch [35/100], Loss: 0.1377, Accuracy: 95.00%, Test Loss: 1.8769, Test Accuracy: 60.80%\n",
      "Epoch [36/100], Loss: 0.1334, Accuracy: 95.50%, Test Loss: 2.0996, Test Accuracy: 62.50%\n",
      "Epoch [37/100], Loss: 0.1066, Accuracy: 95.50%, Test Loss: 2.2004, Test Accuracy: 63.00%\n",
      "Epoch [38/100], Loss: 0.1959, Accuracy: 93.50%, Test Loss: 1.6473, Test Accuracy: 60.80%\n",
      "Epoch [39/100], Loss: 0.1614, Accuracy: 94.25%, Test Loss: 1.4637, Test Accuracy: 63.00%\n",
      "Epoch [40/100], Loss: 0.1348, Accuracy: 94.75%, Test Loss: 1.6299, Test Accuracy: 63.10%\n",
      "Epoch [41/100], Loss: 0.1176, Accuracy: 96.25%, Test Loss: 1.7988, Test Accuracy: 62.00%\n",
      "Epoch [42/100], Loss: 0.1018, Accuracy: 95.50%, Test Loss: 2.0198, Test Accuracy: 64.80%\n",
      "Epoch [43/100], Loss: 0.0941, Accuracy: 97.00%, Test Loss: 2.5066, Test Accuracy: 63.10%\n",
      "Epoch [44/100], Loss: 0.1692, Accuracy: 94.75%, Test Loss: 1.9323, Test Accuracy: 62.50%\n",
      "Epoch [45/100], Loss: 0.1906, Accuracy: 93.25%, Test Loss: 1.3720, Test Accuracy: 64.10%\n",
      "Epoch [46/100], Loss: 0.0846, Accuracy: 97.25%, Test Loss: 1.9988, Test Accuracy: 62.70%\n",
      "Epoch [47/100], Loss: 0.0475, Accuracy: 97.50%, Test Loss: 2.8121, Test Accuracy: 62.40%\n",
      "Epoch [48/100], Loss: 0.0864, Accuracy: 96.75%, Test Loss: 2.0970, Test Accuracy: 63.00%\n",
      "Epoch [49/100], Loss: 0.0566, Accuracy: 98.50%, Test Loss: 2.5847, Test Accuracy: 62.70%\n",
      "Epoch [50/100], Loss: 0.0699, Accuracy: 97.50%, Test Loss: 2.6029, Test Accuracy: 63.20%\n",
      "Epoch [51/100], Loss: 0.0608, Accuracy: 97.75%, Test Loss: 2.3731, Test Accuracy: 61.80%\n",
      "Epoch [52/100], Loss: 0.0639, Accuracy: 97.25%, Test Loss: 2.6000, Test Accuracy: 61.80%\n",
      "Epoch [53/100], Loss: 0.1123, Accuracy: 95.25%, Test Loss: 2.3815, Test Accuracy: 62.60%\n",
      "Epoch [54/100], Loss: 0.1615, Accuracy: 94.00%, Test Loss: 1.8874, Test Accuracy: 61.40%\n",
      "Epoch [55/100], Loss: 0.1579, Accuracy: 95.00%, Test Loss: 1.6092, Test Accuracy: 59.00%\n",
      "Epoch [56/100], Loss: 0.0979, Accuracy: 97.25%, Test Loss: 2.0404, Test Accuracy: 62.30%\n",
      "Epoch [57/100], Loss: 0.0309, Accuracy: 98.75%, Test Loss: 2.6528, Test Accuracy: 62.40%\n",
      "Epoch [58/100], Loss: 0.0352, Accuracy: 98.50%, Test Loss: 3.2040, Test Accuracy: 62.60%\n",
      "Epoch [59/100], Loss: 0.1243, Accuracy: 96.75%, Test Loss: 1.8301, Test Accuracy: 61.10%\n",
      "Epoch [60/100], Loss: 0.1148, Accuracy: 97.75%, Test Loss: 1.4632, Test Accuracy: 62.10%\n",
      "Epoch [61/100], Loss: 0.0610, Accuracy: 98.75%, Test Loss: 1.8723, Test Accuracy: 62.50%\n",
      "Epoch [62/100], Loss: 0.0539, Accuracy: 98.25%, Test Loss: 1.9725, Test Accuracy: 63.10%\n",
      "Epoch [63/100], Loss: 0.0154, Accuracy: 99.50%, Test Loss: 2.5225, Test Accuracy: 62.40%\n",
      "Epoch [64/100], Loss: 0.0410, Accuracy: 98.25%, Test Loss: 2.5397, Test Accuracy: 61.80%\n",
      "Epoch [65/100], Loss: 0.0432, Accuracy: 98.25%, Test Loss: 2.2724, Test Accuracy: 60.70%\n",
      "Epoch [66/100], Loss: 0.0606, Accuracy: 98.75%, Test Loss: 2.2530, Test Accuracy: 60.70%\n",
      "Epoch [67/100], Loss: 0.0380, Accuracy: 98.50%, Test Loss: 2.7421, Test Accuracy: 61.40%\n",
      "Epoch [68/100], Loss: 0.0322, Accuracy: 98.50%, Test Loss: 2.6078, Test Accuracy: 62.70%\n",
      "Epoch [69/100], Loss: 0.0243, Accuracy: 99.25%, Test Loss: 2.9403, Test Accuracy: 61.20%\n",
      "Epoch [70/100], Loss: 0.0087, Accuracy: 99.50%, Test Loss: 3.4396, Test Accuracy: 62.10%\n",
      "Epoch [71/100], Loss: 0.0238, Accuracy: 98.75%, Test Loss: 3.0998, Test Accuracy: 61.70%\n",
      "Epoch [72/100], Loss: 0.0445, Accuracy: 98.75%, Test Loss: 2.3330, Test Accuracy: 60.30%\n",
      "Epoch [73/100], Loss: 0.0842, Accuracy: 98.25%, Test Loss: 2.0873, Test Accuracy: 60.50%\n",
      "Epoch [74/100], Loss: 0.0447, Accuracy: 98.25%, Test Loss: 2.3728, Test Accuracy: 61.30%\n",
      "Epoch [75/100], Loss: 0.0243, Accuracy: 99.00%, Test Loss: 2.7411, Test Accuracy: 61.30%\n",
      "Epoch [76/100], Loss: 0.0269, Accuracy: 99.00%, Test Loss: 2.7091, Test Accuracy: 60.40%\n",
      "Epoch [77/100], Loss: 0.0404, Accuracy: 99.00%, Test Loss: 2.6516, Test Accuracy: 61.30%\n",
      "Epoch [78/100], Loss: 0.0294, Accuracy: 99.00%, Test Loss: 2.6495, Test Accuracy: 61.50%\n",
      "Epoch [79/100], Loss: 0.0128, Accuracy: 99.50%, Test Loss: 3.4827, Test Accuracy: 60.20%\n",
      "Epoch [80/100], Loss: 0.0164, Accuracy: 98.75%, Test Loss: 4.2983, Test Accuracy: 61.00%\n",
      "Epoch [81/100], Loss: 0.0338, Accuracy: 98.75%, Test Loss: 3.4911, Test Accuracy: 60.80%\n",
      "Epoch [82/100], Loss: 0.0546, Accuracy: 97.75%, Test Loss: 2.8614, Test Accuracy: 62.20%\n",
      "Epoch [83/100], Loss: 0.0491, Accuracy: 98.50%, Test Loss: 2.7788, Test Accuracy: 61.70%\n",
      "Epoch [84/100], Loss: 0.0483, Accuracy: 98.25%, Test Loss: 2.9397, Test Accuracy: 61.50%\n",
      "Epoch [85/100], Loss: 0.0818, Accuracy: 97.00%, Test Loss: 1.9325, Test Accuracy: 62.80%\n",
      "Epoch [86/100], Loss: 0.0338, Accuracy: 98.50%, Test Loss: 2.4999, Test Accuracy: 62.40%\n",
      "Epoch [87/100], Loss: 0.0166, Accuracy: 99.50%, Test Loss: 2.5417, Test Accuracy: 60.50%\n",
      "Epoch [88/100], Loss: 0.0155, Accuracy: 99.75%, Test Loss: 2.6758, Test Accuracy: 61.40%\n",
      "Epoch [89/100], Loss: 0.0324, Accuracy: 98.25%, Test Loss: 2.9251, Test Accuracy: 61.50%\n",
      "Epoch [90/100], Loss: 0.0162, Accuracy: 99.75%, Test Loss: 3.0417, Test Accuracy: 60.10%\n",
      "Epoch [91/100], Loss: 0.0092, Accuracy: 99.75%, Test Loss: 3.0423, Test Accuracy: 62.30%\n",
      "Epoch [92/100], Loss: 0.0073, Accuracy: 99.75%, Test Loss: 3.5598, Test Accuracy: 63.30%\n",
      "Epoch [93/100], Loss: 0.0365, Accuracy: 98.75%, Test Loss: 3.1801, Test Accuracy: 60.50%\n",
      "Epoch [94/100], Loss: 0.0458, Accuracy: 97.75%, Test Loss: 2.9083, Test Accuracy: 62.70%\n",
      "Epoch [95/100], Loss: 0.0651, Accuracy: 98.50%, Test Loss: 2.1557, Test Accuracy: 59.80%\n",
      "Epoch [96/100], Loss: 0.0645, Accuracy: 98.00%, Test Loss: 2.1697, Test Accuracy: 62.10%\n",
      "Epoch [97/100], Loss: 0.0288, Accuracy: 99.50%, Test Loss: 2.0916, Test Accuracy: 62.20%\n",
      "Epoch [98/100], Loss: 0.0133, Accuracy: 99.50%, Test Loss: 2.6073, Test Accuracy: 62.30%\n",
      "Epoch [99/100], Loss: 0.0211, Accuracy: 99.25%, Test Loss: 2.9284, Test Accuracy: 61.90%\n",
      "Epoch [100/100], Loss: 0.0082, Accuracy: 99.50%, Test Loss: 3.0065, Test Accuracy: 61.20%\n"
     ]
    }
   ],
   "source": [
    "# train\n",
    "for epoch in range(max_epoch):\n",
    "    model.train()\n",
    "    running_loss = 0.0\n",
    "    running_correct = 0   # to track number of correct predictions\n",
    "    total = 0             # to track total number of samples\n",
    "\n",
    "    for i, (inputs, labels) in enumerate(train_loader, 0):\n",
    "        # Move inputs and labels to the device\n",
    "        inputs, labels = inputs.to(device), labels.to(device)\n",
    "\n",
    "        # Zero the parameter gradients\n",
    "        optimizer.zero_grad()\n",
    "\n",
    "        # Forward pass\n",
    "        outputs = model(inputs)\n",
    "        loss = criterion(outputs, labels)\n",
    "        running_loss += loss.item()\n",
    "\n",
    "        # Backward pass and optimization\n",
    "        loss.backward()\n",
    "        optimizer.step()  \n",
    "    \n",
    "        # Determine class predictions and track accuracy\n",
    "        _, predicted = torch.max(outputs.data, 1)\n",
    "        total += labels.size(0)\n",
    "        running_correct += (predicted == labels).sum().item()\n",
    "\n",
    "\n",
    "    epoch_accuracy = 100 * running_correct / total\n",
    "    epoch_loss = running_loss / (i + 1)\n",
    "    \n",
    "    test_loss, test_accuracy = evaluate(model, test_loader, criterion)\n",
    "    print(f\"Epoch [{epoch + 1}/{max_epoch}], Loss: {epoch_loss:.4f}, Accuracy: {epoch_accuracy:.2f}%, Test Loss: {test_loss:.4f}, Test Accuracy: {test_accuracy:.2f}%\")\n",
    "    \n",
    "    # save for plot\n",
    "    train_losses.append(epoch_loss)\n",
    "    train_accuracies.append(epoch_accuracy)\n",
    "    test_losses.append(test_loss)\n",
    "    test_accuracies.append(test_accuracy)"
   ]
  },
  {
   "cell_type": "code",
   "execution_count": null,
   "id": "cebcb439-88f2-40b6-9a17-4990ad324731",
   "metadata": {},
   "outputs": [],
   "source": []
  },
  {
   "cell_type": "code",
   "execution_count": 8,
   "id": "DkC3_902Lgn-",
   "metadata": {
    "executionInfo": {
     "elapsed": 3,
     "status": "ok",
     "timestamp": 1673091684322,
     "user": {
      "displayName": "Thắng Dương Đình",
      "userId": "02196529682032971345"
     },
     "user_tz": -420
    },
    "id": "DkC3_902Lgn-"
   },
   "outputs": [
    {
     "data": {
      "text/plain": [
       "<matplotlib.legend.Legend at 0x7f071869bcd0>"
      ]
     },
     "execution_count": 8,
     "metadata": {},
     "output_type": "execute_result"
    },
    {
     "data": {
      "image/png": "[encoded data removed]",
      "text/plain": [
       "<Figure size 640x480 with 1 Axes>"
      ]
     },
     "metadata": {},
     "output_type": "display_data"
    }
   ],
   "source": [
    "import matplotlib.pyplot as plt\n",
    "\n",
    "plt.plot(train_losses, label='train_losses')\n",
    "plt.plot(test_losses, label='test_losses')\n",
    "plt.legend()"
   ]
  },
  {
   "cell_type": "code",
   "execution_count": 9,
   "id": "794f4e81",
   "metadata": {
    "executionInfo": {
     "elapsed": 8,
     "status": "ok",
     "timestamp": 1673092872464,
     "user": {
      "displayName": "Thắng Dương Đình",
      "userId": "02196529682032971345"
     },
     "user_tz": -420
    },
    "id": "794f4e81"
   },
   "outputs": [
    {
     "data": {
      "text/plain": [
       "<matplotlib.legend.Legend at 0x7f071097f370>"
      ]
     },
     "execution_count": 9,
     "metadata": {},
     "output_type": "execute_result"
    },
    {
     "data": {
      "image/png": "[encoded data removed]",
      "text/plain": [
       "<Figure size 640x480 with 1 Axes>"
      ]
     },
     "metadata": {},
     "output_type": "display_data"
    }
   ],
   "source": [
    "import matplotlib.pyplot as plt\n",
    "\n",
    "plt.plot(train_accuracies, label='train_accuracy')\n",
    "plt.plot(test_accuracies, label='test_accuracy')\n",
    "plt.legend()"
   ]
  },
  {
   "cell_type": "code",
   "execution_count": null,
   "id": "a2ec7c96-ff05-4863-92e7-c45f2f0e3d03",
   "metadata": {},
   "outputs": [],
   "source": []
  },
  {
   "cell_type": "code",
   "execution_count": null,
   "id": "8c86325e-7b6c-43a6-b315-93e02bcdb264",
   "metadata": {},
   "outputs": [],
   "source": []
  },
  {
   "cell_type": "code",
   "execution_count": 10,
   "id": "d2a401f6-9ed4-4dee-9e95-f65826e2d92d",
   "metadata": {},
   "outputs": [
    {
     "data": {
      "text/plain": [
       "<matplotlib.legend.Legend at 0x7f071059bf40>"
      ]
     },
     "execution_count": 10,
     "metadata": {},
     "output_type": "execute_result"
    }
   ],
   "source": [
    "import matplotlib.pyplot as plt\n",
    "%matplotlib qt\n",
    "\n",
    "plt.plot(train_losses, label='train_losses')\n",
    "plt.plot(test_losses, label='test_losses')\n",
    "plt.legend()"
   ]
  },
  {
   "cell_type": "code",
   "execution_count": 11,
   "id": "b4d1601e-a633-4f04-b476-7288856e1971",
   "metadata": {},
   "outputs": [
    {
     "data": {
      "text/plain": [
       "<matplotlib.legend.Legend at 0x7f06bc13fa00>"
      ]
     },
     "execution_count": 11,
     "metadata": {},
     "output_type": "execute_result"
    }
   ],
   "source": [
    "import matplotlib.pyplot as plt\n",
    "%matplotlib qt\n",
    "\n",
    "plt.plot(train_accuracies, label='train_accuracy')\n",
    "plt.plot(test_accuracies, label='test_accuracy')\n",
    "plt.legend()"
   ]
  },
  {
   "cell_type": "code",
   "execution_count": null,
   "id": "386d038d-d554-4857-ab4b-fe1314e8937c",
   "metadata": {},
   "outputs": [],
   "source": []
  }
 ],
 "metadata": {
  "accelerator": "GPU",
  "colab": {
   "provenance": []
  },
  "gpuClass": "standard",
  "kernelspec": {
   "display_name": "Python 3 (ipykernel)",
   "language": "python",
   "name": "python3"
  },
  "language_info": {
   "codemirror_mode": {
    "name": "ipython",
    "version": 3
   },
   "file_extension": ".py",
   "mimetype": "text/x-python",
   "name": "python",
   "nbconvert_exporter": "python",
   "pygments_lexer": "ipython3",
   "version": "3.11.5"
  },
  "widgets": {
   "application/vnd.jupyter.widget-state+json": {
    "00397590a13d454d8b16fd8d15ae9b41": {
     "model_module": "@jupyter-widgets/controls",
     "model_module_version": "1.5.0",
     "model_name": "DescriptionStyleModel",
     "state": {
      "_model_module": "@jupyter-widgets/controls",
      "_model_module_version": "1.5.0",
      "_model_name": "DescriptionStyleModel",
      "_view_count": null,
      "_view_module": "@jupyter-widgets/base",
      "_view_module_version": "1.2.0",
      "_view_name": "StyleView",
      "description_width": ""
     }
    },
    "0a3d339ba81a4f22b893250502c493af": {
     "model_module": "@jupyter-widgets/base",
     "model_module_version": "1.2.0",
     "model_name": "LayoutModel",
     "state": {
      "_model_module": "@jupyter-widgets/base",
      "_model_module_version": "1.2.0",
      "_model_name": "LayoutModel",
      "_view_count": null,
      "_view_module": "@jupyter-widgets/base",
      "_view_module_version": "1.2.0",
      "_view_name": "LayoutView",
      "align_content": null,
      "align_items": null,
      "align_self": null,
      "border": null,
      "bottom": null,
      "display": null,
      "flex": null,
      "flex_flow": null,
      "grid_area": null,
      "grid_auto_columns": null,
      "grid_auto_flow": null,
      "grid_auto_rows": null,
      "grid_column": null,
      "grid_gap": null,
      "grid_row": null,
      "grid_template_areas": null,
      "grid_template_columns": null,
      "grid_template_rows": null,
      "height": null,
      "justify_content": null,
      "justify_items": null,
      "left": null,
      "margin": null,
      "max_height": null,
      "max_width": null,
      "min_height": null,
      "min_width": null,
      "object_fit": null,
      "object_position": null,
      "order": null,
      "overflow": null,
      "overflow_x": null,
      "overflow_y": null,
      "padding": null,
      "right": null,
      "top": null,
      "visibility": null,
      "width": null
     }
    },
    "4691e220a8cb466bb46540f16f65e864": {
     "model_module": "@jupyter-widgets/controls",
     "model_module_version": "1.5.0",
     "model_name": "ProgressStyleModel",
     "state": {
      "_model_module": "@jupyter-widgets/controls",
      "_model_module_version": "1.5.0",
      "_model_name": "ProgressStyleModel",
      "_view_count": null,
      "_view_module": "@jupyter-widgets/base",
      "_view_module_version": "1.2.0",
      "_view_name": "StyleView",
      "bar_color": null,
      "description_width": ""
     }
    },
    "56c90ad0a7fb47d08727a7dac3f68f39": {
     "model_module": "@jupyter-widgets/base",
     "model_module_version": "1.2.0",
     "model_name": "LayoutModel",
     "state": {
      "_model_module": "@jupyter-widgets/base",
      "_model_module_version": "1.2.0",
      "_model_name": "LayoutModel",
      "_view_count": null,
      "_view_module": "@jupyter-widgets/base",
      "_view_module_version": "1.2.0",
      "_view_name": "LayoutView",
      "align_content": null,
      "align_items": null,
      "align_self": null,
      "border": null,
      "bottom": null,
      "display": null,
      "flex": null,
      "flex_flow": null,
      "grid_area": null,
      "grid_auto_columns": null,
      "grid_auto_flow": null,
      "grid_auto_rows": null,
      "grid_column": null,
      "grid_gap": null,
      "grid_row": null,
      "grid_template_areas": null,
      "grid_template_columns": null,
      "grid_template_rows": null,
      "height": null,
      "justify_content": null,
      "justify_items": null,
      "left": null,
      "margin": null,
      "max_height": null,
      "max_width": null,
      "min_height": null,
      "min_width": null,
      "object_fit": null,
      "object_position": null,
      "order": null,
      "overflow": null,
      "overflow_x": null,
      "overflow_y": null,
      "padding": null,
      "right": null,
      "top": null,
      "visibility": null,
      "width": null
     }
    },
    "619c9ef51fc5497f81b4af88db9214cc": {
     "model_module": "@jupyter-widgets/controls",
     "model_module_version": "1.5.0",
     "model_name": "DescriptionStyleModel",
     "state": {
      "_model_module": "@jupyter-widgets/controls",
      "_model_module_version": "1.5.0",
      "_model_name": "DescriptionStyleModel",
      "_view_count": null,
      "_view_module": "@jupyter-widgets/base",
      "_view_module_version": "1.2.0",
      "_view_name": "StyleView",
      "description_width": ""
     }
    },
    "7c95c188ecf242de9776dcfd3e3fc8d2": {
     "model_module": "@jupyter-widgets/base",
     "model_module_version": "1.2.0",
     "model_name": "LayoutModel",
     "state": {
      "_model_module": "@jupyter-widgets/base",
      "_model_module_version": "1.2.0",
      "_model_name": "LayoutModel",
      "_view_count": null,
      "_view_module": "@jupyter-widgets/base",
      "_view_module_version": "1.2.0",
      "_view_name": "LayoutView",
      "align_content": null,
      "align_items": null,
      "align_self": null,
      "border": null,
      "bottom": null,
      "display": null,
      "flex": null,
      "flex_flow": null,
      "grid_area": null,
      "grid_auto_columns": null,
      "grid_auto_flow": null,
      "grid_auto_rows": null,
      "grid_column": null,
      "grid_gap": null,
      "grid_row": null,
      "grid_template_areas": null,
      "grid_template_columns": null,
      "grid_template_rows": null,
      "height": null,
      "justify_content": null,
      "justify_items": null,
      "left": null,
      "margin": null,
      "max_height": null,
      "max_width": null,
      "min_height": null,
      "min_width": null,
      "object_fit": null,
      "object_position": null,
      "order": null,
      "overflow": null,
      "overflow_x": null,
      "overflow_y": null,
      "padding": null,
      "right": null,
      "top": null,
      "visibility": null,
      "width": null
     }
    },
    "8a6ed597588f4c07bff4271aeba7c1bb": {
     "model_module": "@jupyter-widgets/controls",
     "model_module_version": "1.5.0",
     "model_name": "HBoxModel",
     "state": {
      "_dom_classes": [],
      "_model_module": "@jupyter-widgets/controls",
      "_model_module_version": "1.5.0",
      "_model_name": "HBoxModel",
      "_view_count": null,
      "_view_module": "@jupyter-widgets/controls",
      "_view_module_version": "1.5.0",
      "_view_name": "HBoxView",
      "box_style": "",
      "children": [
       "IPY_MODEL_e09dd53ac3044e3097ed084354a52e13",
       "IPY_MODEL_8b2a0088b39741f6968c95f40ff787e6",
       "IPY_MODEL_cf5fb8e067be464bb14a1cf5e8b4e2de"
      ],
      "layout": "IPY_MODEL_0a3d339ba81a4f22b893250502c493af"
     }
    },
    "8b2a0088b39741f6968c95f40ff787e6": {
     "model_module": "@jupyter-widgets/controls",
     "model_module_version": "1.5.0",
     "model_name": "FloatProgressModel",
     "state": {
      "_dom_classes": [],
      "_model_module": "@jupyter-widgets/controls",
      "_model_module_version": "1.5.0",
      "_model_name": "FloatProgressModel",
      "_view_count": null,
      "_view_module": "@jupyter-widgets/controls",
      "_view_module_version": "1.5.0",
      "_view_name": "ProgressView",
      "bar_style": "success",
      "description": "",
      "description_tooltip": null,
      "layout": "IPY_MODEL_56c90ad0a7fb47d08727a7dac3f68f39",
      "max": 170498071,
      "min": 0,
      "orientation": "horizontal",
      "style": "IPY_MODEL_4691e220a8cb466bb46540f16f65e864",
      "value": 170498071
     }
    },
    "cf5fb8e067be464bb14a1cf5e8b4e2de": {
     "model_module": "@jupyter-widgets/controls",
     "model_module_version": "1.5.0",
     "model_name": "HTMLModel",
     "state": {
      "_dom_classes": [],
      "_model_module": "@jupyter-widgets/controls",
      "_model_module_version": "1.5.0",
      "_model_name": "HTMLModel",
      "_view_count": null,
      "_view_module": "@jupyter-widgets/controls",
      "_view_module_version": "1.5.0",
      "_view_name": "HTMLView",
      "description": "",
      "description_tooltip": null,
      "layout": "IPY_MODEL_7c95c188ecf242de9776dcfd3e3fc8d2",
      "placeholder": "​",
      "style": "IPY_MODEL_619c9ef51fc5497f81b4af88db9214cc",
      "value": " 170498071/170498071 [00:01&lt;00:00, 97303096.82it/s]"
     }
    },
    "e09dd53ac3044e3097ed084354a52e13": {
     "model_module": "@jupyter-widgets/controls",
     "model_module_version": "1.5.0",
     "model_name": "HTMLModel",
     "state": {
      "_dom_classes": [],
      "_model_module": "@jupyter-widgets/controls",
      "_model_module_version": "1.5.0",
      "_model_name": "HTMLModel",
      "_view_count": null,
      "_view_module": "@jupyter-widgets/controls",
      "_view_module_version": "1.5.0",
      "_view_name": "HTMLView",
      "description": "",
      "description_tooltip": null,
      "layout": "IPY_MODEL_f4c44a600db84290a51877583e18ee26",
      "placeholder": "​",
      "style": "IPY_MODEL_00397590a13d454d8b16fd8d15ae9b41",
      "value": "100%"
     }
    },
    "f4c44a600db84290a51877583e18ee26": {
     "model_module": "@jupyter-widgets/base",
     "model_module_version": "1.2.0",
     "model_name": "LayoutModel",
     "state": {
      "_model_module": "@jupyter-widgets/base",
      "_model_module_version": "1.2.0",
      "_model_name": "LayoutModel",
      "_view_count": null,
      "_view_module": "@jupyter-widgets/base",
      "_view_module_version": "1.2.0",
      "_view_name": "LayoutView",
      "align_content": null,
      "align_items": null,
      "align_self": null,
      "border": null,
      "bottom": null,
      "display": null,
      "flex": null,
      "flex_flow": null,
      "grid_area": null,
      "grid_auto_columns": null,
      "grid_auto_flow": null,
      "grid_auto_rows": null,
      "grid_column": null,
      "grid_gap": null,
      "grid_row": null,
      "grid_template_areas": null,
      "grid_template_columns": null,
      "grid_template_rows": null,
      "height": null,
      "justify_content": null,
      "justify_items": null,
      "left": null,
      "margin": null,
      "max_height": null,
      "max_width": null,
      "min_height": null,
      "min_width": null,
      "object_fit": null,
      "object_position": null,
      "order": null,
      "overflow": null,
      "overflow_x": null,
      "overflow_y": null,
      "padding": null,
      "right": null,
      "top": null,
      "visibility": null,
      "width": null
     }
    }
   }
  }
 },
 "nbformat": 4,
 "nbformat_minor": 5
}
