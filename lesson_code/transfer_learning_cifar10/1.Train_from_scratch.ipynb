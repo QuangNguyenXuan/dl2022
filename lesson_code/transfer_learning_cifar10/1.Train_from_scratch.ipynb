{
 "cells": [
  {
   "cell_type": "code",
   "execution_count": 1,
   "id": "d4e45a49-974f-4f9c-8642-42e2c45aab71",
   "metadata": {},
   "outputs": [],
   "source": [
    "import torch\n",
    "import torchvision.transforms as transforms\n",
    "import torch.nn as nn\n",
    "import torch.nn.functional as F\n",
    "\n",
    "import numpy as np\n",
    "import matplotlib.pyplot as plt\n",
    "\n",
    "from torchvision.datasets import CIFAR10\n",
    "from torch.utils.data import DataLoader \n",
    "from torch.optim import Adam\n",
    "import torchvision\n",
    "import torchvision.models as models\n",
    "\n",
    "torch.manual_seed(1)\n",
    "device = 'cuda' if torch.cuda.is_available() else 'cpu'"
   ]
  },
  {
   "cell_type": "code",
   "execution_count": null,
   "id": "42432066-6cf0-416b-961a-adb1e3217204",
   "metadata": {},
   "outputs": [],
   "source": []
  },
  {
   "cell_type": "markdown",
   "id": "f913360b-019e-4d69-a540-b7b5715544e1",
   "metadata": {},
   "source": [
    "## Data"
   ]
  },
  {
   "cell_type": "code",
   "execution_count": 2,
   "id": "3ad21976-2d99-49b7-b0b5-84e9ebcd371e",
   "metadata": {},
   "outputs": [
    {
     "name": "stdout",
     "output_type": "stream",
     "text": [
      "Files already downloaded and verified\n",
      "Files already downloaded and verified\n"
     ]
    }
   ],
   "source": [
    "train_transform = transforms.Compose(\n",
    "    [\n",
    "        transforms.ToTensor(),\n",
    "        transforms.Normalize([0.4914, 0.4822, 0.4465], \n",
    "                             [0.2470, 0.2435, 0.2616]),\n",
    "        transforms.RandomErasing(p=0.75,\n",
    "                                 scale=(0.01, 0.3),\n",
    "                                 ratio=(1.0, 1.0),\n",
    "                                 value=0,\n",
    "                                 inplace =True)\n",
    "    ])\n",
    "\n",
    "val_transform = transforms.Compose(\n",
    "    [\n",
    "        transforms.ToTensor(),\n",
    "        transforms.Normalize([0.4914, 0.4822, 0.4465], \n",
    "                             [0.2470, 0.2435, 0.2616])\n",
    "    ])\n",
    "\n",
    "train_set = CIFAR10(\n",
    "    root='./data', \n",
    "    train=True,\n",
    "    download=True, \n",
    "    transform=train_transform\n",
    ")\n",
    "\n",
    "val_set = CIFAR10(\n",
    "    root='./data', \n",
    "    train=False,\n",
    "    download=True, \n",
    "    transform=val_transform\n",
    ")\n",
    "\n",
    "trainloader = DataLoader(\n",
    "    train_set, \n",
    "    batch_size=batch_size,\n",
    "    shuffle=True,\n",
    "    num_workers=3\n",
    ")\n",
    "\n",
    "testloader = DataLoader(\n",
    "    val_set, \n",
    "    batch_size=batch_size,\n",
    "    shuffle=False, \n",
    "    num_workers=3\n",
    ")"
   ]
  },
  {
   "cell_type": "code",
   "execution_count": null,
   "id": "cf229497-4b6e-443d-b330-66b6fa139fcd",
   "metadata": {},
   "outputs": [],
   "source": []
  },
  {
   "cell_type": "markdown",
   "id": "6ea0dde8-29e7-4096-bd15-6a5ed74655f0",
   "metadata": {},
   "source": [
    "## Model"
   ]
  },
  {
   "cell_type": "code",
   "execution_count": 3,
   "id": "667fc692-e195-4fe1-94c0-1fda94be7849",
   "metadata": {},
   "outputs": [
    {
     "name": "stdout",
     "output_type": "stream",
     "text": [
      "==========================================================================================\n",
      "Layer (type:depth-idx)                   Output Shape              Param #\n",
      "==========================================================================================\n",
      "├─Sequential: 1-1                        [-1, 512, 1, 1]           --\n",
      "|    └─Conv2d: 2-1                       [-1, 64, 32, 32]          1,792\n",
      "|    └─ReLU: 2-2                         [-1, 64, 32, 32]          --\n",
      "|    └─Conv2d: 2-3                       [-1, 64, 32, 32]          36,928\n",
      "|    └─ReLU: 2-4                         [-1, 64, 32, 32]          --\n",
      "|    └─MaxPool2d: 2-5                    [-1, 64, 16, 16]          --\n",
      "|    └─Conv2d: 2-6                       [-1, 128, 16, 16]         73,856\n",
      "|    └─ReLU: 2-7                         [-1, 128, 16, 16]         --\n",
      "|    └─Conv2d: 2-8                       [-1, 128, 16, 16]         147,584\n",
      "|    └─ReLU: 2-9                         [-1, 128, 16, 16]         --\n",
      "|    └─MaxPool2d: 2-10                   [-1, 128, 8, 8]           --\n",
      "|    └─Conv2d: 2-11                      [-1, 256, 8, 8]           295,168\n",
      "|    └─ReLU: 2-12                        [-1, 256, 8, 8]           --\n",
      "|    └─Conv2d: 2-13                      [-1, 256, 8, 8]           590,080\n",
      "|    └─ReLU: 2-14                        [-1, 256, 8, 8]           --\n",
      "|    └─Conv2d: 2-15                      [-1, 256, 8, 8]           590,080\n",
      "|    └─ReLU: 2-16                        [-1, 256, 8, 8]           --\n",
      "|    └─MaxPool2d: 2-17                   [-1, 256, 4, 4]           --\n",
      "|    └─Conv2d: 2-18                      [-1, 512, 4, 4]           1,180,160\n",
      "|    └─ReLU: 2-19                        [-1, 512, 4, 4]           --\n",
      "|    └─Conv2d: 2-20                      [-1, 512, 4, 4]           2,359,808\n",
      "|    └─ReLU: 2-21                        [-1, 512, 4, 4]           --\n",
      "|    └─Conv2d: 2-22                      [-1, 512, 4, 4]           2,359,808\n",
      "|    └─ReLU: 2-23                        [-1, 512, 4, 4]           --\n",
      "|    └─MaxPool2d: 2-24                   [-1, 512, 2, 2]           --\n",
      "|    └─Conv2d: 2-25                      [-1, 512, 2, 2]           2,359,808\n",
      "|    └─ReLU: 2-26                        [-1, 512, 2, 2]           --\n",
      "|    └─Conv2d: 2-27                      [-1, 512, 2, 2]           2,359,808\n",
      "|    └─ReLU: 2-28                        [-1, 512, 2, 2]           --\n",
      "|    └─Conv2d: 2-29                      [-1, 512, 2, 2]           2,359,808\n",
      "|    └─ReLU: 2-30                        [-1, 512, 2, 2]           --\n",
      "|    └─MaxPool2d: 2-31                   [-1, 512, 1, 1]           --\n",
      "├─Flatten: 1-2                           [-1, 512]                 --\n",
      "├─Dropout: 1-3                           [-1, 512]                 --\n",
      "├─Linear: 1-4                            [-1, 10]                  5,130\n",
      "==========================================================================================\n",
      "Total params: 14,719,818\n",
      "Trainable params: 14,719,818\n",
      "Non-trainable params: 0\n",
      "Total mult-adds (M): 327.91\n",
      "==========================================================================================\n",
      "Input size (MB): 0.01\n",
      "Forward/backward pass size (MB): 2.11\n",
      "Params size (MB): 56.15\n",
      "Estimated Total Size (MB): 58.27\n",
      "==========================================================================================\n"
     ]
    },
    {
     "data": {
      "text/plain": [
       "==========================================================================================\n",
       "Layer (type:depth-idx)                   Output Shape              Param #\n",
       "==========================================================================================\n",
       "├─Sequential: 1-1                        [-1, 512, 1, 1]           --\n",
       "|    └─Conv2d: 2-1                       [-1, 64, 32, 32]          1,792\n",
       "|    └─ReLU: 2-2                         [-1, 64, 32, 32]          --\n",
       "|    └─Conv2d: 2-3                       [-1, 64, 32, 32]          36,928\n",
       "|    └─ReLU: 2-4                         [-1, 64, 32, 32]          --\n",
       "|    └─MaxPool2d: 2-5                    [-1, 64, 16, 16]          --\n",
       "|    └─Conv2d: 2-6                       [-1, 128, 16, 16]         73,856\n",
       "|    └─ReLU: 2-7                         [-1, 128, 16, 16]         --\n",
       "|    └─Conv2d: 2-8                       [-1, 128, 16, 16]         147,584\n",
       "|    └─ReLU: 2-9                         [-1, 128, 16, 16]         --\n",
       "|    └─MaxPool2d: 2-10                   [-1, 128, 8, 8]           --\n",
       "|    └─Conv2d: 2-11                      [-1, 256, 8, 8]           295,168\n",
       "|    └─ReLU: 2-12                        [-1, 256, 8, 8]           --\n",
       "|    └─Conv2d: 2-13                      [-1, 256, 8, 8]           590,080\n",
       "|    └─ReLU: 2-14                        [-1, 256, 8, 8]           --\n",
       "|    └─Conv2d: 2-15                      [-1, 256, 8, 8]           590,080\n",
       "|    └─ReLU: 2-16                        [-1, 256, 8, 8]           --\n",
       "|    └─MaxPool2d: 2-17                   [-1, 256, 4, 4]           --\n",
       "|    └─Conv2d: 2-18                      [-1, 512, 4, 4]           1,180,160\n",
       "|    └─ReLU: 2-19                        [-1, 512, 4, 4]           --\n",
       "|    └─Conv2d: 2-20                      [-1, 512, 4, 4]           2,359,808\n",
       "|    └─ReLU: 2-21                        [-1, 512, 4, 4]           --\n",
       "|    └─Conv2d: 2-22                      [-1, 512, 4, 4]           2,359,808\n",
       "|    └─ReLU: 2-23                        [-1, 512, 4, 4]           --\n",
       "|    └─MaxPool2d: 2-24                   [-1, 512, 2, 2]           --\n",
       "|    └─Conv2d: 2-25                      [-1, 512, 2, 2]           2,359,808\n",
       "|    └─ReLU: 2-26                        [-1, 512, 2, 2]           --\n",
       "|    └─Conv2d: 2-27                      [-1, 512, 2, 2]           2,359,808\n",
       "|    └─ReLU: 2-28                        [-1, 512, 2, 2]           --\n",
       "|    └─Conv2d: 2-29                      [-1, 512, 2, 2]           2,359,808\n",
       "|    └─ReLU: 2-30                        [-1, 512, 2, 2]           --\n",
       "|    └─MaxPool2d: 2-31                   [-1, 512, 1, 1]           --\n",
       "├─Flatten: 1-2                           [-1, 512]                 --\n",
       "├─Dropout: 1-3                           [-1, 512]                 --\n",
       "├─Linear: 1-4                            [-1, 10]                  5,130\n",
       "==========================================================================================\n",
       "Total params: 14,719,818\n",
       "Trainable params: 14,719,818\n",
       "Non-trainable params: 0\n",
       "Total mult-adds (M): 327.91\n",
       "==========================================================================================\n",
       "Input size (MB): 0.01\n",
       "Forward/backward pass size (MB): 2.11\n",
       "Params size (MB): 56.15\n",
       "Estimated Total Size (MB): 58.27\n",
       "=========================================================================================="
      ]
     },
     "execution_count": 3,
     "metadata": {},
     "output_type": "execute_result"
    }
   ],
   "source": [
    "from torchsummary import summary\n",
    "\n",
    "# Load the pretrained VGG16 model\n",
    "vgg16 = models.vgg16()\n",
    "f_extractor = vgg16.features\n",
    "\n",
    "model = nn.Sequential(f_extractor, \n",
    "                      nn.Flatten(), \n",
    "                      nn.Dropout(), \n",
    "                      nn.Linear(512, 10))\n",
    "model.to(device)\n",
    "summary(model, (3, 32, 32))"
   ]
  },
  {
   "cell_type": "code",
   "execution_count": null,
   "id": "c8516821-d41b-42a8-9e51-ddfb8f9ec87e",
   "metadata": {},
   "outputs": [],
   "source": []
  },
  {
   "cell_type": "markdown",
   "id": "43c7b151-a199-4e2a-8015-fdfb5f166284",
   "metadata": {},
   "source": [
    "# Train"
   ]
  },
  {
   "cell_type": "code",
   "execution_count": 4,
   "id": "1464e2bd-b627-475d-9941-f2a930d69a14",
   "metadata": {},
   "outputs": [],
   "source": [
    "criterion = nn.CrossEntropyLoss()\n",
    "optimizer = Adam(model.parameters(), lr=5e-4)  "
   ]
  },
  {
   "cell_type": "code",
   "execution_count": 5,
   "id": "04744c84-1e6d-4bfb-8dd5-abbdc91f102e",
   "metadata": {},
   "outputs": [],
   "source": [
    "# Function to compute loss and accuracy for test set\n",
    "def evaluate(model, testloader, criterion):\n",
    "    model.eval()\n",
    "    test_loss = 0.0\n",
    "    running_correct = 0\n",
    "    total = 0\n",
    "    with torch.no_grad():\n",
    "        for images, labels in testloader:\n",
    "            # Move inputs and labels to the device\n",
    "            images, labels = images.to(device), labels.to(device)\n",
    "\n",
    "            outputs = model(images)\n",
    "            loss = criterion(outputs, labels)\n",
    "            test_loss += loss.item()\n",
    "            \n",
    "            _, predicted = torch.max(outputs.data, 1)\n",
    "            total += labels.size(0)\n",
    "            running_correct += (predicted == labels).sum().item()\n",
    "\n",
    "    accuracy = 100 * running_correct / total\n",
    "    test_loss = test_loss / len(testloader)\n",
    "    return test_loss, accuracy"
   ]
  },
  {
   "cell_type": "code",
   "execution_count": 6,
   "id": "f2402591-e7f7-4bdd-8962-c029cfcd9307",
   "metadata": {},
   "outputs": [],
   "source": [
    "# some parameter\n",
    "train_losses = []\n",
    "train_accuracies = []\n",
    "test_losses = []\n",
    "test_accuracies = []\n",
    "max_epoch = 100"
   ]
  },
  {
   "cell_type": "code",
   "execution_count": 7,
   "id": "190a58e1-0864-4818-a8d2-0f83212c6d13",
   "metadata": {},
   "outputs": [
    {
     "name": "stdout",
     "output_type": "stream",
     "text": [
      "Epoch [1/100], Loss: 1.9045, Accuracy: 25.59%, Test Loss: 1.5437, Test Accuracy: 40.87%\n",
      "Epoch [2/100], Loss: 1.4597, Accuracy: 45.21%, Test Loss: 1.2622, Test Accuracy: 54.46%\n",
      "Epoch [3/100], Loss: 1.1918, Accuracy: 56.76%, Test Loss: 1.0863, Test Accuracy: 61.74%\n",
      "Epoch [4/100], Loss: 1.0150, Accuracy: 63.88%, Test Loss: 0.8985, Test Accuracy: 68.80%\n",
      "Epoch [5/100], Loss: 0.8826, Accuracy: 68.82%, Test Loss: 0.8687, Test Accuracy: 70.31%\n",
      "Epoch [6/100], Loss: 0.7797, Accuracy: 72.93%, Test Loss: 0.7961, Test Accuracy: 72.76%\n",
      "Epoch [7/100], Loss: 0.6957, Accuracy: 75.89%, Test Loss: 0.7299, Test Accuracy: 75.65%\n",
      "Epoch [8/100], Loss: 0.6377, Accuracy: 78.13%, Test Loss: 0.6801, Test Accuracy: 77.63%\n",
      "Epoch [9/100], Loss: 0.5533, Accuracy: 81.01%, Test Loss: 0.6590, Test Accuracy: 78.58%\n",
      "Epoch [10/100], Loss: 0.5043, Accuracy: 82.73%, Test Loss: 0.6730, Test Accuracy: 78.39%\n",
      "Epoch [11/100], Loss: 0.4539, Accuracy: 84.49%, Test Loss: 0.6718, Test Accuracy: 79.80%\n",
      "Epoch [12/100], Loss: 0.4059, Accuracy: 86.15%, Test Loss: 0.6541, Test Accuracy: 80.41%\n",
      "Epoch [13/100], Loss: 0.3764, Accuracy: 87.04%, Test Loss: 0.6385, Test Accuracy: 80.54%\n",
      "Epoch [14/100], Loss: 0.3301, Accuracy: 88.71%, Test Loss: 0.7049, Test Accuracy: 80.43%\n",
      "Epoch [15/100], Loss: 0.3071, Accuracy: 89.53%, Test Loss: 0.7312, Test Accuracy: 80.49%\n",
      "Epoch [16/100], Loss: 0.2859, Accuracy: 90.30%, Test Loss: 0.6867, Test Accuracy: 80.21%\n",
      "Epoch [17/100], Loss: 0.2663, Accuracy: 91.04%, Test Loss: 0.7375, Test Accuracy: 80.50%\n",
      "Epoch [18/100], Loss: 0.2418, Accuracy: 91.94%, Test Loss: 0.7370, Test Accuracy: 80.33%\n",
      "Epoch [19/100], Loss: 0.2218, Accuracy: 92.72%, Test Loss: 0.7017, Test Accuracy: 81.36%\n",
      "Epoch [20/100], Loss: 0.2061, Accuracy: 93.27%, Test Loss: 0.8056, Test Accuracy: 79.72%\n",
      "Epoch [21/100], Loss: 0.2096, Accuracy: 93.05%, Test Loss: 0.7288, Test Accuracy: 80.78%\n",
      "Epoch [22/100], Loss: 0.1920, Accuracy: 93.70%, Test Loss: 0.7551, Test Accuracy: 80.83%\n",
      "Epoch [23/100], Loss: 0.1767, Accuracy: 94.40%, Test Loss: 0.7503, Test Accuracy: 80.79%\n",
      "Epoch [24/100], Loss: 0.1729, Accuracy: 94.44%, Test Loss: 0.8037, Test Accuracy: 80.55%\n",
      "Epoch [25/100], Loss: 0.1650, Accuracy: 94.58%, Test Loss: 0.7963, Test Accuracy: 80.67%\n",
      "Epoch [26/100], Loss: 0.1657, Accuracy: 94.69%, Test Loss: 0.7645, Test Accuracy: 81.19%\n",
      "Epoch [27/100], Loss: 0.1512, Accuracy: 95.11%, Test Loss: 0.8332, Test Accuracy: 81.05%\n",
      "Epoch [28/100], Loss: 0.1506, Accuracy: 95.14%, Test Loss: 0.7270, Test Accuracy: 81.32%\n",
      "Epoch [29/100], Loss: 0.1461, Accuracy: 95.22%, Test Loss: 0.8061, Test Accuracy: 81.45%\n",
      "Epoch [30/100], Loss: 0.1412, Accuracy: 95.47%, Test Loss: 0.7302, Test Accuracy: 80.76%\n",
      "Epoch [31/100], Loss: 0.1348, Accuracy: 95.62%, Test Loss: 0.8324, Test Accuracy: 81.21%\n",
      "Epoch [32/100], Loss: 0.1277, Accuracy: 95.84%, Test Loss: 0.8082, Test Accuracy: 81.41%\n",
      "Epoch [33/100], Loss: 0.1320, Accuracy: 95.81%, Test Loss: 0.7619, Test Accuracy: 81.36%\n",
      "Epoch [34/100], Loss: 0.1275, Accuracy: 95.81%, Test Loss: 0.8780, Test Accuracy: 81.28%\n",
      "Epoch [35/100], Loss: 0.1214, Accuracy: 96.13%, Test Loss: 0.7923, Test Accuracy: 82.16%\n",
      "Epoch [36/100], Loss: 0.1159, Accuracy: 96.37%, Test Loss: 0.8235, Test Accuracy: 81.47%\n",
      "Epoch [37/100], Loss: 0.1194, Accuracy: 96.15%, Test Loss: 0.8286, Test Accuracy: 81.05%\n",
      "Epoch [38/100], Loss: 0.1185, Accuracy: 96.21%, Test Loss: 0.8358, Test Accuracy: 80.51%\n",
      "Epoch [39/100], Loss: 0.1102, Accuracy: 96.48%, Test Loss: 0.9418, Test Accuracy: 81.16%\n",
      "Epoch [40/100], Loss: 0.1180, Accuracy: 96.22%, Test Loss: 0.8577, Test Accuracy: 81.48%\n",
      "Epoch [41/100], Loss: 0.1052, Accuracy: 96.56%, Test Loss: 0.9064, Test Accuracy: 80.80%\n",
      "Epoch [42/100], Loss: 0.1035, Accuracy: 96.68%, Test Loss: 0.8197, Test Accuracy: 81.71%\n",
      "Epoch [43/100], Loss: 0.1015, Accuracy: 96.76%, Test Loss: 0.8565, Test Accuracy: 81.88%\n",
      "Epoch [44/100], Loss: 0.1059, Accuracy: 96.66%, Test Loss: 0.8421, Test Accuracy: 81.48%\n",
      "Epoch [45/100], Loss: 0.1049, Accuracy: 96.74%, Test Loss: 0.8532, Test Accuracy: 81.11%\n",
      "Epoch [46/100], Loss: 0.0960, Accuracy: 96.88%, Test Loss: 0.8765, Test Accuracy: 81.19%\n",
      "Epoch [47/100], Loss: 0.0972, Accuracy: 96.96%, Test Loss: 0.8497, Test Accuracy: 81.59%\n",
      "Epoch [48/100], Loss: 0.0993, Accuracy: 96.89%, Test Loss: 0.8322, Test Accuracy: 82.18%\n",
      "Epoch [49/100], Loss: 0.1003, Accuracy: 96.79%, Test Loss: 0.9180, Test Accuracy: 81.16%\n",
      "Epoch [50/100], Loss: 0.0904, Accuracy: 97.14%, Test Loss: 0.9557, Test Accuracy: 81.97%\n",
      "Epoch [51/100], Loss: 0.0914, Accuracy: 96.99%, Test Loss: 0.9084, Test Accuracy: 81.90%\n",
      "Epoch [52/100], Loss: 0.0933, Accuracy: 97.03%, Test Loss: 0.9871, Test Accuracy: 81.58%\n",
      "Epoch [53/100], Loss: 0.0903, Accuracy: 97.13%, Test Loss: 0.9492, Test Accuracy: 81.15%\n",
      "Epoch [54/100], Loss: 0.1002, Accuracy: 96.80%, Test Loss: 0.9056, Test Accuracy: 82.09%\n",
      "Epoch [55/100], Loss: 0.0871, Accuracy: 97.22%, Test Loss: 0.8153, Test Accuracy: 81.38%\n",
      "Epoch [56/100], Loss: 0.0898, Accuracy: 97.10%, Test Loss: 0.8896, Test Accuracy: 80.90%\n",
      "Epoch [57/100], Loss: 0.0841, Accuracy: 97.27%, Test Loss: 1.0044, Test Accuracy: 81.92%\n",
      "Epoch [58/100], Loss: 0.0903, Accuracy: 97.22%, Test Loss: 0.9228, Test Accuracy: 80.99%\n",
      "Epoch [59/100], Loss: 0.0879, Accuracy: 97.27%, Test Loss: 0.8007, Test Accuracy: 82.15%\n",
      "Epoch [60/100], Loss: 0.0821, Accuracy: 97.37%, Test Loss: 1.0131, Test Accuracy: 81.17%\n",
      "Epoch [61/100], Loss: 0.0820, Accuracy: 97.46%, Test Loss: 0.9296, Test Accuracy: 81.94%\n",
      "Epoch [62/100], Loss: 0.0800, Accuracy: 97.48%, Test Loss: 0.9276, Test Accuracy: 81.63%\n",
      "Epoch [63/100], Loss: 0.0820, Accuracy: 97.43%, Test Loss: 0.9020, Test Accuracy: 81.62%\n",
      "Epoch [64/100], Loss: 0.0784, Accuracy: 97.54%, Test Loss: 0.8619, Test Accuracy: 81.47%\n",
      "Epoch [65/100], Loss: 0.0764, Accuracy: 97.64%, Test Loss: 0.9458, Test Accuracy: 80.54%\n",
      "Epoch [66/100], Loss: 0.0789, Accuracy: 97.54%, Test Loss: 0.9546, Test Accuracy: 81.45%\n",
      "Epoch [67/100], Loss: 0.0797, Accuracy: 97.45%, Test Loss: 0.9758, Test Accuracy: 82.06%\n",
      "Epoch [68/100], Loss: 0.0745, Accuracy: 97.64%, Test Loss: 0.8944, Test Accuracy: 81.54%\n",
      "Epoch [69/100], Loss: 0.0769, Accuracy: 97.53%, Test Loss: 0.9270, Test Accuracy: 80.86%\n",
      "Epoch [70/100], Loss: 0.0749, Accuracy: 97.57%, Test Loss: 1.0171, Test Accuracy: 81.67%\n",
      "Epoch [71/100], Loss: 0.0763, Accuracy: 97.55%, Test Loss: 0.9793, Test Accuracy: 81.52%\n",
      "Epoch [72/100], Loss: 0.0769, Accuracy: 97.48%, Test Loss: 0.9853, Test Accuracy: 81.10%\n",
      "Epoch [73/100], Loss: 0.0778, Accuracy: 97.57%, Test Loss: 0.9757, Test Accuracy: 81.79%\n",
      "Epoch [74/100], Loss: 0.0720, Accuracy: 97.79%, Test Loss: 0.9141, Test Accuracy: 81.85%\n",
      "Epoch [75/100], Loss: 0.0704, Accuracy: 97.73%, Test Loss: 0.8970, Test Accuracy: 82.09%\n",
      "Epoch [76/100], Loss: 0.0649, Accuracy: 97.91%, Test Loss: 1.0366, Test Accuracy: 81.10%\n",
      "Epoch [77/100], Loss: 0.0715, Accuracy: 97.72%, Test Loss: 0.9566, Test Accuracy: 81.24%\n",
      "Epoch [78/100], Loss: 0.0688, Accuracy: 97.85%, Test Loss: 0.9784, Test Accuracy: 82.21%\n",
      "Epoch [79/100], Loss: 0.0738, Accuracy: 97.75%, Test Loss: 1.0285, Test Accuracy: 81.44%\n",
      "Epoch [80/100], Loss: 0.0652, Accuracy: 97.89%, Test Loss: 1.1372, Test Accuracy: 81.25%\n",
      "Epoch [81/100], Loss: 0.0724, Accuracy: 97.80%, Test Loss: 0.9388, Test Accuracy: 82.13%\n",
      "Epoch [82/100], Loss: 0.0673, Accuracy: 97.94%, Test Loss: 0.9292, Test Accuracy: 81.55%\n",
      "Epoch [83/100], Loss: 0.0699, Accuracy: 97.86%, Test Loss: 0.9840, Test Accuracy: 81.60%\n",
      "Epoch [84/100], Loss: 0.0653, Accuracy: 97.83%, Test Loss: 0.9079, Test Accuracy: 81.81%\n",
      "Epoch [85/100], Loss: 0.0614, Accuracy: 98.03%, Test Loss: 1.0170, Test Accuracy: 81.95%\n",
      "Epoch [86/100], Loss: 0.0625, Accuracy: 97.98%, Test Loss: 0.9448, Test Accuracy: 81.84%\n",
      "Epoch [87/100], Loss: 0.0637, Accuracy: 98.02%, Test Loss: 0.9783, Test Accuracy: 81.71%\n",
      "Epoch [88/100], Loss: 0.0630, Accuracy: 98.03%, Test Loss: 0.9647, Test Accuracy: 81.80%\n",
      "Epoch [89/100], Loss: 0.0642, Accuracy: 97.94%, Test Loss: 1.0239, Test Accuracy: 81.16%\n",
      "Epoch [90/100], Loss: 0.0608, Accuracy: 98.06%, Test Loss: 0.9650, Test Accuracy: 82.20%\n",
      "Epoch [91/100], Loss: 0.0616, Accuracy: 98.13%, Test Loss: 1.0035, Test Accuracy: 81.39%\n",
      "Epoch [92/100], Loss: 0.0648, Accuracy: 98.04%, Test Loss: 0.9810, Test Accuracy: 82.08%\n",
      "Epoch [93/100], Loss: 0.0629, Accuracy: 98.06%, Test Loss: 1.0107, Test Accuracy: 81.45%\n",
      "Epoch [94/100], Loss: 0.0652, Accuracy: 98.03%, Test Loss: 0.9809, Test Accuracy: 82.16%\n",
      "Epoch [95/100], Loss: 0.0596, Accuracy: 98.16%, Test Loss: 1.0243, Test Accuracy: 81.64%\n",
      "Epoch [96/100], Loss: 0.0648, Accuracy: 98.00%, Test Loss: 0.9850, Test Accuracy: 82.12%\n",
      "Epoch [97/100], Loss: 0.0608, Accuracy: 98.08%, Test Loss: 1.0535, Test Accuracy: 81.58%\n",
      "Epoch [98/100], Loss: 0.0578, Accuracy: 98.20%, Test Loss: 1.0967, Test Accuracy: 81.10%\n",
      "Epoch [99/100], Loss: 0.0645, Accuracy: 97.99%, Test Loss: 0.9566, Test Accuracy: 82.16%\n",
      "Epoch [100/100], Loss: 0.0581, Accuracy: 98.12%, Test Loss: 1.0732, Test Accuracy: 81.56%\n"
     ]
    }
   ],
   "source": [
    "# train\n",
    "for epoch in range(max_epoch):\n",
    "    model.train()\n",
    "    running_loss = 0.0\n",
    "    running_correct = 0   # to track number of correct predictions\n",
    "    total = 0             # to track total number of samples\n",
    "\n",
    "    for i, (inputs, labels) in enumerate(trainloader, 0):\n",
    "        # Move inputs and labels to the device\n",
    "        inputs, labels = inputs.to(device), labels.to(device)\n",
    "\n",
    "        # Zero the parameter gradients\n",
    "        optimizer.zero_grad()\n",
    "\n",
    "        # Forward pass\n",
    "        outputs = model(inputs)\n",
    "        loss = criterion(outputs, labels)\n",
    "        running_loss += loss.item()\n",
    "\n",
    "        # Backward pass and optimization\n",
    "        loss.backward()\n",
    "        optimizer.step()  \n",
    "    \n",
    "        # Determine class predictions and track accuracy\n",
    "        _, predicted = torch.max(outputs.data, 1)\n",
    "        total += labels.size(0)\n",
    "        running_correct += (predicted == labels).sum().item()\n",
    "\n",
    "\n",
    "    epoch_accuracy = 100 * running_correct / total\n",
    "    epoch_loss = running_loss / (i + 1)\n",
    "    \n",
    "    test_loss, test_accuracy = evaluate(model, testloader, criterion)\n",
    "    print(f\"Epoch [{epoch + 1}/{max_epoch}], Loss: {epoch_loss:.4f}, Accuracy: {epoch_accuracy:.2f}%, Test Loss: {test_loss:.4f}, Test Accuracy: {test_accuracy:.2f}%\")\n",
    "    \n",
    "    # save for plot\n",
    "    train_losses.append(epoch_loss)\n",
    "    train_accuracies.append(epoch_accuracy)\n",
    "    test_losses.append(test_loss)\n",
    "    test_accuracies.append(test_accuracy)"
   ]
  },
  {
   "cell_type": "code",
   "execution_count": null,
   "id": "cebcb439-88f2-40b6-9a17-4990ad324731",
   "metadata": {},
   "outputs": [],
   "source": []
  },
  {
   "cell_type": "code",
   "execution_count": 8,
   "id": "DkC3_902Lgn-",
   "metadata": {
    "executionInfo": {
     "elapsed": 3,
     "status": "ok",
     "timestamp": 1673091684322,
     "user": {
      "displayName": "Thắng Dương Đình",
      "userId": "02196529682032971345"
     },
     "user_tz": -420
    },
    "id": "DkC3_902Lgn-"
   },
   "outputs": [
    {
     "data": {
      "text/plain": [
       "<matplotlib.legend.Legend at 0x7fc41cdda470>"
      ]
     },
     "execution_count": 8,
     "metadata": {},
     "output_type": "execute_result"
    },
    {
     "data": {
      "image/png": "[encoded data removed]",
      "text/plain": [
       "<Figure size 640x480 with 1 Axes>"
      ]
     },
     "metadata": {},
     "output_type": "display_data"
    }
   ],
   "source": [
    "import matplotlib.pyplot as plt\n",
    "\n",
    "plt.plot(train_losses, label='train_losses')\n",
    "plt.plot(test_losses, label='test_losses')\n",
    "plt.legend()"
   ]
  },
  {
   "cell_type": "code",
   "execution_count": 9,
   "id": "794f4e81",
   "metadata": {
    "executionInfo": {
     "elapsed": 8,
     "status": "ok",
     "timestamp": 1673092872464,
     "user": {
      "displayName": "Thắng Dương Đình",
      "userId": "02196529682032971345"
     },
     "user_tz": -420
    },
    "id": "794f4e81"
   },
   "outputs": [
    {
     "data": {
      "text/plain": [
       "<matplotlib.legend.Legend at 0x7fc43cf03670>"
      ]
     },
     "execution_count": 9,
     "metadata": {},
     "output_type": "execute_result"
    },
    {
     "data": {
      "image/png": "[encoded data removed]",
      "text/plain": [
       "<Figure size 640x480 with 1 Axes>"
      ]
     },
     "metadata": {},
     "output_type": "display_data"
    }
   ],
   "source": [
    "import matplotlib.pyplot as plt\n",
    "\n",
    "plt.plot(train_accuracies, label='train_accuracy')\n",
    "plt.plot(test_accuracies, label='test_accuracy')\n",
    "plt.legend()"
   ]
  },
  {
   "cell_type": "code",
   "execution_count": null,
   "id": "a2ec7c96-ff05-4863-92e7-c45f2f0e3d03",
   "metadata": {},
   "outputs": [],
   "source": []
  },
  {
   "cell_type": "code",
   "execution_count": null,
   "id": "8c86325e-7b6c-43a6-b315-93e02bcdb264",
   "metadata": {},
   "outputs": [],
   "source": []
  },
  {
   "cell_type": "code",
   "execution_count": 10,
   "id": "d2a401f6-9ed4-4dee-9e95-f65826e2d92d",
   "metadata": {},
   "outputs": [
    {
     "data": {
      "text/plain": [
       "<matplotlib.legend.Legend at 0x7fc43c17ec50>"
      ]
     },
     "execution_count": 10,
     "metadata": {},
     "output_type": "execute_result"
    }
   ],
   "source": [
    "import matplotlib.pyplot as plt\n",
    "%matplotlib qt\n",
    "\n",
    "plt.plot(train_losses, label='train_losses')\n",
    "plt.plot(test_losses, label='test_losses')\n",
    "plt.legend()"
   ]
  },
  {
   "cell_type": "code",
   "execution_count": 11,
   "id": "b4d1601e-a633-4f04-b476-7288856e1971",
   "metadata": {},
   "outputs": [
    {
     "data": {
      "text/plain": [
       "<matplotlib.legend.Legend at 0x7fc390323220>"
      ]
     },
     "execution_count": 11,
     "metadata": {},
     "output_type": "execute_result"
    }
   ],
   "source": [
    "import matplotlib.pyplot as plt\n",
    "%matplotlib qt\n",
    "\n",
    "plt.plot(train_accuracies, label='train_accuracy')\n",
    "plt.plot(test_accuracies, label='test_accuracy')\n",
    "plt.legend()"
   ]
  },
  {
   "cell_type": "code",
   "execution_count": null,
   "id": "386d038d-d554-4857-ab4b-fe1314e8937c",
   "metadata": {},
   "outputs": [],
   "source": []
  }
 ],
 "metadata": {
  "accelerator": "GPU",
  "colab": {
   "provenance": []
  },
  "gpuClass": "standard",
  "kernelspec": {
   "display_name": "Python 3 (ipykernel)",
   "language": "python",
   "name": "python3"
  },
  "language_info": {
   "codemirror_mode": {
    "name": "ipython",
    "version": 3
   },
   "file_extension": ".py",
   "mimetype": "text/x-python",
   "name": "python",
   "nbconvert_exporter": "python",
   "pygments_lexer": "ipython3",
   "version": "3.11.5"
  },
  "widgets": {
   "application/vnd.jupyter.widget-state+json": {
    "00397590a13d454d8b16fd8d15ae9b41": {
     "model_module": "@jupyter-widgets/controls",
     "model_module_version": "1.5.0",
     "model_name": "DescriptionStyleModel",
     "state": {
      "_model_module": "@jupyter-widgets/controls",
      "_model_module_version": "1.5.0",
      "_model_name": "DescriptionStyleModel",
      "_view_count": null,
      "_view_module": "@jupyter-widgets/base",
      "_view_module_version": "1.2.0",
      "_view_name": "StyleView",
      "description_width": ""
     }
    },
    "0a3d339ba81a4f22b893250502c493af": {
     "model_module": "@jupyter-widgets/base",
     "model_module_version": "1.2.0",
     "model_name": "LayoutModel",
     "state": {
      "_model_module": "@jupyter-widgets/base",
      "_model_module_version": "1.2.0",
      "_model_name": "LayoutModel",
      "_view_count": null,
      "_view_module": "@jupyter-widgets/base",
      "_view_module_version": "1.2.0",
      "_view_name": "LayoutView",
      "align_content": null,
      "align_items": null,
      "align_self": null,
      "border": null,
      "bottom": null,
      "display": null,
      "flex": null,
      "flex_flow": null,
      "grid_area": null,
      "grid_auto_columns": null,
      "grid_auto_flow": null,
      "grid_auto_rows": null,
      "grid_column": null,
      "grid_gap": null,
      "grid_row": null,
      "grid_template_areas": null,
      "grid_template_columns": null,
      "grid_template_rows": null,
      "height": null,
      "justify_content": null,
      "justify_items": null,
      "left": null,
      "margin": null,
      "max_height": null,
      "max_width": null,
      "min_height": null,
      "min_width": null,
      "object_fit": null,
      "object_position": null,
      "order": null,
      "overflow": null,
      "overflow_x": null,
      "overflow_y": null,
      "padding": null,
      "right": null,
      "top": null,
      "visibility": null,
      "width": null
     }
    },
    "4691e220a8cb466bb46540f16f65e864": {
     "model_module": "@jupyter-widgets/controls",
     "model_module_version": "1.5.0",
     "model_name": "ProgressStyleModel",
     "state": {
      "_model_module": "@jupyter-widgets/controls",
      "_model_module_version": "1.5.0",
      "_model_name": "ProgressStyleModel",
      "_view_count": null,
      "_view_module": "@jupyter-widgets/base",
      "_view_module_version": "1.2.0",
      "_view_name": "StyleView",
      "bar_color": null,
      "description_width": ""
     }
    },
    "56c90ad0a7fb47d08727a7dac3f68f39": {
     "model_module": "@jupyter-widgets/base",
     "model_module_version": "1.2.0",
     "model_name": "LayoutModel",
     "state": {
      "_model_module": "@jupyter-widgets/base",
      "_model_module_version": "1.2.0",
      "_model_name": "LayoutModel",
      "_view_count": null,
      "_view_module": "@jupyter-widgets/base",
      "_view_module_version": "1.2.0",
      "_view_name": "LayoutView",
      "align_content": null,
      "align_items": null,
      "align_self": null,
      "border": null,
      "bottom": null,
      "display": null,
      "flex": null,
      "flex_flow": null,
      "grid_area": null,
      "grid_auto_columns": null,
      "grid_auto_flow": null,
      "grid_auto_rows": null,
      "grid_column": null,
      "grid_gap": null,
      "grid_row": null,
      "grid_template_areas": null,
      "grid_template_columns": null,
      "grid_template_rows": null,
      "height": null,
      "justify_content": null,
      "justify_items": null,
      "left": null,
      "margin": null,
      "max_height": null,
      "max_width": null,
      "min_height": null,
      "min_width": null,
      "object_fit": null,
      "object_position": null,
      "order": null,
      "overflow": null,
      "overflow_x": null,
      "overflow_y": null,
      "padding": null,
      "right": null,
      "top": null,
      "visibility": null,
      "width": null
     }
    },
    "619c9ef51fc5497f81b4af88db9214cc": {
     "model_module": "@jupyter-widgets/controls",
     "model_module_version": "1.5.0",
     "model_name": "DescriptionStyleModel",
     "state": {
      "_model_module": "@jupyter-widgets/controls",
      "_model_module_version": "1.5.0",
      "_model_name": "DescriptionStyleModel",
      "_view_count": null,
      "_view_module": "@jupyter-widgets/base",
      "_view_module_version": "1.2.0",
      "_view_name": "StyleView",
      "description_width": ""
     }
    },
    "7c95c188ecf242de9776dcfd3e3fc8d2": {
     "model_module": "@jupyter-widgets/base",
     "model_module_version": "1.2.0",
     "model_name": "LayoutModel",
     "state": {
      "_model_module": "@jupyter-widgets/base",
      "_model_module_version": "1.2.0",
      "_model_name": "LayoutModel",
      "_view_count": null,
      "_view_module": "@jupyter-widgets/base",
      "_view_module_version": "1.2.0",
      "_view_name": "LayoutView",
      "align_content": null,
      "align_items": null,
      "align_self": null,
      "border": null,
      "bottom": null,
      "display": null,
      "flex": null,
      "flex_flow": null,
      "grid_area": null,
      "grid_auto_columns": null,
      "grid_auto_flow": null,
      "grid_auto_rows": null,
      "grid_column": null,
      "grid_gap": null,
      "grid_row": null,
      "grid_template_areas": null,
      "grid_template_columns": null,
      "grid_template_rows": null,
      "height": null,
      "justify_content": null,
      "justify_items": null,
      "left": null,
      "margin": null,
      "max_height": null,
      "max_width": null,
      "min_height": null,
      "min_width": null,
      "object_fit": null,
      "object_position": null,
      "order": null,
      "overflow": null,
      "overflow_x": null,
      "overflow_y": null,
      "padding": null,
      "right": null,
      "top": null,
      "visibility": null,
      "width": null
     }
    },
    "8a6ed597588f4c07bff4271aeba7c1bb": {
     "model_module": "@jupyter-widgets/controls",
     "model_module_version": "1.5.0",
     "model_name": "HBoxModel",
     "state": {
      "_dom_classes": [],
      "_model_module": "@jupyter-widgets/controls",
      "_model_module_version": "1.5.0",
      "_model_name": "HBoxModel",
      "_view_count": null,
      "_view_module": "@jupyter-widgets/controls",
      "_view_module_version": "1.5.0",
      "_view_name": "HBoxView",
      "box_style": "",
      "children": [
       "IPY_MODEL_e09dd53ac3044e3097ed084354a52e13",
       "IPY_MODEL_8b2a0088b39741f6968c95f40ff787e6",
       "IPY_MODEL_cf5fb8e067be464bb14a1cf5e8b4e2de"
      ],
      "layout": "IPY_MODEL_0a3d339ba81a4f22b893250502c493af"
     }
    },
    "8b2a0088b39741f6968c95f40ff787e6": {
     "model_module": "@jupyter-widgets/controls",
     "model_module_version": "1.5.0",
     "model_name": "FloatProgressModel",
     "state": {
      "_dom_classes": [],
      "_model_module": "@jupyter-widgets/controls",
      "_model_module_version": "1.5.0",
      "_model_name": "FloatProgressModel",
      "_view_count": null,
      "_view_module": "@jupyter-widgets/controls",
      "_view_module_version": "1.5.0",
      "_view_name": "ProgressView",
      "bar_style": "success",
      "description": "",
      "description_tooltip": null,
      "layout": "IPY_MODEL_56c90ad0a7fb47d08727a7dac3f68f39",
      "max": 170498071,
      "min": 0,
      "orientation": "horizontal",
      "style": "IPY_MODEL_4691e220a8cb466bb46540f16f65e864",
      "value": 170498071
     }
    },
    "cf5fb8e067be464bb14a1cf5e8b4e2de": {
     "model_module": "@jupyter-widgets/controls",
     "model_module_version": "1.5.0",
     "model_name": "HTMLModel",
     "state": {
      "_dom_classes": [],
      "_model_module": "@jupyter-widgets/controls",
      "_model_module_version": "1.5.0",
      "_model_name": "HTMLModel",
      "_view_count": null,
      "_view_module": "@jupyter-widgets/controls",
      "_view_module_version": "1.5.0",
      "_view_name": "HTMLView",
      "description": "",
      "description_tooltip": null,
      "layout": "IPY_MODEL_7c95c188ecf242de9776dcfd3e3fc8d2",
      "placeholder": "​",
      "style": "IPY_MODEL_619c9ef51fc5497f81b4af88db9214cc",
      "value": " 170498071/170498071 [00:01&lt;00:00, 97303096.82it/s]"
     }
    },
    "e09dd53ac3044e3097ed084354a52e13": {
     "model_module": "@jupyter-widgets/controls",
     "model_module_version": "1.5.0",
     "model_name": "HTMLModel",
     "state": {
      "_dom_classes": [],
      "_model_module": "@jupyter-widgets/controls",
      "_model_module_version": "1.5.0",
      "_model_name": "HTMLModel",
      "_view_count": null,
      "_view_module": "@jupyter-widgets/controls",
      "_view_module_version": "1.5.0",
      "_view_name": "HTMLView",
      "description": "",
      "description_tooltip": null,
      "layout": "IPY_MODEL_f4c44a600db84290a51877583e18ee26",
      "placeholder": "​",
      "style": "IPY_MODEL_00397590a13d454d8b16fd8d15ae9b41",
      "value": "100%"
     }
    },
    "f4c44a600db84290a51877583e18ee26": {
     "model_module": "@jupyter-widgets/base",
     "model_module_version": "1.2.0",
     "model_name": "LayoutModel",
     "state": {
      "_model_module": "@jupyter-widgets/base",
      "_model_module_version": "1.2.0",
      "_model_name": "LayoutModel",
      "_view_count": null,
      "_view_module": "@jupyter-widgets/base",
      "_view_module_version": "1.2.0",
      "_view_name": "LayoutView",
      "align_content": null,
      "align_items": null,
      "align_self": null,
      "border": null,
      "bottom": null,
      "display": null,
      "flex": null,
      "flex_flow": null,
      "grid_area": null,
      "grid_auto_columns": null,
      "grid_auto_flow": null,
      "grid_auto_rows": null,
      "grid_column": null,
      "grid_gap": null,
      "grid_row": null,
      "grid_template_areas": null,
      "grid_template_columns": null,
      "grid_template_rows": null,
      "height": null,
      "justify_content": null,
      "justify_items": null,
      "left": null,
      "margin": null,
      "max_height": null,
      "max_width": null,
      "min_height": null,
      "min_width": null,
      "object_fit": null,
      "object_position": null,
      "order": null,
      "overflow": null,
      "overflow_x": null,
      "overflow_y": null,
      "padding": null,
      "right": null,
      "top": null,
      "visibility": null,
      "width": null
     }
    }
   }
  }
 },
 "nbformat": 4,
 "nbformat_minor": 5
}
