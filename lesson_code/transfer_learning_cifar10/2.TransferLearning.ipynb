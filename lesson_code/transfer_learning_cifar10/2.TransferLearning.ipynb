{
 "cells": [
  {
   "cell_type": "code",
   "execution_count": 1,
   "id": "d4e45a49-974f-4f9c-8642-42e2c45aab71",
   "metadata": {},
   "outputs": [],
   "source": [
    "import torch\n",
    "import torchvision.transforms as transforms\n",
    "import torch.nn as nn\n",
    "import torch.nn.functional as F\n",
    "\n",
    "import numpy as np\n",
    "import matplotlib.pyplot as plt\n",
    "\n",
    "from torchvision.datasets import CIFAR10\n",
    "from torch.utils.data import DataLoader \n",
    "from torch.optim import Adam\n",
    "import torchvision\n",
    "import torchvision.models as models\n",
    "from torchsummary import summary\n",
    "\n",
    "torch.manual_seed(1)\n",
    "device = 'cuda' if torch.cuda.is_available() else 'cpu'"
   ]
  },
  {
   "cell_type": "code",
   "execution_count": null,
   "id": "42432066-6cf0-416b-961a-adb1e3217204",
   "metadata": {},
   "outputs": [],
   "source": []
  },
  {
   "cell_type": "markdown",
   "id": "f913360b-019e-4d69-a540-b7b5715544e1",
   "metadata": {},
   "source": [
    "## Data"
   ]
  },
  {
   "cell_type": "code",
   "execution_count": 2,
   "id": "3ad21976-2d99-49b7-b0b5-84e9ebcd371e",
   "metadata": {},
   "outputs": [
    {
     "name": "stdout",
     "output_type": "stream",
     "text": [
      "Files already downloaded and verified\n",
      "Files already downloaded and verified\n"
     ]
    }
   ],
   "source": [
    "train_transform = transforms.Compose(\n",
    "    [\n",
    "        transforms.ToTensor(),\n",
    "        transforms.Normalize([0.4914, 0.4822, 0.4465], \n",
    "                             [0.2470, 0.2435, 0.2616]),\n",
    "        transforms.RandomErasing(p=0.75,\n",
    "                                 scale=(0.01, 0.3),\n",
    "                                 ratio=(1.0, 1.0),\n",
    "                                 value=0,\n",
    "                                 inplace =True)\n",
    "    ])\n",
    "\n",
    "val_transform = transforms.Compose(\n",
    "    [\n",
    "        transforms.ToTensor(),\n",
    "        transforms.Normalize([0.4914, 0.4822, 0.4465], \n",
    "                             [0.2470, 0.2435, 0.2616])\n",
    "    ])\n",
    "\n",
    "train_set = CIFAR10(\n",
    "    root='./data', \n",
    "    train=True,\n",
    "    download=True, \n",
    "    transform=train_transform\n",
    ")\n",
    "\n",
    "val_set = CIFAR10(\n",
    "    root='./data', \n",
    "    train=False,\n",
    "    download=True, \n",
    "    transform=val_transform\n",
    ")\n",
    "\n",
    "trainloader = DataLoader(\n",
    "    train_set, \n",
    "    batch_size=batch_size,\n",
    "    shuffle=True,\n",
    "    num_workers=10\n",
    ")\n",
    "\n",
    "testloader = DataLoader(\n",
    "    val_set, \n",
    "    batch_size=batch_size,\n",
    "    shuffle=False, \n",
    "    num_workers=10\n",
    ")"
   ]
  },
  {
   "cell_type": "code",
   "execution_count": null,
   "id": "cf229497-4b6e-443d-b330-66b6fa139fcd",
   "metadata": {},
   "outputs": [],
   "source": []
  },
  {
   "cell_type": "markdown",
   "id": "6ea0dde8-29e7-4096-bd15-6a5ed74655f0",
   "metadata": {},
   "source": [
    "## Model"
   ]
  },
  {
   "cell_type": "code",
   "execution_count": 3,
   "id": "667fc692-e195-4fe1-94c0-1fda94be7849",
   "metadata": {},
   "outputs": [
    {
     "name": "stdout",
     "output_type": "stream",
     "text": [
      ": Not trainable\n",
      "0: Not trainable\n",
      "1: Not trainable\n",
      "2: Not trainable\n",
      "3: Not trainable\n",
      "4: Not trainable\n",
      "5: Not trainable\n",
      "6: Not trainable\n",
      "7: Not trainable\n",
      "8: Not trainable\n",
      "9: Not trainable\n",
      "10: Not trainable\n",
      "11: Not trainable\n",
      "12: Not trainable\n",
      "13: Not trainable\n",
      "14: Not trainable\n",
      "15: Not trainable\n",
      "16: Not trainable\n",
      "17: Not trainable\n",
      "18: Not trainable\n",
      "19: Not trainable\n",
      "20: Not trainable\n",
      "21: Not trainable\n",
      "22: Not trainable\n",
      "23: Not trainable\n",
      "24: Not trainable\n",
      "25: Not trainable\n",
      "26: Not trainable\n",
      "27: Not trainable\n",
      "28: Not trainable\n",
      "29: Not trainable\n",
      "30: Not trainable\n"
     ]
    }
   ],
   "source": [
    "# Load the pretrained VGG16 model\n",
    "vgg16 = models.vgg16(weights=models.VGG16_Weights.DEFAULT)\n",
    "f_extractor = vgg16.features\n",
    "\n",
    "# Freeze the feature extraction part (all layers up to the classifier)\n",
    "for param in f_extractor.parameters():\n",
    "    param.requires_grad = False\n",
    "\n",
    "for name, module in f_extractor.named_modules():\n",
    "    if hasattr(module, 'parameters'):\n",
    "        is_trainable = any(param.requires_grad for param in module.parameters())\n",
    "        print(f\"{name}: {'Trainable' if is_trainable else 'Not trainable'}\")"
   ]
  },
  {
   "cell_type": "code",
   "execution_count": 4,
   "id": "c8516821-d41b-42a8-9e51-ddfb8f9ec87e",
   "metadata": {},
   "outputs": [
    {
     "name": "stdout",
     "output_type": "stream",
     "text": [
      "==========================================================================================\n",
      "Layer (type:depth-idx)                   Output Shape              Param #\n",
      "==========================================================================================\n",
      "├─Sequential: 1-1                        [-1, 512, 1, 1]           --\n",
      "|    └─Conv2d: 2-1                       [-1, 64, 32, 32]          (1,792)\n",
      "|    └─ReLU: 2-2                         [-1, 64, 32, 32]          --\n",
      "|    └─Conv2d: 2-3                       [-1, 64, 32, 32]          (36,928)\n",
      "|    └─ReLU: 2-4                         [-1, 64, 32, 32]          --\n",
      "|    └─MaxPool2d: 2-5                    [-1, 64, 16, 16]          --\n",
      "|    └─Conv2d: 2-6                       [-1, 128, 16, 16]         (73,856)\n",
      "|    └─ReLU: 2-7                         [-1, 128, 16, 16]         --\n",
      "|    └─Conv2d: 2-8                       [-1, 128, 16, 16]         (147,584)\n",
      "|    └─ReLU: 2-9                         [-1, 128, 16, 16]         --\n",
      "|    └─MaxPool2d: 2-10                   [-1, 128, 8, 8]           --\n",
      "|    └─Conv2d: 2-11                      [-1, 256, 8, 8]           (295,168)\n",
      "|    └─ReLU: 2-12                        [-1, 256, 8, 8]           --\n",
      "|    └─Conv2d: 2-13                      [-1, 256, 8, 8]           (590,080)\n",
      "|    └─ReLU: 2-14                        [-1, 256, 8, 8]           --\n",
      "|    └─Conv2d: 2-15                      [-1, 256, 8, 8]           (590,080)\n",
      "|    └─ReLU: 2-16                        [-1, 256, 8, 8]           --\n",
      "|    └─MaxPool2d: 2-17                   [-1, 256, 4, 4]           --\n",
      "|    └─Conv2d: 2-18                      [-1, 512, 4, 4]           (1,180,160)\n",
      "|    └─ReLU: 2-19                        [-1, 512, 4, 4]           --\n",
      "|    └─Conv2d: 2-20                      [-1, 512, 4, 4]           (2,359,808)\n",
      "|    └─ReLU: 2-21                        [-1, 512, 4, 4]           --\n",
      "|    └─Conv2d: 2-22                      [-1, 512, 4, 4]           (2,359,808)\n",
      "|    └─ReLU: 2-23                        [-1, 512, 4, 4]           --\n",
      "|    └─MaxPool2d: 2-24                   [-1, 512, 2, 2]           --\n",
      "|    └─Conv2d: 2-25                      [-1, 512, 2, 2]           (2,359,808)\n",
      "|    └─ReLU: 2-26                        [-1, 512, 2, 2]           --\n",
      "|    └─Conv2d: 2-27                      [-1, 512, 2, 2]           (2,359,808)\n",
      "|    └─ReLU: 2-28                        [-1, 512, 2, 2]           --\n",
      "|    └─Conv2d: 2-29                      [-1, 512, 2, 2]           (2,359,808)\n",
      "|    └─ReLU: 2-30                        [-1, 512, 2, 2]           --\n",
      "|    └─MaxPool2d: 2-31                   [-1, 512, 1, 1]           --\n",
      "├─Flatten: 1-2                           [-1, 512]                 --\n",
      "├─Dropout: 1-3                           [-1, 512]                 --\n",
      "├─Linear: 1-4                            [-1, 10]                  5,130\n",
      "==========================================================================================\n",
      "Total params: 14,719,818\n",
      "Trainable params: 5,130\n",
      "Non-trainable params: 14,714,688\n",
      "Total mult-adds (M): 327.91\n",
      "==========================================================================================\n",
      "Input size (MB): 0.01\n",
      "Forward/backward pass size (MB): 2.11\n",
      "Params size (MB): 56.15\n",
      "Estimated Total Size (MB): 58.27\n",
      "==========================================================================================\n"
     ]
    },
    {
     "data": {
      "text/plain": [
       "==========================================================================================\n",
       "Layer (type:depth-idx)                   Output Shape              Param #\n",
       "==========================================================================================\n",
       "├─Sequential: 1-1                        [-1, 512, 1, 1]           --\n",
       "|    └─Conv2d: 2-1                       [-1, 64, 32, 32]          (1,792)\n",
       "|    └─ReLU: 2-2                         [-1, 64, 32, 32]          --\n",
       "|    └─Conv2d: 2-3                       [-1, 64, 32, 32]          (36,928)\n",
       "|    └─ReLU: 2-4                         [-1, 64, 32, 32]          --\n",
       "|    └─MaxPool2d: 2-5                    [-1, 64, 16, 16]          --\n",
       "|    └─Conv2d: 2-6                       [-1, 128, 16, 16]         (73,856)\n",
       "|    └─ReLU: 2-7                         [-1, 128, 16, 16]         --\n",
       "|    └─Conv2d: 2-8                       [-1, 128, 16, 16]         (147,584)\n",
       "|    └─ReLU: 2-9                         [-1, 128, 16, 16]         --\n",
       "|    └─MaxPool2d: 2-10                   [-1, 128, 8, 8]           --\n",
       "|    └─Conv2d: 2-11                      [-1, 256, 8, 8]           (295,168)\n",
       "|    └─ReLU: 2-12                        [-1, 256, 8, 8]           --\n",
       "|    └─Conv2d: 2-13                      [-1, 256, 8, 8]           (590,080)\n",
       "|    └─ReLU: 2-14                        [-1, 256, 8, 8]           --\n",
       "|    └─Conv2d: 2-15                      [-1, 256, 8, 8]           (590,080)\n",
       "|    └─ReLU: 2-16                        [-1, 256, 8, 8]           --\n",
       "|    └─MaxPool2d: 2-17                   [-1, 256, 4, 4]           --\n",
       "|    └─Conv2d: 2-18                      [-1, 512, 4, 4]           (1,180,160)\n",
       "|    └─ReLU: 2-19                        [-1, 512, 4, 4]           --\n",
       "|    └─Conv2d: 2-20                      [-1, 512, 4, 4]           (2,359,808)\n",
       "|    └─ReLU: 2-21                        [-1, 512, 4, 4]           --\n",
       "|    └─Conv2d: 2-22                      [-1, 512, 4, 4]           (2,359,808)\n",
       "|    └─ReLU: 2-23                        [-1, 512, 4, 4]           --\n",
       "|    └─MaxPool2d: 2-24                   [-1, 512, 2, 2]           --\n",
       "|    └─Conv2d: 2-25                      [-1, 512, 2, 2]           (2,359,808)\n",
       "|    └─ReLU: 2-26                        [-1, 512, 2, 2]           --\n",
       "|    └─Conv2d: 2-27                      [-1, 512, 2, 2]           (2,359,808)\n",
       "|    └─ReLU: 2-28                        [-1, 512, 2, 2]           --\n",
       "|    └─Conv2d: 2-29                      [-1, 512, 2, 2]           (2,359,808)\n",
       "|    └─ReLU: 2-30                        [-1, 512, 2, 2]           --\n",
       "|    └─MaxPool2d: 2-31                   [-1, 512, 1, 1]           --\n",
       "├─Flatten: 1-2                           [-1, 512]                 --\n",
       "├─Dropout: 1-3                           [-1, 512]                 --\n",
       "├─Linear: 1-4                            [-1, 10]                  5,130\n",
       "==========================================================================================\n",
       "Total params: 14,719,818\n",
       "Trainable params: 5,130\n",
       "Non-trainable params: 14,714,688\n",
       "Total mult-adds (M): 327.91\n",
       "==========================================================================================\n",
       "Input size (MB): 0.01\n",
       "Forward/backward pass size (MB): 2.11\n",
       "Params size (MB): 56.15\n",
       "Estimated Total Size (MB): 58.27\n",
       "=========================================================================================="
      ]
     },
     "execution_count": 4,
     "metadata": {},
     "output_type": "execute_result"
    }
   ],
   "source": [
    "model = nn.Sequential(f_extractor, \n",
    "                      nn.Flatten(), \n",
    "                      nn.Dropout(), \n",
    "                      nn.Linear(512, 10))\n",
    "model.to(device)\n",
    "summary(model, (3, 32, 32))"
   ]
  },
  {
   "cell_type": "code",
   "execution_count": null,
   "id": "9b8b7cc7-f67c-4ba0-ba21-ac2ed717f674",
   "metadata": {},
   "outputs": [],
   "source": []
  },
  {
   "cell_type": "markdown",
   "id": "43c7b151-a199-4e2a-8015-fdfb5f166284",
   "metadata": {},
   "source": [
    "# Train"
   ]
  },
  {
   "cell_type": "code",
   "execution_count": 5,
   "id": "1464e2bd-b627-475d-9941-f2a930d69a14",
   "metadata": {},
   "outputs": [],
   "source": [
    "criterion = nn.CrossEntropyLoss()\n",
    "optimizer = Adam(model.parameters(), lr=1e-4)  "
   ]
  },
  {
   "cell_type": "code",
   "execution_count": 6,
   "id": "04744c84-1e6d-4bfb-8dd5-abbdc91f102e",
   "metadata": {},
   "outputs": [],
   "source": [
    "# Function to compute loss and accuracy for test set\n",
    "def evaluate(model, testloader, criterion):\n",
    "    model.eval()\n",
    "    test_loss = 0.0\n",
    "    running_correct = 0\n",
    "    total = 0\n",
    "    with torch.no_grad():\n",
    "        for images, labels in testloader:\n",
    "            # Move inputs and labels to the device\n",
    "            images, labels = images.to(device), labels.to(device)\n",
    "\n",
    "            outputs = model(images)\n",
    "            loss = criterion(outputs, labels)\n",
    "            test_loss += loss.item()\n",
    "            \n",
    "            _, predicted = torch.max(outputs.data, 1)\n",
    "            total += labels.size(0)\n",
    "            running_correct += (predicted == labels).sum().item()\n",
    "\n",
    "    accuracy = 100 * running_correct / total\n",
    "    test_loss = test_loss / len(testloader)\n",
    "    return test_loss, accuracy"
   ]
  },
  {
   "cell_type": "code",
   "execution_count": 7,
   "id": "f2402591-e7f7-4bdd-8962-c029cfcd9307",
   "metadata": {},
   "outputs": [],
   "source": [
    "# some parameter\n",
    "train_losses = []\n",
    "train_accuracies = []\n",
    "test_losses = []\n",
    "test_accuracies = []\n",
    "max_epoch = 100"
   ]
  },
  {
   "cell_type": "code",
   "execution_count": 8,
   "id": "190a58e1-0864-4818-a8d2-0f83212c6d13",
   "metadata": {},
   "outputs": [
    {
     "name": "stdout",
     "output_type": "stream",
     "text": [
      "Epoch [1/100], Loss: 2.2315, Accuracy: 21.27%, Test Loss: 1.7048, Test Accuracy: 43.39%\n",
      "Epoch [2/100], Loss: 1.8017, Accuracy: 36.14%, Test Loss: 1.4506, Test Accuracy: 52.44%\n",
      "Epoch [3/100], Loss: 1.6368, Accuracy: 42.34%, Test Loss: 1.3361, Test Accuracy: 55.75%\n",
      "Epoch [4/100], Loss: 1.5552, Accuracy: 45.09%, Test Loss: 1.2706, Test Accuracy: 57.50%\n",
      "Epoch [5/100], Loss: 1.5051, Accuracy: 47.18%, Test Loss: 1.2279, Test Accuracy: 58.78%\n",
      "Epoch [6/100], Loss: 1.4663, Accuracy: 48.31%, Test Loss: 1.1985, Test Accuracy: 59.73%\n",
      "Epoch [7/100], Loss: 1.4442, Accuracy: 49.50%, Test Loss: 1.1775, Test Accuracy: 60.43%\n",
      "Epoch [8/100], Loss: 1.4301, Accuracy: 49.72%, Test Loss: 1.1598, Test Accuracy: 61.20%\n",
      "Epoch [9/100], Loss: 1.4119, Accuracy: 50.61%, Test Loss: 1.1477, Test Accuracy: 61.67%\n",
      "Epoch [10/100], Loss: 1.3961, Accuracy: 51.01%, Test Loss: 1.1385, Test Accuracy: 61.99%\n",
      "Epoch [11/100], Loss: 1.3899, Accuracy: 51.13%, Test Loss: 1.1283, Test Accuracy: 62.02%\n",
      "Epoch [12/100], Loss: 1.3842, Accuracy: 51.40%, Test Loss: 1.1184, Test Accuracy: 62.64%\n",
      "Epoch [13/100], Loss: 1.3765, Accuracy: 51.81%, Test Loss: 1.1127, Test Accuracy: 62.59%\n",
      "Epoch [14/100], Loss: 1.3740, Accuracy: 51.74%, Test Loss: 1.1072, Test Accuracy: 62.76%\n",
      "Epoch [15/100], Loss: 1.3712, Accuracy: 51.87%, Test Loss: 1.1032, Test Accuracy: 62.78%\n",
      "Epoch [16/100], Loss: 1.3633, Accuracy: 52.29%, Test Loss: 1.0981, Test Accuracy: 62.96%\n",
      "Epoch [17/100], Loss: 1.3640, Accuracy: 52.10%, Test Loss: 1.0962, Test Accuracy: 63.05%\n",
      "Epoch [18/100], Loss: 1.3629, Accuracy: 51.99%, Test Loss: 1.0924, Test Accuracy: 62.96%\n",
      "Epoch [19/100], Loss: 1.3596, Accuracy: 52.21%, Test Loss: 1.0874, Test Accuracy: 63.26%\n",
      "Epoch [20/100], Loss: 1.3569, Accuracy: 51.99%, Test Loss: 1.0853, Test Accuracy: 63.27%\n",
      "Epoch [21/100], Loss: 1.3503, Accuracy: 52.51%, Test Loss: 1.0847, Test Accuracy: 63.28%\n",
      "Epoch [22/100], Loss: 1.3549, Accuracy: 52.57%, Test Loss: 1.0810, Test Accuracy: 63.46%\n",
      "Epoch [23/100], Loss: 1.3503, Accuracy: 52.55%, Test Loss: 1.0775, Test Accuracy: 63.56%\n",
      "Epoch [24/100], Loss: 1.3572, Accuracy: 52.69%, Test Loss: 1.0796, Test Accuracy: 63.35%\n",
      "Epoch [25/100], Loss: 1.3537, Accuracy: 52.54%, Test Loss: 1.0771, Test Accuracy: 63.38%\n",
      "Epoch [26/100], Loss: 1.3459, Accuracy: 52.67%, Test Loss: 1.0759, Test Accuracy: 63.51%\n",
      "Epoch [27/100], Loss: 1.3455, Accuracy: 52.69%, Test Loss: 1.0748, Test Accuracy: 63.52%\n",
      "Epoch [28/100], Loss: 1.3440, Accuracy: 52.83%, Test Loss: 1.0717, Test Accuracy: 63.70%\n",
      "Epoch [29/100], Loss: 1.3427, Accuracy: 52.67%, Test Loss: 1.0719, Test Accuracy: 63.67%\n",
      "Epoch [30/100], Loss: 1.3455, Accuracy: 52.77%, Test Loss: 1.0693, Test Accuracy: 63.74%\n",
      "Epoch [31/100], Loss: 1.3376, Accuracy: 53.01%, Test Loss: 1.0678, Test Accuracy: 63.82%\n",
      "Epoch [32/100], Loss: 1.3431, Accuracy: 52.97%, Test Loss: 1.0675, Test Accuracy: 63.79%\n",
      "Epoch [33/100], Loss: 1.3442, Accuracy: 52.90%, Test Loss: 1.0660, Test Accuracy: 63.76%\n",
      "Epoch [34/100], Loss: 1.3461, Accuracy: 52.70%, Test Loss: 1.0669, Test Accuracy: 63.71%\n",
      "Epoch [35/100], Loss: 1.3454, Accuracy: 52.85%, Test Loss: 1.0654, Test Accuracy: 63.78%\n",
      "Epoch [36/100], Loss: 1.3393, Accuracy: 53.12%, Test Loss: 1.0639, Test Accuracy: 63.90%\n",
      "Epoch [37/100], Loss: 1.3465, Accuracy: 52.59%, Test Loss: 1.0649, Test Accuracy: 63.89%\n",
      "Epoch [38/100], Loss: 1.3414, Accuracy: 52.97%, Test Loss: 1.0657, Test Accuracy: 63.91%\n",
      "Epoch [39/100], Loss: 1.3421, Accuracy: 52.87%, Test Loss: 1.0641, Test Accuracy: 63.70%\n",
      "Epoch [40/100], Loss: 1.3423, Accuracy: 52.85%, Test Loss: 1.0651, Test Accuracy: 63.80%\n",
      "Epoch [41/100], Loss: 1.3361, Accuracy: 52.90%, Test Loss: 1.0631, Test Accuracy: 64.10%\n",
      "Epoch [42/100], Loss: 1.3428, Accuracy: 52.72%, Test Loss: 1.0617, Test Accuracy: 64.08%\n",
      "Epoch [43/100], Loss: 1.3449, Accuracy: 52.86%, Test Loss: 1.0631, Test Accuracy: 64.02%\n",
      "Epoch [44/100], Loss: 1.3415, Accuracy: 52.92%, Test Loss: 1.0642, Test Accuracy: 63.76%\n",
      "Epoch [45/100], Loss: 1.3431, Accuracy: 52.89%, Test Loss: 1.0628, Test Accuracy: 63.87%\n",
      "Epoch [46/100], Loss: 1.3357, Accuracy: 53.02%, Test Loss: 1.0614, Test Accuracy: 64.02%\n",
      "Epoch [47/100], Loss: 1.3379, Accuracy: 53.10%, Test Loss: 1.0601, Test Accuracy: 63.94%\n",
      "Epoch [48/100], Loss: 1.3377, Accuracy: 52.86%, Test Loss: 1.0621, Test Accuracy: 63.90%\n",
      "Epoch [49/100], Loss: 1.3347, Accuracy: 53.02%, Test Loss: 1.0632, Test Accuracy: 63.73%\n",
      "Epoch [50/100], Loss: 1.3440, Accuracy: 52.64%, Test Loss: 1.0609, Test Accuracy: 64.02%\n",
      "Epoch [51/100], Loss: 1.3341, Accuracy: 53.13%, Test Loss: 1.0609, Test Accuracy: 63.94%\n",
      "Epoch [52/100], Loss: 1.3354, Accuracy: 52.99%, Test Loss: 1.0616, Test Accuracy: 63.84%\n",
      "Epoch [53/100], Loss: 1.3378, Accuracy: 53.01%, Test Loss: 1.0603, Test Accuracy: 64.03%\n",
      "Epoch [54/100], Loss: 1.3355, Accuracy: 53.13%, Test Loss: 1.0620, Test Accuracy: 64.03%\n",
      "Epoch [55/100], Loss: 1.3345, Accuracy: 53.06%, Test Loss: 1.0592, Test Accuracy: 64.01%\n",
      "Epoch [56/100], Loss: 1.3414, Accuracy: 52.75%, Test Loss: 1.0588, Test Accuracy: 64.09%\n",
      "Epoch [57/100], Loss: 1.3343, Accuracy: 53.02%, Test Loss: 1.0597, Test Accuracy: 63.95%\n",
      "Epoch [58/100], Loss: 1.3373, Accuracy: 52.99%, Test Loss: 1.0586, Test Accuracy: 63.97%\n",
      "Epoch [59/100], Loss: 1.3367, Accuracy: 53.22%, Test Loss: 1.0593, Test Accuracy: 63.95%\n",
      "Epoch [60/100], Loss: 1.3372, Accuracy: 52.97%, Test Loss: 1.0576, Test Accuracy: 64.12%\n",
      "Epoch [61/100], Loss: 1.3402, Accuracy: 52.90%, Test Loss: 1.0609, Test Accuracy: 63.72%\n",
      "Epoch [62/100], Loss: 1.3368, Accuracy: 53.01%, Test Loss: 1.0596, Test Accuracy: 63.98%\n",
      "Epoch [63/100], Loss: 1.3315, Accuracy: 53.13%, Test Loss: 1.0579, Test Accuracy: 64.00%\n",
      "Epoch [64/100], Loss: 1.3381, Accuracy: 52.84%, Test Loss: 1.0581, Test Accuracy: 64.01%\n",
      "Epoch [65/100], Loss: 1.3369, Accuracy: 53.11%, Test Loss: 1.0583, Test Accuracy: 63.93%\n",
      "Epoch [66/100], Loss: 1.3405, Accuracy: 52.97%, Test Loss: 1.0575, Test Accuracy: 64.01%\n",
      "Epoch [67/100], Loss: 1.3376, Accuracy: 53.11%, Test Loss: 1.0586, Test Accuracy: 63.98%\n",
      "Epoch [68/100], Loss: 1.3434, Accuracy: 52.75%, Test Loss: 1.0584, Test Accuracy: 63.97%\n",
      "Epoch [69/100], Loss: 1.3355, Accuracy: 53.41%, Test Loss: 1.0573, Test Accuracy: 63.97%\n",
      "Epoch [70/100], Loss: 1.3385, Accuracy: 52.99%, Test Loss: 1.0581, Test Accuracy: 63.88%\n",
      "Epoch [71/100], Loss: 1.3381, Accuracy: 52.95%, Test Loss: 1.0573, Test Accuracy: 64.25%\n",
      "Epoch [72/100], Loss: 1.3375, Accuracy: 53.21%, Test Loss: 1.0594, Test Accuracy: 64.00%\n",
      "Epoch [73/100], Loss: 1.3344, Accuracy: 53.34%, Test Loss: 1.0571, Test Accuracy: 64.17%\n",
      "Epoch [74/100], Loss: 1.3401, Accuracy: 52.66%, Test Loss: 1.0580, Test Accuracy: 64.00%\n",
      "Epoch [75/100], Loss: 1.3350, Accuracy: 53.01%, Test Loss: 1.0569, Test Accuracy: 64.08%\n",
      "Epoch [76/100], Loss: 1.3320, Accuracy: 53.40%, Test Loss: 1.0576, Test Accuracy: 64.12%\n",
      "Epoch [77/100], Loss: 1.3357, Accuracy: 53.08%, Test Loss: 1.0573, Test Accuracy: 64.15%\n",
      "Epoch [78/100], Loss: 1.3387, Accuracy: 52.86%, Test Loss: 1.0581, Test Accuracy: 63.97%\n",
      "Epoch [79/100], Loss: 1.3385, Accuracy: 52.86%, Test Loss: 1.0576, Test Accuracy: 64.15%\n",
      "Epoch [80/100], Loss: 1.3342, Accuracy: 53.11%, Test Loss: 1.0560, Test Accuracy: 64.31%\n",
      "Epoch [81/100], Loss: 1.3369, Accuracy: 53.03%, Test Loss: 1.0563, Test Accuracy: 64.15%\n",
      "Epoch [82/100], Loss: 1.3319, Accuracy: 53.37%, Test Loss: 1.0572, Test Accuracy: 64.15%\n",
      "Epoch [83/100], Loss: 1.3363, Accuracy: 52.98%, Test Loss: 1.0535, Test Accuracy: 64.38%\n",
      "Epoch [84/100], Loss: 1.3350, Accuracy: 53.23%, Test Loss: 1.0558, Test Accuracy: 64.01%\n",
      "Epoch [85/100], Loss: 1.3353, Accuracy: 53.25%, Test Loss: 1.0564, Test Accuracy: 64.00%\n",
      "Epoch [86/100], Loss: 1.3294, Accuracy: 53.43%, Test Loss: 1.0559, Test Accuracy: 64.16%\n",
      "Epoch [87/100], Loss: 1.3394, Accuracy: 52.65%, Test Loss: 1.0554, Test Accuracy: 64.44%\n",
      "Epoch [88/100], Loss: 1.3416, Accuracy: 53.01%, Test Loss: 1.0551, Test Accuracy: 64.23%\n",
      "Epoch [89/100], Loss: 1.3373, Accuracy: 52.88%, Test Loss: 1.0549, Test Accuracy: 64.23%\n",
      "Epoch [90/100], Loss: 1.3432, Accuracy: 52.75%, Test Loss: 1.0548, Test Accuracy: 64.32%\n",
      "Epoch [91/100], Loss: 1.3366, Accuracy: 53.06%, Test Loss: 1.0555, Test Accuracy: 64.33%\n",
      "Epoch [92/100], Loss: 1.3418, Accuracy: 53.01%, Test Loss: 1.0558, Test Accuracy: 64.15%\n",
      "Epoch [93/100], Loss: 1.3364, Accuracy: 52.97%, Test Loss: 1.0567, Test Accuracy: 64.20%\n",
      "Epoch [94/100], Loss: 1.3412, Accuracy: 52.90%, Test Loss: 1.0569, Test Accuracy: 64.12%\n",
      "Epoch [95/100], Loss: 1.3398, Accuracy: 52.94%, Test Loss: 1.0564, Test Accuracy: 64.08%\n",
      "Epoch [96/100], Loss: 1.3383, Accuracy: 53.11%, Test Loss: 1.0557, Test Accuracy: 63.94%\n",
      "Epoch [97/100], Loss: 1.3372, Accuracy: 52.99%, Test Loss: 1.0547, Test Accuracy: 64.25%\n",
      "Epoch [98/100], Loss: 1.3403, Accuracy: 52.77%, Test Loss: 1.0550, Test Accuracy: 63.96%\n",
      "Epoch [99/100], Loss: 1.3399, Accuracy: 53.02%, Test Loss: 1.0551, Test Accuracy: 63.98%\n",
      "Epoch [100/100], Loss: 1.3351, Accuracy: 53.10%, Test Loss: 1.0542, Test Accuracy: 64.10%\n"
     ]
    }
   ],
   "source": [
    "# train\n",
    "for epoch in range(max_epoch):\n",
    "    model.train()\n",
    "    running_loss = 0.0\n",
    "    running_correct = 0   # to track number of correct predictions\n",
    "    total = 0             # to track total number of samples\n",
    "\n",
    "    for i, (inputs, labels) in enumerate(trainloader, 0):\n",
    "        # Move inputs and labels to the device\n",
    "        inputs, labels = inputs.to(device), labels.to(device)\n",
    "\n",
    "        # Zero the parameter gradients\n",
    "        optimizer.zero_grad()\n",
    "\n",
    "        # Forward pass\n",
    "        outputs = model(inputs)\n",
    "        loss = criterion(outputs, labels)\n",
    "        running_loss += loss.item()\n",
    "\n",
    "        # Backward pass and optimization\n",
    "        loss.backward()\n",
    "        optimizer.step()  \n",
    "    \n",
    "        # Determine class predictions and track accuracy\n",
    "        _, predicted = torch.max(outputs.data, 1)\n",
    "        total += labels.size(0)\n",
    "        running_correct += (predicted == labels).sum().item()\n",
    "\n",
    "\n",
    "    epoch_accuracy = 100 * running_correct / total\n",
    "    epoch_loss = running_loss / (i + 1)\n",
    "    \n",
    "    test_loss, test_accuracy = evaluate(model, testloader, criterion)\n",
    "    print(f\"Epoch [{epoch + 1}/{max_epoch}], Loss: {epoch_loss:.4f}, Accuracy: {epoch_accuracy:.2f}%, Test Loss: {test_loss:.4f}, Test Accuracy: {test_accuracy:.2f}%\")\n",
    "    \n",
    "    # save for plot\n",
    "    train_losses.append(epoch_loss)\n",
    "    train_accuracies.append(epoch_accuracy)\n",
    "    test_losses.append(test_loss)\n",
    "    test_accuracies.append(test_accuracy)"
   ]
  },
  {
   "cell_type": "code",
   "execution_count": null,
   "id": "cebcb439-88f2-40b6-9a17-4990ad324731",
   "metadata": {},
   "outputs": [],
   "source": []
  },
  {
   "cell_type": "code",
   "execution_count": 9,
   "id": "DkC3_902Lgn-",
   "metadata": {
    "executionInfo": {
     "elapsed": 3,
     "status": "ok",
     "timestamp": 1673091684322,
     "user": {
      "displayName": "Thắng Dương Đình",
      "userId": "02196529682032971345"
     },
     "user_tz": -420
    },
    "id": "DkC3_902Lgn-"
   },
   "outputs": [
    {
     "data": {
      "text/plain": [
       "<matplotlib.legend.Legend at 0x7fc065f2f130>"
      ]
     },
     "execution_count": 9,
     "metadata": {},
     "output_type": "execute_result"
    },
    {
     "data": {
      "image/png": "[encoded data removed]",
      "text/plain": [
       "<Figure size 640x480 with 1 Axes>"
      ]
     },
     "metadata": {},
     "output_type": "display_data"
    }
   ],
   "source": [
    "import matplotlib.pyplot as plt\n",
    "\n",
    "plt.plot(train_losses, label='train_losses')\n",
    "plt.plot(test_losses, label='test_losses')\n",
    "plt.legend()"
   ]
  },
  {
   "cell_type": "code",
   "execution_count": 10,
   "id": "794f4e81",
   "metadata": {
    "executionInfo": {
     "elapsed": 8,
     "status": "ok",
     "timestamp": 1673092872464,
     "user": {
      "displayName": "Thắng Dương Đình",
      "userId": "02196529682032971345"
     },
     "user_tz": -420
    },
    "id": "794f4e81"
   },
   "outputs": [
    {
     "data": {
      "text/plain": [
       "<matplotlib.legend.Legend at 0x7fbf6072ee60>"
      ]
     },
     "execution_count": 10,
     "metadata": {},
     "output_type": "execute_result"
    },
    {
     "data": {
      "image/png": "[encoded data removed]",
      "text/plain": [
       "<Figure size 640x480 with 1 Axes>"
      ]
     },
     "metadata": {},
     "output_type": "display_data"
    }
   ],
   "source": [
    "import matplotlib.pyplot as plt\n",
    "\n",
    "plt.plot(train_accuracies, label='train_accuracy')\n",
    "plt.plot(test_accuracies, label='test_accuracy')\n",
    "plt.legend()"
   ]
  },
  {
   "cell_type": "code",
   "execution_count": null,
   "id": "a2ec7c96-ff05-4863-92e7-c45f2f0e3d03",
   "metadata": {},
   "outputs": [],
   "source": []
  },
  {
   "cell_type": "code",
   "execution_count": null,
   "id": "8c86325e-7b6c-43a6-b315-93e02bcdb264",
   "metadata": {},
   "outputs": [],
   "source": []
  },
  {
   "cell_type": "code",
   "execution_count": 11,
   "id": "d2a401f6-9ed4-4dee-9e95-f65826e2d92d",
   "metadata": {},
   "outputs": [
    {
     "data": {
      "text/plain": [
       "<matplotlib.legend.Legend at 0x7fbf60091660>"
      ]
     },
     "execution_count": 11,
     "metadata": {},
     "output_type": "execute_result"
    }
   ],
   "source": [
    "import matplotlib.pyplot as plt\n",
    "%matplotlib qt\n",
    "\n",
    "plt.plot(train_losses, label='train_losses')\n",
    "plt.plot(test_losses, label='test_losses')\n",
    "plt.legend()"
   ]
  },
  {
   "cell_type": "code",
   "execution_count": 12,
   "id": "b4d1601e-a633-4f04-b476-7288856e1971",
   "metadata": {},
   "outputs": [
    {
     "data": {
      "text/plain": [
       "<matplotlib.legend.Legend at 0x7fbf74169780>"
      ]
     },
     "execution_count": 12,
     "metadata": {},
     "output_type": "execute_result"
    }
   ],
   "source": [
    "import matplotlib.pyplot as plt\n",
    "%matplotlib qt\n",
    "\n",
    "plt.plot(train_accuracies, label='train_accuracy')\n",
    "plt.plot(test_accuracies, label='test_accuracy')\n",
    "plt.legend()"
   ]
  },
  {
   "cell_type": "code",
   "execution_count": null,
   "id": "386d038d-d554-4857-ab4b-fe1314e8937c",
   "metadata": {},
   "outputs": [],
   "source": []
  }
 ],
 "metadata": {
  "accelerator": "GPU",
  "colab": {
   "provenance": []
  },
  "gpuClass": "standard",
  "kernelspec": {
   "display_name": "Python 3 (ipykernel)",
   "language": "python",
   "name": "python3"
  },
  "language_info": {
   "codemirror_mode": {
    "name": "ipython",
    "version": 3
   },
   "file_extension": ".py",
   "mimetype": "text/x-python",
   "name": "python",
   "nbconvert_exporter": "python",
   "pygments_lexer": "ipython3",
   "version": "3.11.5"
  },
  "widgets": {
   "application/vnd.jupyter.widget-state+json": {
    "00397590a13d454d8b16fd8d15ae9b41": {
     "model_module": "@jupyter-widgets/controls",
     "model_module_version": "1.5.0",
     "model_name": "DescriptionStyleModel",
     "state": {
      "_model_module": "@jupyter-widgets/controls",
      "_model_module_version": "1.5.0",
      "_model_name": "DescriptionStyleModel",
      "_view_count": null,
      "_view_module": "@jupyter-widgets/base",
      "_view_module_version": "1.2.0",
      "_view_name": "StyleView",
      "description_width": ""
     }
    },
    "0a3d339ba81a4f22b893250502c493af": {
     "model_module": "@jupyter-widgets/base",
     "model_module_version": "1.2.0",
     "model_name": "LayoutModel",
     "state": {
      "_model_module": "@jupyter-widgets/base",
      "_model_module_version": "1.2.0",
      "_model_name": "LayoutModel",
      "_view_count": null,
      "_view_module": "@jupyter-widgets/base",
      "_view_module_version": "1.2.0",
      "_view_name": "LayoutView",
      "align_content": null,
      "align_items": null,
      "align_self": null,
      "border": null,
      "bottom": null,
      "display": null,
      "flex": null,
      "flex_flow": null,
      "grid_area": null,
      "grid_auto_columns": null,
      "grid_auto_flow": null,
      "grid_auto_rows": null,
      "grid_column": null,
      "grid_gap": null,
      "grid_row": null,
      "grid_template_areas": null,
      "grid_template_columns": null,
      "grid_template_rows": null,
      "height": null,
      "justify_content": null,
      "justify_items": null,
      "left": null,
      "margin": null,
      "max_height": null,
      "max_width": null,
      "min_height": null,
      "min_width": null,
      "object_fit": null,
      "object_position": null,
      "order": null,
      "overflow": null,
      "overflow_x": null,
      "overflow_y": null,
      "padding": null,
      "right": null,
      "top": null,
      "visibility": null,
      "width": null
     }
    },
    "4691e220a8cb466bb46540f16f65e864": {
     "model_module": "@jupyter-widgets/controls",
     "model_module_version": "1.5.0",
     "model_name": "ProgressStyleModel",
     "state": {
      "_model_module": "@jupyter-widgets/controls",
      "_model_module_version": "1.5.0",
      "_model_name": "ProgressStyleModel",
      "_view_count": null,
      "_view_module": "@jupyter-widgets/base",
      "_view_module_version": "1.2.0",
      "_view_name": "StyleView",
      "bar_color": null,
      "description_width": ""
     }
    },
    "56c90ad0a7fb47d08727a7dac3f68f39": {
     "model_module": "@jupyter-widgets/base",
     "model_module_version": "1.2.0",
     "model_name": "LayoutModel",
     "state": {
      "_model_module": "@jupyter-widgets/base",
      "_model_module_version": "1.2.0",
      "_model_name": "LayoutModel",
      "_view_count": null,
      "_view_module": "@jupyter-widgets/base",
      "_view_module_version": "1.2.0",
      "_view_name": "LayoutView",
      "align_content": null,
      "align_items": null,
      "align_self": null,
      "border": null,
      "bottom": null,
      "display": null,
      "flex": null,
      "flex_flow": null,
      "grid_area": null,
      "grid_auto_columns": null,
      "grid_auto_flow": null,
      "grid_auto_rows": null,
      "grid_column": null,
      "grid_gap": null,
      "grid_row": null,
      "grid_template_areas": null,
      "grid_template_columns": null,
      "grid_template_rows": null,
      "height": null,
      "justify_content": null,
      "justify_items": null,
      "left": null,
      "margin": null,
      "max_height": null,
      "max_width": null,
      "min_height": null,
      "min_width": null,
      "object_fit": null,
      "object_position": null,
      "order": null,
      "overflow": null,
      "overflow_x": null,
      "overflow_y": null,
      "padding": null,
      "right": null,
      "top": null,
      "visibility": null,
      "width": null
     }
    },
    "619c9ef51fc5497f81b4af88db9214cc": {
     "model_module": "@jupyter-widgets/controls",
     "model_module_version": "1.5.0",
     "model_name": "DescriptionStyleModel",
     "state": {
      "_model_module": "@jupyter-widgets/controls",
      "_model_module_version": "1.5.0",
      "_model_name": "DescriptionStyleModel",
      "_view_count": null,
      "_view_module": "@jupyter-widgets/base",
      "_view_module_version": "1.2.0",
      "_view_name": "StyleView",
      "description_width": ""
     }
    },
    "7c95c188ecf242de9776dcfd3e3fc8d2": {
     "model_module": "@jupyter-widgets/base",
     "model_module_version": "1.2.0",
     "model_name": "LayoutModel",
     "state": {
      "_model_module": "@jupyter-widgets/base",
      "_model_module_version": "1.2.0",
      "_model_name": "LayoutModel",
      "_view_count": null,
      "_view_module": "@jupyter-widgets/base",
      "_view_module_version": "1.2.0",
      "_view_name": "LayoutView",
      "align_content": null,
      "align_items": null,
      "align_self": null,
      "border": null,
      "bottom": null,
      "display": null,
      "flex": null,
      "flex_flow": null,
      "grid_area": null,
      "grid_auto_columns": null,
      "grid_auto_flow": null,
      "grid_auto_rows": null,
      "grid_column": null,
      "grid_gap": null,
      "grid_row": null,
      "grid_template_areas": null,
      "grid_template_columns": null,
      "grid_template_rows": null,
      "height": null,
      "justify_content": null,
      "justify_items": null,
      "left": null,
      "margin": null,
      "max_height": null,
      "max_width": null,
      "min_height": null,
      "min_width": null,
      "object_fit": null,
      "object_position": null,
      "order": null,
      "overflow": null,
      "overflow_x": null,
      "overflow_y": null,
      "padding": null,
      "right": null,
      "top": null,
      "visibility": null,
      "width": null
     }
    },
    "8a6ed597588f4c07bff4271aeba7c1bb": {
     "model_module": "@jupyter-widgets/controls",
     "model_module_version": "1.5.0",
     "model_name": "HBoxModel",
     "state": {
      "_dom_classes": [],
      "_model_module": "@jupyter-widgets/controls",
      "_model_module_version": "1.5.0",
      "_model_name": "HBoxModel",
      "_view_count": null,
      "_view_module": "@jupyter-widgets/controls",
      "_view_module_version": "1.5.0",
      "_view_name": "HBoxView",
      "box_style": "",
      "children": [
       "IPY_MODEL_e09dd53ac3044e3097ed084354a52e13",
       "IPY_MODEL_8b2a0088b39741f6968c95f40ff787e6",
       "IPY_MODEL_cf5fb8e067be464bb14a1cf5e8b4e2de"
      ],
      "layout": "IPY_MODEL_0a3d339ba81a4f22b893250502c493af"
     }
    },
    "8b2a0088b39741f6968c95f40ff787e6": {
     "model_module": "@jupyter-widgets/controls",
     "model_module_version": "1.5.0",
     "model_name": "FloatProgressModel",
     "state": {
      "_dom_classes": [],
      "_model_module": "@jupyter-widgets/controls",
      "_model_module_version": "1.5.0",
      "_model_name": "FloatProgressModel",
      "_view_count": null,
      "_view_module": "@jupyter-widgets/controls",
      "_view_module_version": "1.5.0",
      "_view_name": "ProgressView",
      "bar_style": "success",
      "description": "",
      "description_tooltip": null,
      "layout": "IPY_MODEL_56c90ad0a7fb47d08727a7dac3f68f39",
      "max": 170498071,
      "min": 0,
      "orientation": "horizontal",
      "style": "IPY_MODEL_4691e220a8cb466bb46540f16f65e864",
      "value": 170498071
     }
    },
    "cf5fb8e067be464bb14a1cf5e8b4e2de": {
     "model_module": "@jupyter-widgets/controls",
     "model_module_version": "1.5.0",
     "model_name": "HTMLModel",
     "state": {
      "_dom_classes": [],
      "_model_module": "@jupyter-widgets/controls",
      "_model_module_version": "1.5.0",
      "_model_name": "HTMLModel",
      "_view_count": null,
      "_view_module": "@jupyter-widgets/controls",
      "_view_module_version": "1.5.0",
      "_view_name": "HTMLView",
      "description": "",
      "description_tooltip": null,
      "layout": "IPY_MODEL_7c95c188ecf242de9776dcfd3e3fc8d2",
      "placeholder": "​",
      "style": "IPY_MODEL_619c9ef51fc5497f81b4af88db9214cc",
      "value": " 170498071/170498071 [00:01&lt;00:00, 97303096.82it/s]"
     }
    },
    "e09dd53ac3044e3097ed084354a52e13": {
     "model_module": "@jupyter-widgets/controls",
     "model_module_version": "1.5.0",
     "model_name": "HTMLModel",
     "state": {
      "_dom_classes": [],
      "_model_module": "@jupyter-widgets/controls",
      "_model_module_version": "1.5.0",
      "_model_name": "HTMLModel",
      "_view_count": null,
      "_view_module": "@jupyter-widgets/controls",
      "_view_module_version": "1.5.0",
      "_view_name": "HTMLView",
      "description": "",
      "description_tooltip": null,
      "layout": "IPY_MODEL_f4c44a600db84290a51877583e18ee26",
      "placeholder": "​",
      "style": "IPY_MODEL_00397590a13d454d8b16fd8d15ae9b41",
      "value": "100%"
     }
    },
    "f4c44a600db84290a51877583e18ee26": {
     "model_module": "@jupyter-widgets/base",
     "model_module_version": "1.2.0",
     "model_name": "LayoutModel",
     "state": {
      "_model_module": "@jupyter-widgets/base",
      "_model_module_version": "1.2.0",
      "_model_name": "LayoutModel",
      "_view_count": null,
      "_view_module": "@jupyter-widgets/base",
      "_view_module_version": "1.2.0",
      "_view_name": "LayoutView",
      "align_content": null,
      "align_items": null,
      "align_self": null,
      "border": null,
      "bottom": null,
      "display": null,
      "flex": null,
      "flex_flow": null,
      "grid_area": null,
      "grid_auto_columns": null,
      "grid_auto_flow": null,
      "grid_auto_rows": null,
      "grid_column": null,
      "grid_gap": null,
      "grid_row": null,
      "grid_template_areas": null,
      "grid_template_columns": null,
      "grid_template_rows": null,
      "height": null,
      "justify_content": null,
      "justify_items": null,
      "left": null,
      "margin": null,
      "max_height": null,
      "max_width": null,
      "min_height": null,
      "min_width": null,
      "object_fit": null,
      "object_position": null,
      "order": null,
      "overflow": null,
      "overflow_x": null,
      "overflow_y": null,
      "padding": null,
      "right": null,
      "top": null,
      "visibility": null,
      "width": null
     }
    }
   }
  }
 },
 "nbformat": 4,
 "nbformat_minor": 5
}
