{
 "cells": [
  {
   "cell_type": "code",
   "execution_count": 1,
   "id": "d4e45a49-974f-4f9c-8642-42e2c45aab71",
   "metadata": {},
   "outputs": [],
   "source": [
    "import torch\n",
    "import torchvision.transforms as transforms\n",
    "import torch.nn as nn\n",
    "import torch.nn.functional as F\n",
    "\n",
    "import numpy as np\n",
    "import matplotlib.pyplot as plt\n",
    "\n",
    "from torchvision.datasets import CIFAR10\n",
    "from torch.utils.data import DataLoader \n",
    "from torch.optim import Adam\n",
    "import torchvision\n",
    "import torchvision.models as models\n",
    "from torchsummary import summary\n",
    "\n",
    "torch.manual_seed(1)\n",
    "device = 'cuda' if torch.cuda.is_available() else 'cpu'"
   ]
  },
  {
   "cell_type": "code",
   "execution_count": null,
   "id": "42432066-6cf0-416b-961a-adb1e3217204",
   "metadata": {},
   "outputs": [],
   "source": []
  },
  {
   "cell_type": "markdown",
   "id": "f913360b-019e-4d69-a540-b7b5715544e1",
   "metadata": {},
   "source": [
    "## Data"
   ]
  },
  {
   "cell_type": "code",
   "execution_count": 2,
   "id": "3ad21976-2d99-49b7-b0b5-84e9ebcd371e",
   "metadata": {},
   "outputs": [
    {
     "name": "stdout",
     "output_type": "stream",
     "text": [
      "Files already downloaded and verified\n",
      "Files already downloaded and verified\n"
     ]
    }
   ],
   "source": [
    "train_transform = transforms.Compose(\n",
    "    [\n",
    "        transforms.ToTensor(),\n",
    "        transforms.Normalize([0.4914, 0.4822, 0.4465], \n",
    "                             [0.2470, 0.2435, 0.2616]),\n",
    "        transforms.RandomErasing(p=0.75,\n",
    "                                 scale=(0.01, 0.3),\n",
    "                                 ratio=(1.0, 1.0),\n",
    "                                 value=0,\n",
    "                                 inplace =True)\n",
    "    ])\n",
    "\n",
    "val_transform = transforms.Compose(\n",
    "    [\n",
    "        transforms.ToTensor(),\n",
    "        transforms.Normalize([0.4914, 0.4822, 0.4465], \n",
    "                             [0.2470, 0.2435, 0.2616])\n",
    "    ])\n",
    "\n",
    "train_set = CIFAR10(\n",
    "    root='./data', \n",
    "    train=True,\n",
    "    download=True, \n",
    "    transform=train_transform\n",
    ")\n",
    "\n",
    "val_set = CIFAR10(\n",
    "    root='./data', \n",
    "    train=False,\n",
    "    download=True, \n",
    "    transform=val_transform\n",
    ")\n",
    "\n",
    "trainloader = DataLoader(\n",
    "    train_set, \n",
    "    batch_size=batch_size,\n",
    "    shuffle=True,\n",
    "    num_workers=10\n",
    ")\n",
    "\n",
    "testloader = DataLoader(\n",
    "    val_set, \n",
    "    batch_size=batch_size,\n",
    "    shuffle=False, \n",
    "    num_workers=10\n",
    ")"
   ]
  },
  {
   "cell_type": "code",
   "execution_count": null,
   "id": "cf229497-4b6e-443d-b330-66b6fa139fcd",
   "metadata": {},
   "outputs": [],
   "source": []
  },
  {
   "cell_type": "markdown",
   "id": "6ea0dde8-29e7-4096-bd15-6a5ed74655f0",
   "metadata": {},
   "source": [
    "## Model"
   ]
  },
  {
   "cell_type": "code",
   "execution_count": 3,
   "id": "c8516821-d41b-42a8-9e51-ddfb8f9ec87e",
   "metadata": {},
   "outputs": [
    {
     "name": "stdout",
     "output_type": "stream",
     "text": [
      "==========================================================================================\n",
      "Layer (type:depth-idx)                   Output Shape              Param #\n",
      "==========================================================================================\n",
      "├─Sequential: 1-1                        [-1, 512, 1, 1]           --\n",
      "|    └─Conv2d: 2-1                       [-1, 64, 32, 32]          1,792\n",
      "|    └─ReLU: 2-2                         [-1, 64, 32, 32]          --\n",
      "|    └─Conv2d: 2-3                       [-1, 64, 32, 32]          36,928\n",
      "|    └─ReLU: 2-4                         [-1, 64, 32, 32]          --\n",
      "|    └─MaxPool2d: 2-5                    [-1, 64, 16, 16]          --\n",
      "|    └─Conv2d: 2-6                       [-1, 128, 16, 16]         73,856\n",
      "|    └─ReLU: 2-7                         [-1, 128, 16, 16]         --\n",
      "|    └─Conv2d: 2-8                       [-1, 128, 16, 16]         147,584\n",
      "|    └─ReLU: 2-9                         [-1, 128, 16, 16]         --\n",
      "|    └─MaxPool2d: 2-10                   [-1, 128, 8, 8]           --\n",
      "|    └─Conv2d: 2-11                      [-1, 256, 8, 8]           295,168\n",
      "|    └─ReLU: 2-12                        [-1, 256, 8, 8]           --\n",
      "|    └─Conv2d: 2-13                      [-1, 256, 8, 8]           590,080\n",
      "|    └─ReLU: 2-14                        [-1, 256, 8, 8]           --\n",
      "|    └─Conv2d: 2-15                      [-1, 256, 8, 8]           590,080\n",
      "|    └─ReLU: 2-16                        [-1, 256, 8, 8]           --\n",
      "|    └─MaxPool2d: 2-17                   [-1, 256, 4, 4]           --\n",
      "|    └─Conv2d: 2-18                      [-1, 512, 4, 4]           1,180,160\n",
      "|    └─ReLU: 2-19                        [-1, 512, 4, 4]           --\n",
      "|    └─Conv2d: 2-20                      [-1, 512, 4, 4]           2,359,808\n",
      "|    └─ReLU: 2-21                        [-1, 512, 4, 4]           --\n",
      "|    └─Conv2d: 2-22                      [-1, 512, 4, 4]           2,359,808\n",
      "|    └─ReLU: 2-23                        [-1, 512, 4, 4]           --\n",
      "|    └─MaxPool2d: 2-24                   [-1, 512, 2, 2]           --\n",
      "|    └─Conv2d: 2-25                      [-1, 512, 2, 2]           2,359,808\n",
      "|    └─ReLU: 2-26                        [-1, 512, 2, 2]           --\n",
      "|    └─Conv2d: 2-27                      [-1, 512, 2, 2]           2,359,808\n",
      "|    └─ReLU: 2-28                        [-1, 512, 2, 2]           --\n",
      "|    └─Conv2d: 2-29                      [-1, 512, 2, 2]           2,359,808\n",
      "|    └─ReLU: 2-30                        [-1, 512, 2, 2]           --\n",
      "|    └─MaxPool2d: 2-31                   [-1, 512, 1, 1]           --\n",
      "├─Flatten: 1-2                           [-1, 512]                 --\n",
      "├─Dropout: 1-3                           [-1, 512]                 --\n",
      "├─Linear: 1-4                            [-1, 10]                  5,130\n",
      "==========================================================================================\n",
      "Total params: 14,719,818\n",
      "Trainable params: 14,719,818\n",
      "Non-trainable params: 0\n",
      "Total mult-adds (M): 327.91\n",
      "==========================================================================================\n",
      "Input size (MB): 0.01\n",
      "Forward/backward pass size (MB): 2.11\n",
      "Params size (MB): 56.15\n",
      "Estimated Total Size (MB): 58.27\n",
      "==========================================================================================\n"
     ]
    },
    {
     "data": {
      "text/plain": [
       "==========================================================================================\n",
       "Layer (type:depth-idx)                   Output Shape              Param #\n",
       "==========================================================================================\n",
       "├─Sequential: 1-1                        [-1, 512, 1, 1]           --\n",
       "|    └─Conv2d: 2-1                       [-1, 64, 32, 32]          1,792\n",
       "|    └─ReLU: 2-2                         [-1, 64, 32, 32]          --\n",
       "|    └─Conv2d: 2-3                       [-1, 64, 32, 32]          36,928\n",
       "|    └─ReLU: 2-4                         [-1, 64, 32, 32]          --\n",
       "|    └─MaxPool2d: 2-5                    [-1, 64, 16, 16]          --\n",
       "|    └─Conv2d: 2-6                       [-1, 128, 16, 16]         73,856\n",
       "|    └─ReLU: 2-7                         [-1, 128, 16, 16]         --\n",
       "|    └─Conv2d: 2-8                       [-1, 128, 16, 16]         147,584\n",
       "|    └─ReLU: 2-9                         [-1, 128, 16, 16]         --\n",
       "|    └─MaxPool2d: 2-10                   [-1, 128, 8, 8]           --\n",
       "|    └─Conv2d: 2-11                      [-1, 256, 8, 8]           295,168\n",
       "|    └─ReLU: 2-12                        [-1, 256, 8, 8]           --\n",
       "|    └─Conv2d: 2-13                      [-1, 256, 8, 8]           590,080\n",
       "|    └─ReLU: 2-14                        [-1, 256, 8, 8]           --\n",
       "|    └─Conv2d: 2-15                      [-1, 256, 8, 8]           590,080\n",
       "|    └─ReLU: 2-16                        [-1, 256, 8, 8]           --\n",
       "|    └─MaxPool2d: 2-17                   [-1, 256, 4, 4]           --\n",
       "|    └─Conv2d: 2-18                      [-1, 512, 4, 4]           1,180,160\n",
       "|    └─ReLU: 2-19                        [-1, 512, 4, 4]           --\n",
       "|    └─Conv2d: 2-20                      [-1, 512, 4, 4]           2,359,808\n",
       "|    └─ReLU: 2-21                        [-1, 512, 4, 4]           --\n",
       "|    └─Conv2d: 2-22                      [-1, 512, 4, 4]           2,359,808\n",
       "|    └─ReLU: 2-23                        [-1, 512, 4, 4]           --\n",
       "|    └─MaxPool2d: 2-24                   [-1, 512, 2, 2]           --\n",
       "|    └─Conv2d: 2-25                      [-1, 512, 2, 2]           2,359,808\n",
       "|    └─ReLU: 2-26                        [-1, 512, 2, 2]           --\n",
       "|    └─Conv2d: 2-27                      [-1, 512, 2, 2]           2,359,808\n",
       "|    └─ReLU: 2-28                        [-1, 512, 2, 2]           --\n",
       "|    └─Conv2d: 2-29                      [-1, 512, 2, 2]           2,359,808\n",
       "|    └─ReLU: 2-30                        [-1, 512, 2, 2]           --\n",
       "|    └─MaxPool2d: 2-31                   [-1, 512, 1, 1]           --\n",
       "├─Flatten: 1-2                           [-1, 512]                 --\n",
       "├─Dropout: 1-3                           [-1, 512]                 --\n",
       "├─Linear: 1-4                            [-1, 10]                  5,130\n",
       "==========================================================================================\n",
       "Total params: 14,719,818\n",
       "Trainable params: 14,719,818\n",
       "Non-trainable params: 0\n",
       "Total mult-adds (M): 327.91\n",
       "==========================================================================================\n",
       "Input size (MB): 0.01\n",
       "Forward/backward pass size (MB): 2.11\n",
       "Params size (MB): 56.15\n",
       "Estimated Total Size (MB): 58.27\n",
       "=========================================================================================="
      ]
     },
     "execution_count": 3,
     "metadata": {},
     "output_type": "execute_result"
    }
   ],
   "source": [
    "# Load the pretrained VGG16 model\n",
    "vgg16 = models.vgg16(weights=models.VGG16_Weights.DEFAULT)\n",
    "f_extractor = vgg16.features\n",
    "\n",
    "model = nn.Sequential(f_extractor, \n",
    "                      nn.Flatten(), \n",
    "                      nn.Dropout(), \n",
    "                      nn.Linear(512, 10))\n",
    "model.to(device)\n",
    "summary(model, (3, 32, 32))"
   ]
  },
  {
   "cell_type": "code",
   "execution_count": null,
   "id": "9b8b7cc7-f67c-4ba0-ba21-ac2ed717f674",
   "metadata": {},
   "outputs": [],
   "source": []
  },
  {
   "cell_type": "markdown",
   "id": "43c7b151-a199-4e2a-8015-fdfb5f166284",
   "metadata": {},
   "source": [
    "# Train"
   ]
  },
  {
   "cell_type": "code",
   "execution_count": 4,
   "id": "1464e2bd-b627-475d-9941-f2a930d69a14",
   "metadata": {},
   "outputs": [],
   "source": [
    "criterion = nn.CrossEntropyLoss()\n",
    "optimizer = Adam(model.parameters(), lr=1e-4)  "
   ]
  },
  {
   "cell_type": "code",
   "execution_count": 5,
   "id": "04744c84-1e6d-4bfb-8dd5-abbdc91f102e",
   "metadata": {},
   "outputs": [],
   "source": [
    "# Function to compute loss and accuracy for test set\n",
    "def evaluate(model, testloader, criterion):\n",
    "    model.eval()\n",
    "    test_loss = 0.0\n",
    "    running_correct = 0\n",
    "    total = 0\n",
    "    with torch.no_grad():\n",
    "        for images, labels in testloader:\n",
    "            # Move inputs and labels to the device\n",
    "            images, labels = images.to(device), labels.to(device)\n",
    "\n",
    "            outputs = model(images)\n",
    "            loss = criterion(outputs, labels)\n",
    "            test_loss += loss.item()\n",
    "            \n",
    "            _, predicted = torch.max(outputs.data, 1)\n",
    "            total += labels.size(0)\n",
    "            running_correct += (predicted == labels).sum().item()\n",
    "\n",
    "    accuracy = 100 * running_correct / total\n",
    "    test_loss = test_loss / len(testloader)\n",
    "    return test_loss, accuracy"
   ]
  },
  {
   "cell_type": "code",
   "execution_count": 6,
   "id": "f2402591-e7f7-4bdd-8962-c029cfcd9307",
   "metadata": {},
   "outputs": [],
   "source": [
    "# some parameter\n",
    "train_losses = []\n",
    "train_accuracies = []\n",
    "test_losses = []\n",
    "test_accuracies = []\n",
    "max_epoch = 100"
   ]
  },
  {
   "cell_type": "code",
   "execution_count": 7,
   "id": "190a58e1-0864-4818-a8d2-0f83212c6d13",
   "metadata": {},
   "outputs": [
    {
     "name": "stdout",
     "output_type": "stream",
     "text": [
      "Epoch [1/100], Loss: 1.0726, Accuracy: 62.79%, Test Loss: 0.5388, Test Accuracy: 81.43%\n",
      "Epoch [2/100], Loss: 0.6249, Accuracy: 78.85%, Test Loss: 0.4669, Test Accuracy: 84.35%\n",
      "Epoch [3/100], Loss: 0.5013, Accuracy: 82.79%, Test Loss: 0.4072, Test Accuracy: 86.25%\n",
      "Epoch [4/100], Loss: 0.4220, Accuracy: 85.53%, Test Loss: 0.4597, Test Accuracy: 85.32%\n",
      "Epoch [5/100], Loss: 0.3616, Accuracy: 87.63%, Test Loss: 0.3647, Test Accuracy: 87.93%\n",
      "Epoch [6/100], Loss: 0.3111, Accuracy: 89.25%, Test Loss: 0.3820, Test Accuracy: 87.54%\n",
      "Epoch [7/100], Loss: 0.2678, Accuracy: 90.94%, Test Loss: 0.3665, Test Accuracy: 87.99%\n",
      "Epoch [8/100], Loss: 0.2383, Accuracy: 91.70%, Test Loss: 0.3741, Test Accuracy: 88.79%\n",
      "Epoch [9/100], Loss: 0.2015, Accuracy: 93.01%, Test Loss: 0.3540, Test Accuracy: 89.21%\n",
      "Epoch [10/100], Loss: 0.1836, Accuracy: 93.75%, Test Loss: 0.3695, Test Accuracy: 89.03%\n",
      "Epoch [11/100], Loss: 0.1633, Accuracy: 94.44%, Test Loss: 0.4063, Test Accuracy: 88.39%\n",
      "Epoch [12/100], Loss: 0.1487, Accuracy: 94.89%, Test Loss: 0.4216, Test Accuracy: 88.75%\n",
      "Epoch [13/100], Loss: 0.1353, Accuracy: 95.30%, Test Loss: 0.4749, Test Accuracy: 88.61%\n",
      "Epoch [14/100], Loss: 0.1231, Accuracy: 95.85%, Test Loss: 0.4395, Test Accuracy: 88.63%\n",
      "Epoch [15/100], Loss: 0.1135, Accuracy: 96.18%, Test Loss: 0.4333, Test Accuracy: 89.22%\n",
      "Epoch [16/100], Loss: 0.1080, Accuracy: 96.39%, Test Loss: 0.4287, Test Accuracy: 88.81%\n",
      "Epoch [17/100], Loss: 0.0963, Accuracy: 96.74%, Test Loss: 0.4486, Test Accuracy: 89.38%\n",
      "Epoch [18/100], Loss: 0.0932, Accuracy: 96.88%, Test Loss: 0.4451, Test Accuracy: 89.56%\n",
      "Epoch [19/100], Loss: 0.0835, Accuracy: 97.16%, Test Loss: 0.5174, Test Accuracy: 88.07%\n",
      "Epoch [20/100], Loss: 0.0851, Accuracy: 97.06%, Test Loss: 0.5034, Test Accuracy: 89.13%\n",
      "Epoch [21/100], Loss: 0.0786, Accuracy: 97.45%, Test Loss: 0.4819, Test Accuracy: 88.74%\n",
      "Epoch [22/100], Loss: 0.0737, Accuracy: 97.57%, Test Loss: 0.4764, Test Accuracy: 88.69%\n",
      "Epoch [23/100], Loss: 0.0717, Accuracy: 97.52%, Test Loss: 0.4829, Test Accuracy: 89.44%\n",
      "Epoch [24/100], Loss: 0.0713, Accuracy: 97.64%, Test Loss: 0.4782, Test Accuracy: 89.32%\n",
      "Epoch [25/100], Loss: 0.0646, Accuracy: 97.83%, Test Loss: 0.4728, Test Accuracy: 89.64%\n",
      "Epoch [26/100], Loss: 0.0628, Accuracy: 97.98%, Test Loss: 0.5140, Test Accuracy: 89.36%\n",
      "Epoch [27/100], Loss: 0.0641, Accuracy: 97.87%, Test Loss: 0.5238, Test Accuracy: 89.09%\n",
      "Epoch [28/100], Loss: 0.0582, Accuracy: 98.07%, Test Loss: 0.4799, Test Accuracy: 89.24%\n",
      "Epoch [29/100], Loss: 0.0561, Accuracy: 98.14%, Test Loss: 0.4736, Test Accuracy: 89.46%\n",
      "Epoch [30/100], Loss: 0.0558, Accuracy: 98.19%, Test Loss: 0.5118, Test Accuracy: 88.57%\n",
      "Epoch [31/100], Loss: 0.0520, Accuracy: 98.29%, Test Loss: 0.4809, Test Accuracy: 89.48%\n",
      "Epoch [32/100], Loss: 0.0519, Accuracy: 98.29%, Test Loss: 0.4622, Test Accuracy: 89.66%\n",
      "Epoch [33/100], Loss: 0.0496, Accuracy: 98.36%, Test Loss: 0.4862, Test Accuracy: 89.28%\n",
      "Epoch [34/100], Loss: 0.0502, Accuracy: 98.35%, Test Loss: 0.5150, Test Accuracy: 89.52%\n",
      "Epoch [35/100], Loss: 0.0520, Accuracy: 98.23%, Test Loss: 0.5109, Test Accuracy: 89.03%\n",
      "Epoch [36/100], Loss: 0.0461, Accuracy: 98.52%, Test Loss: 0.5028, Test Accuracy: 89.51%\n",
      "Epoch [37/100], Loss: 0.0428, Accuracy: 98.67%, Test Loss: 0.4935, Test Accuracy: 89.47%\n",
      "Epoch [38/100], Loss: 0.0454, Accuracy: 98.52%, Test Loss: 0.5186, Test Accuracy: 89.04%\n",
      "Epoch [39/100], Loss: 0.0451, Accuracy: 98.55%, Test Loss: 0.5855, Test Accuracy: 88.36%\n",
      "Epoch [40/100], Loss: 0.0436, Accuracy: 98.58%, Test Loss: 0.5253, Test Accuracy: 89.11%\n",
      "Epoch [41/100], Loss: 0.0420, Accuracy: 98.64%, Test Loss: 0.5428, Test Accuracy: 89.39%\n",
      "Epoch [42/100], Loss: 0.0403, Accuracy: 98.71%, Test Loss: 0.5398, Test Accuracy: 89.24%\n",
      "Epoch [43/100], Loss: 0.0397, Accuracy: 98.67%, Test Loss: 0.5207, Test Accuracy: 89.35%\n",
      "Epoch [44/100], Loss: 0.0376, Accuracy: 98.75%, Test Loss: 0.5311, Test Accuracy: 88.90%\n",
      "Epoch [45/100], Loss: 0.0402, Accuracy: 98.67%, Test Loss: 0.5216, Test Accuracy: 89.06%\n",
      "Epoch [46/100], Loss: 0.0355, Accuracy: 98.79%, Test Loss: 0.5500, Test Accuracy: 89.33%\n",
      "Epoch [47/100], Loss: 0.0370, Accuracy: 98.79%, Test Loss: 0.5011, Test Accuracy: 89.30%\n",
      "Epoch [48/100], Loss: 0.0388, Accuracy: 98.77%, Test Loss: 0.5507, Test Accuracy: 88.93%\n",
      "Epoch [49/100], Loss: 0.0355, Accuracy: 98.88%, Test Loss: 0.5220, Test Accuracy: 88.98%\n",
      "Epoch [50/100], Loss: 0.0372, Accuracy: 98.82%, Test Loss: 0.5321, Test Accuracy: 89.33%\n",
      "Epoch [51/100], Loss: 0.0360, Accuracy: 98.84%, Test Loss: 0.4974, Test Accuracy: 89.21%\n",
      "Epoch [52/100], Loss: 0.0335, Accuracy: 98.89%, Test Loss: 0.5848, Test Accuracy: 88.74%\n",
      "Epoch [53/100], Loss: 0.0343, Accuracy: 98.85%, Test Loss: 0.5411, Test Accuracy: 88.99%\n",
      "Epoch [54/100], Loss: 0.0307, Accuracy: 99.03%, Test Loss: 0.6187, Test Accuracy: 88.52%\n",
      "Epoch [55/100], Loss: 0.0301, Accuracy: 99.04%, Test Loss: 0.5559, Test Accuracy: 89.56%\n",
      "Epoch [56/100], Loss: 0.0311, Accuracy: 98.99%, Test Loss: 0.5598, Test Accuracy: 89.25%\n",
      "Epoch [57/100], Loss: 0.0295, Accuracy: 98.99%, Test Loss: 0.5542, Test Accuracy: 89.34%\n",
      "Epoch [58/100], Loss: 0.0290, Accuracy: 99.04%, Test Loss: 0.5542, Test Accuracy: 89.13%\n",
      "Epoch [59/100], Loss: 0.0273, Accuracy: 99.14%, Test Loss: 0.5794, Test Accuracy: 89.56%\n",
      "Epoch [60/100], Loss: 0.0280, Accuracy: 99.09%, Test Loss: 0.5621, Test Accuracy: 89.02%\n",
      "Epoch [61/100], Loss: 0.0296, Accuracy: 99.03%, Test Loss: 0.5438, Test Accuracy: 89.34%\n",
      "Epoch [62/100], Loss: 0.0263, Accuracy: 99.11%, Test Loss: 0.5937, Test Accuracy: 89.34%\n",
      "Epoch [63/100], Loss: 0.0276, Accuracy: 99.07%, Test Loss: 0.5536, Test Accuracy: 88.99%\n",
      "Epoch [64/100], Loss: 0.0269, Accuracy: 99.13%, Test Loss: 0.5993, Test Accuracy: 89.45%\n",
      "Epoch [65/100], Loss: 0.0299, Accuracy: 99.02%, Test Loss: 0.5467, Test Accuracy: 89.62%\n",
      "Epoch [66/100], Loss: 0.0247, Accuracy: 99.22%, Test Loss: 0.6116, Test Accuracy: 89.26%\n",
      "Epoch [67/100], Loss: 0.0270, Accuracy: 99.15%, Test Loss: 0.5658, Test Accuracy: 89.32%\n",
      "Epoch [68/100], Loss: 0.0241, Accuracy: 99.22%, Test Loss: 0.6061, Test Accuracy: 89.01%\n",
      "Epoch [69/100], Loss: 0.0264, Accuracy: 99.10%, Test Loss: 0.5949, Test Accuracy: 88.78%\n",
      "Epoch [70/100], Loss: 0.0260, Accuracy: 99.13%, Test Loss: 0.6034, Test Accuracy: 89.00%\n",
      "Epoch [71/100], Loss: 0.0269, Accuracy: 99.09%, Test Loss: 0.6179, Test Accuracy: 88.59%\n",
      "Epoch [72/100], Loss: 0.0263, Accuracy: 99.06%, Test Loss: 0.5467, Test Accuracy: 88.96%\n",
      "Epoch [73/100], Loss: 0.0246, Accuracy: 99.19%, Test Loss: 0.5985, Test Accuracy: 89.50%\n",
      "Epoch [74/100], Loss: 0.0234, Accuracy: 99.24%, Test Loss: 0.6275, Test Accuracy: 89.04%\n",
      "Epoch [75/100], Loss: 0.0241, Accuracy: 99.23%, Test Loss: 0.5836, Test Accuracy: 89.04%\n",
      "Epoch [76/100], Loss: 0.0258, Accuracy: 99.20%, Test Loss: 0.6269, Test Accuracy: 88.89%\n",
      "Epoch [77/100], Loss: 0.0237, Accuracy: 99.18%, Test Loss: 0.6529, Test Accuracy: 89.32%\n",
      "Epoch [78/100], Loss: 0.0226, Accuracy: 99.24%, Test Loss: 0.5693, Test Accuracy: 89.21%\n",
      "Epoch [79/100], Loss: 0.0221, Accuracy: 99.29%, Test Loss: 0.5741, Test Accuracy: 88.98%\n",
      "Epoch [80/100], Loss: 0.0225, Accuracy: 99.23%, Test Loss: 0.6247, Test Accuracy: 89.61%\n",
      "Epoch [81/100], Loss: 0.0214, Accuracy: 99.33%, Test Loss: 0.6072, Test Accuracy: 88.89%\n",
      "Epoch [82/100], Loss: 0.0213, Accuracy: 99.25%, Test Loss: 0.5797, Test Accuracy: 89.46%\n",
      "Epoch [83/100], Loss: 0.0221, Accuracy: 99.27%, Test Loss: 0.5745, Test Accuracy: 89.35%\n",
      "Epoch [84/100], Loss: 0.0209, Accuracy: 99.31%, Test Loss: 0.7333, Test Accuracy: 88.28%\n",
      "Epoch [85/100], Loss: 0.0244, Accuracy: 99.20%, Test Loss: 0.5574, Test Accuracy: 89.19%\n",
      "Epoch [86/100], Loss: 0.0211, Accuracy: 99.32%, Test Loss: 0.5893, Test Accuracy: 89.04%\n",
      "Epoch [87/100], Loss: 0.0209, Accuracy: 99.31%, Test Loss: 0.6227, Test Accuracy: 89.01%\n",
      "Epoch [88/100], Loss: 0.0229, Accuracy: 99.28%, Test Loss: 0.5999, Test Accuracy: 88.94%\n",
      "Epoch [89/100], Loss: 0.0200, Accuracy: 99.36%, Test Loss: 0.6973, Test Accuracy: 88.66%\n",
      "Epoch [90/100], Loss: 0.0205, Accuracy: 99.37%, Test Loss: 0.5747, Test Accuracy: 89.32%\n",
      "Epoch [91/100], Loss: 0.0196, Accuracy: 99.38%, Test Loss: 0.5810, Test Accuracy: 89.45%\n",
      "Epoch [92/100], Loss: 0.0200, Accuracy: 99.36%, Test Loss: 0.6083, Test Accuracy: 88.97%\n",
      "Epoch [93/100], Loss: 0.0200, Accuracy: 99.31%, Test Loss: 0.6338, Test Accuracy: 89.54%\n",
      "Epoch [94/100], Loss: 0.0186, Accuracy: 99.38%, Test Loss: 0.6835, Test Accuracy: 88.40%\n",
      "Epoch [95/100], Loss: 0.0198, Accuracy: 99.38%, Test Loss: 0.6455, Test Accuracy: 88.80%\n",
      "Epoch [96/100], Loss: 0.0205, Accuracy: 99.35%, Test Loss: 0.6424, Test Accuracy: 89.17%\n",
      "Epoch [97/100], Loss: 0.0195, Accuracy: 99.40%, Test Loss: 0.5826, Test Accuracy: 89.48%\n",
      "Epoch [98/100], Loss: 0.0178, Accuracy: 99.45%, Test Loss: 0.6013, Test Accuracy: 89.23%\n",
      "Epoch [99/100], Loss: 0.0183, Accuracy: 99.37%, Test Loss: 0.6706, Test Accuracy: 88.63%\n",
      "Epoch [100/100], Loss: 0.0190, Accuracy: 99.38%, Test Loss: 0.6391, Test Accuracy: 88.49%\n"
     ]
    }
   ],
   "source": [
    "# train\n",
    "for epoch in range(max_epoch):\n",
    "    model.train()\n",
    "    running_loss = 0.0\n",
    "    running_correct = 0   # to track number of correct predictions\n",
    "    total = 0             # to track total number of samples\n",
    "\n",
    "    for i, (inputs, labels) in enumerate(trainloader, 0):\n",
    "        # Move inputs and labels to the device\n",
    "        inputs, labels = inputs.to(device), labels.to(device)\n",
    "\n",
    "        # Zero the parameter gradients\n",
    "        optimizer.zero_grad()\n",
    "\n",
    "        # Forward pass\n",
    "        outputs = model(inputs)\n",
    "        loss = criterion(outputs, labels)\n",
    "        running_loss += loss.item()\n",
    "\n",
    "        # Backward pass and optimization\n",
    "        loss.backward()\n",
    "        optimizer.step()  \n",
    "    \n",
    "        # Determine class predictions and track accuracy\n",
    "        _, predicted = torch.max(outputs.data, 1)\n",
    "        total += labels.size(0)\n",
    "        running_correct += (predicted == labels).sum().item()\n",
    "\n",
    "\n",
    "    epoch_accuracy = 100 * running_correct / total\n",
    "    epoch_loss = running_loss / (i + 1)\n",
    "    \n",
    "    test_loss, test_accuracy = evaluate(model, testloader, criterion)\n",
    "    print(f\"Epoch [{epoch + 1}/{max_epoch}], Loss: {epoch_loss:.4f}, Accuracy: {epoch_accuracy:.2f}%, Test Loss: {test_loss:.4f}, Test Accuracy: {test_accuracy:.2f}%\")\n",
    "    \n",
    "    # save for plot\n",
    "    train_losses.append(epoch_loss)\n",
    "    train_accuracies.append(epoch_accuracy)\n",
    "    test_losses.append(test_loss)\n",
    "    test_accuracies.append(test_accuracy)"
   ]
  },
  {
   "cell_type": "code",
   "execution_count": null,
   "id": "cebcb439-88f2-40b6-9a17-4990ad324731",
   "metadata": {},
   "outputs": [],
   "source": []
  },
  {
   "cell_type": "code",
   "execution_count": 8,
   "id": "DkC3_902Lgn-",
   "metadata": {
    "executionInfo": {
     "elapsed": 3,
     "status": "ok",
     "timestamp": 1673091684322,
     "user": {
      "displayName": "Thắng Dương Đình",
      "userId": "02196529682032971345"
     },
     "user_tz": -420
    },
    "id": "DkC3_902Lgn-"
   },
   "outputs": [
    {
     "data": {
      "text/plain": [
       "<matplotlib.legend.Legend at 0x7f2a47b06ef0>"
      ]
     },
     "execution_count": 8,
     "metadata": {},
     "output_type": "execute_result"
    },
    {
     "data": {
      "image/png": "[encoded data removed]",
      "text/plain": [
       "<Figure size 640x480 with 1 Axes>"
      ]
     },
     "metadata": {},
     "output_type": "display_data"
    }
   ],
   "source": [
    "import matplotlib.pyplot as plt\n",
    "\n",
    "plt.plot(train_losses, label='train_losses')\n",
    "plt.plot(test_losses, label='test_losses')\n",
    "plt.legend()"
   ]
  },
  {
   "cell_type": "code",
   "execution_count": 9,
   "id": "794f4e81",
   "metadata": {
    "executionInfo": {
     "elapsed": 8,
     "status": "ok",
     "timestamp": 1673092872464,
     "user": {
      "displayName": "Thắng Dương Đình",
      "userId": "02196529682032971345"
     },
     "user_tz": -420
    },
    "id": "794f4e81"
   },
   "outputs": [
    {
     "data": {
      "text/plain": [
       "<matplotlib.legend.Legend at 0x7f2a40205b40>"
      ]
     },
     "execution_count": 9,
     "metadata": {},
     "output_type": "execute_result"
    },
    {
     "data": {
      "image/png": "[encoded data removed]",
      "text/plain": [
       "<Figure size 640x480 with 1 Axes>"
      ]
     },
     "metadata": {},
     "output_type": "display_data"
    }
   ],
   "source": [
    "import matplotlib.pyplot as plt\n",
    "\n",
    "plt.plot(train_accuracies, label='train_accuracy')\n",
    "plt.plot(test_accuracies, label='test_accuracy')\n",
    "plt.legend()"
   ]
  },
  {
   "cell_type": "code",
   "execution_count": null,
   "id": "a2ec7c96-ff05-4863-92e7-c45f2f0e3d03",
   "metadata": {},
   "outputs": [],
   "source": []
  },
  {
   "cell_type": "code",
   "execution_count": null,
   "id": "8c86325e-7b6c-43a6-b315-93e02bcdb264",
   "metadata": {},
   "outputs": [],
   "source": []
  },
  {
   "cell_type": "code",
   "execution_count": 10,
   "id": "d2a401f6-9ed4-4dee-9e95-f65826e2d92d",
   "metadata": {},
   "outputs": [
    {
     "data": {
      "text/plain": [
       "<matplotlib.legend.Legend at 0x7f2a0426ae60>"
      ]
     },
     "execution_count": 10,
     "metadata": {},
     "output_type": "execute_result"
    }
   ],
   "source": [
    "import matplotlib.pyplot as plt\n",
    "%matplotlib qt\n",
    "\n",
    "plt.plot(train_losses, label='train_losses')\n",
    "plt.plot(test_losses, label='test_losses')\n",
    "plt.legend()"
   ]
  },
  {
   "cell_type": "code",
   "execution_count": 11,
   "id": "b4d1601e-a633-4f04-b476-7288856e1971",
   "metadata": {},
   "outputs": [
    {
     "data": {
      "text/plain": [
       "<matplotlib.legend.Legend at 0x7f2984143160>"
      ]
     },
     "execution_count": 11,
     "metadata": {},
     "output_type": "execute_result"
    }
   ],
   "source": [
    "import matplotlib.pyplot as plt\n",
    "%matplotlib qt\n",
    "\n",
    "plt.plot(train_accuracies, label='train_accuracy')\n",
    "plt.plot(test_accuracies, label='test_accuracy')\n",
    "plt.legend()"
   ]
  },
  {
   "cell_type": "code",
   "execution_count": null,
   "id": "386d038d-d554-4857-ab4b-fe1314e8937c",
   "metadata": {},
   "outputs": [],
   "source": []
  }
 ],
 "metadata": {
  "accelerator": "GPU",
  "colab": {
   "provenance": []
  },
  "gpuClass": "standard",
  "kernelspec": {
   "display_name": "Python 3 (ipykernel)",
   "language": "python",
   "name": "python3"
  },
  "language_info": {
   "codemirror_mode": {
    "name": "ipython",
    "version": 3
   },
   "file_extension": ".py",
   "mimetype": "text/x-python",
   "name": "python",
   "nbconvert_exporter": "python",
   "pygments_lexer": "ipython3",
   "version": "3.11.5"
  },
  "widgets": {
   "application/vnd.jupyter.widget-state+json": {
    "00397590a13d454d8b16fd8d15ae9b41": {
     "model_module": "@jupyter-widgets/controls",
     "model_module_version": "1.5.0",
     "model_name": "DescriptionStyleModel",
     "state": {
      "_model_module": "@jupyter-widgets/controls",
      "_model_module_version": "1.5.0",
      "_model_name": "DescriptionStyleModel",
      "_view_count": null,
      "_view_module": "@jupyter-widgets/base",
      "_view_module_version": "1.2.0",
      "_view_name": "StyleView",
      "description_width": ""
     }
    },
    "0a3d339ba81a4f22b893250502c493af": {
     "model_module": "@jupyter-widgets/base",
     "model_module_version": "1.2.0",
     "model_name": "LayoutModel",
     "state": {
      "_model_module": "@jupyter-widgets/base",
      "_model_module_version": "1.2.0",
      "_model_name": "LayoutModel",
      "_view_count": null,
      "_view_module": "@jupyter-widgets/base",
      "_view_module_version": "1.2.0",
      "_view_name": "LayoutView",
      "align_content": null,
      "align_items": null,
      "align_self": null,
      "border": null,
      "bottom": null,
      "display": null,
      "flex": null,
      "flex_flow": null,
      "grid_area": null,
      "grid_auto_columns": null,
      "grid_auto_flow": null,
      "grid_auto_rows": null,
      "grid_column": null,
      "grid_gap": null,
      "grid_row": null,
      "grid_template_areas": null,
      "grid_template_columns": null,
      "grid_template_rows": null,
      "height": null,
      "justify_content": null,
      "justify_items": null,
      "left": null,
      "margin": null,
      "max_height": null,
      "max_width": null,
      "min_height": null,
      "min_width": null,
      "object_fit": null,
      "object_position": null,
      "order": null,
      "overflow": null,
      "overflow_x": null,
      "overflow_y": null,
      "padding": null,
      "right": null,
      "top": null,
      "visibility": null,
      "width": null
     }
    },
    "4691e220a8cb466bb46540f16f65e864": {
     "model_module": "@jupyter-widgets/controls",
     "model_module_version": "1.5.0",
     "model_name": "ProgressStyleModel",
     "state": {
      "_model_module": "@jupyter-widgets/controls",
      "_model_module_version": "1.5.0",
      "_model_name": "ProgressStyleModel",
      "_view_count": null,
      "_view_module": "@jupyter-widgets/base",
      "_view_module_version": "1.2.0",
      "_view_name": "StyleView",
      "bar_color": null,
      "description_width": ""
     }
    },
    "56c90ad0a7fb47d08727a7dac3f68f39": {
     "model_module": "@jupyter-widgets/base",
     "model_module_version": "1.2.0",
     "model_name": "LayoutModel",
     "state": {
      "_model_module": "@jupyter-widgets/base",
      "_model_module_version": "1.2.0",
      "_model_name": "LayoutModel",
      "_view_count": null,
      "_view_module": "@jupyter-widgets/base",
      "_view_module_version": "1.2.0",
      "_view_name": "LayoutView",
      "align_content": null,
      "align_items": null,
      "align_self": null,
      "border": null,
      "bottom": null,
      "display": null,
      "flex": null,
      "flex_flow": null,
      "grid_area": null,
      "grid_auto_columns": null,
      "grid_auto_flow": null,
      "grid_auto_rows": null,
      "grid_column": null,
      "grid_gap": null,
      "grid_row": null,
      "grid_template_areas": null,
      "grid_template_columns": null,
      "grid_template_rows": null,
      "height": null,
      "justify_content": null,
      "justify_items": null,
      "left": null,
      "margin": null,
      "max_height": null,
      "max_width": null,
      "min_height": null,
      "min_width": null,
      "object_fit": null,
      "object_position": null,
      "order": null,
      "overflow": null,
      "overflow_x": null,
      "overflow_y": null,
      "padding": null,
      "right": null,
      "top": null,
      "visibility": null,
      "width": null
     }
    },
    "619c9ef51fc5497f81b4af88db9214cc": {
     "model_module": "@jupyter-widgets/controls",
     "model_module_version": "1.5.0",
     "model_name": "DescriptionStyleModel",
     "state": {
      "_model_module": "@jupyter-widgets/controls",
      "_model_module_version": "1.5.0",
      "_model_name": "DescriptionStyleModel",
      "_view_count": null,
      "_view_module": "@jupyter-widgets/base",
      "_view_module_version": "1.2.0",
      "_view_name": "StyleView",
      "description_width": ""
     }
    },
    "7c95c188ecf242de9776dcfd3e3fc8d2": {
     "model_module": "@jupyter-widgets/base",
     "model_module_version": "1.2.0",
     "model_name": "LayoutModel",
     "state": {
      "_model_module": "@jupyter-widgets/base",
      "_model_module_version": "1.2.0",
      "_model_name": "LayoutModel",
      "_view_count": null,
      "_view_module": "@jupyter-widgets/base",
      "_view_module_version": "1.2.0",
      "_view_name": "LayoutView",
      "align_content": null,
      "align_items": null,
      "align_self": null,
      "border": null,
      "bottom": null,
      "display": null,
      "flex": null,
      "flex_flow": null,
      "grid_area": null,
      "grid_auto_columns": null,
      "grid_auto_flow": null,
      "grid_auto_rows": null,
      "grid_column": null,
      "grid_gap": null,
      "grid_row": null,
      "grid_template_areas": null,
      "grid_template_columns": null,
      "grid_template_rows": null,
      "height": null,
      "justify_content": null,
      "justify_items": null,
      "left": null,
      "margin": null,
      "max_height": null,
      "max_width": null,
      "min_height": null,
      "min_width": null,
      "object_fit": null,
      "object_position": null,
      "order": null,
      "overflow": null,
      "overflow_x": null,
      "overflow_y": null,
      "padding": null,
      "right": null,
      "top": null,
      "visibility": null,
      "width": null
     }
    },
    "8a6ed597588f4c07bff4271aeba7c1bb": {
     "model_module": "@jupyter-widgets/controls",
     "model_module_version": "1.5.0",
     "model_name": "HBoxModel",
     "state": {
      "_dom_classes": [],
      "_model_module": "@jupyter-widgets/controls",
      "_model_module_version": "1.5.0",
      "_model_name": "HBoxModel",
      "_view_count": null,
      "_view_module": "@jupyter-widgets/controls",
      "_view_module_version": "1.5.0",
      "_view_name": "HBoxView",
      "box_style": "",
      "children": [
       "IPY_MODEL_e09dd53ac3044e3097ed084354a52e13",
       "IPY_MODEL_8b2a0088b39741f6968c95f40ff787e6",
       "IPY_MODEL_cf5fb8e067be464bb14a1cf5e8b4e2de"
      ],
      "layout": "IPY_MODEL_0a3d339ba81a4f22b893250502c493af"
     }
    },
    "8b2a0088b39741f6968c95f40ff787e6": {
     "model_module": "@jupyter-widgets/controls",
     "model_module_version": "1.5.0",
     "model_name": "FloatProgressModel",
     "state": {
      "_dom_classes": [],
      "_model_module": "@jupyter-widgets/controls",
      "_model_module_version": "1.5.0",
      "_model_name": "FloatProgressModel",
      "_view_count": null,
      "_view_module": "@jupyter-widgets/controls",
      "_view_module_version": "1.5.0",
      "_view_name": "ProgressView",
      "bar_style": "success",
      "description": "",
      "description_tooltip": null,
      "layout": "IPY_MODEL_56c90ad0a7fb47d08727a7dac3f68f39",
      "max": 170498071,
      "min": 0,
      "orientation": "horizontal",
      "style": "IPY_MODEL_4691e220a8cb466bb46540f16f65e864",
      "value": 170498071
     }
    },
    "cf5fb8e067be464bb14a1cf5e8b4e2de": {
     "model_module": "@jupyter-widgets/controls",
     "model_module_version": "1.5.0",
     "model_name": "HTMLModel",
     "state": {
      "_dom_classes": [],
      "_model_module": "@jupyter-widgets/controls",
      "_model_module_version": "1.5.0",
      "_model_name": "HTMLModel",
      "_view_count": null,
      "_view_module": "@jupyter-widgets/controls",
      "_view_module_version": "1.5.0",
      "_view_name": "HTMLView",
      "description": "",
      "description_tooltip": null,
      "layout": "IPY_MODEL_7c95c188ecf242de9776dcfd3e3fc8d2",
      "placeholder": "​",
      "style": "IPY_MODEL_619c9ef51fc5497f81b4af88db9214cc",
      "value": " 170498071/170498071 [00:01&lt;00:00, 97303096.82it/s]"
     }
    },
    "e09dd53ac3044e3097ed084354a52e13": {
     "model_module": "@jupyter-widgets/controls",
     "model_module_version": "1.5.0",
     "model_name": "HTMLModel",
     "state": {
      "_dom_classes": [],
      "_model_module": "@jupyter-widgets/controls",
      "_model_module_version": "1.5.0",
      "_model_name": "HTMLModel",
      "_view_count": null,
      "_view_module": "@jupyter-widgets/controls",
      "_view_module_version": "1.5.0",
      "_view_name": "HTMLView",
      "description": "",
      "description_tooltip": null,
      "layout": "IPY_MODEL_f4c44a600db84290a51877583e18ee26",
      "placeholder": "​",
      "style": "IPY_MODEL_00397590a13d454d8b16fd8d15ae9b41",
      "value": "100%"
     }
    },
    "f4c44a600db84290a51877583e18ee26": {
     "model_module": "@jupyter-widgets/base",
     "model_module_version": "1.2.0",
     "model_name": "LayoutModel",
     "state": {
      "_model_module": "@jupyter-widgets/base",
      "_model_module_version": "1.2.0",
      "_model_name": "LayoutModel",
      "_view_count": null,
      "_view_module": "@jupyter-widgets/base",
      "_view_module_version": "1.2.0",
      "_view_name": "LayoutView",
      "align_content": null,
      "align_items": null,
      "align_self": null,
      "border": null,
      "bottom": null,
      "display": null,
      "flex": null,
      "flex_flow": null,
      "grid_area": null,
      "grid_auto_columns": null,
      "grid_auto_flow": null,
      "grid_auto_rows": null,
      "grid_column": null,
      "grid_gap": null,
      "grid_row": null,
      "grid_template_areas": null,
      "grid_template_columns": null,
      "grid_template_rows": null,
      "height": null,
      "justify_content": null,
      "justify_items": null,
      "left": null,
      "margin": null,
      "max_height": null,
      "max_width": null,
      "min_height": null,
      "min_width": null,
      "object_fit": null,
      "object_position": null,
      "order": null,
      "overflow": null,
      "overflow_x": null,
      "overflow_y": null,
      "padding": null,
      "right": null,
      "top": null,
      "visibility": null,
      "width": null
     }
    }
   }
  }
 },
 "nbformat": 4,
 "nbformat_minor": 5
}
