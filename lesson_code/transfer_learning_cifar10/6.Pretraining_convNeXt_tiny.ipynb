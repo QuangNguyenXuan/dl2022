{
 "cells": [
  {
   "cell_type": "code",
   "execution_count": 1,
   "id": "d4e45a49-974f-4f9c-8642-42e2c45aab71",
   "metadata": {},
   "outputs": [],
   "source": [
    "import torch\n",
    "import torchvision.transforms as transforms\n",
    "import torch.nn as nn\n",
    "import torch.nn.functional as F\n",
    "\n",
    "import numpy as np\n",
    "import matplotlib.pyplot as plt\n",
    "\n",
    "from torchvision.datasets import CIFAR10\n",
    "from torch.utils.data import DataLoader \n",
    "from torch.optim import Adam\n",
    "import torchvision\n",
    "import torchvision.models as models\n",
    "from torchsummary import summary\n",
    "\n",
    "torch.manual_seed(1)\n",
    "device = 'cuda' if torch.cuda.is_available() else 'cpu'"
   ]
  },
  {
   "cell_type": "code",
   "execution_count": null,
   "id": "42432066-6cf0-416b-961a-adb1e3217204",
   "metadata": {},
   "outputs": [],
   "source": []
  },
  {
   "cell_type": "markdown",
   "id": "f913360b-019e-4d69-a540-b7b5715544e1",
   "metadata": {},
   "source": [
    "## Data"
   ]
  },
  {
   "cell_type": "code",
   "execution_count": 2,
   "id": "3ad21976-2d99-49b7-b0b5-84e9ebcd371e",
   "metadata": {},
   "outputs": [
    {
     "name": "stdout",
     "output_type": "stream",
     "text": [
      "Files already downloaded and verified\n",
      "Files already downloaded and verified\n"
     ]
    }
   ],
   "source": [
    "train_transform = transforms.Compose(\n",
    "    [\n",
    "        transforms.ToTensor(),\n",
    "        transforms.Normalize([0.4914, 0.4822, 0.4465], \n",
    "                             [0.2470, 0.2435, 0.2616]),\n",
    "        transforms.RandomErasing(p=0.75,\n",
    "                                 scale=(0.01, 0.3),\n",
    "                                 ratio=(1.0, 1.0),\n",
    "                                 value=0,\n",
    "                                 inplace =True)\n",
    "    ])\n",
    "\n",
    "val_transform = transforms.Compose(\n",
    "    [\n",
    "        transforms.ToTensor(),\n",
    "        transforms.Normalize([0.4914, 0.4822, 0.4465], \n",
    "                             [0.2470, 0.2435, 0.2616])\n",
    "    ])\n",
    "\n",
    "train_set = CIFAR10(\n",
    "    root='./data', \n",
    "    train=True,\n",
    "    download=True, \n",
    "    transform=train_transform\n",
    ")\n",
    "\n",
    "val_set = CIFAR10(\n",
    "    root='./data', \n",
    "    train=False,\n",
    "    download=True, \n",
    "    transform=val_transform\n",
    ")\n",
    "\n",
    "trainloader = DataLoader(\n",
    "    train_set, \n",
    "    batch_size=batch_size,\n",
    "    shuffle=True,\n",
    "    num_workers=10\n",
    ")\n",
    "\n",
    "testloader = DataLoader(\n",
    "    val_set, \n",
    "    batch_size=batch_size,\n",
    "    shuffle=False, \n",
    "    num_workers=10\n",
    ")"
   ]
  },
  {
   "cell_type": "code",
   "execution_count": null,
   "id": "cf229497-4b6e-443d-b330-66b6fa139fcd",
   "metadata": {},
   "outputs": [],
   "source": []
  },
  {
   "cell_type": "markdown",
   "id": "6ea0dde8-29e7-4096-bd15-6a5ed74655f0",
   "metadata": {},
   "source": [
    "## Model"
   ]
  },
  {
   "cell_type": "code",
   "execution_count": 3,
   "id": "c8516821-d41b-42a8-9e51-ddfb8f9ec87e",
   "metadata": {},
   "outputs": [
    {
     "name": "stdout",
     "output_type": "stream",
     "text": [
      "===============================================================================================\n",
      "Layer (type:depth-idx)                        Output Shape              Param #\n",
      "===============================================================================================\n",
      "├─Sequential: 1-1                             [-1, 768, 1, 1]           --\n",
      "|    └─Conv2dNormActivation: 2-1              [-1, 96, 8, 8]            --\n",
      "|    |    └─Conv2d: 3-1                       [-1, 96, 8, 8]            4,704\n",
      "|    |    └─LayerNorm2d: 3-2                  [-1, 96, 8, 8]            192\n",
      "|    └─Sequential: 2-2                        [-1, 96, 8, 8]            --\n",
      "|    |    └─CNBlock: 3-3                      [-1, 96, 8, 8]            79,296\n",
      "|    |    └─CNBlock: 3-4                      [-1, 96, 8, 8]            79,296\n",
      "|    |    └─CNBlock: 3-5                      [-1, 96, 8, 8]            79,296\n",
      "|    └─Sequential: 2-3                        [-1, 192, 4, 4]           --\n",
      "|    |    └─LayerNorm2d: 3-6                  [-1, 96, 8, 8]            192\n",
      "|    |    └─Conv2d: 3-7                       [-1, 192, 4, 4]           73,920\n",
      "|    └─Sequential: 2-4                        [-1, 192, 4, 4]           --\n",
      "|    |    └─CNBlock: 3-8                      [-1, 192, 4, 4]           306,048\n",
      "|    |    └─CNBlock: 3-9                      [-1, 192, 4, 4]           306,048\n",
      "|    |    └─CNBlock: 3-10                     [-1, 192, 4, 4]           306,048\n",
      "|    └─Sequential: 2-5                        [-1, 384, 2, 2]           --\n",
      "|    |    └─LayerNorm2d: 3-11                 [-1, 192, 4, 4]           384\n",
      "|    |    └─Conv2d: 3-12                      [-1, 384, 2, 2]           295,296\n",
      "|    └─Sequential: 2-6                        [-1, 384, 2, 2]           --\n",
      "|    |    └─CNBlock: 3-13                     [-1, 384, 2, 2]           1,201,920\n",
      "|    |    └─CNBlock: 3-14                     [-1, 384, 2, 2]           1,201,920\n",
      "|    |    └─CNBlock: 3-15                     [-1, 384, 2, 2]           1,201,920\n",
      "|    |    └─CNBlock: 3-16                     [-1, 384, 2, 2]           1,201,920\n",
      "|    |    └─CNBlock: 3-17                     [-1, 384, 2, 2]           1,201,920\n",
      "|    |    └─CNBlock: 3-18                     [-1, 384, 2, 2]           1,201,920\n",
      "|    |    └─CNBlock: 3-19                     [-1, 384, 2, 2]           1,201,920\n",
      "|    |    └─CNBlock: 3-20                     [-1, 384, 2, 2]           1,201,920\n",
      "|    |    └─CNBlock: 3-21                     [-1, 384, 2, 2]           1,201,920\n",
      "|    └─Sequential: 2-7                        [-1, 768, 1, 1]           --\n",
      "|    |    └─LayerNorm2d: 3-22                 [-1, 384, 2, 2]           768\n",
      "|    |    └─Conv2d: 3-23                      [-1, 768, 1, 1]           1,180,416\n",
      "|    └─Sequential: 2-8                        [-1, 768, 1, 1]           --\n",
      "|    |    └─CNBlock: 3-24                     [-1, 768, 1, 1]           4,763,136\n",
      "|    |    └─CNBlock: 3-25                     [-1, 768, 1, 1]           4,763,136\n",
      "|    |    └─CNBlock: 3-26                     [-1, 768, 1, 1]           4,763,136\n",
      "├─Flatten: 1-2                                [-1, 768]                 --\n",
      "├─Dropout: 1-3                                [-1, 768]                 --\n",
      "├─Linear: 1-4                                 [-1, 10]                  7,690\n",
      "===============================================================================================\n",
      "Total params: 27,826,282\n",
      "Trainable params: 27,826,282\n",
      "Non-trainable params: 0\n",
      "Total mult-adds (M): 111.79\n",
      "===============================================================================================\n",
      "Input size (MB): 0.01\n",
      "Forward/backward pass size (MB): 0.22\n",
      "Params size (MB): 106.15\n",
      "Estimated Total Size (MB): 106.38\n",
      "===============================================================================================\n"
     ]
    },
    {
     "data": {
      "text/plain": [
       "===============================================================================================\n",
       "Layer (type:depth-idx)                        Output Shape              Param #\n",
       "===============================================================================================\n",
       "├─Sequential: 1-1                             [-1, 768, 1, 1]           --\n",
       "|    └─Conv2dNormActivation: 2-1              [-1, 96, 8, 8]            --\n",
       "|    |    └─Conv2d: 3-1                       [-1, 96, 8, 8]            4,704\n",
       "|    |    └─LayerNorm2d: 3-2                  [-1, 96, 8, 8]            192\n",
       "|    └─Sequential: 2-2                        [-1, 96, 8, 8]            --\n",
       "|    |    └─CNBlock: 3-3                      [-1, 96, 8, 8]            79,296\n",
       "|    |    └─CNBlock: 3-4                      [-1, 96, 8, 8]            79,296\n",
       "|    |    └─CNBlock: 3-5                      [-1, 96, 8, 8]            79,296\n",
       "|    └─Sequential: 2-3                        [-1, 192, 4, 4]           --\n",
       "|    |    └─LayerNorm2d: 3-6                  [-1, 96, 8, 8]            192\n",
       "|    |    └─Conv2d: 3-7                       [-1, 192, 4, 4]           73,920\n",
       "|    └─Sequential: 2-4                        [-1, 192, 4, 4]           --\n",
       "|    |    └─CNBlock: 3-8                      [-1, 192, 4, 4]           306,048\n",
       "|    |    └─CNBlock: 3-9                      [-1, 192, 4, 4]           306,048\n",
       "|    |    └─CNBlock: 3-10                     [-1, 192, 4, 4]           306,048\n",
       "|    └─Sequential: 2-5                        [-1, 384, 2, 2]           --\n",
       "|    |    └─LayerNorm2d: 3-11                 [-1, 192, 4, 4]           384\n",
       "|    |    └─Conv2d: 3-12                      [-1, 384, 2, 2]           295,296\n",
       "|    └─Sequential: 2-6                        [-1, 384, 2, 2]           --\n",
       "|    |    └─CNBlock: 3-13                     [-1, 384, 2, 2]           1,201,920\n",
       "|    |    └─CNBlock: 3-14                     [-1, 384, 2, 2]           1,201,920\n",
       "|    |    └─CNBlock: 3-15                     [-1, 384, 2, 2]           1,201,920\n",
       "|    |    └─CNBlock: 3-16                     [-1, 384, 2, 2]           1,201,920\n",
       "|    |    └─CNBlock: 3-17                     [-1, 384, 2, 2]           1,201,920\n",
       "|    |    └─CNBlock: 3-18                     [-1, 384, 2, 2]           1,201,920\n",
       "|    |    └─CNBlock: 3-19                     [-1, 384, 2, 2]           1,201,920\n",
       "|    |    └─CNBlock: 3-20                     [-1, 384, 2, 2]           1,201,920\n",
       "|    |    └─CNBlock: 3-21                     [-1, 384, 2, 2]           1,201,920\n",
       "|    └─Sequential: 2-7                        [-1, 768, 1, 1]           --\n",
       "|    |    └─LayerNorm2d: 3-22                 [-1, 384, 2, 2]           768\n",
       "|    |    └─Conv2d: 3-23                      [-1, 768, 1, 1]           1,180,416\n",
       "|    └─Sequential: 2-8                        [-1, 768, 1, 1]           --\n",
       "|    |    └─CNBlock: 3-24                     [-1, 768, 1, 1]           4,763,136\n",
       "|    |    └─CNBlock: 3-25                     [-1, 768, 1, 1]           4,763,136\n",
       "|    |    └─CNBlock: 3-26                     [-1, 768, 1, 1]           4,763,136\n",
       "├─Flatten: 1-2                                [-1, 768]                 --\n",
       "├─Dropout: 1-3                                [-1, 768]                 --\n",
       "├─Linear: 1-4                                 [-1, 10]                  7,690\n",
       "===============================================================================================\n",
       "Total params: 27,826,282\n",
       "Trainable params: 27,826,282\n",
       "Non-trainable params: 0\n",
       "Total mult-adds (M): 111.79\n",
       "===============================================================================================\n",
       "Input size (MB): 0.01\n",
       "Forward/backward pass size (MB): 0.22\n",
       "Params size (MB): 106.15\n",
       "Estimated Total Size (MB): 106.38\n",
       "==============================================================================================="
      ]
     },
     "execution_count": 3,
     "metadata": {},
     "output_type": "execute_result"
    }
   ],
   "source": [
    "# Load the pretrained VGG16 model\n",
    "convnext_tiny = models.convnext_tiny(weights=models.ConvNeXt_Tiny_Weights.IMAGENET1K_V1)\n",
    "f_extractor = convnext_tiny.features\n",
    "\n",
    "model = nn.Sequential(f_extractor, \n",
    "                      nn.Flatten(), \n",
    "                      nn.Dropout(), \n",
    "                      nn.Linear(768, 10))\n",
    "model.to(device)\n",
    "summary(model, (3, 32, 32))"
   ]
  },
  {
   "cell_type": "code",
   "execution_count": null,
   "id": "9b8b7cc7-f67c-4ba0-ba21-ac2ed717f674",
   "metadata": {},
   "outputs": [],
   "source": []
  },
  {
   "cell_type": "markdown",
   "id": "43c7b151-a199-4e2a-8015-fdfb5f166284",
   "metadata": {},
   "source": [
    "# Train"
   ]
  },
  {
   "cell_type": "code",
   "execution_count": 4,
   "id": "1464e2bd-b627-475d-9941-f2a930d69a14",
   "metadata": {},
   "outputs": [],
   "source": [
    "criterion = nn.CrossEntropyLoss()\n",
    "optimizer = Adam(model.parameters(), lr=1e-4)  "
   ]
  },
  {
   "cell_type": "code",
   "execution_count": 5,
   "id": "04744c84-1e6d-4bfb-8dd5-abbdc91f102e",
   "metadata": {},
   "outputs": [],
   "source": [
    "# Function to compute loss and accuracy for test set\n",
    "def evaluate(model, testloader, criterion):\n",
    "    model.eval()\n",
    "    test_loss = 0.0\n",
    "    running_correct = 0\n",
    "    total = 0\n",
    "    with torch.no_grad():\n",
    "        for images, labels in testloader:\n",
    "            # Move inputs and labels to the device\n",
    "            images, labels = images.to(device), labels.to(device)\n",
    "\n",
    "            outputs = model(images)\n",
    "            loss = criterion(outputs, labels)\n",
    "            test_loss += loss.item()\n",
    "            \n",
    "            _, predicted = torch.max(outputs.data, 1)\n",
    "            total += labels.size(0)\n",
    "            running_correct += (predicted == labels).sum().item()\n",
    "\n",
    "    accuracy = 100 * running_correct / total\n",
    "    test_loss = test_loss / len(testloader)\n",
    "    return test_loss, accuracy"
   ]
  },
  {
   "cell_type": "code",
   "execution_count": 6,
   "id": "f2402591-e7f7-4bdd-8962-c029cfcd9307",
   "metadata": {},
   "outputs": [],
   "source": [
    "# some parameter\n",
    "train_losses = []\n",
    "train_accuracies = []\n",
    "test_losses = []\n",
    "test_accuracies = []\n",
    "max_epoch = 100"
   ]
  },
  {
   "cell_type": "code",
   "execution_count": 7,
   "id": "190a58e1-0864-4818-a8d2-0f83212c6d13",
   "metadata": {},
   "outputs": [
    {
     "name": "stdout",
     "output_type": "stream",
     "text": [
      "Epoch [1/100], Loss: 0.8128, Accuracy: 72.54%, Test Loss: 0.3595, Test Accuracy: 87.91%\n",
      "Epoch [2/100], Loss: 0.4050, Accuracy: 86.36%, Test Loss: 0.2891, Test Accuracy: 90.16%\n",
      "Epoch [3/100], Loss: 0.3016, Accuracy: 89.81%, Test Loss: 0.2790, Test Accuracy: 90.48%\n",
      "Epoch [4/100], Loss: 0.2362, Accuracy: 92.15%, Test Loss: 0.2927, Test Accuracy: 90.42%\n",
      "Epoch [5/100], Loss: 0.1891, Accuracy: 93.72%, Test Loss: 0.2762, Test Accuracy: 91.51%\n",
      "Epoch [6/100], Loss: 0.1642, Accuracy: 94.54%, Test Loss: 0.2909, Test Accuracy: 91.24%\n",
      "Epoch [7/100], Loss: 0.1420, Accuracy: 95.19%, Test Loss: 0.2963, Test Accuracy: 91.32%\n",
      "Epoch [8/100], Loss: 0.1213, Accuracy: 96.05%, Test Loss: 0.3024, Test Accuracy: 91.44%\n",
      "Epoch [9/100], Loss: 0.1095, Accuracy: 96.38%, Test Loss: 0.3141, Test Accuracy: 91.49%\n",
      "Epoch [10/100], Loss: 0.1003, Accuracy: 96.71%, Test Loss: 0.3116, Test Accuracy: 91.68%\n",
      "Epoch [11/100], Loss: 0.0896, Accuracy: 97.06%, Test Loss: 0.3296, Test Accuracy: 91.48%\n",
      "Epoch [12/100], Loss: 0.0822, Accuracy: 97.29%, Test Loss: 0.3384, Test Accuracy: 91.59%\n",
      "Epoch [13/100], Loss: 0.0789, Accuracy: 97.43%, Test Loss: 0.3521, Test Accuracy: 91.54%\n",
      "Epoch [14/100], Loss: 0.0716, Accuracy: 97.72%, Test Loss: 0.3378, Test Accuracy: 91.75%\n",
      "Epoch [15/100], Loss: 0.0655, Accuracy: 97.88%, Test Loss: 0.3534, Test Accuracy: 91.66%\n",
      "Epoch [16/100], Loss: 0.0643, Accuracy: 97.84%, Test Loss: 0.3990, Test Accuracy: 91.26%\n",
      "Epoch [17/100], Loss: 0.0597, Accuracy: 98.05%, Test Loss: 0.3760, Test Accuracy: 91.38%\n",
      "Epoch [18/100], Loss: 0.0574, Accuracy: 98.11%, Test Loss: 0.3638, Test Accuracy: 91.68%\n",
      "Epoch [19/100], Loss: 0.0512, Accuracy: 98.34%, Test Loss: 0.4162, Test Accuracy: 91.60%\n",
      "Epoch [20/100], Loss: 0.0545, Accuracy: 98.24%, Test Loss: 0.3805, Test Accuracy: 91.90%\n",
      "Epoch [21/100], Loss: 0.0501, Accuracy: 98.33%, Test Loss: 0.3840, Test Accuracy: 91.58%\n",
      "Epoch [22/100], Loss: 0.0493, Accuracy: 98.39%, Test Loss: 0.4104, Test Accuracy: 91.14%\n",
      "Epoch [23/100], Loss: 0.0489, Accuracy: 98.39%, Test Loss: 0.3894, Test Accuracy: 91.63%\n",
      "Epoch [24/100], Loss: 0.0451, Accuracy: 98.51%, Test Loss: 0.4004, Test Accuracy: 91.74%\n",
      "Epoch [25/100], Loss: 0.0450, Accuracy: 98.50%, Test Loss: 0.3461, Test Accuracy: 91.86%\n",
      "Epoch [26/100], Loss: 0.0393, Accuracy: 98.68%, Test Loss: 0.3964, Test Accuracy: 91.57%\n",
      "Epoch [27/100], Loss: 0.0412, Accuracy: 98.64%, Test Loss: 0.3881, Test Accuracy: 91.49%\n",
      "Epoch [28/100], Loss: 0.0397, Accuracy: 98.72%, Test Loss: 0.4036, Test Accuracy: 91.50%\n",
      "Epoch [29/100], Loss: 0.0377, Accuracy: 98.77%, Test Loss: 0.4140, Test Accuracy: 91.22%\n",
      "Epoch [30/100], Loss: 0.0383, Accuracy: 98.74%, Test Loss: 0.4101, Test Accuracy: 91.26%\n",
      "Epoch [31/100], Loss: 0.0371, Accuracy: 98.81%, Test Loss: 0.3982, Test Accuracy: 91.38%\n",
      "Epoch [32/100], Loss: 0.0345, Accuracy: 98.82%, Test Loss: 0.4188, Test Accuracy: 91.31%\n",
      "Epoch [33/100], Loss: 0.0384, Accuracy: 98.78%, Test Loss: 0.3928, Test Accuracy: 91.39%\n",
      "Epoch [34/100], Loss: 0.0329, Accuracy: 98.89%, Test Loss: 0.4109, Test Accuracy: 91.29%\n",
      "Epoch [35/100], Loss: 0.0333, Accuracy: 98.89%, Test Loss: 0.4120, Test Accuracy: 91.24%\n",
      "Epoch [36/100], Loss: 0.0322, Accuracy: 98.98%, Test Loss: 0.4108, Test Accuracy: 91.51%\n",
      "Epoch [37/100], Loss: 0.0315, Accuracy: 98.94%, Test Loss: 0.4243, Test Accuracy: 91.33%\n",
      "Epoch [38/100], Loss: 0.0303, Accuracy: 99.02%, Test Loss: 0.4217, Test Accuracy: 91.31%\n",
      "Epoch [39/100], Loss: 0.0321, Accuracy: 98.96%, Test Loss: 0.3876, Test Accuracy: 91.30%\n",
      "Epoch [40/100], Loss: 0.0272, Accuracy: 99.12%, Test Loss: 0.4086, Test Accuracy: 91.28%\n",
      "Epoch [41/100], Loss: 0.0291, Accuracy: 99.05%, Test Loss: 0.4289, Test Accuracy: 91.16%\n",
      "Epoch [42/100], Loss: 0.0293, Accuracy: 99.03%, Test Loss: 0.4131, Test Accuracy: 91.15%\n",
      "Epoch [43/100], Loss: 0.0291, Accuracy: 99.06%, Test Loss: 0.4124, Test Accuracy: 91.19%\n",
      "Epoch [44/100], Loss: 0.0273, Accuracy: 99.12%, Test Loss: 0.4224, Test Accuracy: 91.41%\n",
      "Epoch [45/100], Loss: 0.0269, Accuracy: 99.13%, Test Loss: 0.4119, Test Accuracy: 91.64%\n",
      "Epoch [46/100], Loss: 0.0289, Accuracy: 99.07%, Test Loss: 0.4093, Test Accuracy: 91.38%\n",
      "Epoch [47/100], Loss: 0.0243, Accuracy: 99.19%, Test Loss: 0.4064, Test Accuracy: 91.40%\n",
      "Epoch [48/100], Loss: 0.0248, Accuracy: 99.19%, Test Loss: 0.4403, Test Accuracy: 91.08%\n",
      "Epoch [49/100], Loss: 0.0239, Accuracy: 99.24%, Test Loss: 0.4635, Test Accuracy: 91.18%\n",
      "Epoch [50/100], Loss: 0.0262, Accuracy: 99.17%, Test Loss: 0.4240, Test Accuracy: 91.60%\n",
      "Epoch [51/100], Loss: 0.0244, Accuracy: 99.24%, Test Loss: 0.4397, Test Accuracy: 91.32%\n",
      "Epoch [52/100], Loss: 0.0270, Accuracy: 99.09%, Test Loss: 0.4198, Test Accuracy: 91.60%\n",
      "Epoch [53/100], Loss: 0.0238, Accuracy: 99.22%, Test Loss: 0.4448, Test Accuracy: 91.05%\n",
      "Epoch [54/100], Loss: 0.0248, Accuracy: 99.16%, Test Loss: 0.4135, Test Accuracy: 91.21%\n",
      "Epoch [55/100], Loss: 0.0214, Accuracy: 99.31%, Test Loss: 0.4522, Test Accuracy: 91.28%\n",
      "Epoch [56/100], Loss: 0.0209, Accuracy: 99.32%, Test Loss: 0.4390, Test Accuracy: 91.14%\n",
      "Epoch [57/100], Loss: 0.0209, Accuracy: 99.35%, Test Loss: 0.4606, Test Accuracy: 90.92%\n",
      "Epoch [58/100], Loss: 0.0237, Accuracy: 99.25%, Test Loss: 0.4291, Test Accuracy: 90.82%\n",
      "Epoch [59/100], Loss: 0.0223, Accuracy: 99.29%, Test Loss: 0.4200, Test Accuracy: 91.17%\n",
      "Epoch [60/100], Loss: 0.0216, Accuracy: 99.30%, Test Loss: 0.4673, Test Accuracy: 91.46%\n",
      "Epoch [61/100], Loss: 0.0215, Accuracy: 99.30%, Test Loss: 0.4219, Test Accuracy: 91.19%\n",
      "Epoch [62/100], Loss: 0.0191, Accuracy: 99.35%, Test Loss: 0.4628, Test Accuracy: 90.96%\n",
      "Epoch [63/100], Loss: 0.0198, Accuracy: 99.37%, Test Loss: 0.4349, Test Accuracy: 91.29%\n",
      "Epoch [64/100], Loss: 0.0198, Accuracy: 99.37%, Test Loss: 0.4783, Test Accuracy: 91.19%\n",
      "Epoch [65/100], Loss: 0.0196, Accuracy: 99.37%, Test Loss: 0.4696, Test Accuracy: 91.10%\n",
      "Epoch [66/100], Loss: 0.0195, Accuracy: 99.40%, Test Loss: 0.4846, Test Accuracy: 91.06%\n",
      "Epoch [67/100], Loss: 0.0210, Accuracy: 99.31%, Test Loss: 0.4707, Test Accuracy: 91.15%\n",
      "Epoch [68/100], Loss: 0.0194, Accuracy: 99.37%, Test Loss: 0.4877, Test Accuracy: 91.00%\n",
      "Epoch [69/100], Loss: 0.0202, Accuracy: 99.34%, Test Loss: 0.4663, Test Accuracy: 91.01%\n",
      "Epoch [70/100], Loss: 0.0191, Accuracy: 99.39%, Test Loss: 0.5016, Test Accuracy: 90.66%\n",
      "Epoch [71/100], Loss: 0.0185, Accuracy: 99.38%, Test Loss: 0.4551, Test Accuracy: 90.72%\n",
      "Epoch [72/100], Loss: 0.0181, Accuracy: 99.41%, Test Loss: 0.4454, Test Accuracy: 91.29%\n",
      "Epoch [73/100], Loss: 0.0174, Accuracy: 99.45%, Test Loss: 0.4766, Test Accuracy: 91.18%\n",
      "Epoch [74/100], Loss: 0.0172, Accuracy: 99.38%, Test Loss: 0.4957, Test Accuracy: 91.01%\n",
      "Epoch [75/100], Loss: 0.0183, Accuracy: 99.43%, Test Loss: 0.4909, Test Accuracy: 90.87%\n",
      "Epoch [76/100], Loss: 0.0196, Accuracy: 99.34%, Test Loss: 0.4497, Test Accuracy: 90.98%\n",
      "Epoch [77/100], Loss: 0.0175, Accuracy: 99.42%, Test Loss: 0.4885, Test Accuracy: 90.96%\n",
      "Epoch [78/100], Loss: 0.0153, Accuracy: 99.51%, Test Loss: 0.5166, Test Accuracy: 91.00%\n",
      "Epoch [79/100], Loss: 0.0179, Accuracy: 99.46%, Test Loss: 0.4866, Test Accuracy: 91.06%\n",
      "Epoch [80/100], Loss: 0.0171, Accuracy: 99.47%, Test Loss: 0.4759, Test Accuracy: 90.79%\n",
      "Epoch [81/100], Loss: 0.0156, Accuracy: 99.50%, Test Loss: 0.4819, Test Accuracy: 91.24%\n",
      "Epoch [82/100], Loss: 0.0167, Accuracy: 99.48%, Test Loss: 0.4721, Test Accuracy: 90.73%\n",
      "Epoch [83/100], Loss: 0.0157, Accuracy: 99.49%, Test Loss: 0.5179, Test Accuracy: 90.68%\n",
      "Epoch [84/100], Loss: 0.0165, Accuracy: 99.45%, Test Loss: 0.4802, Test Accuracy: 90.87%\n",
      "Epoch [85/100], Loss: 0.0167, Accuracy: 99.45%, Test Loss: 0.4927, Test Accuracy: 90.87%\n",
      "Epoch [86/100], Loss: 0.0165, Accuracy: 99.49%, Test Loss: 0.4839, Test Accuracy: 90.92%\n",
      "Epoch [87/100], Loss: 0.0154, Accuracy: 99.54%, Test Loss: 0.4913, Test Accuracy: 90.76%\n",
      "Epoch [88/100], Loss: 0.0161, Accuracy: 99.49%, Test Loss: 0.4875, Test Accuracy: 90.87%\n",
      "Epoch [89/100], Loss: 0.0148, Accuracy: 99.52%, Test Loss: 0.4809, Test Accuracy: 91.06%\n",
      "Epoch [90/100], Loss: 0.0153, Accuracy: 99.52%, Test Loss: 0.4649, Test Accuracy: 91.11%\n",
      "Epoch [91/100], Loss: 0.0162, Accuracy: 99.46%, Test Loss: 0.4573, Test Accuracy: 90.48%\n",
      "Epoch [92/100], Loss: 0.0148, Accuracy: 99.51%, Test Loss: 0.4941, Test Accuracy: 90.86%\n",
      "Epoch [93/100], Loss: 0.0172, Accuracy: 99.47%, Test Loss: 0.5100, Test Accuracy: 90.91%\n",
      "Epoch [94/100], Loss: 0.0152, Accuracy: 99.51%, Test Loss: 0.4804, Test Accuracy: 90.70%\n",
      "Epoch [95/100], Loss: 0.0143, Accuracy: 99.53%, Test Loss: 0.5006, Test Accuracy: 91.07%\n",
      "Epoch [96/100], Loss: 0.0135, Accuracy: 99.56%, Test Loss: 0.5068, Test Accuracy: 90.80%\n",
      "Epoch [97/100], Loss: 0.0153, Accuracy: 99.51%, Test Loss: 0.4984, Test Accuracy: 90.74%\n",
      "Epoch [98/100], Loss: 0.0149, Accuracy: 99.51%, Test Loss: 0.4927, Test Accuracy: 90.89%\n",
      "Epoch [99/100], Loss: 0.0142, Accuracy: 99.52%, Test Loss: 0.4829, Test Accuracy: 90.92%\n",
      "Epoch [100/100], Loss: 0.0156, Accuracy: 99.48%, Test Loss: 0.4565, Test Accuracy: 90.80%\n"
     ]
    }
   ],
   "source": [
    "# train\n",
    "for epoch in range(max_epoch):\n",
    "    model.train()\n",
    "    running_loss = 0.0\n",
    "    running_correct = 0   # to track number of correct predictions\n",
    "    total = 0             # to track total number of samples\n",
    "\n",
    "    for i, (inputs, labels) in enumerate(trainloader, 0):\n",
    "        # Move inputs and labels to the device\n",
    "        inputs, labels = inputs.to(device), labels.to(device)\n",
    "\n",
    "        # Zero the parameter gradients\n",
    "        optimizer.zero_grad()\n",
    "\n",
    "        # Forward pass\n",
    "        outputs = model(inputs)\n",
    "        loss = criterion(outputs, labels)\n",
    "        running_loss += loss.item()\n",
    "\n",
    "        # Backward pass and optimization\n",
    "        loss.backward()\n",
    "        optimizer.step()  \n",
    "    \n",
    "        # Determine class predictions and track accuracy\n",
    "        _, predicted = torch.max(outputs.data, 1)\n",
    "        total += labels.size(0)\n",
    "        running_correct += (predicted == labels).sum().item()\n",
    "\n",
    "\n",
    "    epoch_accuracy = 100 * running_correct / total\n",
    "    epoch_loss = running_loss / (i + 1)\n",
    "    \n",
    "    test_loss, test_accuracy = evaluate(model, testloader, criterion)\n",
    "    print(f\"Epoch [{epoch + 1}/{max_epoch}], Loss: {epoch_loss:.4f}, Accuracy: {epoch_accuracy:.2f}%, Test Loss: {test_loss:.4f}, Test Accuracy: {test_accuracy:.2f}%\")\n",
    "    \n",
    "    # save for plot\n",
    "    train_losses.append(epoch_loss)\n",
    "    train_accuracies.append(epoch_accuracy)\n",
    "    test_losses.append(test_loss)\n",
    "    test_accuracies.append(test_accuracy)"
   ]
  },
  {
   "cell_type": "code",
   "execution_count": null,
   "id": "cebcb439-88f2-40b6-9a17-4990ad324731",
   "metadata": {},
   "outputs": [],
   "source": []
  },
  {
   "cell_type": "code",
   "execution_count": 8,
   "id": "DkC3_902Lgn-",
   "metadata": {
    "executionInfo": {
     "elapsed": 3,
     "status": "ok",
     "timestamp": 1673091684322,
     "user": {
      "displayName": "Thắng Dương Đình",
      "userId": "02196529682032971345"
     },
     "user_tz": -420
    },
    "id": "DkC3_902Lgn-"
   },
   "outputs": [
    {
     "data": {
      "text/plain": [
       "<matplotlib.legend.Legend at 0x7f2663ec8a60>"
      ]
     },
     "execution_count": 8,
     "metadata": {},
     "output_type": "execute_result"
    },
    {
     "data": {
      "image/png": "[encoded data removed]",
      "text/plain": [
       "<Figure size 640x480 with 1 Axes>"
      ]
     },
     "metadata": {},
     "output_type": "display_data"
    }
   ],
   "source": [
    "import matplotlib.pyplot as plt\n",
    "\n",
    "plt.plot(train_losses, label='train_losses')\n",
    "plt.plot(test_losses, label='test_losses')\n",
    "plt.legend()"
   ]
  },
  {
   "cell_type": "code",
   "execution_count": 9,
   "id": "794f4e81",
   "metadata": {
    "executionInfo": {
     "elapsed": 8,
     "status": "ok",
     "timestamp": 1673092872464,
     "user": {
      "displayName": "Thắng Dương Đình",
      "userId": "02196529682032971345"
     },
     "user_tz": -420
    },
    "id": "794f4e81"
   },
   "outputs": [
    {
     "data": {
      "text/plain": [
       "<matplotlib.legend.Legend at 0x7f2698be2ad0>"
      ]
     },
     "execution_count": 9,
     "metadata": {},
     "output_type": "execute_result"
    },
    {
     "data": {
      "image/png": "[encoded data removed]",
      "text/plain": [
       "<Figure size 640x480 with 1 Axes>"
      ]
     },
     "metadata": {},
     "output_type": "display_data"
    }
   ],
   "source": [
    "import matplotlib.pyplot as plt\n",
    "\n",
    "plt.plot(train_accuracies, label='train_accuracy')\n",
    "plt.plot(test_accuracies, label='test_accuracy')\n",
    "plt.legend()"
   ]
  },
  {
   "cell_type": "code",
   "execution_count": null,
   "id": "a2ec7c96-ff05-4863-92e7-c45f2f0e3d03",
   "metadata": {},
   "outputs": [],
   "source": []
  },
  {
   "cell_type": "code",
   "execution_count": null,
   "id": "8c86325e-7b6c-43a6-b315-93e02bcdb264",
   "metadata": {},
   "outputs": [],
   "source": []
  },
  {
   "cell_type": "code",
   "execution_count": 10,
   "id": "d2a401f6-9ed4-4dee-9e95-f65826e2d92d",
   "metadata": {},
   "outputs": [
    {
     "data": {
      "text/plain": [
       "<matplotlib.legend.Legend at 0x7f2634333bb0>"
      ]
     },
     "execution_count": 10,
     "metadata": {},
     "output_type": "execute_result"
    }
   ],
   "source": [
    "import matplotlib.pyplot as plt\n",
    "%matplotlib qt\n",
    "\n",
    "plt.plot(train_losses, label='train_losses')\n",
    "plt.plot(test_losses, label='test_losses')\n",
    "plt.legend()"
   ]
  },
  {
   "cell_type": "code",
   "execution_count": 11,
   "id": "b4d1601e-a633-4f04-b476-7288856e1971",
   "metadata": {},
   "outputs": [
    {
     "data": {
      "text/plain": [
       "<matplotlib.legend.Legend at 0x7f260d65a560>"
      ]
     },
     "execution_count": 11,
     "metadata": {},
     "output_type": "execute_result"
    }
   ],
   "source": [
    "import matplotlib.pyplot as plt\n",
    "%matplotlib qt\n",
    "\n",
    "plt.plot(train_accuracies, label='train_accuracy')\n",
    "plt.plot(test_accuracies, label='test_accuracy')\n",
    "plt.legend()"
   ]
  },
  {
   "cell_type": "code",
   "execution_count": null,
   "id": "386d038d-d554-4857-ab4b-fe1314e8937c",
   "metadata": {},
   "outputs": [],
   "source": []
  }
 ],
 "metadata": {
  "accelerator": "GPU",
  "colab": {
   "provenance": []
  },
  "gpuClass": "standard",
  "kernelspec": {
   "display_name": "Python 3 (ipykernel)",
   "language": "python",
   "name": "python3"
  },
  "language_info": {
   "codemirror_mode": {
    "name": "ipython",
    "version": 3
   },
   "file_extension": ".py",
   "mimetype": "text/x-python",
   "name": "python",
   "nbconvert_exporter": "python",
   "pygments_lexer": "ipython3",
   "version": "3.11.5"
  },
  "widgets": {
   "application/vnd.jupyter.widget-state+json": {
    "00397590a13d454d8b16fd8d15ae9b41": {
     "model_module": "@jupyter-widgets/controls",
     "model_module_version": "1.5.0",
     "model_name": "DescriptionStyleModel",
     "state": {
      "_model_module": "@jupyter-widgets/controls",
      "_model_module_version": "1.5.0",
      "_model_name": "DescriptionStyleModel",
      "_view_count": null,
      "_view_module": "@jupyter-widgets/base",
      "_view_module_version": "1.2.0",
      "_view_name": "StyleView",
      "description_width": ""
     }
    },
    "0a3d339ba81a4f22b893250502c493af": {
     "model_module": "@jupyter-widgets/base",
     "model_module_version": "1.2.0",
     "model_name": "LayoutModel",
     "state": {
      "_model_module": "@jupyter-widgets/base",
      "_model_module_version": "1.2.0",
      "_model_name": "LayoutModel",
      "_view_count": null,
      "_view_module": "@jupyter-widgets/base",
      "_view_module_version": "1.2.0",
      "_view_name": "LayoutView",
      "align_content": null,
      "align_items": null,
      "align_self": null,
      "border": null,
      "bottom": null,
      "display": null,
      "flex": null,
      "flex_flow": null,
      "grid_area": null,
      "grid_auto_columns": null,
      "grid_auto_flow": null,
      "grid_auto_rows": null,
      "grid_column": null,
      "grid_gap": null,
      "grid_row": null,
      "grid_template_areas": null,
      "grid_template_columns": null,
      "grid_template_rows": null,
      "height": null,
      "justify_content": null,
      "justify_items": null,
      "left": null,
      "margin": null,
      "max_height": null,
      "max_width": null,
      "min_height": null,
      "min_width": null,
      "object_fit": null,
      "object_position": null,
      "order": null,
      "overflow": null,
      "overflow_x": null,
      "overflow_y": null,
      "padding": null,
      "right": null,
      "top": null,
      "visibility": null,
      "width": null
     }
    },
    "4691e220a8cb466bb46540f16f65e864": {
     "model_module": "@jupyter-widgets/controls",
     "model_module_version": "1.5.0",
     "model_name": "ProgressStyleModel",
     "state": {
      "_model_module": "@jupyter-widgets/controls",
      "_model_module_version": "1.5.0",
      "_model_name": "ProgressStyleModel",
      "_view_count": null,
      "_view_module": "@jupyter-widgets/base",
      "_view_module_version": "1.2.0",
      "_view_name": "StyleView",
      "bar_color": null,
      "description_width": ""
     }
    },
    "56c90ad0a7fb47d08727a7dac3f68f39": {
     "model_module": "@jupyter-widgets/base",
     "model_module_version": "1.2.0",
     "model_name": "LayoutModel",
     "state": {
      "_model_module": "@jupyter-widgets/base",
      "_model_module_version": "1.2.0",
      "_model_name": "LayoutModel",
      "_view_count": null,
      "_view_module": "@jupyter-widgets/base",
      "_view_module_version": "1.2.0",
      "_view_name": "LayoutView",
      "align_content": null,
      "align_items": null,
      "align_self": null,
      "border": null,
      "bottom": null,
      "display": null,
      "flex": null,
      "flex_flow": null,
      "grid_area": null,
      "grid_auto_columns": null,
      "grid_auto_flow": null,
      "grid_auto_rows": null,
      "grid_column": null,
      "grid_gap": null,
      "grid_row": null,
      "grid_template_areas": null,
      "grid_template_columns": null,
      "grid_template_rows": null,
      "height": null,
      "justify_content": null,
      "justify_items": null,
      "left": null,
      "margin": null,
      "max_height": null,
      "max_width": null,
      "min_height": null,
      "min_width": null,
      "object_fit": null,
      "object_position": null,
      "order": null,
      "overflow": null,
      "overflow_x": null,
      "overflow_y": null,
      "padding": null,
      "right": null,
      "top": null,
      "visibility": null,
      "width": null
     }
    },
    "619c9ef51fc5497f81b4af88db9214cc": {
     "model_module": "@jupyter-widgets/controls",
     "model_module_version": "1.5.0",
     "model_name": "DescriptionStyleModel",
     "state": {
      "_model_module": "@jupyter-widgets/controls",
      "_model_module_version": "1.5.0",
      "_model_name": "DescriptionStyleModel",
      "_view_count": null,
      "_view_module": "@jupyter-widgets/base",
      "_view_module_version": "1.2.0",
      "_view_name": "StyleView",
      "description_width": ""
     }
    },
    "7c95c188ecf242de9776dcfd3e3fc8d2": {
     "model_module": "@jupyter-widgets/base",
     "model_module_version": "1.2.0",
     "model_name": "LayoutModel",
     "state": {
      "_model_module": "@jupyter-widgets/base",
      "_model_module_version": "1.2.0",
      "_model_name": "LayoutModel",
      "_view_count": null,
      "_view_module": "@jupyter-widgets/base",
      "_view_module_version": "1.2.0",
      "_view_name": "LayoutView",
      "align_content": null,
      "align_items": null,
      "align_self": null,
      "border": null,
      "bottom": null,
      "display": null,
      "flex": null,
      "flex_flow": null,
      "grid_area": null,
      "grid_auto_columns": null,
      "grid_auto_flow": null,
      "grid_auto_rows": null,
      "grid_column": null,
      "grid_gap": null,
      "grid_row": null,
      "grid_template_areas": null,
      "grid_template_columns": null,
      "grid_template_rows": null,
      "height": null,
      "justify_content": null,
      "justify_items": null,
      "left": null,
      "margin": null,
      "max_height": null,
      "max_width": null,
      "min_height": null,
      "min_width": null,
      "object_fit": null,
      "object_position": null,
      "order": null,
      "overflow": null,
      "overflow_x": null,
      "overflow_y": null,
      "padding": null,
      "right": null,
      "top": null,
      "visibility": null,
      "width": null
     }
    },
    "8a6ed597588f4c07bff4271aeba7c1bb": {
     "model_module": "@jupyter-widgets/controls",
     "model_module_version": "1.5.0",
     "model_name": "HBoxModel",
     "state": {
      "_dom_classes": [],
      "_model_module": "@jupyter-widgets/controls",
      "_model_module_version": "1.5.0",
      "_model_name": "HBoxModel",
      "_view_count": null,
      "_view_module": "@jupyter-widgets/controls",
      "_view_module_version": "1.5.0",
      "_view_name": "HBoxView",
      "box_style": "",
      "children": [
       "IPY_MODEL_e09dd53ac3044e3097ed084354a52e13",
       "IPY_MODEL_8b2a0088b39741f6968c95f40ff787e6",
       "IPY_MODEL_cf5fb8e067be464bb14a1cf5e8b4e2de"
      ],
      "layout": "IPY_MODEL_0a3d339ba81a4f22b893250502c493af"
     }
    },
    "8b2a0088b39741f6968c95f40ff787e6": {
     "model_module": "@jupyter-widgets/controls",
     "model_module_version": "1.5.0",
     "model_name": "FloatProgressModel",
     "state": {
      "_dom_classes": [],
      "_model_module": "@jupyter-widgets/controls",
      "_model_module_version": "1.5.0",
      "_model_name": "FloatProgressModel",
      "_view_count": null,
      "_view_module": "@jupyter-widgets/controls",
      "_view_module_version": "1.5.0",
      "_view_name": "ProgressView",
      "bar_style": "success",
      "description": "",
      "description_tooltip": null,
      "layout": "IPY_MODEL_56c90ad0a7fb47d08727a7dac3f68f39",
      "max": 170498071,
      "min": 0,
      "orientation": "horizontal",
      "style": "IPY_MODEL_4691e220a8cb466bb46540f16f65e864",
      "value": 170498071
     }
    },
    "cf5fb8e067be464bb14a1cf5e8b4e2de": {
     "model_module": "@jupyter-widgets/controls",
     "model_module_version": "1.5.0",
     "model_name": "HTMLModel",
     "state": {
      "_dom_classes": [],
      "_model_module": "@jupyter-widgets/controls",
      "_model_module_version": "1.5.0",
      "_model_name": "HTMLModel",
      "_view_count": null,
      "_view_module": "@jupyter-widgets/controls",
      "_view_module_version": "1.5.0",
      "_view_name": "HTMLView",
      "description": "",
      "description_tooltip": null,
      "layout": "IPY_MODEL_7c95c188ecf242de9776dcfd3e3fc8d2",
      "placeholder": "​",
      "style": "IPY_MODEL_619c9ef51fc5497f81b4af88db9214cc",
      "value": " 170498071/170498071 [00:01&lt;00:00, 97303096.82it/s]"
     }
    },
    "e09dd53ac3044e3097ed084354a52e13": {
     "model_module": "@jupyter-widgets/controls",
     "model_module_version": "1.5.0",
     "model_name": "HTMLModel",
     "state": {
      "_dom_classes": [],
      "_model_module": "@jupyter-widgets/controls",
      "_model_module_version": "1.5.0",
      "_model_name": "HTMLModel",
      "_view_count": null,
      "_view_module": "@jupyter-widgets/controls",
      "_view_module_version": "1.5.0",
      "_view_name": "HTMLView",
      "description": "",
      "description_tooltip": null,
      "layout": "IPY_MODEL_f4c44a600db84290a51877583e18ee26",
      "placeholder": "​",
      "style": "IPY_MODEL_00397590a13d454d8b16fd8d15ae9b41",
      "value": "100%"
     }
    },
    "f4c44a600db84290a51877583e18ee26": {
     "model_module": "@jupyter-widgets/base",
     "model_module_version": "1.2.0",
     "model_name": "LayoutModel",
     "state": {
      "_model_module": "@jupyter-widgets/base",
      "_model_module_version": "1.2.0",
      "_model_name": "LayoutModel",
      "_view_count": null,
      "_view_module": "@jupyter-widgets/base",
      "_view_module_version": "1.2.0",
      "_view_name": "LayoutView",
      "align_content": null,
      "align_items": null,
      "align_self": null,
      "border": null,
      "bottom": null,
      "display": null,
      "flex": null,
      "flex_flow": null,
      "grid_area": null,
      "grid_auto_columns": null,
      "grid_auto_flow": null,
      "grid_auto_rows": null,
      "grid_column": null,
      "grid_gap": null,
      "grid_row": null,
      "grid_template_areas": null,
      "grid_template_columns": null,
      "grid_template_rows": null,
      "height": null,
      "justify_content": null,
      "justify_items": null,
      "left": null,
      "margin": null,
      "max_height": null,
      "max_width": null,
      "min_height": null,
      "min_width": null,
      "object_fit": null,
      "object_position": null,
      "order": null,
      "overflow": null,
      "overflow_x": null,
      "overflow_y": null,
      "padding": null,
      "right": null,
      "top": null,
      "visibility": null,
      "width": null
     }
    }
   }
  }
 },
 "nbformat": 4,
 "nbformat_minor": 5
}
