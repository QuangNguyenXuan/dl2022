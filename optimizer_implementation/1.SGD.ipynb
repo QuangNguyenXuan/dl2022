{
 "cells": [
  {
   "cell_type": "code",
   "execution_count": 1,
   "id": "2b677521",
   "metadata": {},
   "outputs": [
    {
     "name": "stdout",
     "output_type": "stream",
     "text": [
      "<keras.optimizers.optimizer_v2.gradient_descent.SGD object at 0x0000023310AB31C0>\n"
     ]
    }
   ],
   "source": [
    "import tensorflow as tf\n",
    "\n",
    "opt = tf.keras.optimizers.SGD(learning_rate=0.1)\n",
    "print(opt)"
   ]
  },
  {
   "cell_type": "code",
   "execution_count": 2,
   "id": "785f5e88",
   "metadata": {},
   "outputs": [
    {
     "name": "stdout",
     "output_type": "stream",
     "text": [
      "loss:  <function compute_loss at 0x0000023310AB2CA0>\n"
     ]
    }
   ],
   "source": [
    "def compute_loss():\n",
    "    return var**2\n",
    "\n",
    "loss = compute_loss\n",
    "print('loss: ', loss)"
   ]
  },
  {
   "cell_type": "code",
   "execution_count": 3,
   "id": "f2b4befa",
   "metadata": {},
   "outputs": [
    {
     "name": "stdout",
     "output_type": "stream",
     "text": [
      "70.0\n",
      "56.0\n"
     ]
    }
   ],
   "source": [
    "var = tf.Variable(70.0)\n",
    "print(var.numpy())\n",
    "\n",
    "opt.minimize(loss, [var])\n",
    "print(var.numpy())"
   ]
  },
  {
   "cell_type": "code",
   "execution_count": null,
   "id": "c9c6b85f",
   "metadata": {},
   "outputs": [],
   "source": []
  },
  {
   "cell_type": "code",
   "execution_count": null,
   "id": "3c404415",
   "metadata": {},
   "outputs": [],
   "source": []
  },
  {
   "cell_type": "code",
   "execution_count": null,
   "id": "70e6e01f",
   "metadata": {},
   "outputs": [],
   "source": []
  },
  {
   "cell_type": "code",
   "execution_count": null,
   "id": "5df8965a",
   "metadata": {},
   "outputs": [],
   "source": []
  },
  {
   "cell_type": "code",
   "execution_count": null,
   "id": "fc298747",
   "metadata": {},
   "outputs": [],
   "source": []
  },
  {
   "cell_type": "code",
   "execution_count": null,
   "id": "7cb8c5f4",
   "metadata": {},
   "outputs": [],
   "source": []
  },
  {
   "cell_type": "code",
   "execution_count": null,
   "id": "8be835f8",
   "metadata": {},
   "outputs": [],
   "source": []
  },
  {
   "cell_type": "code",
   "execution_count": 5,
   "id": "b0e39d2b",
   "metadata": {},
   "outputs": [
    {
     "name": "stdout",
     "output_type": "stream",
     "text": [
      "70.0\n",
      "140.0\n",
      "56.0\n"
     ]
    }
   ],
   "source": [
    "import tensorflow as tf\n",
    "\n",
    "opt = tf.keras.optimizers.SGD(learning_rate=0.1)\n",
    "def compute_loss(v):\n",
    "    return v**2\n",
    "\n",
    "var = tf.Variable(70.0)\n",
    "print(var.numpy())\n",
    "\n",
    "with tf.GradientTape() as tape:\n",
    "    loss = compute_loss(var)\n",
    "\n",
    "grads = tape.gradient(loss, var)\n",
    "print(grads.numpy())\n",
    "\n",
    "opt.apply_gradients(zip([grads], [var]))\n",
    "print(var.numpy())"
   ]
  },
  {
   "cell_type": "code",
   "execution_count": null,
   "id": "53159626",
   "metadata": {},
   "outputs": [],
   "source": []
  },
  {
   "cell_type": "code",
   "execution_count": null,
   "id": "b6bcfabf",
   "metadata": {},
   "outputs": [],
   "source": []
  },
  {
   "cell_type": "code",
   "execution_count": null,
   "id": "a1326a43",
   "metadata": {},
   "outputs": [],
   "source": []
  },
  {
   "cell_type": "code",
   "execution_count": null,
   "id": "69b7214f",
   "metadata": {},
   "outputs": [],
   "source": []
  },
  {
   "cell_type": "code",
   "execution_count": 6,
   "id": "7fa3c9f9",
   "metadata": {},
   "outputs": [
    {
     "name": "stdout",
     "output_type": "stream",
     "text": [
      "70.0\n",
      "tf.Tensor(140.0, shape=(), dtype=float32)\n",
      "56.0\n"
     ]
    }
   ],
   "source": [
    "import tensorflow as tf\n",
    "\n",
    "def compute_loss(v):\n",
    "    return v**2\n",
    "\n",
    "var = tf.Variable(70.0)\n",
    "print(var.numpy())\n",
    "\n",
    "with tf.GradientTape() as tape:\n",
    "    loss = compute_loss(var)\n",
    "\n",
    "grads = tape.gradient(loss, var)\n",
    "print(grads)\n",
    "\n",
    "lr = 0.1\n",
    "var.assign_add(-lr*grads)\n",
    "print(var.numpy())"
   ]
  },
  {
   "cell_type": "code",
   "execution_count": null,
   "id": "57e88936",
   "metadata": {},
   "outputs": [],
   "source": []
  },
  {
   "cell_type": "code",
   "execution_count": null,
   "id": "a08a2d46",
   "metadata": {},
   "outputs": [],
   "source": []
  },
  {
   "cell_type": "code",
   "execution_count": null,
   "id": "c7ef4987",
   "metadata": {},
   "outputs": [],
   "source": []
  },
  {
   "cell_type": "code",
   "execution_count": null,
   "id": "e045146d",
   "metadata": {},
   "outputs": [],
   "source": []
  },
  {
   "cell_type": "code",
   "execution_count": null,
   "id": "9b67bb38",
   "metadata": {},
   "outputs": [],
   "source": []
  },
  {
   "cell_type": "code",
   "execution_count": null,
   "id": "877d0d92",
   "metadata": {},
   "outputs": [],
   "source": []
  },
  {
   "cell_type": "code",
   "execution_count": null,
   "id": "64341315",
   "metadata": {},
   "outputs": [],
   "source": []
  },
  {
   "cell_type": "code",
   "execution_count": 7,
   "id": "7b9aff1f",
   "metadata": {},
   "outputs": [
    {
     "name": "stdout",
     "output_type": "stream",
     "text": [
      "70.0\n",
      "140.0\n",
      "69.9\n"
     ]
    }
   ],
   "source": [
    "import tensorflow as tf\n",
    "\n",
    "opt = tf.keras.optimizers.Adagrad(learning_rate=0.1,\n",
    "                                    initial_accumulator_value=0.0,\n",
    "                                    epsilon=1e-07)\n",
    "def compute_loss(v):\n",
    "    return v**2\n",
    "\n",
    "var = tf.Variable(70.0)\n",
    "print(var.numpy())\n",
    "\n",
    "with tf.GradientTape() as tape:\n",
    "    loss = compute_loss(var)\n",
    "\n",
    "grads = tape.gradient(loss, var)\n",
    "print(grads.numpy())\n",
    "\n",
    "opt.apply_gradients(zip([grads], [var]))\n",
    "print(var.numpy())"
   ]
  },
  {
   "cell_type": "code",
   "execution_count": null,
   "id": "fff56585",
   "metadata": {},
   "outputs": [],
   "source": []
  },
  {
   "cell_type": "code",
   "execution_count": null,
   "id": "02b02b89",
   "metadata": {},
   "outputs": [],
   "source": []
  },
  {
   "cell_type": "code",
   "execution_count": null,
   "id": "635e5c91",
   "metadata": {},
   "outputs": [],
   "source": []
  },
  {
   "cell_type": "code",
   "execution_count": null,
   "id": "028d66ac",
   "metadata": {},
   "outputs": [],
   "source": []
  },
  {
   "cell_type": "code",
   "execution_count": null,
   "id": "04ed7181",
   "metadata": {},
   "outputs": [],
   "source": []
  },
  {
   "cell_type": "code",
   "execution_count": 11,
   "id": "f39f3dab",
   "metadata": {},
   "outputs": [
    {
     "name": "stdout",
     "output_type": "stream",
     "text": [
      "70.0\n",
      "140.0\n",
      "19600.0\n",
      "69.9\n"
     ]
    }
   ],
   "source": [
    "import tensorflow as tf\n",
    "import numpy as np\n",
    "\n",
    "def compute_loss(v):\n",
    "    return v**2\n",
    "\n",
    "var = tf.Variable(70.0)\n",
    "print(var.numpy())\n",
    "\n",
    "total_grads = 0.0\n",
    "lr = 0.1\n",
    "epsilon=1e-07\n",
    "\n",
    "for _ in range(1):\n",
    "    with tf.GradientTape() as tape:\n",
    "        loss = compute_loss(var)\n",
    "\n",
    "    grads = tape.gradient(loss, var)\n",
    "    print(grads.numpy())\n",
    "    \n",
    "    total_grads = total_grads + grads.numpy()*grads.numpy()\n",
    "    print(total_grads)\n",
    "\n",
    "    var.assign_add(-(lr/np.sqrt(total_grads + epsilon)) * grads.numpy())\n",
    "    print(var.numpy())"
   ]
  },
  {
   "cell_type": "code",
   "execution_count": null,
   "id": "ddb94980",
   "metadata": {},
   "outputs": [],
   "source": []
  },
  {
   "cell_type": "code",
   "execution_count": null,
   "id": "2a930005",
   "metadata": {},
   "outputs": [],
   "source": []
  }
 ],
 "metadata": {
  "kernelspec": {
   "display_name": "Python 3 (ipykernel)",
   "language": "python",
   "name": "python3"
  },
  "language_info": {
   "codemirror_mode": {
    "name": "ipython",
    "version": 3
   },
   "file_extension": ".py",
   "mimetype": "text/x-python",
   "name": "python",
   "nbconvert_exporter": "python",
   "pygments_lexer": "ipython3",
   "version": "3.9.13"
  }
 },
 "nbformat": 4,
 "nbformat_minor": 5
}
