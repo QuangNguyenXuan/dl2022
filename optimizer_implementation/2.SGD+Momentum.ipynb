{
 "cells": [
  {
   "cell_type": "code",
   "execution_count": 4,
   "id": "ea2c54d9",
   "metadata": {},
   "outputs": [
    {
     "name": "stdout",
     "output_type": "stream",
     "text": [
      "<keras.optimizers.optimizer_v2.gradient_descent.SGD object at 0x000001A997FCF460>\n",
      "var:  90.0\n",
      "\n",
      "grads:  180.0\n",
      "var:  72.0\n"
     ]
    }
   ],
   "source": [
    "import tensorflow as tf\n",
    "\n",
    "opt = tf.keras.optimizers.SGD(learning_rate=0.1, momentum=0.9)\n",
    "print(opt)\n",
    "\n",
    "def compute_loss(v):\n",
    "    return v**2\n",
    "\n",
    "var = tf.Variable(90.0)\n",
    "print('var: ', var.numpy())\n",
    "print()\n",
    "\n",
    "for _ in range(1):\n",
    "    with tf.GradientTape() as tape:\n",
    "        loss = compute_loss(var)\n",
    "\n",
    "    grads = tape.gradient(loss, var)\n",
    "    print('grads: ', grads.numpy())\n",
    "\n",
    "    opt.apply_gradients(zip([grads], [var]))\n",
    "    print('var: ', var.numpy())"
   ]
  },
  {
   "cell_type": "code",
   "execution_count": null,
   "id": "c0b665ec",
   "metadata": {},
   "outputs": [],
   "source": []
  },
  {
   "cell_type": "code",
   "execution_count": null,
   "id": "a9b3dc70",
   "metadata": {},
   "outputs": [],
   "source": []
  },
  {
   "cell_type": "code",
   "execution_count": 5,
   "id": "9c245d5b",
   "metadata": {},
   "outputs": [
    {
     "name": "stdout",
     "output_type": "stream",
     "text": [
      "<keras.optimizers.optimizer_v2.gradient_descent.SGD object at 0x000001A997FCF7C0>\n",
      "var:  90.0\n",
      "loss:  <function compute_loss at 0x000001A997F92EE0>\n",
      "72.0\n"
     ]
    }
   ],
   "source": [
    "import tensorflow as tf\n",
    "\n",
    "opt = tf.keras.optimizers.SGD(learning_rate=0.1, momentum=0.9)\n",
    "print(opt)\n",
    "\n",
    "def compute_loss():\n",
    "    return var**2\n",
    "\n",
    "var = tf.Variable(90.0)\n",
    "print('var: ', var.numpy())\n",
    "\n",
    "loss = compute_loss\n",
    "print('loss: ', loss)\n",
    "\n",
    "opt.minimize(loss, [var])\n",
    "print(var.numpy())"
   ]
  },
  {
   "cell_type": "code",
   "execution_count": null,
   "id": "e9c9af83",
   "metadata": {},
   "outputs": [],
   "source": []
  },
  {
   "cell_type": "code",
   "execution_count": null,
   "id": "a755b6cc",
   "metadata": {},
   "outputs": [],
   "source": []
  },
  {
   "cell_type": "code",
   "execution_count": 4,
   "id": "63ff0c0e",
   "metadata": {},
   "outputs": [
    {
     "name": "stdout",
     "output_type": "stream",
     "text": [
      "var:  90.0\n",
      "grads:  180.0\n",
      "v:  -18.0\n",
      "var:  72.0\n",
      "\n",
      "\n"
     ]
    }
   ],
   "source": [
    "import tensorflow as tf\n",
    "\n",
    "def compute_loss(var):\n",
    "    return var**2\n",
    "\n",
    "var = tf.Variable(90.0)\n",
    "print('var: ', var.numpy())\n",
    "\n",
    "v = 0\n",
    "m = 0.9\n",
    "lr = 0.1\n",
    "\n",
    "for _ in range(1):\n",
    "    with tf.GradientTape() as tape:\n",
    "        loss = compute_loss(var)\n",
    "\n",
    "    grads = tape.gradient(loss, var)\n",
    "    print('grads: ', grads.numpy())\n",
    "\n",
    "    v = m*v - lr*grads\n",
    "    print('v: ', v.numpy())\n",
    "    \n",
    "    var.assign_add(v)    \n",
    "    print('var: ', var.numpy())\n",
    "    print('\\n')"
   ]
  },
  {
   "cell_type": "code",
   "execution_count": null,
   "id": "f7cfdb51",
   "metadata": {},
   "outputs": [],
   "source": []
  },
  {
   "cell_type": "code",
   "execution_count": null,
   "id": "4ba443a6",
   "metadata": {},
   "outputs": [],
   "source": []
  },
  {
   "cell_type": "code",
   "execution_count": null,
   "id": "b33d4f31",
   "metadata": {},
   "outputs": [],
   "source": []
  }
 ],
 "metadata": {
  "kernelspec": {
   "display_name": "Python 3 (ipykernel)",
   "language": "python",
   "name": "python3"
  },
  "language_info": {
   "codemirror_mode": {
    "name": "ipython",
    "version": 3
   },
   "file_extension": ".py",
   "mimetype": "text/x-python",
   "name": "python",
   "nbconvert_exporter": "python",
   "pygments_lexer": "ipython3",
   "version": "3.9.13"
  }
 },
 "nbformat": 4,
 "nbformat_minor": 5
}
