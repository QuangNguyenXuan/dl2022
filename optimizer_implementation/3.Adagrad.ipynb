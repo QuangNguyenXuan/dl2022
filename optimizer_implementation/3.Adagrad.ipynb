{
 "cells": [
  {
   "cell_type": "code",
   "execution_count": null,
   "id": "688bdecb",
   "metadata": {},
   "outputs": [],
   "source": [
    "import tensorflow as tf\n",
    "\n",
    "opt = tf.keras.optimizers.Adagrad(learning_rate=0.1, initial_accumulator_value=0.0)\n",
    "print(opt)\n",
    "\n",
    "def compute_loss(x):\n",
    "    return x*x\n",
    "\n",
    "var = tf.Variable(70.0)\n",
    "print('var: ', var.numpy())\n",
    "\n",
    "for _ in range(1):\n",
    "    with tf.GradientTape() as tape:\n",
    "        loss = compute_loss(var)\n",
    "\n",
    "    grads = tape.gradient(loss, var)\n",
    "    print('grads: ', grads)\n",
    "\n",
    "    opt.apply_gradients(zip([grads], [var]))\n",
    "    print('var: ', var.numpy())\n",
    "    print('\\n\\n')"
   ]
  },
  {
   "cell_type": "code",
   "execution_count": null,
   "id": "f55bcd82",
   "metadata": {},
   "outputs": [],
   "source": []
  },
  {
   "cell_type": "code",
   "execution_count": null,
   "id": "86be6dac",
   "metadata": {},
   "outputs": [],
   "source": [
    "import tensorflow as tf\n",
    "import numpy as np\n",
    "\n",
    "def compute_loss(x):\n",
    "    return x*x\n",
    "\n",
    "lr = 0.1\n",
    "total_grad = 0.0\n",
    "epsilon = 1e-07\n",
    "\n",
    "var = tf.Variable(70.0)\n",
    "print('var: ', var.numpy())\n",
    "\n",
    "for _ in range(1):\n",
    "    with tf.GradientTape() as tape:\n",
    "        loss = compute_loss(var)\n",
    "\n",
    "    grads = tape.gradient(loss, var)    \n",
    "    print('grads: ', grads.numpy())\n",
    "    \n",
    "    total_grad = total_grad + grads.numpy()*grads.numpy()\n",
    "    print('total_grad: ', total_grad)  \n",
    "    \n",
    "    adapt_lr = lr/np.sqrt(total_grad+epsilon)\n",
    "    print('adapt_lr: ', adapt_lr) \n",
    "    \n",
    "    var.assign_add(-adapt_lr*grads) \n",
    "    print('var: ', var.numpy())"
   ]
  },
  {
   "cell_type": "code",
   "execution_count": null,
   "id": "1ea8debb",
   "metadata": {},
   "outputs": [],
   "source": []
  },
  {
   "cell_type": "code",
   "execution_count": null,
   "id": "f222e78f",
   "metadata": {},
   "outputs": [],
   "source": []
  }
 ],
 "metadata": {
  "kernelspec": {
   "display_name": "Python 3 (ipykernel)",
   "language": "python",
   "name": "python3"
  },
  "language_info": {
   "codemirror_mode": {
    "name": "ipython",
    "version": 3
   },
   "file_extension": ".py",
   "mimetype": "text/x-python",
   "name": "python",
   "nbconvert_exporter": "python",
   "pygments_lexer": "ipython3",
   "version": "3.9.13"
  }
 },
 "nbformat": 4,
 "nbformat_minor": 5
}
