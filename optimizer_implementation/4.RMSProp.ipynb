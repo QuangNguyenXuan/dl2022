{
 "cells": [
  {
   "cell_type": "code",
   "execution_count": 1,
   "id": "cfe50491",
   "metadata": {},
   "outputs": [
    {
     "name": "stdout",
     "output_type": "stream",
     "text": [
      "<keras.optimizers.optimizer_v2.rmsprop.RMSprop object at 0x0000026D0116A070>\n",
      "var:  70.0\n",
      "grads:  tf.Tensor(140.0, shape=(), dtype=float32)\n",
      "var:  69.68377\n"
     ]
    }
   ],
   "source": [
    "import tensorflow as tf\n",
    "\n",
    "opt = tf.keras.optimizers.RMSprop(learning_rate=0.1, rho=0.9, epsilon=1e-07)\n",
    "print(opt)\n",
    "\n",
    "def compute_loss(x):\n",
    "    return x*x\n",
    "\n",
    "var = tf.Variable(70.0)\n",
    "print('var: ', var.numpy())\n",
    "\n",
    "for _ in range(1):\n",
    "    with tf.GradientTape() as tape:\n",
    "        loss = compute_loss(var)\n",
    "\n",
    "    grads = tape.gradient(loss, var)\n",
    "    print('grads: ', grads)\n",
    "\n",
    "    opt.apply_gradients(zip([grads], [var]))\n",
    "    print('var: ', var.numpy())"
   ]
  },
  {
   "cell_type": "code",
   "execution_count": null,
   "id": "4c677052",
   "metadata": {},
   "outputs": [],
   "source": []
  },
  {
   "cell_type": "code",
   "execution_count": null,
   "id": "aad6cd94",
   "metadata": {},
   "outputs": [],
   "source": []
  },
  {
   "cell_type": "code",
   "execution_count": 3,
   "id": "7693d2ef",
   "metadata": {},
   "outputs": [
    {
     "name": "stdout",
     "output_type": "stream",
     "text": [
      "var:  70.0\n",
      "grads:  140.0\n",
      "total_grad:  1959.9999999999995\n",
      "adapt_lr:  0.002258769757205507\n",
      "var:  69.68377\n"
     ]
    }
   ],
   "source": [
    "import tensorflow as tf\n",
    "import numpy as np\n",
    "\n",
    "def compute_loss(x):\n",
    "    return x*x\n",
    "\n",
    "total_grad = 0.0\n",
    "lr = 0.1\n",
    "ro = 0.9\n",
    "epsilon=1e-07\n",
    "\n",
    "var = tf.Variable(70.0)\n",
    "print('var: ', var.numpy())\n",
    "\n",
    "for _ in range(1):\n",
    "    with tf.GradientTape() as tape:\n",
    "        loss = compute_loss(var)\n",
    "\n",
    "    grads = tape.gradient(loss, var)    \n",
    "    print('grads: ', grads.numpy())\n",
    "    \n",
    "    total_grad = ro*total_grad + (1-ro)*grads.numpy()*grads.numpy()\n",
    "    print('total_grad: ', total_grad)  \n",
    "    \n",
    "    adapt_lr = lr/np.sqrt(total_grad+epsilon)\n",
    "    print('adapt_lr: ', adapt_lr) \n",
    "    \n",
    "    var.assign_add(-adapt_lr*grads) \n",
    "    print('var: ', var.numpy())"
   ]
  },
  {
   "cell_type": "code",
   "execution_count": null,
   "id": "6205eaaf",
   "metadata": {},
   "outputs": [],
   "source": []
  },
  {
   "cell_type": "code",
   "execution_count": null,
   "id": "905920b2",
   "metadata": {},
   "outputs": [],
   "source": []
  },
  {
   "cell_type": "code",
   "execution_count": null,
   "id": "3230baba",
   "metadata": {},
   "outputs": [],
   "source": []
  },
  {
   "cell_type": "code",
   "execution_count": null,
   "id": "a2e7e34c",
   "metadata": {},
   "outputs": [],
   "source": []
  }
 ],
 "metadata": {
  "kernelspec": {
   "display_name": "Python 3 (ipykernel)",
   "language": "python",
   "name": "python3"
  },
  "language_info": {
   "codemirror_mode": {
    "name": "ipython",
    "version": 3
   },
   "file_extension": ".py",
   "mimetype": "text/x-python",
   "name": "python",
   "nbconvert_exporter": "python",
   "pygments_lexer": "ipython3",
   "version": "3.9.13"
  }
 },
 "nbformat": 4,
 "nbformat_minor": 5
}
