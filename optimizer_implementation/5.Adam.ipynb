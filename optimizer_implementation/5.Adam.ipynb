{
 "cells": [
  {
   "cell_type": "code",
   "execution_count": 1,
   "id": "43f95e99",
   "metadata": {},
   "outputs": [
    {
     "name": "stdout",
     "output_type": "stream",
     "text": [
      "<keras.optimizers.optimizer_v2.adam.Adam object at 0x000001CF9590B070>\n",
      "var:  70.0\n",
      "grads:  tf.Tensor(140.0, shape=(), dtype=float32)\n",
      "var:  69.9\n"
     ]
    }
   ],
   "source": [
    "import tensorflow as tf\n",
    "\n",
    "opt = tf.keras.optimizers.Adam(learning_rate=0.1,\n",
    "                                        beta_1=0.9,\n",
    "                                        beta_2=0.999,\n",
    "                                        epsilon=1e-07)\n",
    "print(opt)\n",
    "\n",
    "def compute_loss(x):\n",
    "    return x*x\n",
    "\n",
    "var = tf.Variable(70.0)\n",
    "print('var: ', var.numpy())\n",
    "\n",
    "for _ in range(1):\n",
    "    with tf.GradientTape() as tape:\n",
    "        loss = compute_loss(var)\n",
    "\n",
    "    grads = tape.gradient(loss, var)\n",
    "    print('grads: ', grads)\n",
    "\n",
    "    opt.apply_gradients(zip([grads], [var]))\n",
    "    print('var: ', var.numpy())"
   ]
  },
  {
   "cell_type": "code",
   "execution_count": null,
   "id": "99708363",
   "metadata": {},
   "outputs": [],
   "source": []
  },
  {
   "cell_type": "code",
   "execution_count": null,
   "id": "9eeb1e68",
   "metadata": {},
   "outputs": [],
   "source": []
  },
  {
   "cell_type": "code",
   "execution_count": 6,
   "id": "f344c816",
   "metadata": {},
   "outputs": [
    {
     "name": "stdout",
     "output_type": "stream",
     "text": [
      "var:  70.0\n",
      "grads:  140.0\n",
      "v_t:  13.999999999999996\n",
      "s_t:  19.600000000000016\n",
      "updated_value:  0.0999999999997449\n",
      "var:  69.9\n"
     ]
    }
   ],
   "source": [
    "import tensorflow as tf\n",
    "import numpy as np\n",
    "\n",
    "def compute_loss(x):\n",
    "    return x*x\n",
    "\n",
    "lr = 0.1\n",
    "beta_1 = 0.9\n",
    "beta_2 = 0.999\n",
    "epsilon = 1e-07\n",
    "\n",
    "v_t = 0.0\n",
    "s_t = 0.0\n",
    "\n",
    "var = tf.Variable(70.0)\n",
    "print('var: ', var.numpy())\n",
    "\n",
    "for i in range(1, 2):\n",
    "    with tf.GradientTape() as tape:\n",
    "        loss = compute_loss(var)\n",
    "\n",
    "    grads = tape.gradient(loss, var)    \n",
    "    print('grads: ', grads.numpy())\n",
    "    \n",
    "    v_t = beta_1*v_t + (1.0-beta_1)*grads.numpy()\n",
    "    s_t = beta_2*s_t + (1.0-beta_2)*grads.numpy()*grads.numpy()    \n",
    "    print('v_t: ', v_t)  \n",
    "    print('s_t: ', s_t)  \n",
    "    \n",
    "    updated_value = (lr / np.sqrt(s_t/(1.0-beta_2**i) + epsilon)) * (v_t/(1.0-beta_1**i))\n",
    "    print('updated_value: ', updated_value) \n",
    "    \n",
    "    var.assign_add(-updated_value) \n",
    "    print('var: ', var.numpy())"
   ]
  },
  {
   "cell_type": "code",
   "execution_count": null,
   "id": "43be4aad",
   "metadata": {},
   "outputs": [],
   "source": []
  },
  {
   "cell_type": "code",
   "execution_count": null,
   "id": "042e5bc7",
   "metadata": {},
   "outputs": [],
   "source": []
  },
  {
   "cell_type": "code",
   "execution_count": null,
   "id": "bc272244",
   "metadata": {},
   "outputs": [],
   "source": []
  },
  {
   "cell_type": "code",
   "execution_count": null,
   "id": "d2554d47",
   "metadata": {},
   "outputs": [],
   "source": []
  }
 ],
 "metadata": {
  "kernelspec": {
   "display_name": "Python 3 (ipykernel)",
   "language": "python",
   "name": "python3"
  },
  "language_info": {
   "codemirror_mode": {
    "name": "ipython",
    "version": 3
   },
   "file_extension": ".py",
   "mimetype": "text/x-python",
   "name": "python",
   "nbconvert_exporter": "python",
   "pygments_lexer": "ipython3",
   "version": "3.9.13"
  }
 },
 "nbformat": 4,
 "nbformat_minor": 5
}
